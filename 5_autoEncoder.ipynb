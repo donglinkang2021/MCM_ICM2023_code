{
 "cells": [
  {
   "attachments": {},
   "cell_type": "markdown",
   "metadata": {},
   "source": [
    "# auto encoder\n",
    "\n",
    "### 介绍\n",
    "\n",
    "通过对数据的七个百分比进行编码，然后再解码，看看解码后的数据和原始数据的差异。"
   ]
  },
  {
   "attachments": {},
   "cell_type": "markdown",
   "metadata": {},
   "source": [
    "### 导入库"
   ]
  },
  {
   "cell_type": "code",
   "execution_count": 1,
   "metadata": {},
   "outputs": [],
   "source": [
    "import torch\n",
    "import torch.nn as nn\n",
    "import torch.nn.functional as F\n",
    "import torch.optim as optim\n",
    "from torchinfo import summary\n",
    "import numpy as np\n",
    "import matplotlib.pyplot as plt\n",
    "import pandas as pd"
   ]
  },
  {
   "cell_type": "code",
   "execution_count": 2,
   "metadata": {},
   "outputs": [],
   "source": [
    "device = torch.device(\"cuda\" if torch.cuda.is_available() else \"cpu\")"
   ]
  },
  {
   "attachments": {},
   "cell_type": "markdown",
   "metadata": {},
   "source": [
    "### 定义网络"
   ]
  },
  {
   "cell_type": "code",
   "execution_count": 3,
   "metadata": {},
   "outputs": [],
   "source": [
    "class AutoEncoder(nn.Module):\n",
    "    def __init__(self):\n",
    "        super(AutoEncoder, self).__init__()\n",
    "        self.encoder = nn.Sequential(\n",
    "            nn.Linear(7, 6),\n",
    "            nn.ReLU(True),\n",
    "            nn.Linear(6, 5),\n",
    "            nn.ReLU(True),\n",
    "            nn.Linear(5, 4),\n",
    "            nn.ReLU(True),\n",
    "            nn.Linear(4, 2)\n",
    "        )\n",
    "        self.decoder = nn.Sequential(\n",
    "            nn.Linear(2, 4),\n",
    "            nn.ReLU(True),\n",
    "            nn.Linear(4, 5),\n",
    "            nn.ReLU(True),\n",
    "            nn.Linear(5, 6),\n",
    "            nn.ReLU(True),\n",
    "            nn.Linear(6, 7),\n",
    "            nn.Softmax(dim=1)\n",
    "        )\n",
    "\n",
    "    def forward(self, x):\n",
    "        encoded = self.encoder(x)\n",
    "        decoded = self.decoder(encoded)\n",
    "        return decoded"
   ]
  },
  {
   "attachments": {},
   "cell_type": "markdown",
   "metadata": {},
   "source": [
    "### 加载数据集"
   ]
  },
  {
   "cell_type": "code",
   "execution_count": 4,
   "metadata": {},
   "outputs": [
    {
     "data": {
      "text/html": [
       "<div>\n",
       "<style scoped>\n",
       "    .dataframe tbody tr th:only-of-type {\n",
       "        vertical-align: middle;\n",
       "    }\n",
       "\n",
       "    .dataframe tbody tr th {\n",
       "        vertical-align: top;\n",
       "    }\n",
       "\n",
       "    .dataframe thead th {\n",
       "        text-align: right;\n",
       "    }\n",
       "</style>\n",
       "<table border=\"1\" class=\"dataframe\">\n",
       "  <thead>\n",
       "    <tr style=\"text-align: right;\">\n",
       "      <th></th>\n",
       "      <th>Date</th>\n",
       "      <th>Contest number</th>\n",
       "      <th>Word</th>\n",
       "      <th>Number of  reported results</th>\n",
       "      <th>Number in hard mode</th>\n",
       "      <th>1 try</th>\n",
       "      <th>2 tries</th>\n",
       "      <th>3 tries</th>\n",
       "      <th>4 tries</th>\n",
       "      <th>5 tries</th>\n",
       "      <th>6 tries</th>\n",
       "      <th>7 or more tries (X)</th>\n",
       "      <th>normal_value</th>\n",
       "    </tr>\n",
       "  </thead>\n",
       "  <tbody>\n",
       "    <tr>\n",
       "      <th>0</th>\n",
       "      <td>2022-12-31</td>\n",
       "      <td>560</td>\n",
       "      <td>manly</td>\n",
       "      <td>20380</td>\n",
       "      <td>1899</td>\n",
       "      <td>0</td>\n",
       "      <td>2</td>\n",
       "      <td>17</td>\n",
       "      <td>37</td>\n",
       "      <td>29</td>\n",
       "      <td>12</td>\n",
       "      <td>2</td>\n",
       "      <td>0.343806</td>\n",
       "    </tr>\n",
       "    <tr>\n",
       "      <th>1</th>\n",
       "      <td>2022-12-30</td>\n",
       "      <td>559</td>\n",
       "      <td>molar</td>\n",
       "      <td>21204</td>\n",
       "      <td>1973</td>\n",
       "      <td>0</td>\n",
       "      <td>4</td>\n",
       "      <td>21</td>\n",
       "      <td>38</td>\n",
       "      <td>26</td>\n",
       "      <td>9</td>\n",
       "      <td>1</td>\n",
       "      <td>0.491583</td>\n",
       "    </tr>\n",
       "    <tr>\n",
       "      <th>2</th>\n",
       "      <td>2022-12-29</td>\n",
       "      <td>558</td>\n",
       "      <td>havoc</td>\n",
       "      <td>20001</td>\n",
       "      <td>1919</td>\n",
       "      <td>0</td>\n",
       "      <td>2</td>\n",
       "      <td>16</td>\n",
       "      <td>38</td>\n",
       "      <td>30</td>\n",
       "      <td>12</td>\n",
       "      <td>2</td>\n",
       "      <td>0.097901</td>\n",
       "    </tr>\n",
       "    <tr>\n",
       "      <th>3</th>\n",
       "      <td>2022-12-28</td>\n",
       "      <td>557</td>\n",
       "      <td>impel</td>\n",
       "      <td>20160</td>\n",
       "      <td>1937</td>\n",
       "      <td>0</td>\n",
       "      <td>3</td>\n",
       "      <td>21</td>\n",
       "      <td>40</td>\n",
       "      <td>25</td>\n",
       "      <td>9</td>\n",
       "      <td>1</td>\n",
       "      <td>0.187709</td>\n",
       "    </tr>\n",
       "    <tr>\n",
       "      <th>4</th>\n",
       "      <td>2022-12-27</td>\n",
       "      <td>556</td>\n",
       "      <td>condo</td>\n",
       "      <td>20879</td>\n",
       "      <td>2012</td>\n",
       "      <td>0</td>\n",
       "      <td>2</td>\n",
       "      <td>17</td>\n",
       "      <td>35</td>\n",
       "      <td>29</td>\n",
       "      <td>14</td>\n",
       "      <td>3</td>\n",
       "      <td>0.308737</td>\n",
       "    </tr>\n",
       "  </tbody>\n",
       "</table>\n",
       "</div>"
      ],
      "text/plain": [
       "        Date  Contest number   Word  Number of  reported results  \\\n",
       "0 2022-12-31             560  manly                        20380   \n",
       "1 2022-12-30             559  molar                        21204   \n",
       "2 2022-12-29             558  havoc                        20001   \n",
       "3 2022-12-28             557  impel                        20160   \n",
       "4 2022-12-27             556  condo                        20879   \n",
       "\n",
       "   Number in hard mode  1 try  2 tries  3 tries  4 tries  5 tries  6 tries  \\\n",
       "0                 1899      0        2       17       37       29       12   \n",
       "1                 1973      0        4       21       38       26        9   \n",
       "2                 1919      0        2       16       38       30       12   \n",
       "3                 1937      0        3       21       40       25        9   \n",
       "4                 2012      0        2       17       35       29       14   \n",
       "\n",
       "   7 or more tries (X)  normal_value  \n",
       "0                    2      0.343806  \n",
       "1                    1      0.491583  \n",
       "2                    2      0.097901  \n",
       "3                    1      0.187709  \n",
       "4                    3      0.308737  "
      ]
     },
     "execution_count": 4,
     "metadata": {},
     "output_type": "execute_result"
    }
   ],
   "source": [
    "df = pd.read_excel(\"Problem_C_Data_Wordle_new.xlsx\")\n",
    "df.head()"
   ]
  },
  {
   "cell_type": "code",
   "execution_count": 5,
   "metadata": {},
   "outputs": [
    {
     "name": "stdout",
     "output_type": "stream",
     "text": [
      "df_Distribution.shape = \n",
      " (359, 7)\n",
      "df_Distribution.head() = \n",
      "    1 try  2 tries  3 tries  4 tries  5 tries  6 tries  7 or more tries (X)\n",
      "0      0        2       17       37       29       12                    2\n",
      "1      0        4       21       38       26        9                    1\n",
      "2      0        2       16       38       30       12                    2\n",
      "3      0        3       21       40       25        9                    1\n",
      "4      0        2       17       35       29       14                    3\n"
     ]
    }
   ],
   "source": [
    "df_Distribution = df.iloc[:, 5:12]\n",
    "print('df_Distribution.shape = \\n', df_Distribution.shape)\n",
    "print('df_Distribution.head() = \\n', df_Distribution.head())"
   ]
  },
  {
   "cell_type": "code",
   "execution_count": 6,
   "metadata": {},
   "outputs": [
    {
     "name": "stdout",
     "output_type": "stream",
     "text": [
      "Distribution.shape = \n",
      " (359, 7)\n",
      "Distribution = \n",
      " [[ 0  2 17 ... 29 12  2]\n",
      " [ 0  4 21 ... 26  9  1]\n",
      " [ 0  2 16 ... 30 12  2]\n",
      " ...\n",
      " [ 1  3 13 ... 30 22  4]\n",
      " [ 1  5 23 ... 24 14  2]\n",
      " [ 1  3 23 ... 24  9  1]]\n"
     ]
    }
   ],
   "source": [
    "Distribution = df_Distribution.to_numpy()\n",
    "print('Distribution.shape = \\n', Distribution.shape)\n",
    "print('Distribution = \\n', Distribution)"
   ]
  },
  {
   "cell_type": "code",
   "execution_count": 7,
   "metadata": {},
   "outputs": [],
   "source": [
    "Distribution = Distribution / 100"
   ]
  },
  {
   "cell_type": "code",
   "execution_count": 8,
   "metadata": {},
   "outputs": [
    {
     "data": {
      "text/plain": [
       "array([[0.  , 0.02, 0.17, ..., 0.29, 0.12, 0.02],\n",
       "       [0.  , 0.04, 0.21, ..., 0.26, 0.09, 0.01],\n",
       "       [0.  , 0.02, 0.16, ..., 0.3 , 0.12, 0.02],\n",
       "       ...,\n",
       "       [0.01, 0.03, 0.13, ..., 0.3 , 0.22, 0.04],\n",
       "       [0.01, 0.05, 0.23, ..., 0.24, 0.14, 0.02],\n",
       "       [0.01, 0.03, 0.23, ..., 0.24, 0.09, 0.01]], dtype=float32)"
      ]
     },
     "execution_count": 8,
     "metadata": {},
     "output_type": "execute_result"
    }
   ],
   "source": [
    "Distribution.astype(np.float32)"
   ]
  },
  {
   "cell_type": "code",
   "execution_count": 9,
   "metadata": {},
   "outputs": [],
   "source": [
    "Distribution_tensor = torch.from_numpy(Distribution).float().to(device)"
   ]
  },
  {
   "attachments": {},
   "cell_type": "markdown",
   "metadata": {},
   "source": [
    "### 构造数据集"
   ]
  },
  {
   "cell_type": "code",
   "execution_count": 10,
   "metadata": {},
   "outputs": [],
   "source": [
    "train_size = int(0.7 * len(Distribution))"
   ]
  },
  {
   "cell_type": "code",
   "execution_count": 11,
   "metadata": {},
   "outputs": [],
   "source": [
    "# 打乱数据\n",
    "indices = np.arange(len(Distribution))\n",
    "np.random.shuffle(indices)\n",
    "Distribution_shuffled = Distribution[indices]"
   ]
  },
  {
   "cell_type": "code",
   "execution_count": 12,
   "metadata": {},
   "outputs": [],
   "source": [
    "test_indices = indices[train_size:]"
   ]
  },
  {
   "cell_type": "code",
   "execution_count": 13,
   "metadata": {},
   "outputs": [
    {
     "name": "stdout",
     "output_type": "stream",
     "text": [
      "train_data.shape = \n",
      " (251, 7)\n",
      "test_data.shape = \n",
      " (108, 7)\n"
     ]
    }
   ],
   "source": [
    "# 训练集\n",
    "train_data = Distribution_shuffled[:train_size]\n",
    "print('train_data.shape = \\n', train_data.shape)\n",
    "\n",
    "# 测试集\n",
    "test_data = Distribution_shuffled[train_size:]\n",
    "print('test_data.shape = \\n', test_data.shape)"
   ]
  },
  {
   "cell_type": "code",
   "execution_count": 14,
   "metadata": {},
   "outputs": [],
   "source": [
    "# 转换为tensor\n",
    "train_data = torch.from_numpy(train_data).float().to(device)\n",
    "test_data = torch.from_numpy(test_data).float().to(device)"
   ]
  },
  {
   "cell_type": "code",
   "execution_count": 15,
   "metadata": {},
   "outputs": [
    {
     "data": {
      "text/plain": [
       "tensor([[0.0200, 0.1100, 0.3400, 0.3200, 0.1500, 0.0600, 0.0100],\n",
       "        [0.0100, 0.0700, 0.1900, 0.2700, 0.2400, 0.1700, 0.0500],\n",
       "        [0.0100, 0.0200, 0.1300, 0.2900, 0.3100, 0.2000, 0.0300],\n",
       "        [0.0100, 0.0400, 0.1600, 0.3000, 0.3000, 0.1700, 0.0200],\n",
       "        [0.0000, 0.0600, 0.3000, 0.3300, 0.1900, 0.0900, 0.0200]])"
      ]
     },
     "execution_count": 15,
     "metadata": {},
     "output_type": "execute_result"
    }
   ],
   "source": [
    "train_data[:5]"
   ]
  },
  {
   "cell_type": "code",
   "execution_count": 16,
   "metadata": {},
   "outputs": [
    {
     "name": "stdout",
     "output_type": "stream",
     "text": [
      "len(train_loader) =  4\n",
      "len(test_loader) =  2\n"
     ]
    }
   ],
   "source": [
    "# batch大小\n",
    "batch_size = 64\n",
    "\n",
    "# 数据加载器\n",
    "train_loader = torch.utils.data.DataLoader(dataset=train_data, batch_size=batch_size, shuffle=True)\n",
    "test_loader = torch.utils.data.DataLoader(dataset=test_data, batch_size=batch_size, shuffle=False)\n",
    "print('len(train_loader) = ', len(train_loader))\n",
    "print('len(test_loader) = ', len(test_loader))"
   ]
  },
  {
   "attachments": {},
   "cell_type": "markdown",
   "metadata": {},
   "source": [
    "### 模型声明"
   ]
  },
  {
   "attachments": {},
   "cell_type": "markdown",
   "metadata": {},
   "source": [
    "Creates a criterion that measures the mean squared error (squared L2 norm) between\n",
    "each element in the input :math:`x` and target :math:`y`.\n",
    "\n",
    "The unreduced (i.e. with :attr:`reduction` set to ``'none'``) loss can be described as:\n",
    "\n",
    "$$\n",
    "    \\ell(x, y) = L = \\{l_1,\\dots,l_N\\}^\\top, \\quad\n",
    "    l_n = \\left( x_n - y_n \\right)^2,\n",
    "$$\n",
    "\n",
    "where :math:`N` is the batch size. If :attr:`reduction` is not ``'none'``\n",
    "(default ``'mean'``), then:\n",
    "\n",
    "$$\n",
    "\\ell(x, y) =\n",
    "\\begin{cases}\n",
    "    \\operatorname{mean}(L), &  \\text{if reduction} = \\text{`mean';}\\\\\n",
    "    \\operatorname{sum}(L),  &  \\text{if reduction} = \\text{`sum'.}\n",
    "\\end{cases}\n",
    "$$\n",
    "\n",
    ":math:`x` and :math:`y` are tensors of arbitrary shapes with a total\n",
    "of :math:`n` elements each.\n",
    "\n",
    "The mean operation still operates over all the elements, and divides by :math:`n`.\n",
    "\n",
    "The division by :math:`n` can be avoided if one sets ``reduction = 'sum'``."
   ]
  },
  {
   "cell_type": "code",
   "execution_count": 17,
   "metadata": {},
   "outputs": [],
   "source": [
    "learning_rate = 1e-3\n",
    "weight_decay = 1e-5\n",
    "model = AutoEncoder().to(device)\n",
    "criterion = nn.MSELoss(reduction='sum')\n",
    "optimizer = torch.optim.Adam(model.parameters(), lr=learning_rate, weight_decay=weight_decay)"
   ]
  },
  {
   "attachments": {},
   "cell_type": "markdown",
   "metadata": {},
   "source": [
    "### 开始训练"
   ]
  },
  {
   "cell_type": "code",
   "execution_count": 19,
   "metadata": {},
   "outputs": [
    {
     "name": "stdout",
     "output_type": "stream",
     "text": [
      "Epoch [  20/ 300], Train Loss: 0.103311, Test Loss: 0.104897\n",
      "Epoch [  40/ 300], Train Loss: 0.088383, Test Loss: 0.089874\n",
      "Epoch [  60/ 300], Train Loss: 0.075657, Test Loss: 0.077063\n",
      "Epoch [  80/ 300], Train Loss: 0.065081, Test Loss: 0.066415\n",
      "Epoch [ 100/ 300], Train Loss: 0.056468, Test Loss: 0.057735\n",
      "Epoch [ 120/ 300], Train Loss: 0.049552, Test Loss: 0.050758\n",
      "Epoch [ 140/ 300], Train Loss: 0.044049, Test Loss: 0.045205\n",
      "Epoch [ 160/ 300], Train Loss: 0.039695, Test Loss: 0.040803\n",
      "Epoch [ 180/ 300], Train Loss: 0.036245, Test Loss: 0.037314\n",
      "Epoch [ 200/ 300], Train Loss: 0.033506, Test Loss: 0.034541\n",
      "Epoch [ 220/ 300], Train Loss: 0.031318, Test Loss: 0.032327\n",
      "Epoch [ 240/ 300], Train Loss: 0.022609, Test Loss: 0.023082\n",
      "Epoch [ 260/ 300], Train Loss: 0.019405, Test Loss: 0.020603\n",
      "Epoch [ 280/ 300], Train Loss: 0.019324, Test Loss: 0.020582\n",
      "Epoch [ 300/ 300], Train Loss: 0.019043, Test Loss: 0.020231\n"
     ]
    }
   ],
   "source": [
    "num_epochs = 300\n",
    "train_loss_list = []\n",
    "test_loss_list = []\n",
    "encoded_histories = []\n",
    "# 训练\n",
    "for epoch in range(num_epochs):\n",
    "    train_loss = 0\n",
    "    test_loss = 0\n",
    "    # =================train==================\n",
    "    model.train()\n",
    "    for data in train_loader:\n",
    "        # ===================forward=====================\n",
    "        output = model(data)\n",
    "        loss = criterion(output, data)\n",
    "        # ===================backward====================\n",
    "        optimizer.zero_grad()\n",
    "        loss.backward()\n",
    "        optimizer.step()\n",
    "        train_loss += loss.item()\n",
    "    train_loss_list.append(train_loss/train_size)\n",
    "    # ===================test=====================\n",
    "    model.eval()\n",
    "    with torch.no_grad():\n",
    "        for data in test_loader:\n",
    "            output = model(data)\n",
    "            loss = criterion(output, data)\n",
    "            test_loss += loss.item()\n",
    "    test_loss_list.append(test_loss/(len(Distribution) - train_size))\n",
    "    # ===================log========================\n",
    "    if (epoch + 1) % 20 == 0:\n",
    "        print('Epoch [{:4d}/{:4d}], Train Loss: {:.6f}, Test Loss: {:.6f}'.format(epoch + 1, num_epochs, train_loss_list[-1], test_loss_list[-1]))\n",
    "        # ===================encoded=====================\n",
    "        with torch.no_grad():\n",
    "            encoded = model.encoder(Distribution_tensor)\n",
    "            encoded = encoded.cpu().numpy()\n",
    "            encoded_histories.append(encoded)"
   ]
  },
  {
   "cell_type": "code",
   "execution_count": 20,
   "metadata": {},
   "outputs": [
    {
     "data": {
      "image/png": "[encoded data removed]",
      "text/plain": [
       "<Figure size 720x432 with 1 Axes>"
      ]
     },
     "metadata": {
      "needs_background": "light"
     },
     "output_type": "display_data"
    }
   ],
   "source": [
    "# 画图\n",
    "plt.figure(figsize=(10, 6))\n",
    "plt.plot(train_loss_list, label='train_loss', color='r')\n",
    "plt.plot(test_loss_list, label='test_loss', color='b')\n",
    "plt.xlabel('epoch')\n",
    "plt.ylabel('loss')\n",
    "plt.legend()\n",
    "plt.show()"
   ]
  },
  {
   "attachments": {},
   "cell_type": "markdown",
   "metadata": {},
   "source": [
    "### 评估"
   ]
  },
  {
   "cell_type": "code",
   "execution_count": 21,
   "metadata": {},
   "outputs": [
    {
     "data": {
      "text/plain": [
       "==========================================================================================\n",
       "Layer (type:depth-idx)                   Output Shape              Param #\n",
       "==========================================================================================\n",
       "AutoEncoder                              [1, 7]                    --\n",
       "├─Sequential: 1-1                        [1, 2]                    --\n",
       "│    └─Linear: 2-1                       [1, 6]                    48\n",
       "│    └─ReLU: 2-2                         [1, 6]                    --\n",
       "│    └─Linear: 2-3                       [1, 5]                    35\n",
       "│    └─ReLU: 2-4                         [1, 5]                    --\n",
       "│    └─Linear: 2-5                       [1, 4]                    24\n",
       "│    └─ReLU: 2-6                         [1, 4]                    --\n",
       "│    └─Linear: 2-7                       [1, 2]                    10\n",
       "├─Sequential: 1-2                        [1, 7]                    --\n",
       "│    └─Linear: 2-8                       [1, 4]                    12\n",
       "│    └─ReLU: 2-9                         [1, 4]                    --\n",
       "│    └─Linear: 2-10                      [1, 5]                    25\n",
       "│    └─ReLU: 2-11                        [1, 5]                    --\n",
       "│    └─Linear: 2-12                      [1, 6]                    36\n",
       "│    └─ReLU: 2-13                        [1, 6]                    --\n",
       "│    └─Linear: 2-14                      [1, 7]                    49\n",
       "│    └─Softmax: 2-15                     [1, 7]                    --\n",
       "==========================================================================================\n",
       "Total params: 239\n",
       "Trainable params: 239\n",
       "Non-trainable params: 0\n",
       "Total mult-adds (M): 0.00\n",
       "==========================================================================================\n",
       "Input size (MB): 0.00\n",
       "Forward/backward pass size (MB): 0.00\n",
       "Params size (MB): 0.00\n",
       "Estimated Total Size (MB): 0.00\n",
       "=========================================================================================="
      ]
     },
     "execution_count": 21,
     "metadata": {},
     "output_type": "execute_result"
    }
   ],
   "source": [
    "summary(model, input_size=(1, 7))"
   ]
  },
  {
   "cell_type": "code",
   "execution_count": 23,
   "metadata": {},
   "outputs": [
    {
     "name": "stdout",
     "output_type": "stream",
     "text": [
      "mse_sum =  0.31213912\n"
     ]
    }
   ],
   "source": [
    "# # 保存模型\n",
    "# torch.save(model.state_dict(), 'model_autoEncoder.pth')\n",
    "\n",
    "# # 加载模型\n",
    "# model.load_state_dict(torch.load('model_autoEncoder.pth'))\n",
    "\n",
    "# 测试\n",
    "model.eval()\n",
    "with torch.no_grad():\n",
    "    test_output = model(test_data)\n",
    "    pred_y = test_output.cpu().numpy()\n",
    "\n",
    "    mse = np.mean((pred_y - test_data.cpu().numpy()) ** 2, axis=1)\n",
    "    mse_sum = np.sum(mse)\n",
    "    print('mse_sum = ', mse_sum)\n"
   ]
  },
  {
   "cell_type": "code",
   "execution_count": 24,
   "metadata": {},
   "outputs": [
    {
     "name": "stdout",
     "output_type": "stream",
     "text": [
      "idx =  6\n",
      "right_idx =  119\n",
      "test_data[right_idx] = \n",
      " [0.   0.01 0.09 0.27 0.31 0.25 0.07]\n",
      "pred_y[idx] = \n",
      " [0.00820199 0.05919217 0.22424547 0.33076927 0.23815523 0.11412582\n",
      " 0.0253101 ]\n",
      "mse[idx] =  0.007117506\n"
     ]
    }
   ],
   "source": [
    "# 随机从测试集中选取一个样本\n",
    "idx = np.random.randint(0, len(test_data))\n",
    "print('idx = ', idx)\n",
    "right_idx = test_indices[idx]\n",
    "print('right_idx = ', right_idx)\n",
    "print('test_data[right_idx] = \\n', test_data[idx].cpu().numpy())\n",
    "# df.iloc[right_idx, 5:12]\n",
    "print('pred_y[idx] = \\n', pred_y[idx])\n",
    "print('mse[idx] = ', mse[idx])"
   ]
  },
  {
   "attachments": {},
   "cell_type": "markdown",
   "metadata": {},
   "source": [
    "### 由样本生成二维图像"
   ]
  },
  {
   "cell_type": "code",
   "execution_count": 25,
   "metadata": {},
   "outputs": [
    {
     "data": {
      "text/html": [
       "<div>\n",
       "<style scoped>\n",
       "    .dataframe tbody tr th:only-of-type {\n",
       "        vertical-align: middle;\n",
       "    }\n",
       "\n",
       "    .dataframe tbody tr th {\n",
       "        vertical-align: top;\n",
       "    }\n",
       "\n",
       "    .dataframe thead th {\n",
       "        text-align: right;\n",
       "    }\n",
       "</style>\n",
       "<table border=\"1\" class=\"dataframe\">\n",
       "  <thead>\n",
       "    <tr style=\"text-align: right;\">\n",
       "      <th></th>\n",
       "      <th>Date</th>\n",
       "      <th>Contest number</th>\n",
       "      <th>Word</th>\n",
       "      <th>Number of  reported results</th>\n",
       "      <th>Number in hard mode</th>\n",
       "      <th>1 try</th>\n",
       "      <th>2 tries</th>\n",
       "      <th>3 tries</th>\n",
       "      <th>4 tries</th>\n",
       "      <th>5 tries</th>\n",
       "      <th>6 tries</th>\n",
       "      <th>7 or more tries (X)</th>\n",
       "      <th>normal_value</th>\n",
       "    </tr>\n",
       "  </thead>\n",
       "  <tbody>\n",
       "    <tr>\n",
       "      <th>0</th>\n",
       "      <td>2022-12-31</td>\n",
       "      <td>560</td>\n",
       "      <td>manly</td>\n",
       "      <td>20380</td>\n",
       "      <td>1899</td>\n",
       "      <td>0</td>\n",
       "      <td>2</td>\n",
       "      <td>17</td>\n",
       "      <td>37</td>\n",
       "      <td>29</td>\n",
       "      <td>12</td>\n",
       "      <td>2</td>\n",
       "      <td>0.343806</td>\n",
       "    </tr>\n",
       "    <tr>\n",
       "      <th>1</th>\n",
       "      <td>2022-12-30</td>\n",
       "      <td>559</td>\n",
       "      <td>molar</td>\n",
       "      <td>21204</td>\n",
       "      <td>1973</td>\n",
       "      <td>0</td>\n",
       "      <td>4</td>\n",
       "      <td>21</td>\n",
       "      <td>38</td>\n",
       "      <td>26</td>\n",
       "      <td>9</td>\n",
       "      <td>1</td>\n",
       "      <td>0.491583</td>\n",
       "    </tr>\n",
       "    <tr>\n",
       "      <th>2</th>\n",
       "      <td>2022-12-29</td>\n",
       "      <td>558</td>\n",
       "      <td>havoc</td>\n",
       "      <td>20001</td>\n",
       "      <td>1919</td>\n",
       "      <td>0</td>\n",
       "      <td>2</td>\n",
       "      <td>16</td>\n",
       "      <td>38</td>\n",
       "      <td>30</td>\n",
       "      <td>12</td>\n",
       "      <td>2</td>\n",
       "      <td>0.097901</td>\n",
       "    </tr>\n",
       "    <tr>\n",
       "      <th>3</th>\n",
       "      <td>2022-12-28</td>\n",
       "      <td>557</td>\n",
       "      <td>impel</td>\n",
       "      <td>20160</td>\n",
       "      <td>1937</td>\n",
       "      <td>0</td>\n",
       "      <td>3</td>\n",
       "      <td>21</td>\n",
       "      <td>40</td>\n",
       "      <td>25</td>\n",
       "      <td>9</td>\n",
       "      <td>1</td>\n",
       "      <td>0.187709</td>\n",
       "    </tr>\n",
       "    <tr>\n",
       "      <th>4</th>\n",
       "      <td>2022-12-27</td>\n",
       "      <td>556</td>\n",
       "      <td>condo</td>\n",
       "      <td>20879</td>\n",
       "      <td>2012</td>\n",
       "      <td>0</td>\n",
       "      <td>2</td>\n",
       "      <td>17</td>\n",
       "      <td>35</td>\n",
       "      <td>29</td>\n",
       "      <td>14</td>\n",
       "      <td>3</td>\n",
       "      <td>0.308737</td>\n",
       "    </tr>\n",
       "  </tbody>\n",
       "</table>\n",
       "</div>"
      ],
      "text/plain": [
       "        Date  Contest number   Word  Number of  reported results  \\\n",
       "0 2022-12-31             560  manly                        20380   \n",
       "1 2022-12-30             559  molar                        21204   \n",
       "2 2022-12-29             558  havoc                        20001   \n",
       "3 2022-12-28             557  impel                        20160   \n",
       "4 2022-12-27             556  condo                        20879   \n",
       "\n",
       "   Number in hard mode  1 try  2 tries  3 tries  4 tries  5 tries  6 tries  \\\n",
       "0                 1899      0        2       17       37       29       12   \n",
       "1                 1973      0        4       21       38       26        9   \n",
       "2                 1919      0        2       16       38       30       12   \n",
       "3                 1937      0        3       21       40       25        9   \n",
       "4                 2012      0        2       17       35       29       14   \n",
       "\n",
       "   7 or more tries (X)  normal_value  \n",
       "0                    2      0.343806  \n",
       "1                    1      0.491583  \n",
       "2                    2      0.097901  \n",
       "3                    1      0.187709  \n",
       "4                    3      0.308737  "
      ]
     },
     "execution_count": 25,
     "metadata": {},
     "output_type": "execute_result"
    }
   ],
   "source": [
    "df.head()"
   ]
  },
  {
   "cell_type": "code",
   "execution_count": 26,
   "metadata": {},
   "outputs": [
    {
     "data": {
      "text/plain": [
       "array([[0.  , 0.02, 0.17, ..., 0.29, 0.12, 0.02],\n",
       "       [0.  , 0.04, 0.21, ..., 0.26, 0.09, 0.01],\n",
       "       [0.  , 0.02, 0.16, ..., 0.3 , 0.12, 0.02],\n",
       "       ...,\n",
       "       [0.01, 0.03, 0.13, ..., 0.3 , 0.22, 0.04],\n",
       "       [0.01, 0.05, 0.23, ..., 0.24, 0.14, 0.02],\n",
       "       [0.01, 0.03, 0.23, ..., 0.24, 0.09, 0.01]])"
      ]
     },
     "execution_count": 26,
     "metadata": {},
     "output_type": "execute_result"
    }
   ],
   "source": [
    "Distribution"
   ]
  },
  {
   "cell_type": "code",
   "execution_count": 27,
   "metadata": {},
   "outputs": [],
   "source": [
    "Distribution_tensor = torch.from_numpy(Distribution).float().to(device)"
   ]
  },
  {
   "cell_type": "code",
   "execution_count": 28,
   "metadata": {},
   "outputs": [],
   "source": [
    "model.eval()\n",
    "with torch.no_grad():\n",
    "    encoded = model.encoder(Distribution_tensor)\n",
    "    encoded = encoded.cpu().numpy()"
   ]
  },
  {
   "cell_type": "code",
   "execution_count": 34,
   "metadata": {},
   "outputs": [
    {
     "data": {
      "image/png": "[encoded data removed]",
      "text/plain": [
       "<Figure size 720x432 with 1 Axes>"
      ]
     },
     "metadata": {
      "needs_background": "light"
     },
     "output_type": "display_data"
    }
   ],
   "source": [
    "# 用encoded画散点图，看看是否有聚类效果\n",
    "plt.figure(figsize=(10, 6))\n",
    "plt.scatter(encoded[:, 0], encoded[:, 1], c='r', s=10)\n",
    "# plt.scatter(encoded[:, 0], encoded[:, 1], c=df['2 tries'], s=10)\n",
    "plt.xlabel('x')\n",
    "plt.ylabel('y')\n",
    "plt.show()"
   ]
  },
  {
   "cell_type": "code",
   "execution_count": null,
   "metadata": {},
   "outputs": [],
   "source": [
    "# 保存模型\n",
    "# torch.save(model.state_dict(), 'model_autoEncoder.pth')"
   ]
  },
  {
   "cell_type": "code",
   "execution_count": 31,
   "metadata": {},
   "outputs": [
    {
     "data": {
      "text/plain": [
       "<All keys matched successfully>"
      ]
     },
     "execution_count": 31,
     "metadata": {},
     "output_type": "execute_result"
    }
   ],
   "source": [
    "# 加载模型\n",
    "model.load_state_dict(torch.load('model_autoEncoder.pth'))"
   ]
  },
  {
   "cell_type": "code",
   "execution_count": 32,
   "metadata": {},
   "outputs": [
    {
     "data": {
      "image/png": "[encoded data removed]",
      "text/plain": [
       "<Figure size 720x432 with 1 Axes>"
      ]
     },
     "metadata": {
      "needs_background": "light"
     },
     "output_type": "display_data"
    }
   ],
   "source": [
    "# 用encoded画散点图，看看是否有聚类效果\n",
    "plt.figure(figsize=(10, 6))\n",
    "plt.scatter(encoded[:, 0], encoded[:, 1], c='r', s=10)\n",
    "# plt.scatter(encoded[:, 0], encoded[:, 1], c=df['2 tries'], s=10)\n",
    "plt.xlabel('x')\n",
    "plt.ylabel('y')\n",
    "plt.show()"
   ]
  },
  {
   "cell_type": "code",
   "execution_count": 35,
   "metadata": {},
   "outputs": [
    {
     "data": {
      "text/html": [
       "<div>\n",
       "<style scoped>\n",
       "    .dataframe tbody tr th:only-of-type {\n",
       "        vertical-align: middle;\n",
       "    }\n",
       "\n",
       "    .dataframe tbody tr th {\n",
       "        vertical-align: top;\n",
       "    }\n",
       "\n",
       "    .dataframe thead th {\n",
       "        text-align: right;\n",
       "    }\n",
       "</style>\n",
       "<table border=\"1\" class=\"dataframe\">\n",
       "  <thead>\n",
       "    <tr style=\"text-align: right;\">\n",
       "      <th></th>\n",
       "      <th>Date</th>\n",
       "      <th>Date.1</th>\n",
       "      <th>Contest number</th>\n",
       "      <th>word</th>\n",
       "      <th>senti</th>\n",
       "      <th>senti_score</th>\n",
       "      <th>cixing</th>\n",
       "      <th>diversity</th>\n",
       "      <th>freq_1</th>\n",
       "      <th>freq_2</th>\n",
       "      <th>vowel_percentage(%)</th>\n",
       "      <th>if_weekdays</th>\n",
       "      <th>correlations</th>\n",
       "      <th>1 try</th>\n",
       "      <th>2 tries</th>\n",
       "      <th>3 tries</th>\n",
       "      <th>4 tries</th>\n",
       "      <th>5 tries</th>\n",
       "      <th>6 tries</th>\n",
       "      <th>7 or more tries (X)</th>\n",
       "    </tr>\n",
       "  </thead>\n",
       "  <tbody>\n",
       "    <tr>\n",
       "      <th>0</th>\n",
       "      <td>2022-12-31</td>\n",
       "      <td>44926</td>\n",
       "      <td>560</td>\n",
       "      <td>manly</td>\n",
       "      <td>1</td>\n",
       "      <td>0.0000</td>\n",
       "      <td>RB</td>\n",
       "      <td>0.620000</td>\n",
       "      <td>0.264214</td>\n",
       "      <td>0.265298</td>\n",
       "      <td>20.0</td>\n",
       "      <td>0</td>\n",
       "      <td>0.343806</td>\n",
       "      <td>0</td>\n",
       "      <td>2</td>\n",
       "      <td>17</td>\n",
       "      <td>37</td>\n",
       "      <td>29</td>\n",
       "      <td>12</td>\n",
       "      <td>2</td>\n",
       "    </tr>\n",
       "    <tr>\n",
       "      <th>1</th>\n",
       "      <td>2022-12-30</td>\n",
       "      <td>44925</td>\n",
       "      <td>559</td>\n",
       "      <td>molar</td>\n",
       "      <td>1</td>\n",
       "      <td>0.0000</td>\n",
       "      <td>JJ</td>\n",
       "      <td>0.777778</td>\n",
       "      <td>0.329989</td>\n",
       "      <td>0.315016</td>\n",
       "      <td>40.0</td>\n",
       "      <td>1</td>\n",
       "      <td>0.491583</td>\n",
       "      <td>0</td>\n",
       "      <td>4</td>\n",
       "      <td>21</td>\n",
       "      <td>38</td>\n",
       "      <td>26</td>\n",
       "      <td>9</td>\n",
       "      <td>1</td>\n",
       "    </tr>\n",
       "    <tr>\n",
       "      <th>2</th>\n",
       "      <td>2022-12-29</td>\n",
       "      <td>44924</td>\n",
       "      <td>558</td>\n",
       "      <td>havoc</td>\n",
       "      <td>0</td>\n",
       "      <td>-0.5994</td>\n",
       "      <td>NN</td>\n",
       "      <td>0.001000</td>\n",
       "      <td>0.254738</td>\n",
       "      <td>0.237445</td>\n",
       "      <td>40.0</td>\n",
       "      <td>1</td>\n",
       "      <td>0.097901</td>\n",
       "      <td>0</td>\n",
       "      <td>2</td>\n",
       "      <td>16</td>\n",
       "      <td>38</td>\n",
       "      <td>30</td>\n",
       "      <td>12</td>\n",
       "      <td>2</td>\n",
       "    </tr>\n",
       "    <tr>\n",
       "      <th>3</th>\n",
       "      <td>2022-12-28</td>\n",
       "      <td>44923</td>\n",
       "      <td>557</td>\n",
       "      <td>impel</td>\n",
       "      <td>1</td>\n",
       "      <td>0.0000</td>\n",
       "      <td>NN</td>\n",
       "      <td>0.500000</td>\n",
       "      <td>0.287625</td>\n",
       "      <td>0.314575</td>\n",
       "      <td>40.0</td>\n",
       "      <td>1</td>\n",
       "      <td>0.187709</td>\n",
       "      <td>0</td>\n",
       "      <td>3</td>\n",
       "      <td>21</td>\n",
       "      <td>40</td>\n",
       "      <td>25</td>\n",
       "      <td>9</td>\n",
       "      <td>1</td>\n",
       "    </tr>\n",
       "    <tr>\n",
       "      <th>4</th>\n",
       "      <td>2022-12-27</td>\n",
       "      <td>44922</td>\n",
       "      <td>556</td>\n",
       "      <td>condo</td>\n",
       "      <td>1</td>\n",
       "      <td>0.0000</td>\n",
       "      <td>NN</td>\n",
       "      <td>0.001000</td>\n",
       "      <td>0.267001</td>\n",
       "      <td>0.290084</td>\n",
       "      <td>40.0</td>\n",
       "      <td>1</td>\n",
       "      <td>0.308737</td>\n",
       "      <td>0</td>\n",
       "      <td>2</td>\n",
       "      <td>17</td>\n",
       "      <td>35</td>\n",
       "      <td>29</td>\n",
       "      <td>14</td>\n",
       "      <td>3</td>\n",
       "    </tr>\n",
       "  </tbody>\n",
       "</table>\n",
       "</div>"
      ],
      "text/plain": [
       "        Date  Date.1  Contest number   word  senti  senti_score cixing  \\\n",
       "0 2022-12-31   44926             560  manly      1       0.0000     RB   \n",
       "1 2022-12-30   44925             559  molar      1       0.0000     JJ   \n",
       "2 2022-12-29   44924             558  havoc      0      -0.5994     NN   \n",
       "3 2022-12-28   44923             557  impel      1       0.0000     NN   \n",
       "4 2022-12-27   44922             556  condo      1       0.0000     NN   \n",
       "\n",
       "   diversity    freq_1    freq_2  vowel_percentage(%)  if_weekdays  \\\n",
       "0   0.620000  0.264214  0.265298                 20.0            0   \n",
       "1   0.777778  0.329989  0.315016                 40.0            1   \n",
       "2   0.001000  0.254738  0.237445                 40.0            1   \n",
       "3   0.500000  0.287625  0.314575                 40.0            1   \n",
       "4   0.001000  0.267001  0.290084                 40.0            1   \n",
       "\n",
       "   correlations  1 try  2 tries  3 tries  4 tries  5 tries  6 tries  \\\n",
       "0      0.343806      0        2       17       37       29       12   \n",
       "1      0.491583      0        4       21       38       26        9   \n",
       "2      0.097901      0        2       16       38       30       12   \n",
       "3      0.187709      0        3       21       40       25        9   \n",
       "4      0.308737      0        2       17       35       29       14   \n",
       "\n",
       "   7 or more tries (X)  \n",
       "0                    2  \n",
       "1                    1  \n",
       "2                    2  \n",
       "3                    1  \n",
       "4                    3  "
      ]
     },
     "execution_count": 35,
     "metadata": {},
     "output_type": "execute_result"
    }
   ],
   "source": [
    "df1 = pd.read_excel('word_data_new.xlsx')\n",
    "df1.head()"
   ]
  },
  {
   "cell_type": "code",
   "execution_count": 36,
   "metadata": {},
   "outputs": [
    {
     "data": {
      "text/plain": [
       "array([1, 0, 2], dtype=int64)"
      ]
     },
     "execution_count": 36,
     "metadata": {},
     "output_type": "execute_result"
    }
   ],
   "source": [
    "df1['senti'].unique()"
   ]
  },
  {
   "cell_type": "code",
   "execution_count": 62,
   "metadata": {},
   "outputs": [
    {
     "data": {
      "image/png": "[encoded data removed]",
      "text/plain": [
       "<Figure size 720x432 with 1 Axes>"
      ]
     },
     "metadata": {
      "needs_background": "light"
     },
     "output_type": "display_data"
    }
   ],
   "source": [
    "# 用encoded画散点图，看看是否有聚类效果\n",
    "plt.figure(figsize=(10, 6))\n",
    "# plt.scatter(encoded[:, 0], encoded[:, 1], c='r', s=10)\n",
    "plt.scatter(encoded[:, 0], encoded[:, 1], c=df1['if_weekdays'], s=10, cmap='rainbow', label='if_weekdays')\n",
    "plt.xlabel('x')\n",
    "plt.ylabel('y')\n",
    "# plt.legend()\n",
    "plt.show()"
   ]
  },
  {
   "cell_type": "code",
   "execution_count": 47,
   "metadata": {},
   "outputs": [
    {
     "data": {
      "text/html": [
       "<video width=\"720\" height=\"432\" controls autoplay loop>\n",
       "  <source type=\"video/mp4\" src=\"data:video/mp4;base64,AAAAHGZ0eXBNNFYgAAACAGlzb21pc28yYXZjMQAAAAhmcmVlAAAEVW1kYXQAAAKhBgX//53cRem9\n",
       "5tlIt5Ys2CDZI+7veDI2NCAtIGNvcmUgMTQyIC0gSC4yNjQvTVBFRy00IEFWQyBjb2RlYyAtIENv\n",
       "cHlsZWZ0IDIwMDMtMjAxNCAtIGh0dHA6Ly93d3cudmlkZW9sYW4ub3JnL3gyNjQuaHRtbCAtIG9w\n",
       "dGlvbnM6IGNhYmFjPTEgcmVmPTMgZGVibG9jaz0xOjA6MCBhbmFseXNlPTB4MzoweDExMyBtZT1o\n",
       "ZXggc3VibWU9NyBwc3k9MSBwc3lfcmQ9MS4wMDowLjAwIG1peGVkX3JlZj0xIG1lX3JhbmdlPTE2\n",
       "IGNocm9tYV9tZT0xIHRyZWxsaXM9MSA4eDhkY3Q9MSBjcW09MCBkZWFkem9uZT0yMSwxMSBmYXN0\n",
       "X3Bza2lwPTEgY2hyb21hX3FwX29mZnNldD0tMiB0aHJlYWRzPTI0IGxvb2thaGVhZF90aHJlYWRz\n",
       "PTMgc2xpY2VkX3RocmVhZHM9MCBucj0wIGRlY2ltYXRlPTEgaW50ZXJsYWNlZD0wIGJsdXJheV9j\n",
       "b21wYXQ9MCBjb25zdHJhaW5lZF9pbnRyYT0wIGJmcmFtZXM9MyBiX3B5cmFtaWQ9MiBiX2FkYXB0\n",
       "PTEgYl9iaWFzPTAgZGlyZWN0PTEgd2VpZ2h0Yj0xIG9wZW5fZ29wPTAgd2VpZ2h0cD0yIGtleWlu\n",
       "dD0yNTAga2V5aW50X21pbj0xMCBzY2VuZWN1dD00MCBpbnRyYV9yZWZyZXNoPTAgcmNfbG9va2Fo\n",
       "ZWFkPTQwIHJjPWNyZiBtYnRyZWU9MSBjcmY9MjMuMCBxY29tcD0wLjYwIHFwbWluPTAgcXBtYXg9\n",
       "NjkgcXBzdGVwPTQgaXBfcmF0aW89MS40MCBhcT0xOjEuMDAAgAAAAGlliIQAEf/+94gfMstp+TrX\n",
       "chHnrS6tH1DuRnFepL3+IAAAAwAAAwAAAwM0sgpF9Uc784PAAAADAzwAg4E3BHwVYI4DlBng3ggg\n",
       "XwR4OMAAAAMAAAMAAAMAAAMAAAMAAAMAAAMAAAMAFbEAAAATQZokbEEf/rUqgAAAAwAAAwAD1gAA\n",
       "ABBBnkJ4h38AAAMAAAMAAA8JAAAAEAGeYXRDfwAAAwAAAwAAFbAAAAAQAZ5jakN/AAADAAADAAAV\n",
       "sQAAABlBmmhJqEFomUwIIf/+qlUAAAMAAAMAAAetAAAAEkGehkURLDv/AAADAAADAAAPCQAAABAB\n",
       "nqV0Q38AAAMAAAMAABWxAAAAEAGep2pDfwAAAwAAAwAAFbAAAAAZQZqsSahBbJlMCH///qmWAAAD\n",
       "AAADAAAeEAAAABJBnspFFSw7/wAAAwAAAwAADwkAAAAQAZ7pdEN/AAADAAADAAAVsAAAABABnutq\n",
       "Q38AAAMAAAMAABWwAAAAGkGa7kmoQWyZTBRMN//+p4QAAAMAAAMAADuhAAAAEAGfDWpDfwAAAwAA\n",
       "AwAAFbEAAAPibW9vdgAAAGxtdmhkAAAAAAAAAAAAAAAAAAAD6AAABdwAAQAAAQAAAAAAAAAAAAAA\n",
       "AAEAAAAAAAAAAAAAAAAAAAABAAAAAAAAAAAAAAAAAABAAAAAAAAAAAAAAAAAAAAAAAAAAAAAAAAA\n",
       "AAAAAAAAAgAAAwx0cmFrAAAAXHRraGQAAAADAAAAAAAAAAAAAAABAAAAAAAABdwAAAAAAAAAAAAA\n",
       "AAAAAAAAAAEAAAAAAAAAAAAAAAAAAAABAAAAAAAAAAAAAAAAAABAAAAAAtAAAAGwAAAAAAAkZWR0\n",
       "cwAAABxlbHN0AAAAAAAAAAEAAAXcAAAIAAABAAAAAAKEbWRpYQAAACBtZGhkAAAAAAAAAAAAAAAA\n",
       "AAAoAAAAPABVxAAAAAAALWhkbHIAAAAAAAAAAHZpZGUAAAAAAAAAAAAAAABWaWRlb0hhbmRsZXIA\n",
       "AAACL21pbmYAAAAUdm1oZAAAAAEAAAAAAAAAAAAAACRkaW5mAAAAHGRyZWYAAAAAAAAAAQAAAAx1\n",
       "cmwgAAAAAQAAAe9zdGJsAAAAs3N0c2QAAAAAAAAAAQAAAKNhdmMxAAAAAAAAAAEAAAAAAAAAAAAA\n",
       "AAAAAAAAAtABsABIAAAASAAAAAAAAAABAAAAAAAAAAAAAAAAAAAAAAAAAAAAAAAAAAAAAAAAAAAA\n",
       "GP//AAAAMWF2Y0MBZAAW/+EAGGdkABas2UC0N6EAAAMAAQAAAwAUDxYtlgEABmjr48siwAAAABx1\n",
       "dWlka2hA8l8kT8W6OaUbzwMj8wAAAAAAAAAYc3R0cwAAAAAAAAABAAAADwAABAAAAAAUc3RzcwAA\n",
       "AAAAAAABAAAAAQAAAIhjdHRzAAAAAAAAAA8AAAABAAAIAAAAAAEAABQAAAAAAQAACAAAAAABAAAA\n",
       "AAAAAAEAAAQAAAAAAQAAFAAAAAABAAAIAAAAAAEAAAAAAAAAAQAABAAAAAABAAAUAAAAAAEAAAgA\n",
       "AAAAAQAAAAAAAAABAAAEAAAAAAEAAAwAAAAAAQAABAAAAAAcc3RzYwAAAAAAAAABAAAAAQAAAA8A\n",
       "AAABAAAAUHN0c3oAAAAAAAAAAAAAAA8AAAMSAAAAFwAAABQAAAAUAAAAFAAAAB0AAAAWAAAAFAAA\n",
       "ABQAAAAdAAAAFgAAABQAAAAUAAAAHgAAABQAAAAUc3RjbwAAAAAAAAABAAAALAAAAGJ1ZHRhAAAA\n",
       "Wm1ldGEAAAAAAAAAIWhkbHIAAAAAAAAAAG1kaXJhcHBsAAAAAAAAAAAAAAAALWlsc3QAAAAlqXRv\n",
       "bwAAAB1kYXRhAAAAAQAAAABMYXZmNTguMjkuMTAw\n",
       "\">\n",
       "  Your browser does not support the video tag.\n",
       "</video>"
      ],
      "text/plain": [
       "<IPython.core.display.HTML object>"
      ]
     },
     "execution_count": 47,
     "metadata": {},
     "output_type": "execute_result"
    },
    {
     "data": {
      "image/png": "[encoded data removed]",
      "text/plain": [
       "<Figure size 720x432 with 1 Axes>"
      ]
     },
     "metadata": {
      "needs_background": "light"
     },
     "output_type": "display_data"
    }
   ],
   "source": [
    "# 用matplotlib画出encoded_histories随着epoch变化的动画\n",
    "import matplotlib.animation as animation\n",
    "from IPython.display import HTML\n",
    "\n",
    "fig = plt.figure(figsize=(10, 6))\n",
    "ax = plt.axes(xlim=(0, 1), ylim=(-1, 0))\n",
    "\n",
    "def init():\n",
    "    ax.scatter([], [], c='r', s=10)\n",
    "    return ax,\n",
    "\n",
    "def animate(i):\n",
    "    # ax.clear()\n",
    "    ax.scatter(encoded_histories[i][:, 0], encoded_histories[i][:, 1], c='r', s=10)\n",
    "    return ax,\n",
    "\n",
    "anim = animation.FuncAnimation(fig, animate, init_func=init, frames=len(encoded_histories), interval=100, blit=True)\n",
    "HTML(anim.to_html5_video())"
   ]
  },
  {
   "cell_type": "code",
   "execution_count": 63,
   "metadata": {},
   "outputs": [],
   "source": [
    "# 创建一个动画，将梯度下降的过程可视化，这里使用的是matplotlib的animation模块\n",
    "from matplotlib import animation\n",
    "from IPython.display import HTML\n",
    "\n",
    "def show_animation(encoded_histories):\n",
    "    fig = plt.figure(figsize=(8, 6))\n",
    "    ax = plt.axes(xlim=(-1, 1), ylim=(-1, 1))\n",
    "    line, = ax.plot([], [], 'bo', lw=2, label='point')\n",
    "    x = np.linspace(-2, 5, 100)\n",
    "    plt.legend()\n",
    "\n",
    "    def init():\n",
    "        line.set_data([], [])\n",
    "        return line, \n",
    "\n",
    "    def animate(frame):\n",
    "        line.set_data(encoded_histories[frame][0, 0], encoded_histories[frame][0, 1])\n",
    "        plt.title('iteration = {}'.format(frame))\n",
    "        return line, \n",
    "\n",
    "    anim = animation.FuncAnimation(fig, animate, init_func=init,\n",
    "                                frames=len(encoded_histories), # 这里的frames是指动画的帧数\n",
    "                                interval=60,  # 这里的interval是指动画的间隔时间 单位是ms\n",
    "                                blit=True # 这里的blit是指是否只更新动画中改变的部分\n",
    "                                )\n",
    "    return HTML(anim.to_html5_video())"
   ]
  },
  {
   "cell_type": "code",
   "execution_count": 64,
   "metadata": {},
   "outputs": [
    {
     "data": {
      "text/html": [
       "<video width=\"576\" height=\"432\" controls autoplay loop>\n",
       "  <source type=\"video/mp4\" src=\"data:video/mp4;base64,AAAAHGZ0eXBNNFYgAAACAGlzb21pc28yYXZjMQAAAAhmcmVlAAAbrW1kYXQAAAKhBgX//53cRem9\n",
       "5tlIt5Ys2CDZI+7veDI2NCAtIGNvcmUgMTQyIC0gSC4yNjQvTVBFRy00IEFWQyBjb2RlYyAtIENv\n",
       "cHlsZWZ0IDIwMDMtMjAxNCAtIGh0dHA6Ly93d3cudmlkZW9sYW4ub3JnL3gyNjQuaHRtbCAtIG9w\n",
       "dGlvbnM6IGNhYmFjPTEgcmVmPTMgZGVibG9jaz0xOjA6MCBhbmFseXNlPTB4MzoweDExMyBtZT1o\n",
       "ZXggc3VibWU9NyBwc3k9MSBwc3lfcmQ9MS4wMDowLjAwIG1peGVkX3JlZj0xIG1lX3JhbmdlPTE2\n",
       "IGNocm9tYV9tZT0xIHRyZWxsaXM9MSA4eDhkY3Q9MSBjcW09MCBkZWFkem9uZT0yMSwxMSBmYXN0\n",
       "X3Bza2lwPTEgY2hyb21hX3FwX29mZnNldD0tMiB0aHJlYWRzPTI0IGxvb2thaGVhZF90aHJlYWRz\n",
       "PTMgc2xpY2VkX3RocmVhZHM9MCBucj0wIGRlY2ltYXRlPTEgaW50ZXJsYWNlZD0wIGJsdXJheV9j\n",
       "b21wYXQ9MCBjb25zdHJhaW5lZF9pbnRyYT0wIGJmcmFtZXM9MyBiX3B5cmFtaWQ9MiBiX2FkYXB0\n",
       "PTEgYl9iaWFzPTAgZGlyZWN0PTEgd2VpZ2h0Yj0xIG9wZW5fZ29wPTAgd2VpZ2h0cD0yIGtleWlu\n",
       "dD0yNTAga2V5aW50X21pbj0xNiBzY2VuZWN1dD00MCBpbnRyYV9yZWZyZXNoPTAgcmNfbG9va2Fo\n",
       "ZWFkPTQwIHJjPWNyZiBtYnRyZWU9MSBjcmY9MjMuMCBxY29tcD0wLjYwIHFwbWluPTAgcXBtYXg9\n",
       "NjkgcXBzdGVwPTQgaXBfcmF0aW89MS40MCBhcT0xOjEuMDAAgAAAERBliIQAP//+92ifAptaQ3qA\n",
       "5JXFJdtPgf+rZ3B8j+kDAAADAAADAACA4Dv1kpRb7WykAAAPGLURvxQeWienXAK9hCa1dKDH3p/Z\n",
       "oBVFp463ImMekZL7J08pXh1BdA819zYOy9yyYBCgL4lCyf1BOKnnrEj9/FlYXDpn537a4ozZSe4D\n",
       "nemLH350y872TLrXvXSR9EHq7wauwYGY4lb8WJ45MZ+mVu5/m3cQIoM6qs/JEx6zpExUz3xNruuK\n",
       "cepYH9cQqILuRZgKGgLL9H+GsY9xX0PobUv4uPWuoOs3XOXNFf86Dkqb3lRwKWY0SPS2v7sd0ZRZ\n",
       "eTYvg5Gbg+ljZikKARoZFMXMfy1GSpPDbptZkjWK+Z0Dbvv7p02JDzp/Hc5ILLt2ctzLfUaYA8el\n",
       "v5kq6QYNvcYTNMqpK6nJgeqCVmgSGxfJwFb8+C0eiDRskPTf3ouoD8VNVlnp3ANLx80Hqg8f6fEQ\n",
       "fzZaPsVgNaTmz+aaOiTUHR1gjQpaYTAe2gXJlpBrBMnk7pqo0XS8v+m0aSr5jfUavBlL01Fo5GPN\n",
       "GixFRYZXudX74Ntf3S8L81DTxsxVOAtc+tSso7iooGikbSSzcBStScSeu/BCJnx+zHuhmJfUcFCD\n",
       "7vNGXKm2g8j9malM0AQKI4t2ze0ft73xSlOaHugLQYOD3Ta8PBZ/zLbkyYHehFrn8F5MDYjpbCoZ\n",
       "Hp48TkaVd0abuMlP81IvKEJ4n70Ux98OG4rqlaTeLkXcdzuC8iPS5TRfVILAyj3/jfD/5pUHqvh3\n",
       "MAJYNnw2sYLz76rgSGILNqhWWO0dpEM2qBf+I+LegUrcL2kGewuX5LWZjHhZtj0zsaCA5OJnJTaW\n",
       "henrMntEeSooNbiutX1FiLdPu8rM6IP9uJ83SzaJRVM8lDWyash1SqSAU224jyR3kDhalesAQvKV\n",
       "n46PJ0wfZrQuWLPCRc/4sJ8W5lQKd+OxlmXAmxSalbRRIvJneiM3/5l6peEhYu17H4v9EjeXw5AA\n",
       "AElFgJD/uNCP0nt0/SigfhbSQ/KMxvBvGlJDCss9PaP/Nt+yy6mxNCCysB1vWuVPZ4JQsnQ94+lX\n",
       "0WCT3wUjW7k3Jk1ThT18R1CLk05HRAdSNGC8cZ8ycCfrPoMX37h50dXNc9LlhybfFN84HyjcXqv9\n",
       "Rgt4v/EIulmHaoU3HAe00ruIiMFZYoB9MIuGq938XVKBoZC4hibSXVxf9VeTcGzLtM4UJwgAJpTF\n",
       "0WeBialZE01H96ljyn9SsiYUy6NQyTo7rfnIEs9clofJ1fWCtw7nTC/i+SBRA1v89faaeBjCacTd\n",
       "hed9rP2MvViQQFRDL4V/w8iygizIskPuop+t4g9kkrnG6dnRojHK5nevEs7GzDixQRqPOHTnSMeJ\n",
       "ribDG7XNS0944/lbJuop0jDomM2j3TkW1qyDtxqHBJwzmiIFY/C0QsrxVH1Haqq1ZrXAAAGoVl35\n",
       "oLkiSKNJ3XUKAqClnOOrBLPfavjLfDWW/mpTDFi/d7xdykcpUYb53y1Y1Pl+SrXv9+ZYMS6v9ajN\n",
       "qYAB5GOIfUEP9teQQeoKiKdQSYgGGqqgxL5CIu4UT6m0DdH0/c6wceQIm1qnGzpaDJ4kNhGXrMEI\n",
       "XQOeN7myWjDsinI7pyowQC/WOXAAOCdarwl9uskjjnSJGEiRQ/0YM/3awFVV4EFU48kc9yWXa42B\n",
       "Q9r6sirAN70yqLIW4ZjaF+FPOK51NiWfvjDN+9kLwvNMdXyOsKBBnBARd/QqMZ6nrDTOJXmfgQH8\n",
       "SxNQ2cIJfBd89DQE98zACacPH+D13GnOOSXH4KassRJbdjVkUkiZY8/qh7IDJHMZMCAOxKL3lhKw\n",
       "9f/cBJGNCqaENEhdj91sn1Vo0fOPBQhx4CEW2KwUgvhg8zEQY0qNHLFQgUPxt8wZFpuYaV0Lnh9u\n",
       "xeG3p2lNBM3ykT0LIKZqRh/A3A6ukGQ7YkAJj0O2ghTPf8yabblY2Qv/PaW3ZuX8cAHv5TtbrDZM\n",
       "JYOLcpf8lonrCRbeSLKCTfa4pk/Vg/0+ikkn06oqr2iKIi1A24L3+CYCZQS/Arq1LzDwFUqcYj+C\n",
       "6V7/Zj8TWGt4rA/4ccK1VVc+qTWpTy99eCHlY4ucAVhqAY5XLkKEr5fh/VUO+as83ADfJkYU//1R\n",
       "kuSCXEPF33phkXktxTBAOhFpRFRFiGUfW2sll64dR7oX3if/L1gkbYOVUbHJe+g89rpm02+OdOeX\n",
       "w01FR+LKnnIyKRPEPpIUKuxxV02aEo+63xfGOvyCL75RS/Lw64HE5FsLybX58SeqREJBvoDVABHD\n",
       "lwvssw64vlg63v/jy5Zj9MbPWE79Jf3PG3cp9IUYn6yvMGZ9ETcLxWbXaQm1F72FPvaHOs2QqGG7\n",
       "FsnCsiHIB2JOg6lQgkYAAyBWKE9KNiFyfNF0dtTEcn90IRXiNYd1ejh9gGiuQNmS835ae8Hp4KNH\n",
       "whlI4XKI/5YUQ0NvBUxLJ8gSsYk6rKcDz901czinHgAz5CFyPifBAK9OQnqORsD1kPPFr244l/GD\n",
       "Pf3ln9WFHvpJIlE/OFK8TU3CNKNYqvF7zVS4I0SAokQ/5GSNpuCMcdUFkIs/kIl5wSM9ZkAP38p2\n",
       "3od9caMrQ4FLqqbvHS6AoMSIWohWI2G0dw5w2s5meQAC2mZ6ATmHzFTunIueqII36KfH69P6xqdd\n",
       "e97wzhtmx9SRVmUlBWcsiLpLuoAIgqv9t2Lpj7a0tNYlbJ+QOQu/xMrhXxGij85T4JNUumDW4FpV\n",
       "YE6GmsyY8hii+/2kU79X+YfQK7BBhFJJUUrROFKgCdwNd8VNOSK2OReOvcdFbPhffG2bNpJOeLvZ\n",
       "/jBuJZvXd1OrBlfIc+zek9ZSAAFMbwCM8myBBohr78O1x0g77F9qXyejun9HqyPUOwODybdWD/8r\n",
       "sfU7uY1D7AxlkYzbIxuIgKVEFOE2ISRGRuBOy9cYCYG9h+8Tge3QgK13amiy990/5lZ73ZtI/RUZ\n",
       "S6BPPztp6clE0Dht2sY7Zxwn644p3edaVdZ5c0/NhOuD/wtgTyKF8WYQdr5/3AdS3mLA//dE9uTm\n",
       "q6uI0MIjZ/c+ZBELAhtrFjNfpJXTwJtx1ZEb/fazZCkb3wCheCGF+J3Q0T85aWxlt2NqByU5AvYb\n",
       "4TdtQNXPP0mEsVeVya/YEFvVoaEBQTIBI/LIAXm1RdCYr5Xj2vrSnMXjR90hRUvt97FUgZGAiPpT\n",
       "eJVraGkR1z5RuXpVUl/GRJVKMl7sFhvchzqv51l50Um3VsKIBhxf84ORSphz9wLzPg8yGxx6nPgo\n",
       "xFf35hh9ZsMDhYgdvWpG1d7zTXQkr5J/xE9/uYQJY4/K6lu1SkFysXV6Y6f/4t7EVMHTcKxn+2O4\n",
       "yKhf8F8RDhH3C4Maidu+ot08ETweq6hXU5+lWv2fAMJjVAq3REQ7F9GuGwlLFx8lnLbbWh4UjBxr\n",
       "RntfSAHLjSTHLz9XUsMpyvv9gPpvF1HsvHVJTv5CB6K45I5MuZtiuktLrmhVzTBIm4WRYe2GiqRA\n",
       "eLhdonq6rbzOKVniC5q6Hxu36CmLcvHZoP3x/dt/qK1tYpf+2C0ecplRP7EPdNuCCSGR2tCu/Od6\n",
       "lqGIjLFWx/duA2n/TiS+l3z/D4Qlq658F4vQrvzneoQZREZYq2P7tu0rgoECP8N2Hpt8eZIJ7xRQ\n",
       "W3ewpTdvznel+K8XGa++P7tvuP+bIziA499VqoNoJ9PMtrE7BTEddSnqnatj+7bijIJ5uj3oTg1A\n",
       "al7ebbfalIWXaoI+eNLcLm33CImpN7yMABigIn7z45QoMl7fJMy/j57/H+gwn9Rm+y+H/qKv5vIT\n",
       "QeA441+2/Oe9EAq6GdnwZ2c3Hsjdpl0JCx5cwGPTT6j2BwfOhR6SqmmpV56+eyOmGLRsV1IQLfZU\n",
       "GmTmLwnVJjJJBkPiDXvPvwwpeQ0BiABc3n71Hj9s45fj1OJZOk/ZOxe6pECp6IDA/rwNfc1iVlZu\n",
       "CSrjpI8DWEEhw3VaMCVk5ClAUgrBACIPCaQua/pYWJG7R/Sp9e28rfh0l3S98c7BjV+rcA02oo7Q\n",
       "jjQwERaVV/rSeTeu+5zA8I4zbhUx/25E3KIZyjyAhS4W/5F6p1ZYdhaPNtsTmbP3f/DBp7ep0rN1\n",
       "3jwrujZW4HGnx3JMHFI+b2K1zymBqtfGe6MI5c9As5jGuf9Y7SC0Noo5cM8cf7LWifc/yp45Wo7S\n",
       "OyC6XDk2rjUrFq/cKr/yEikHzcngVknYEFl+34eyhtjLcSd3IVM0vBwvuIq18nQRawgptUHJ8VY2\n",
       "uZ0oDnsA+A8U27YEr+gWKfIeL24uM4Y7t3oB7WaArTK7RLta7bxYZiuL22s4DLX2mgRf5BzTPYJv\n",
       "tjtFtPjPO955RFZfHPaBQBzUsKRoLk3bcHEswhfeZ7Fu5dAkYjBx0uQd2qnE/7JExWvgU685vxdY\n",
       "YuqIEnXTyXrtBi6mQkI44bTuD2gEz3Aze+XYjjGrBcuI6H291vBGBrbiU2wtvSotcLmXVOoeNtG7\n",
       "/qknD0ejJbe9/C7wd8exM/H8h0UU2mBjJk/dgxUskeSaOOfQ1C8fwjhgav2HP2NR+JEzIFOXLJTg\n",
       "3nIus5fLz5aH/vH1xcODfddxxjKR9PbvVweeYnoUvCZ2KLJDq2RIVJzbBHSy3wfaWzR1JwxhP0D7\n",
       "9nBbpXxxkNguNXGBntTMDS8nqqwW7w1ocZs7pIuRF1tOfpRJM7onBsjNjy78rjW7QcqLUH3R0wmH\n",
       "KU2UzniG/GphjuiMf+/ZGzPrhv4Zt/+DkYPuFp6gl29VHsXXqYMxaY+DANuzgUVnmNsuJCtfPYWN\n",
       "sQCmNHF5eNQUl4vFVWFcs+vezHByM2NmuIo88bUAKtgZKuQ4N3+m/+NZVxw5+V2YZiZjhH7yOOFp\n",
       "vkSc+yC52nXAgtpiwFNTsJX2/zQG0z6YwcMJ6864SYN1e5Xxt6e6zvP1wiHAD+Mq5iaxaKMKTR2f\n",
       "zynED72EMtlgjau72gLVJTsW/oDB64/3ODB7sxetIzLc0edrv0BHuMYq40BInKhQqFkeg1Ce8zV2\n",
       "qS1vwDYtTU+SUzG/dK6+ugP8jmZA/nMPhM0XAF5JQIyChoX/xCQXhd8LlWhcpdQJNG8zf5svPLc0\n",
       "AJ8ehWJ0ZPgTFKg2uxpkEDiQLwLPDJsl/ZJS2RIagMc98Gzp9zrzmV9AV4jGVyA7rZ6AQI8oXKjB\n",
       "DnrSIAAqpiiOhXmErX389jaijEEhfyR/FFpkOk46NOCV01w3gipLqZAFLNTtEEkxvCxVWXZCdiO9\n",
       "dWEOETP08A+AGwiBtThLj7PiVkCHbOSCve25T+ZxtHHdaRuGa7MHjMLARJhzZgKbg8VIfXl4xs0n\n",
       "4YPPRJbZKxrWCYF39CllBoYYthOwzUg54TgIE1xSeGdwaFylH4TxC3NsPqcomjDri8cXQfLrguYr\n",
       "klHFiIF9UWenxjbuXFmQv9BO4LP4kjr//F0EFm1M9ZcV1YtJ3cKf1QylhqvsWPDucF8UmS8k0gG1\n",
       "VWUzci3erWjfiTTmbwyrlphlsch+U6ImV6+RLzfbZTi/GqvDLus49P0Uo+G3Da6JmMpl0u2FS+fn\n",
       "MNFbKBNzg+myiSOqBAgso1RbAzMT/EovOgFKSE8berqZ1e6g8/NPWjWZ5ERCD4c9kVw+yA2NffMK\n",
       "RODm2EL6EDxx/X//cuZ2D2I6SzBqLN9agta64rqEUAagmhgtgjyqmKy3KKsKiEYo5HSIvhL96O/3\n",
       "eREQdaReYNav/ajOo5agWat8zZ62BAb6xA91W68vXwrNDArf+KAfAOxaBmf6z4i20jmPIMeW9/cE\n",
       "G/szItib/rrqlMk/qFtCdxEAZsEAAAEoQZokbEO//qmWAGAv6IALYGktLziPd7De1uWSUy9Nd94B\n",
       "yX3njKPSkBH7YEUFK+e8gkkBGSLlNjtI0uIh6+HwkR66LHY5OhEFpt/ZxMUpyGiWi8ojl9cO8LBm\n",
       "l/M9xwnq3/9NHGJ7MfXIWXM57qN50vnsfxgYGgxZXEVf4VpdDdrBNE6/KeKKwzb1bxLrqlO0hliQ\n",
       "uqaKuhkIHbdqZnxRq5aMyZtHnYDOThXuFsE0rrm0CBgLHyisDVf0h2kHA6bdNnBmT9WukEPlL4/t\n",
       "khxsD50ob9F9LcAMeiacSDXGUNhGfL6G+y5jYz97QbW5B2bktgCR0WVcOaj6EA5k1xi3d+G8vdYI\n",
       "Ex5WMdf0rdhSpgJutFRrUVldFQkKATAkZOxEDHbryPFA7oAAAAC7QZ5CeIZ/AE68jLKdQTXLkwAb\n",
       "USiI4373VhSBvhlpA5burAJsfLM+MJdWhCPp+4PV9SvrhUOG2lqYXQI8lIUHIcci2+wBaLm6wGGR\n",
       "slMADEtjs74BJ2YqC1I+1n9mJzWRHiobyBT7RZxIsD6T3aKPyf3cUeVzyOr0Jal1MGSquYoSuqhC\n",
       "cgPWdR+kru7FMk+5EwE6ttIMrdZuFZ/kNNkRxCZf3o8MFDXl3fl598NFk8cGABHAUs714VwCbwAA\n",
       "AIkBnmF0Qv8AasZmRalQAhH4AuWrbiDU4P3zK5QQDks5a6qrAKyUsnWnNLe0jv72SnIoJvqyy3Ne\n",
       "QdZ2YzBsWHU/t/oOQ20szvdqc5aJTA4W1mfP+m9vAuD3jfrsqRq61pUFw2216Dgef72pTMaORGjI\n",
       "sXH+vvPBzzV28XdZgwilhmlNrOLMLqaBDwAAAEsBnmNqQv8Aa+eDQqADmjShMdc6XSpWi/1Wse51\n",
       "WxeQSvGrQb6IjKrGDT+NBg1zKBbAtG5VQDZzfVzaSJt5bLb9ahLCt3DXwIb/Z5EAAABwQZplSahB\n",
       "aJlMCH///qmWAFtudPmvgkvP9HgAc36uehMwWCvTk+E3X5R4CS/N82/aYDD9pvyLVfwyWoZ0+ekR\n",
       "9gyOD+X/R6vpR+WtOIhpjzV7NqHGLxkxXaCC/FAQEtIzQdy14CooJXSHwKrf/kodwQAAAJ9BmolJ\n",
       "4QpSZTAh3/6plgBb+Fs492Kfx2AC+vhnlNEBqnwYY0rqBkZINlz3bY8fRZRe0hxAYBab+uNU9X6Z\n",
       "sLrd5ejzZmYrlyo0IEMYwLK76yVlKrC9RFmC/N3ukL/LASK4ITMt8ezQtHBv8DtxVQ/pJSNU/K7u\n",
       "+5DLQx2A32VGk0oz+8BztQJ+/z5Dri91+AdnSMaY1I9KJ9RUBDIByvsAAABbQZ6nRTRMM/8ATkrK\n",
       "LeF4SrCKmADnD1SD9jx5VE+GOKL2o43UISv8ON+Xqp8v/6w0M8O35mkDhsBT39RDes26rTlaBGyn\n",
       "mueIHzu2bodyFQAEn1XNBUEvVc9CoQAAAEcBnsZ0Qv8AaoLoI5uer40mAB2Yx71GoMWXbCVmGaSf\n",
       "bSo3B37r3/8XX6LPMcJfmhWOqpsaagxPIcFQDUj7LvsetVsAOgLW7gAAAFEBnshqQv8AarIFNwqx\n",
       "Y1YAL3yR8KRCOpR+ot3c07fqms62e0pPEohv+6hEwDGwfVrV4naQDONeDx20wWz/khpNAjuyQCP6\n",
       "dHxOKBh8+79cioAAAACQQZrKSahBaJlMCHf//qmWAGegRuZSPR7G7QTJylpL7KkbwAHZi32bepUo\n",
       "Q3jc8ukFH3miaCXzMyVfy/eCrKS+ooA5o9PZHIkyoDnd30agQa7gVvrV9RCmNJGn6INvTHZFglJC\n",
       "81wPWOptA7BnKwYkuhH91H3uvdG3+BqaRXD0Ru8KBsDA9GlNfL8FPXek3xd5AAAApkGa7knhClJl\n",
       "MCF//oywAsjQ7W5zo0ADtD1eYUdOF4poqkQARKS72z5VXYwFD/DP2AozSffL5aRGZkDTvc0MOR6T\n",
       "8ssgO8scmeqi5YZMZWJ5gNBv/l+AUirbDL6TpW+l8h++f00pZsk8W1rp9FynClkbsoO4aE4QrTAl\n",
       "K7qc7gnoN8oBeuInGc7czAK9MvMLaoJ1nC48KRcgyP94bnnTR0MEZBAhXQgAAACgQZ8MRTRMM/8A\n",
       "TnPV61iF2aQAISNWSaHabEadYGVVmf1rVgsoIaPybd3rbWKAoM+cNV/lcS5wYADezsECRWfPyap0\n",
       "h8JZwVHYJBwFq/DzKYE/2CYYigG9YgROKVNfzFgz/cJH1/XA4F/9CvP1K5TGkxnO2iAt/Kfj4UoR\n",
       "aFw1AnCS6qnn2gMp91UM6j6QM20CVOpRLbUQx+2vwrRwh2JKWAAAAIMBnyt0Qv8AbB4rQAOyNJsj\n",
       "XisTjBVLFn+33rPtZLoJmS+4A5R7Ef6AbRdFuFEkwQ7zyHoEdIJ+1gqHwSggnDhgtPK0NZUYBhBl\n",
       "NteuvqYIYOsPNNiWtNG1msRN4zfNjq0yLHzPv+m79Y+uWQu1n12uxhw7J4TNpaOZJGeSp/efP1wd\n",
       "0QAAAKIBny1qQv8AbBabAAL6hKBnekl+e4vbcPTq1F1J36gGleAktcqhkX1izJVCwjybkFpytAju\n",
       "W0jzLKs0vwQgOqpScEIW8o/o7nMYBM77r7vX/PBUuPFdu23NjaUrReOMKT1SUub/kl/IWNuaarYd\n",
       "2x0JYR4Ala7xT6gGqkRd3Y/1QspbUzt4IIv7cmaAHTSbNZuAfkoxVjgBYFCakMRPfsAbsTEAAAPi\n",
       "bW9vdgAAAGxtdmhkAAAAAAAAAAAAAAAAAAAD6AAAA4QAAQAAAQAAAAAAAAAAAAAAAAEAAAAAAAAA\n",
       "AAAAAAAAAAABAAAAAAAAAAAAAAAAAABAAAAAAAAAAAAAAAAAAAAAAAAAAAAAAAAAAAAAAAAAAgAA\n",
       "Awx0cmFrAAAAXHRraGQAAAADAAAAAAAAAAAAAAABAAAAAAAAA4QAAAAAAAAAAAAAAAAAAAAAAAEA\n",
       "AAAAAAAAAAAAAAAAAAABAAAAAAAAAAAAAAAAAABAAAAAAkAAAAGwAAAAAAAkZWR0cwAAABxlbHN0\n",
       "AAAAAAAAAAEAAAOEAAAGAAABAAAAAAKEbWRpYQAAACBtZGhkAAAAAAAAAAAAAAAAAAAyAAAALQBV\n",
       "xAAAAAAALWhkbHIAAAAAAAAAAHZpZGUAAAAAAAAAAAAAAABWaWRlb0hhbmRsZXIAAAACL21pbmYA\n",
       "AAAUdm1oZAAAAAEAAAAAAAAAAAAAACRkaW5mAAAAHGRyZWYAAAAAAAAAAQAAAAx1cmwgAAAAAQAA\n",
       "Ae9zdGJsAAAAs3N0c2QAAAAAAAAAAQAAAKNhdmMxAAAAAAAAAAEAAAAAAAAAAAAAAAAAAAAAAkAB\n",
       "sABIAAAASAAAAAAAAAABAAAAAAAAAAAAAAAAAAAAAAAAAAAAAAAAAAAAAAAAAAAAGP//AAAAMWF2\n",
       "Y0MBZAAW/+EAGGdkABas2UCQN6EAAAMAAwAAAwBkDxYtlgEABmjr48siwAAAABx1dWlka2hA8l8k\n",
       "T8W6OaUbzwMj8wAAAAAAAAAYc3R0cwAAAAAAAAABAAAADwAAAwAAAAAUc3RzcwAAAAAAAAABAAAA\n",
       "AQAAAIhjdHRzAAAAAAAAAA8AAAABAAAGAAAAAAEAAA8AAAAAAQAABgAAAAABAAAAAAAAAAEAAAMA\n",
       "AAAAAQAABgAAAAABAAAPAAAAAAEAAAYAAAAAAQAAAAAAAAABAAADAAAAAAEAAAYAAAAAAQAADwAA\n",
       "AAABAAAGAAAAAAEAAAAAAAAAAQAAAwAAAAAcc3RzYwAAAAAAAAABAAAAAQAAAA8AAAABAAAAUHN0\n",
       "c3oAAAAAAAAAAAAAAA8AABO5AAABLAAAAL8AAACNAAAATwAAAHQAAACjAAAAXwAAAEsAAABVAAAA\n",
       "lAAAAKoAAACkAAAAhwAAAKYAAAAUc3RjbwAAAAAAAAABAAAALAAAAGJ1ZHRhAAAAWm1ldGEAAAAA\n",
       "AAAAIWhkbHIAAAAAAAAAAG1kaXJhcHBsAAAAAAAAAAAAAAAALWlsc3QAAAAlqXRvbwAAAB1kYXRh\n",
       "AAAAAQAAAABMYXZmNTguMjkuMTAw\n",
       "\">\n",
       "  Your browser does not support the video tag.\n",
       "</video>"
      ],
      "text/plain": [
       "<IPython.core.display.HTML object>"
      ]
     },
     "execution_count": 64,
     "metadata": {},
     "output_type": "execute_result"
    },
    {
     "data": {
      "image/png": "[encoded data removed]",
      "text/plain": [
       "<Figure size 576x432 with 1 Axes>"
      ]
     },
     "metadata": {
      "needs_background": "light"
     },
     "output_type": "display_data"
    }
   ],
   "source": [
    "show_animation(encoded_histories)"
   ]
  },
  {
   "cell_type": "code",
   "execution_count": 59,
   "metadata": {},
   "outputs": [
    {
     "data": {
      "text/html": [
       "<video width=\"720\" height=\"432\" controls autoplay loop>\n",
       "  <source type=\"video/mp4\" src=\"data:video/mp4;base64,AAAAHGZ0eXBNNFYgAAACAGlzb21pc28yYXZjMQAAAAhmcmVlAAAEVW1kYXQAAAKhBgX//53cRem9\n",
       "5tlIt5Ys2CDZI+7veDI2NCAtIGNvcmUgMTQyIC0gSC4yNjQvTVBFRy00IEFWQyBjb2RlYyAtIENv\n",
       "cHlsZWZ0IDIwMDMtMjAxNCAtIGh0dHA6Ly93d3cudmlkZW9sYW4ub3JnL3gyNjQuaHRtbCAtIG9w\n",
       "dGlvbnM6IGNhYmFjPTEgcmVmPTMgZGVibG9jaz0xOjA6MCBhbmFseXNlPTB4MzoweDExMyBtZT1o\n",
       "ZXggc3VibWU9NyBwc3k9MSBwc3lfcmQ9MS4wMDowLjAwIG1peGVkX3JlZj0xIG1lX3JhbmdlPTE2\n",
       "IGNocm9tYV9tZT0xIHRyZWxsaXM9MSA4eDhkY3Q9MSBjcW09MCBkZWFkem9uZT0yMSwxMSBmYXN0\n",
       "X3Bza2lwPTEgY2hyb21hX3FwX29mZnNldD0tMiB0aHJlYWRzPTI0IGxvb2thaGVhZF90aHJlYWRz\n",
       "PTMgc2xpY2VkX3RocmVhZHM9MCBucj0wIGRlY2ltYXRlPTEgaW50ZXJsYWNlZD0wIGJsdXJheV9j\n",
       "b21wYXQ9MCBjb25zdHJhaW5lZF9pbnRyYT0wIGJmcmFtZXM9MyBiX3B5cmFtaWQ9MiBiX2FkYXB0\n",
       "PTEgYl9iaWFzPTAgZGlyZWN0PTEgd2VpZ2h0Yj0xIG9wZW5fZ29wPTAgd2VpZ2h0cD0yIGtleWlu\n",
       "dD0yNTAga2V5aW50X21pbj0xMCBzY2VuZWN1dD00MCBpbnRyYV9yZWZyZXNoPTAgcmNfbG9va2Fo\n",
       "ZWFkPTQwIHJjPWNyZiBtYnRyZWU9MSBjcmY9MjMuMCBxY29tcD0wLjYwIHFwbWluPTAgcXBtYXg9\n",
       "NjkgcXBzdGVwPTQgaXBfcmF0aW89MS40MCBhcT0xOjEuMDAAgAAAAGlliIQAEf/+94gfMstp+TrX\n",
       "chHnrS6tH1DuRnFepL3+IAAAAwAAAwAAAwM0sgpF9Uc784PAAAADAzwAg4E3BHwVYI4DlBng3ggg\n",
       "XwR4OMAAAAMAAAMAAAMAAAMAAAMAAAMAAAMAAAMAFbEAAAATQZokbEEf/rUqgAAAAwAAAwAD1gAA\n",
       "ABBBnkJ4h38AAAMAAAMAAA8JAAAAEAGeYXRDfwAAAwAAAwAAFbAAAAAQAZ5jakN/AAADAAADAAAV\n",
       "sQAAABlBmmhJqEFomUwIIf/+qlUAAAMAAAMAAAetAAAAEkGehkURLDv/AAADAAADAAAPCQAAABAB\n",
       "nqV0Q38AAAMAAAMAABWxAAAAEAGep2pDfwAAAwAAAwAAFbAAAAAZQZqsSahBbJlMCH///qmWAAAD\n",
       "AAADAAAeEAAAABJBnspFFSw7/wAAAwAAAwAADwkAAAAQAZ7pdEN/AAADAAADAAAVsAAAABABnutq\n",
       "Q38AAAMAAAMAABWwAAAAGkGa7kmoQWyZTBRMN//+p4QAAAMAAAMAADuhAAAAEAGfDWpDfwAAAwAA\n",
       "AwAAFbEAAAPibW9vdgAAAGxtdmhkAAAAAAAAAAAAAAAAAAAD6AAABdwAAQAAAQAAAAAAAAAAAAAA\n",
       "AAEAAAAAAAAAAAAAAAAAAAABAAAAAAAAAAAAAAAAAABAAAAAAAAAAAAAAAAAAAAAAAAAAAAAAAAA\n",
       "AAAAAAAAAgAAAwx0cmFrAAAAXHRraGQAAAADAAAAAAAAAAAAAAABAAAAAAAABdwAAAAAAAAAAAAA\n",
       "AAAAAAAAAAEAAAAAAAAAAAAAAAAAAAABAAAAAAAAAAAAAAAAAABAAAAAAtAAAAGwAAAAAAAkZWR0\n",
       "cwAAABxlbHN0AAAAAAAAAAEAAAXcAAAIAAABAAAAAAKEbWRpYQAAACBtZGhkAAAAAAAAAAAAAAAA\n",
       "AAAoAAAAPABVxAAAAAAALWhkbHIAAAAAAAAAAHZpZGUAAAAAAAAAAAAAAABWaWRlb0hhbmRsZXIA\n",
       "AAACL21pbmYAAAAUdm1oZAAAAAEAAAAAAAAAAAAAACRkaW5mAAAAHGRyZWYAAAAAAAAAAQAAAAx1\n",
       "cmwgAAAAAQAAAe9zdGJsAAAAs3N0c2QAAAAAAAAAAQAAAKNhdmMxAAAAAAAAAAEAAAAAAAAAAAAA\n",
       "AAAAAAAAAtABsABIAAAASAAAAAAAAAABAAAAAAAAAAAAAAAAAAAAAAAAAAAAAAAAAAAAAAAAAAAA\n",
       "GP//AAAAMWF2Y0MBZAAW/+EAGGdkABas2UC0N6EAAAMAAQAAAwAUDxYtlgEABmjr48siwAAAABx1\n",
       "dWlka2hA8l8kT8W6OaUbzwMj8wAAAAAAAAAYc3R0cwAAAAAAAAABAAAADwAABAAAAAAUc3RzcwAA\n",
       "AAAAAAABAAAAAQAAAIhjdHRzAAAAAAAAAA8AAAABAAAIAAAAAAEAABQAAAAAAQAACAAAAAABAAAA\n",
       "AAAAAAEAAAQAAAAAAQAAFAAAAAABAAAIAAAAAAEAAAAAAAAAAQAABAAAAAABAAAUAAAAAAEAAAgA\n",
       "AAAAAQAAAAAAAAABAAAEAAAAAAEAAAwAAAAAAQAABAAAAAAcc3RzYwAAAAAAAAABAAAAAQAAAA8A\n",
       "AAABAAAAUHN0c3oAAAAAAAAAAAAAAA8AAAMSAAAAFwAAABQAAAAUAAAAFAAAAB0AAAAWAAAAFAAA\n",
       "ABQAAAAdAAAAFgAAABQAAAAUAAAAHgAAABQAAAAUc3RjbwAAAAAAAAABAAAALAAAAGJ1ZHRhAAAA\n",
       "Wm1ldGEAAAAAAAAAIWhkbHIAAAAAAAAAAG1kaXJhcHBsAAAAAAAAAAAAAAAALWlsc3QAAAAlqXRv\n",
       "bwAAAB1kYXRhAAAAAQAAAABMYXZmNTguMjkuMTAw\n",
       "\">\n",
       "  Your browser does not support the video tag.\n",
       "</video>"
      ],
      "text/plain": [
       "<IPython.core.display.HTML object>"
      ]
     },
     "execution_count": 59,
     "metadata": {},
     "output_type": "execute_result"
    },
    {
     "data": {
      "image/png": "[encoded data removed]",
      "text/plain": [
       "<Figure size 720x432 with 1 Axes>"
      ]
     },
     "metadata": {
      "needs_background": "light"
     },
     "output_type": "display_data"
    }
   ],
   "source": [
    "# 使用animation模块画出动态散点图\n",
    "import matplotlib.animation as animation\n",
    "from IPython.display import HTML\n",
    "\n",
    "fig = plt.figure(figsize=(10, 6))\n",
    "ax = plt.axes(xlim=(-1, 1), ylim=(-1, 1))\n",
    "\n",
    "def init():\n",
    "    ax.scatter(encoded[:, 0], encoded[:, 1], c='r', s=10)\n",
    "    return ax,\n",
    "\n",
    "def animate(i):\n",
    "    # ax.clear()\n",
    "    ax.scatter(encoded_histories[i][:, 0], encoded_histories[i][:, 1], c='r', s=10)\n",
    "    return ax,\n",
    "\n",
    "anim = animation.FuncAnimation(fig, animate, init_func=init, frames=len(encoded_histories), interval=100, blit=True)\n",
    "HTML(anim.to_html5_video())\n"
   ]
  }
 ],
 "metadata": {
  "kernelspec": {
   "display_name": "base",
   "language": "python",
   "name": "python3"
  },
  "language_info": {
   "codemirror_mode": {
    "name": "ipython",
    "version": 3
   },
   "file_extension": ".py",
   "mimetype": "text/x-python",
   "name": "python",
   "nbconvert_exporter": "python",
   "pygments_lexer": "ipython3",
   "version": "3.9.7"
  },
  "orig_nbformat": 4,
  "vscode": {
   "interpreter": {
    "hash": "5179d32cf6ec497baf3f8a3ef987cc77c5d2dc691fdde20a56316522f61a7323"
   }
  }
 },
 "nbformat": 4,
 "nbformat_minor": 2
}
