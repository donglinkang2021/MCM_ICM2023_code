{
 "cells": [
  {
   "attachments": {},
   "cell_type": "markdown",
   "metadata": {},
   "source": [
    "# 尝试用RNN来解决3中的任务\n",
    "\n",
    "### 介绍\n",
    "\n",
    "我们之前使用的做法是直接将五个字母的索引传进网络，然后输出一个概率分布，这个概率分布就是我们的预测结果。但是这样做有一个问题，就是我们的网络只能看到一个字母，而不能看到整个单词。所以我们可以使用RNN来解决这个问题。（让网络去找出单词字母之间的顺序等等相关属性）"
   ]
  },
  {
   "attachments": {},
   "cell_type": "markdown",
   "metadata": {},
   "source": [
    "### 导入相关库"
   ]
  },
  {
   "cell_type": "code",
   "execution_count": 37,
   "metadata": {},
   "outputs": [],
   "source": [
    "import torch\n",
    "import torch.nn as nn\n",
    "import torch.nn.functional as F\n",
    "import torch.optim as optim\n",
    "from torchinfo import summary\n",
    "import numpy as np\n",
    "import matplotlib.pyplot as plt\n",
    "import pandas as pd"
   ]
  },
  {
   "cell_type": "code",
   "execution_count": 38,
   "metadata": {},
   "outputs": [],
   "source": [
    "device = torch.device(\"cuda\" if torch.cuda.is_available() else \"cpu\")"
   ]
  },
  {
   "cell_type": "markdown",
   "metadata": {},
   "source": [
    "### 定义网络"
   ]
  },
  {
   "cell_type": "code",
   "execution_count": 39,
   "metadata": {},
   "outputs": [],
   "source": [
    "# Define the rnn model\n",
    "class SimpleRNN(nn.Module):\n",
    "    def __init__(self, input_size, hidden_size, output_size, num_layers=1):\n",
    "        super(SimpleRNN, self).__init__()\n",
    "        self.hidden_size = hidden_size\n",
    "        self.num_layers = num_layers\n",
    "        self.rnn = nn.RNN(input_size, hidden_size, num_layers, batch_first=True)\n",
    "        self.classifier = nn.Sequential(\n",
    "            nn.Linear(hidden_size, hidden_size),\n",
    "            nn.Tanh(),\n",
    "            nn.Linear(hidden_size, output_size),\n",
    "            nn.Softmax(dim=1)\n",
    "        )\n",
    "\n",
    "    def forward(self, x):\n",
    "        h0 = torch.randn(self.num_layers, x.size(0), self.hidden_size).to(device)\n",
    "        out, _ = self.rnn(x, h0)\n",
    "        seq_len, batch_size, hid_dim = out.shape\n",
    "        out = out.reshape(-1, hid_dim)\n",
    "        out = self.classifier(out)\n",
    "        out = out.reshape(seq_len, batch_size, -1) # y = y.view(seq_len, batch_size, out_dim)\n",
    "        return out\n",
    "\n",
    "# Define the lstm model\n",
    "class SimpleLSTM(nn.Module):\n",
    "    def __init__(self, input_size, hidden_size, output_size, num_layers=1):\n",
    "        super(SimpleLSTM, self).__init__()\n",
    "        self.hidden_size = hidden_size\n",
    "        self.num_layers = num_layers\n",
    "        self.lstm = nn.LSTM(input_size, hidden_size, num_layers, batch_first=True)\n",
    "        self.classifier = nn.Sequential(\n",
    "            nn.Linear(hidden_size, hidden_size),\n",
    "            nn.Tanh(),\n",
    "            nn.Linear(hidden_size, output_size),\n",
    "            nn.Softmax(dim=1)\n",
    "        )\n",
    "\n",
    "    def forward(self, x):\n",
    "        h0 = torch.randn(self.num_layers, x.size(0), self.hidden_size).to(device)\n",
    "        c0 = torch.randn(self.num_layers, x.size(0), self.hidden_size).to(device)\n",
    "        out, _ = self.lstm(x, (h0, c0))\n",
    "        seq_len, batch_size, hid_dim = out.shape\n",
    "        out = out.reshape(-1, hid_dim)\n",
    "        out = self.classifier(out)\n",
    "        out = out.reshape(seq_len, batch_size, -1) # y = y.view(seq_len, batch_size, out_dim)\n",
    "        return out"
   ]
  },
  {
   "cell_type": "markdown",
   "metadata": {},
   "source": [
    "### 网络参数"
   ]
  },
  {
   "cell_type": "code",
   "execution_count": 40,
   "metadata": {},
   "outputs": [],
   "source": [
    "# 定义网络参数\n",
    "input_size = 1\n",
    "hidden_size = 10\n",
    "output_size = 7\n",
    "num_layers = 1"
   ]
  },
  {
   "cell_type": "code",
   "execution_count": 41,
   "metadata": {},
   "outputs": [],
   "source": [
    "rnn = SimpleRNN(input_size, hidden_size, output_size, num_layers).to(device)\n",
    "# rnn = SimpleLSTM(input_size, hidden_size, output_size, num_layers).to(device)"
   ]
  },
  {
   "cell_type": "code",
   "execution_count": 42,
   "metadata": {},
   "outputs": [
    {
     "data": {
      "text/plain": [
       "==========================================================================================\n",
       "Layer (type:depth-idx)                   Output Shape              Param #\n",
       "==========================================================================================\n",
       "SimpleRNN                                [5, 100, 7]               --\n",
       "├─RNN: 1-1                               [5, 100, 10]              130\n",
       "├─Sequential: 1-2                        [500, 7]                  --\n",
       "│    └─Linear: 2-1                       [500, 10]                 110\n",
       "│    └─Tanh: 2-2                         [500, 10]                 --\n",
       "│    └─Linear: 2-3                       [500, 7]                  77\n",
       "│    └─Softmax: 2-4                      [500, 7]                  --\n",
       "==========================================================================================\n",
       "Total params: 317\n",
       "Trainable params: 317\n",
       "Non-trainable params: 0\n",
       "Total mult-adds (M): 0.16\n",
       "==========================================================================================\n",
       "Input size (MB): 0.00\n",
       "Forward/backward pass size (MB): 0.11\n",
       "Params size (MB): 0.00\n",
       "Estimated Total Size (MB): 0.11\n",
       "=========================================================================================="
      ]
     },
     "execution_count": 42,
     "metadata": {},
     "output_type": "execute_result"
    }
   ],
   "source": [
    "summary(rnn, (5, 100, 1))"
   ]
  },
  {
   "attachments": {},
   "cell_type": "markdown",
   "metadata": {},
   "source": [
    "### 加载数据集"
   ]
  },
  {
   "cell_type": "code",
   "execution_count": 43,
   "metadata": {},
   "outputs": [
    {
     "data": {
      "text/html": [
       "<div>\n",
       "<style scoped>\n",
       "    .dataframe tbody tr th:only-of-type {\n",
       "        vertical-align: middle;\n",
       "    }\n",
       "\n",
       "    .dataframe tbody tr th {\n",
       "        vertical-align: top;\n",
       "    }\n",
       "\n",
       "    .dataframe thead th {\n",
       "        text-align: right;\n",
       "    }\n",
       "</style>\n",
       "<table border=\"1\" class=\"dataframe\">\n",
       "  <thead>\n",
       "    <tr style=\"text-align: right;\">\n",
       "      <th></th>\n",
       "      <th>Date</th>\n",
       "      <th>Contest number</th>\n",
       "      <th>Word</th>\n",
       "      <th>Number of  reported results</th>\n",
       "      <th>Number in hard mode</th>\n",
       "      <th>1 try</th>\n",
       "      <th>2 tries</th>\n",
       "      <th>3 tries</th>\n",
       "      <th>4 tries</th>\n",
       "      <th>5 tries</th>\n",
       "      <th>6 tries</th>\n",
       "      <th>7 or more tries (X)</th>\n",
       "      <th>normal_value</th>\n",
       "    </tr>\n",
       "  </thead>\n",
       "  <tbody>\n",
       "    <tr>\n",
       "      <th>0</th>\n",
       "      <td>2022-12-31</td>\n",
       "      <td>560</td>\n",
       "      <td>manly</td>\n",
       "      <td>20380</td>\n",
       "      <td>1899</td>\n",
       "      <td>0</td>\n",
       "      <td>2</td>\n",
       "      <td>17</td>\n",
       "      <td>37</td>\n",
       "      <td>29</td>\n",
       "      <td>12</td>\n",
       "      <td>2</td>\n",
       "      <td>0.343806</td>\n",
       "    </tr>\n",
       "    <tr>\n",
       "      <th>1</th>\n",
       "      <td>2022-12-30</td>\n",
       "      <td>559</td>\n",
       "      <td>molar</td>\n",
       "      <td>21204</td>\n",
       "      <td>1973</td>\n",
       "      <td>0</td>\n",
       "      <td>4</td>\n",
       "      <td>21</td>\n",
       "      <td>38</td>\n",
       "      <td>26</td>\n",
       "      <td>9</td>\n",
       "      <td>1</td>\n",
       "      <td>0.491583</td>\n",
       "    </tr>\n",
       "    <tr>\n",
       "      <th>2</th>\n",
       "      <td>2022-12-29</td>\n",
       "      <td>558</td>\n",
       "      <td>havoc</td>\n",
       "      <td>20001</td>\n",
       "      <td>1919</td>\n",
       "      <td>0</td>\n",
       "      <td>2</td>\n",
       "      <td>16</td>\n",
       "      <td>38</td>\n",
       "      <td>30</td>\n",
       "      <td>12</td>\n",
       "      <td>2</td>\n",
       "      <td>0.097901</td>\n",
       "    </tr>\n",
       "    <tr>\n",
       "      <th>3</th>\n",
       "      <td>2022-12-28</td>\n",
       "      <td>557</td>\n",
       "      <td>impel</td>\n",
       "      <td>20160</td>\n",
       "      <td>1937</td>\n",
       "      <td>0</td>\n",
       "      <td>3</td>\n",
       "      <td>21</td>\n",
       "      <td>40</td>\n",
       "      <td>25</td>\n",
       "      <td>9</td>\n",
       "      <td>1</td>\n",
       "      <td>0.187709</td>\n",
       "    </tr>\n",
       "    <tr>\n",
       "      <th>4</th>\n",
       "      <td>2022-12-27</td>\n",
       "      <td>556</td>\n",
       "      <td>condo</td>\n",
       "      <td>20879</td>\n",
       "      <td>2012</td>\n",
       "      <td>0</td>\n",
       "      <td>2</td>\n",
       "      <td>17</td>\n",
       "      <td>35</td>\n",
       "      <td>29</td>\n",
       "      <td>14</td>\n",
       "      <td>3</td>\n",
       "      <td>0.308737</td>\n",
       "    </tr>\n",
       "  </tbody>\n",
       "</table>\n",
       "</div>"
      ],
      "text/plain": [
       "        Date  Contest number   Word  Number of  reported results  \\\n",
       "0 2022-12-31             560  manly                        20380   \n",
       "1 2022-12-30             559  molar                        21204   \n",
       "2 2022-12-29             558  havoc                        20001   \n",
       "3 2022-12-28             557  impel                        20160   \n",
       "4 2022-12-27             556  condo                        20879   \n",
       "\n",
       "   Number in hard mode  1 try  2 tries  3 tries  4 tries  5 tries  6 tries  \\\n",
       "0                 1899      0        2       17       37       29       12   \n",
       "1                 1973      0        4       21       38       26        9   \n",
       "2                 1919      0        2       16       38       30       12   \n",
       "3                 1937      0        3       21       40       25        9   \n",
       "4                 2012      0        2       17       35       29       14   \n",
       "\n",
       "   7 or more tries (X)  normal_value  \n",
       "0                    2      0.343806  \n",
       "1                    1      0.491583  \n",
       "2                    2      0.097901  \n",
       "3                    1      0.187709  \n",
       "4                    3      0.308737  "
      ]
     },
     "execution_count": 43,
     "metadata": {},
     "output_type": "execute_result"
    }
   ],
   "source": [
    "df = pd.read_excel(\"Problem_C_Data_Wordle_new.xlsx\")\n",
    "df.head()"
   ]
  },
  {
   "cell_type": "code",
   "execution_count": 44,
   "metadata": {},
   "outputs": [
    {
     "name": "stdout",
     "output_type": "stream",
     "text": [
      "df_Word.shape = \n",
      " (359,)\n",
      "df_Distribution.shape = \n",
      " (359, 7)\n",
      "df_Word.head() = \n",
      " 0    manly\n",
      "1    molar\n",
      "2    havoc\n",
      "3    impel\n",
      "4    condo\n",
      "Name: Word, dtype: object\n",
      "df_Distribution.head() = \n",
      "    1 try  2 tries  3 tries  4 tries  5 tries  6 tries  7 or more tries (X)\n",
      "0      0        2       17       37       29       12                    2\n",
      "1      0        4       21       38       26        9                    1\n",
      "2      0        2       16       38       30       12                    2\n",
      "3      0        3       21       40       25        9                    1\n",
      "4      0        2       17       35       29       14                    3\n"
     ]
    }
   ],
   "source": [
    "# 构造输入输出数据\n",
    "df_Word = df.loc[:, 'Word']\n",
    "df_Distribution = df.iloc[:, 5:12]\n",
    "print('df_Word.shape = \\n', df_Word.shape)\n",
    "print('df_Distribution.shape = \\n', df_Distribution.shape)\n",
    "print('df_Word.head() = \\n', df_Word.head())\n",
    "print('df_Distribution.head() = \\n', df_Distribution.head())"
   ]
  },
  {
   "cell_type": "markdown",
   "metadata": {},
   "source": [
    "### 转换数据格式"
   ]
  },
  {
   "cell_type": "code",
   "execution_count": 45,
   "metadata": {},
   "outputs": [],
   "source": [
    "def word2vec(word):\n",
    "    # 将单词转换为向量\n",
    "    # 这里由于单词长度为5，所以将单词转换为长度为5的向量是很简单的\n",
    "    # 而在自然语言处理中，单词的长度是不固定的，所以需要将单词转换为固定长度的向量\n",
    "    # 还要做embedding\n",
    "    vec = np.zeros(5)\n",
    "    for i in range(len(word)):\n",
    "        vec[i] = ord(word[i]) - ord('a')\n",
    "    return vec\n",
    "\n",
    "def vec2word(vec):\n",
    "    # 将向量转换为单词\n",
    "    word = ''\n",
    "    for i in range(len(vec)):\n",
    "        word += chr(int(vec[i]) + ord('a'))\n",
    "    return word"
   ]
  },
  {
   "cell_type": "code",
   "execution_count": 46,
   "metadata": {},
   "outputs": [
    {
     "name": "stdout",
     "output_type": "stream",
     "text": [
      "shape of the Word is:  (359, 5)\n",
      "the preview of the Word is:\n",
      " [[12.  0. 13. 11. 24.]\n",
      " [12. 14. 11.  0. 17.]\n",
      " [ 7.  0. 21. 14.  2.]\n",
      " [ 8. 12. 15.  4. 11.]\n",
      " [ 2. 14. 13.  3. 14.]]\n",
      "the true Word is:\n",
      " 0    manly\n",
      "1    molar\n",
      "2    havoc\n",
      "3    impel\n",
      "4    condo\n",
      "Name: Word, dtype: object\n"
     ]
    }
   ],
   "source": [
    "# 将数据转换为numpy数组\n",
    "Word = df_Word.values # 1D array (359,)\n",
    "Word = np.array([word2vec(word) for word in Word])\n",
    "print('shape of the Word is: ', Word.shape)\n",
    "print('the preview of the Word is:\\n', Word[:5])\n",
    "print('the true Word is:\\n', df_Word[:5])"
   ]
  },
  {
   "cell_type": "code",
   "execution_count": 47,
   "metadata": {},
   "outputs": [],
   "source": [
    "# 对Word进行normalization\n",
    "# 方法一\n",
    "# mean = np.mean(Word, axis=0)\n",
    "# std = np.std(Word, axis=0)\n",
    "# Word = (Word - mean) / std\n",
    "# 方法二\n",
    "Word = Word / 26"
   ]
  },
  {
   "cell_type": "code",
   "execution_count": 48,
   "metadata": {},
   "outputs": [
    {
     "name": "stdout",
     "output_type": "stream",
     "text": [
      "shape of the Distribution is:  (359, 7)\n",
      "the preview of the Distribution is:\n",
      " [[0.   0.02 0.17 0.37 0.29 0.12 0.02]\n",
      " [0.   0.04 0.21 0.38 0.26 0.09 0.01]\n",
      " [0.   0.02 0.16 0.38 0.3  0.12 0.02]\n",
      " [0.   0.03 0.21 0.4  0.25 0.09 0.01]\n",
      " [0.   0.02 0.17 0.35 0.29 0.14 0.03]]\n"
     ]
    }
   ],
   "source": [
    "Distribution = df_Distribution.values # 2D array (359,7)\n",
    "# 将Distribution转换为float类型，并除于100\n",
    "Distribution = Distribution.astype(np.float32)\n",
    "Distribution = Distribution / 100\n",
    "print('shape of the Distribution is: ', Distribution.shape)\n",
    "print('the preview of the Distribution is:\\n', Distribution[:5])"
   ]
  },
  {
   "attachments": {},
   "cell_type": "markdown",
   "metadata": {},
   "source": [
    "### 构造训练集和测试集"
   ]
  },
  {
   "cell_type": "code",
   "execution_count": 49,
   "metadata": {},
   "outputs": [
    {
     "name": "stdout",
     "output_type": "stream",
     "text": [
      "train_size =  251\n"
     ]
    }
   ],
   "source": [
    "# 划分训练集和测试集\n",
    "train_size = int(0.7 * len(Word))\n",
    "print('train_size = ', train_size)"
   ]
  },
  {
   "cell_type": "code",
   "execution_count": 50,
   "metadata": {},
   "outputs": [],
   "source": [
    "# 先将数据打乱\n",
    "indices = np.arange(len(Word))\n",
    "np.random.shuffle(indices) # 后面我们只需要用indices[idx]来索引正确的df_Word和df_Distribution\n",
    "Word = Word[indices]\n",
    "Distribution = Distribution[indices]"
   ]
  },
  {
   "cell_type": "code",
   "execution_count": 51,
   "metadata": {},
   "outputs": [],
   "source": [
    "test_indices = indices[train_size:]"
   ]
  },
  {
   "cell_type": "code",
   "execution_count": 52,
   "metadata": {},
   "outputs": [],
   "source": [
    "# 分割数据\n",
    "# 由于Word的维度是(359, 5), Distribution的维度是(359, 7)\n",
    "Word = Word.T\n",
    "Distribution = Distribution\n",
    "# 我们需要将Distribution的维度转换为(5, 359, 7), 359是训练集的大小, 7是Distribution的维度, 5是Word的长度 \n",
    "# 由于原来的Distribution的维度是(359, 7),需要先重复5次,然后再reshape\n",
    "train_Word = Word[:,:train_size].reshape(5, -1, 1)\n",
    "train_Distribution = np.tile(Distribution[:train_size], (5, 1)).reshape(5, -1, 7)\n",
    "test_Word = Word[:,train_size:].reshape(5, -1, 1)\n",
    "test_Distribution = np.tile(Distribution[train_size:], (5, 1)).reshape(5, -1, 7)"
   ]
  },
  {
   "cell_type": "code",
   "execution_count": 53,
   "metadata": {},
   "outputs": [
    {
     "name": "stdout",
     "output_type": "stream",
     "text": [
      "shape of the train_Word is:  (5, 251, 1)\n",
      "shape of the train_Distribution is:  (5, 251, 7)\n",
      "shape of the test_Word is:  (5, 108, 1)\n",
      "shape of the test_Distribution is:  (5, 108, 7)\n"
     ]
    }
   ],
   "source": [
    "print('shape of the train_Word is: ', train_Word.shape)\n",
    "print('shape of the train_Distribution is: ', train_Distribution.shape)\n",
    "print('shape of the test_Word is: ', test_Word.shape)\n",
    "print('shape of the test_Distribution is: ', test_Distribution.shape)"
   ]
  },
  {
   "cell_type": "code",
   "execution_count": 54,
   "metadata": {},
   "outputs": [
    {
     "data": {
      "text/plain": [
       "array([[[ 1,  2,  3,  4,  5],\n",
       "        [ 6,  7,  8,  9, 10]],\n",
       "\n",
       "       [[ 1,  2,  3,  4,  5],\n",
       "        [ 6,  7,  8,  9, 10]],\n",
       "\n",
       "       [[ 1,  2,  3,  4,  5],\n",
       "        [ 6,  7,  8,  9, 10]],\n",
       "\n",
       "       [[ 1,  2,  3,  4,  5],\n",
       "        [ 6,  7,  8,  9, 10]],\n",
       "\n",
       "       [[ 1,  2,  3,  4,  5],\n",
       "        [ 6,  7,  8,  9, 10]]])"
      ]
     },
     "execution_count": 54,
     "metadata": {},
     "output_type": "execute_result"
    }
   ],
   "source": [
    "tmpa = np.array([[1,2,3,4,5],\n",
    "                 [6,7,8,9,10]])\n",
    "np.repeat(tmpa, 5, axis=0)\n",
    "# 把5个一样的tmpa拼接在一起，代码如下：\n",
    "np.tile(tmpa, (5,1)).reshape(5, -1, 5)\n"
   ]
  },
  {
   "cell_type": "code",
   "execution_count": 55,
   "metadata": {},
   "outputs": [
    {
     "data": {
      "text/plain": [
       "(array([[0.42307692],\n",
       "        [0.        ],\n",
       "        [0.57692308],\n",
       "        [0.69230769],\n",
       "        [0.15384615]]),\n",
       " array([[0.  , 0.08, 0.31, 0.34, 0.19, 0.07, 0.01],\n",
       "        [0.  , 0.08, 0.31, 0.34, 0.19, 0.07, 0.01],\n",
       "        [0.  , 0.08, 0.31, 0.34, 0.19, 0.07, 0.01],\n",
       "        [0.  , 0.08, 0.31, 0.34, 0.19, 0.07, 0.01],\n",
       "        [0.  , 0.08, 0.31, 0.34, 0.19, 0.07, 0.01]], dtype=float32))"
      ]
     },
     "execution_count": 55,
     "metadata": {},
     "output_type": "execute_result"
    }
   ],
   "source": [
    "train_Word[:, 0, :], train_Distribution[:, 0, :]"
   ]
  },
  {
   "cell_type": "code",
   "execution_count": 56,
   "metadata": {},
   "outputs": [
    {
     "name": "stdout",
     "output_type": "stream",
     "text": [
      "laose\n"
     ]
    },
    {
     "data": {
      "text/html": [
       "<div>\n",
       "<style scoped>\n",
       "    .dataframe tbody tr th:only-of-type {\n",
       "        vertical-align: middle;\n",
       "    }\n",
       "\n",
       "    .dataframe tbody tr th {\n",
       "        vertical-align: top;\n",
       "    }\n",
       "\n",
       "    .dataframe thead th {\n",
       "        text-align: right;\n",
       "    }\n",
       "</style>\n",
       "<table border=\"1\" class=\"dataframe\">\n",
       "  <thead>\n",
       "    <tr style=\"text-align: right;\">\n",
       "      <th></th>\n",
       "      <th>Date</th>\n",
       "      <th>Contest number</th>\n",
       "      <th>Word</th>\n",
       "      <th>Number of  reported results</th>\n",
       "      <th>Number in hard mode</th>\n",
       "      <th>1 try</th>\n",
       "      <th>2 tries</th>\n",
       "      <th>3 tries</th>\n",
       "      <th>4 tries</th>\n",
       "      <th>5 tries</th>\n",
       "      <th>6 tries</th>\n",
       "      <th>7 or more tries (X)</th>\n",
       "      <th>normal_value</th>\n",
       "    </tr>\n",
       "  </thead>\n",
       "  <tbody>\n",
       "  </tbody>\n",
       "</table>\n",
       "</div>"
      ],
      "text/plain": [
       "Empty DataFrame\n",
       "Columns: [Date, Contest number, Word, Number of  reported results, Number in hard mode, 1 try, 2 tries, 3 tries, 4 tries, 5 tries, 6 tries, 7 or more tries (X), normal_value]\n",
       "Index: []"
      ]
     },
     "execution_count": 56,
     "metadata": {},
     "output_type": "execute_result"
    }
   ],
   "source": [
    "test_word = vec2word(train_Word[:, 0, :].reshape(-1)*26)\n",
    "print(test_word)\n",
    "df[df['Word'] == test_word]"
   ]
  },
  {
   "cell_type": "code",
   "execution_count": 57,
   "metadata": {},
   "outputs": [],
   "source": [
    "# 将数据转换为tensor\n",
    "train_Word = torch.from_numpy(train_Word).float().to(device)\n",
    "train_Distribution = torch.from_numpy(train_Distribution).float().to(device)\n",
    "test_Word = torch.from_numpy(test_Word).float().to(device)\n",
    "test_Distribution = torch.from_numpy(test_Distribution).float().to(device)"
   ]
  },
  {
   "cell_type": "code",
   "execution_count": 58,
   "metadata": {},
   "outputs": [],
   "source": [
    "# 构造数据加载器\n",
    "batch_size = 32\n",
    "train_data = torch.utils.data.TensorDataset(train_Word, train_Distribution)\n",
    "test_data = torch.utils.data.TensorDataset(test_Word, test_Distribution)\n",
    "train_loader = torch.utils.data.DataLoader(train_data, batch_size=batch_size, shuffle=True)\n",
    "test_loader = torch.utils.data.DataLoader(test_data, batch_size=batch_size, shuffle=False)"
   ]
  },
  {
   "attachments": {},
   "cell_type": "markdown",
   "metadata": {},
   "source": [
    "### criterion和optimizer"
   ]
  },
  {
   "cell_type": "code",
   "execution_count": 59,
   "metadata": {},
   "outputs": [],
   "source": [
    "criterion = nn.MSELoss()\n",
    "optimizer = torch.optim.Adam(rnn.parameters(), lr=0.001)"
   ]
  },
  {
   "attachments": {},
   "cell_type": "markdown",
   "metadata": {},
   "source": [
    "### 开始训练"
   ]
  },
  {
   "cell_type": "code",
   "execution_count": 60,
   "metadata": {},
   "outputs": [
    {
     "name": "stdout",
     "output_type": "stream",
     "text": [
      "Epoch [  20/ 500], Train Loss: 0.000040, Test Loss: 0.000094\n",
      "Epoch [  40/ 500], Train Loss: 0.000027, Test Loss: 0.000064\n",
      "Epoch [  60/ 500], Train Loss: 0.000019, Test Loss: 0.000044\n",
      "Epoch [  80/ 500], Train Loss: 0.000014, Test Loss: 0.000036\n",
      "Epoch [ 100/ 500], Train Loss: 0.000013, Test Loss: 0.000033\n",
      "Epoch [ 120/ 500], Train Loss: 0.000012, Test Loss: 0.000031\n",
      "Epoch [ 140/ 500], Train Loss: 0.000012, Test Loss: 0.000030\n",
      "Epoch [ 160/ 500], Train Loss: 0.000012, Test Loss: 0.000029\n",
      "Epoch [ 180/ 500], Train Loss: 0.000011, Test Loss: 0.000029\n",
      "Epoch [ 200/ 500], Train Loss: 0.000011, Test Loss: 0.000029\n",
      "Epoch [ 220/ 500], Train Loss: 0.000011, Test Loss: 0.000029\n",
      "Epoch [ 240/ 500], Train Loss: 0.000011, Test Loss: 0.000028\n",
      "Epoch [ 260/ 500], Train Loss: 0.000011, Test Loss: 0.000028\n",
      "Epoch [ 280/ 500], Train Loss: 0.000011, Test Loss: 0.000028\n",
      "Epoch [ 300/ 500], Train Loss: 0.000011, Test Loss: 0.000029\n",
      "Epoch [ 320/ 500], Train Loss: 0.000011, Test Loss: 0.000028\n",
      "Epoch [ 340/ 500], Train Loss: 0.000011, Test Loss: 0.000028\n",
      "Epoch [ 360/ 500], Train Loss: 0.000011, Test Loss: 0.000028\n",
      "Epoch [ 380/ 500], Train Loss: 0.000011, Test Loss: 0.000029\n",
      "Epoch [ 400/ 500], Train Loss: 0.000011, Test Loss: 0.000028\n",
      "Epoch [ 420/ 500], Train Loss: 0.000011, Test Loss: 0.000029\n",
      "Epoch [ 440/ 500], Train Loss: 0.000011, Test Loss: 0.000028\n",
      "Epoch [ 460/ 500], Train Loss: 0.000011, Test Loss: 0.000028\n",
      "Epoch [ 480/ 500], Train Loss: 0.000011, Test Loss: 0.000028\n",
      "Epoch [ 500/ 500], Train Loss: 0.000011, Test Loss: 0.000028\n"
     ]
    }
   ],
   "source": [
    "num_epochs = 500\n",
    "train_loss_list = []\n",
    "test_loss_list = []\n",
    "for epoch in range(num_epochs):\n",
    "    train_loss = 0\n",
    "    test_loss = 0\n",
    "    rnn.train()\n",
    "    for i, (x, y) in enumerate(train_loader):\n",
    "        optimizer.zero_grad()\n",
    "        y_pred = rnn(x)\n",
    "        loss = criterion(y_pred, y)\n",
    "        loss.backward()\n",
    "        optimizer.step()\n",
    "        train_loss += loss.item()\n",
    "    train_loss /= train_size\n",
    "    train_loss_list.append(train_loss)\n",
    "    rnn.eval()\n",
    "    with torch.no_grad():\n",
    "        for i, (x, y) in enumerate(test_loader):\n",
    "            y_pred = rnn(x)\n",
    "            loss = criterion(y_pred, y)\n",
    "            test_loss += loss.item()\n",
    "    test_loss /= (359 - train_size)\n",
    "    test_loss_list.append(test_loss)\n",
    "    if (epoch + 1) % 20 == 0:\n",
    "        print('Epoch [{:4d}/{:4d}], Train Loss: {:.6f}, Test Loss: {:.6f}'.format(epoch + 1, num_epochs, train_loss_list[-1], test_loss_list[-1]))"
   ]
  },
  {
   "cell_type": "code",
   "execution_count": 61,
   "metadata": {},
   "outputs": [
    {
     "data": {
      "image/png": "[encoded data removed]",
      "text/plain": [
       "<Figure size 720x432 with 1 Axes>"
      ]
     },
     "metadata": {
      "needs_background": "light"
     },
     "output_type": "display_data"
    }
   ],
   "source": [
    "# 画图\n",
    "plt.figure(figsize=(10, 6))\n",
    "plt.plot(train_loss_list, label='train_loss', color='r')\n",
    "plt.plot(test_loss_list, label='test_loss', color='b')\n",
    "plt.xlabel('epoch')\n",
    "plt.ylabel('loss')\n",
    "plt.legend()\n",
    "plt.show()"
   ]
  },
  {
   "cell_type": "code",
   "execution_count": 62,
   "metadata": {},
   "outputs": [
    {
     "data": {
      "text/plain": [
       "2.7901061845046502e-05"
      ]
     },
     "execution_count": 62,
     "metadata": {},
     "output_type": "execute_result"
    }
   ],
   "source": [
    "min(test_loss_list)"
   ]
  },
  {
   "attachments": {},
   "cell_type": "markdown",
   "metadata": {},
   "source": [
    "### 模型评估"
   ]
  },
  {
   "cell_type": "code",
   "execution_count": 63,
   "metadata": {},
   "outputs": [
    {
     "data": {
      "text/plain": [
       "torch.Size([5, 108, 1])"
      ]
     },
     "execution_count": 63,
     "metadata": {},
     "output_type": "execute_result"
    }
   ],
   "source": [
    "test_Word.shape"
   ]
  },
  {
   "cell_type": "code",
   "execution_count": 64,
   "metadata": {},
   "outputs": [
    {
     "data": {
      "text/plain": [
       "tensor([[0.1923, 0.4231, 0.0000, 0.3077, 0.6538]])"
      ]
     },
     "execution_count": 64,
     "metadata": {},
     "output_type": "execute_result"
    }
   ],
   "source": [
    "test_Word[:, 0, :].T"
   ]
  },
  {
   "cell_type": "code",
   "execution_count": 65,
   "metadata": {},
   "outputs": [
    {
     "data": {
      "text/plain": [
       "tensor([[[0.0100, 0.0800, 0.3000, 0.3600, 0.1800, 0.0600, 0.0100]],\n",
       "\n",
       "        [[0.0100, 0.0800, 0.3000, 0.3600, 0.1800, 0.0600, 0.0100]],\n",
       "\n",
       "        [[0.0100, 0.0800, 0.3000, 0.3600, 0.1800, 0.0600, 0.0100]],\n",
       "\n",
       "        [[0.0100, 0.0800, 0.3000, 0.3600, 0.1800, 0.0600, 0.0100]],\n",
       "\n",
       "        [[0.0100, 0.0800, 0.3000, 0.3600, 0.1800, 0.0600, 0.0100]]])"
      ]
     },
     "execution_count": 65,
     "metadata": {},
     "output_type": "execute_result"
    }
   ],
   "source": [
    "test_Distribution[:, 0, :].view(5,-1,7)"
   ]
  },
  {
   "cell_type": "code",
   "execution_count": 66,
   "metadata": {},
   "outputs": [],
   "source": [
    "def mseloss(y_pred, y):\n",
    "    return np.mean((y_pred - y)**2)"
   ]
  },
  {
   "cell_type": "code",
   "execution_count": 67,
   "metadata": {},
   "outputs": [
    {
     "data": {
      "text/plain": [
       "8.0"
      ]
     },
     "execution_count": 67,
     "metadata": {},
     "output_type": "execute_result"
    }
   ],
   "source": [
    "tmpa = np.array([1,2,3,4,5])\n",
    "tmpb = np.array([5,4,3,2,1])\n",
    "mseloss(tmpa, tmpb)"
   ]
  },
  {
   "cell_type": "code",
   "execution_count": 68,
   "metadata": {},
   "outputs": [
    {
     "data": {
      "text/plain": [
       "array([16,  4,  0,  4, 16])"
      ]
     },
     "execution_count": 68,
     "metadata": {},
     "output_type": "execute_result"
    }
   ],
   "source": [
    "(tmpa-tmpb)**2"
   ]
  },
  {
   "cell_type": "code",
   "execution_count": 69,
   "metadata": {},
   "outputs": [
    {
     "name": "stdout",
     "output_type": "stream",
     "text": [
      "adore\n",
      "word =  adore\n",
      "output_np[-1][0] = \n",
      " [0.01620454 0.06818175 0.2203451  0.33151504 0.21713986 0.11664227\n",
      " 0.0299715 ]\n",
      "test_Distribution[:,idx,:] = \n",
      " [0.02 0.17 0.32 0.29 0.15 0.05 0.01]\n",
      "criteria =  tensor(0.0068)\n",
      "mse =  0.0044833957\n"
     ]
    },
    {
     "data": {
      "image/png": "[encoded data removed]",
      "text/plain": [
       "<Figure size 720x432 with 1 Axes>"
      ]
     },
     "metadata": {
      "needs_background": "light"
     },
     "output_type": "display_data"
    },
    {
     "data": {
      "text/html": [
       "<div>\n",
       "<style scoped>\n",
       "    .dataframe tbody tr th:only-of-type {\n",
       "        vertical-align: middle;\n",
       "    }\n",
       "\n",
       "    .dataframe tbody tr th {\n",
       "        vertical-align: top;\n",
       "    }\n",
       "\n",
       "    .dataframe thead th {\n",
       "        text-align: right;\n",
       "    }\n",
       "</style>\n",
       "<table border=\"1\" class=\"dataframe\">\n",
       "  <thead>\n",
       "    <tr style=\"text-align: right;\">\n",
       "      <th></th>\n",
       "      <th>Date</th>\n",
       "      <th>Contest number</th>\n",
       "      <th>Word</th>\n",
       "      <th>Number of  reported results</th>\n",
       "      <th>Number in hard mode</th>\n",
       "      <th>1 try</th>\n",
       "      <th>2 tries</th>\n",
       "      <th>3 tries</th>\n",
       "      <th>4 tries</th>\n",
       "      <th>5 tries</th>\n",
       "      <th>6 tries</th>\n",
       "      <th>7 or more tries (X)</th>\n",
       "      <th>normal_value</th>\n",
       "    </tr>\n",
       "  </thead>\n",
       "  <tbody>\n",
       "    <tr>\n",
       "      <th>27</th>\n",
       "      <td>2022-12-04</td>\n",
       "      <td>533</td>\n",
       "      <td>adore</td>\n",
       "      <td>25577</td>\n",
       "      <td>2398</td>\n",
       "      <td>2</td>\n",
       "      <td>17</td>\n",
       "      <td>32</td>\n",
       "      <td>29</td>\n",
       "      <td>15</td>\n",
       "      <td>5</td>\n",
       "      <td>1</td>\n",
       "      <td>0.506977</td>\n",
       "    </tr>\n",
       "  </tbody>\n",
       "</table>\n",
       "</div>"
      ],
      "text/plain": [
       "         Date  Contest number   Word  Number of  reported results  \\\n",
       "27 2022-12-04             533  adore                        25577   \n",
       "\n",
       "    Number in hard mode  1 try  2 tries  3 tries  4 tries  5 tries  6 tries  \\\n",
       "27                 2398      2       17       32       29       15        5   \n",
       "\n",
       "    7 or more tries (X)  normal_value  \n",
       "27                    1      0.506977  "
      ]
     },
     "execution_count": 69,
     "metadata": {},
     "output_type": "execute_result"
    }
   ],
   "source": [
    "idx = np.random.randint(0, test_Word.shape[1])\n",
    "print(vec2word(test_Word[:, idx, :].reshape(-1)*26))\n",
    "# 找出该样本对应的单词\n",
    "right_idx = test_indices[idx]\n",
    "word = df['Word'][right_idx]\n",
    "print('word = ', word)\n",
    "# 推理\n",
    "random_wordvec = test_Word[:,idx,:].unsqueeze(0).reshape(5,-1,1) # 由于模型的输入是(5, 1, 1)\n",
    "rnn.eval()\n",
    "with torch.no_grad():\n",
    "    output = rnn(random_wordvec)\n",
    "    output_np = output.cpu().numpy() # shape (5, 1, 7)\n",
    "    print('output_np[-1][0] = \\n', output_np[-1][0])\n",
    "    print('test_Distribution[:,idx,:] = \\n', test_Distribution[:,idx,:][0].cpu().numpy())\n",
    "    print('criteria = ', criterion(output, test_Distribution[:,idx,:].view(5,-1,7)))\n",
    "    print('mse = ', mseloss(output_np[-1][0], test_Distribution[:,idx,:][0].cpu().numpy()))\n",
    "    # 画图\n",
    "    plt.figure(figsize=(10, 6))\n",
    "    plt.bar(np.arange(7), output_np[-1][0], width=0.5, label='predict_distribution', color='r')\n",
    "    plt.bar(np.arange(7)+0.5,  test_Distribution[:,idx,:][0].cpu().numpy() , width=0.5, label='true_distribution', color='b')\n",
    "    plt.xlabel('class')\n",
    "    plt.ylabel('probability')\n",
    "    plt.title('the distribution of the word \"{}\"'.format(word))\n",
    "    plt.savefig('distribution_of_{}.png'.format(word))\n",
    "    plt.legend()\n",
    "    plt.show()\n",
    "df[df['Word'] == word]"
   ]
  },
  {
   "attachments": {},
   "cell_type": "markdown",
   "metadata": {},
   "source": [
    "### 测试集总体的mse"
   ]
  },
  {
   "cell_type": "code",
   "execution_count": 70,
   "metadata": {},
   "outputs": [
    {
     "name": "stdout",
     "output_type": "stream",
     "text": [
      "mse_sum =  0.6492024397157365\n"
     ]
    }
   ],
   "source": [
    "with torch.no_grad():\n",
    "    mse_sum = 0\n",
    "    for idx in range(0, test_Word.shape[1]):\n",
    "        random_wordvec = test_Word[:,idx,:].unsqueeze(0).reshape(5,-1,1) # 由于模型的输入是(5, 1, 1)\n",
    "        output = rnn(random_wordvec)\n",
    "        mse_sum += mseloss(output[-1][0].cpu().numpy(), test_Distribution[:,idx,:][0].cpu().numpy())\n",
    "    print('mse_sum = ', mse_sum)"
   ]
  },
  {
   "cell_type": "code",
   "execution_count": 71,
   "metadata": {},
   "outputs": [
    {
     "data": {
      "text/plain": [
       "108"
      ]
     },
     "execution_count": 71,
     "metadata": {},
     "output_type": "execute_result"
    }
   ],
   "source": [
    "test_Word.shape[1]"
   ]
  },
  {
   "attachments": {},
   "cell_type": "markdown",
   "metadata": {},
   "source": [
    "### 预测单词eerie的分布"
   ]
  },
  {
   "cell_type": "code",
   "execution_count": 72,
   "metadata": {},
   "outputs": [
    {
     "name": "stdout",
     "output_type": "stream",
     "text": [
      "the distribution of the word eerie is: \n",
      "tensor([0.0258, 0.0726, 0.1899, 0.3693, 0.1832, 0.1201, 0.0391])\n"
     ]
    },
    {
     "data": {
      "image/png": "[encoded data removed]",
      "text/plain": [
       "<Figure size 720x432 with 1 Axes>"
      ]
     },
     "metadata": {
      "needs_background": "light"
     },
     "output_type": "display_data"
    }
   ],
   "source": [
    "with torch.no_grad():\n",
    "    # 预测单个单词\n",
    "    word = 'eerie'\n",
    "    vec = word2vec(word)\n",
    "    vec = torch.from_numpy(vec).float()\n",
    "    vec = vec.view(5,-1,1)\n",
    "    output = rnn(vec)\n",
    "    print('the distribution of the word {} is: \\n{}'.format(word, output[-1][0]))\n",
    "    # 画出预测的分布图\n",
    "    plt.figure(figsize=(10, 6))\n",
    "    plt.bar(np.arange(7), output[-1][0].numpy(), width=0.5, color='r',  label='predict')\n",
    "    plt.title('the distribution of the word \"{}\"'.format(word))\n",
    "    plt.legend()\n",
    "    plt.show()"
   ]
  }
 ],
 "metadata": {
  "kernelspec": {
   "display_name": "base",
   "language": "python",
   "name": "python3"
  },
  "language_info": {
   "codemirror_mode": {
    "name": "ipython",
    "version": 3
   },
   "file_extension": ".py",
   "mimetype": "text/x-python",
   "name": "python",
   "nbconvert_exporter": "python",
   "pygments_lexer": "ipython3",
   "version": "3.9.7"
  },
  "orig_nbformat": 4,
  "vscode": {
   "interpreter": {
    "hash": "5179d32cf6ec497baf3f8a3ef987cc77c5d2dc691fdde20a56316522f61a7323"
   }
  }
 },
 "nbformat": 4,
 "nbformat_minor": 2
}
