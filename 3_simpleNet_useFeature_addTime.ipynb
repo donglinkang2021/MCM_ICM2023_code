{
 "cells": [
  {
   "cell_type": "markdown",
   "metadata": {},
   "source": [
    "# 对我们提取特征之后的数据重新利用神经网络进行学习\n",
    "\n",
    "### 介绍\n",
    "\n",
    "我们在`word_data`提取了一系列的特征，比如senti(情感标签)、cixing(词性)、diversity(词的多义性)、freq(在字典中的词频)、vowel_percentage(包含元音百分比)、if_weekdays(是否工作日)、correation(单词字母相关度),在这些特征之外，我们还加入了月份和日期作为另外的两个维度，通过一共输入维度为9、输出维度为7、两个50维隐含层的神经网络输出最终的分布值，我们将数据划分70%为训练集、剩下30%为测试集，最终在测试集上所得MSE为0.0042,且由图片可以看出预测的分布较为精准。"
   ]
  },
  {
   "cell_type": "code",
   "execution_count": 56,
   "metadata": {},
   "outputs": [],
   "source": [
    "# 读取word_data.xlsx中的数据，将其转换为特征向量，然后使用简单的神经网络进行分类\n",
    "import pandas as pd\n",
    "import numpy as np\n",
    "import matplotlib.pyplot as plt\n",
    "import torch\n",
    "import torch.nn as nn\n",
    "import torch.nn.functional as F\n",
    "from torchinfo import summary\n",
    "from simpleNet import SimpleNet"
   ]
  },
  {
   "cell_type": "markdown",
   "metadata": {},
   "source": [
    "### 加载数据"
   ]
  },
  {
   "cell_type": "code",
   "execution_count": 57,
   "metadata": {},
   "outputs": [
    {
     "data": {
      "text/html": [
       "<div>\n",
       "<style scoped>\n",
       "    .dataframe tbody tr th:only-of-type {\n",
       "        vertical-align: middle;\n",
       "    }\n",
       "\n",
       "    .dataframe tbody tr th {\n",
       "        vertical-align: top;\n",
       "    }\n",
       "\n",
       "    .dataframe thead th {\n",
       "        text-align: right;\n",
       "    }\n",
       "</style>\n",
       "<table border=\"1\" class=\"dataframe\">\n",
       "  <thead>\n",
       "    <tr style=\"text-align: right;\">\n",
       "      <th></th>\n",
       "      <th>Date</th>\n",
       "      <th>Date.1</th>\n",
       "      <th>Contest number</th>\n",
       "      <th>word</th>\n",
       "      <th>senti</th>\n",
       "      <th>senti_score</th>\n",
       "      <th>cixing</th>\n",
       "      <th>diversity</th>\n",
       "      <th>freq_1</th>\n",
       "      <th>freq_2</th>\n",
       "      <th>vowel_percentage(%)</th>\n",
       "      <th>if_weekdays</th>\n",
       "      <th>correlations</th>\n",
       "      <th>1 try</th>\n",
       "      <th>2 tries</th>\n",
       "      <th>3 tries</th>\n",
       "      <th>4 tries</th>\n",
       "      <th>5 tries</th>\n",
       "      <th>6 tries</th>\n",
       "      <th>7 or more tries (X)</th>\n",
       "    </tr>\n",
       "  </thead>\n",
       "  <tbody>\n",
       "    <tr>\n",
       "      <th>0</th>\n",
       "      <td>2022-12-31</td>\n",
       "      <td>44926</td>\n",
       "      <td>560</td>\n",
       "      <td>manly</td>\n",
       "      <td>1</td>\n",
       "      <td>0.0000</td>\n",
       "      <td>RB</td>\n",
       "      <td>0.620000</td>\n",
       "      <td>0.264214</td>\n",
       "      <td>0.265298</td>\n",
       "      <td>20.0</td>\n",
       "      <td>0</td>\n",
       "      <td>0.343806</td>\n",
       "      <td>0</td>\n",
       "      <td>2</td>\n",
       "      <td>17</td>\n",
       "      <td>37</td>\n",
       "      <td>29</td>\n",
       "      <td>12</td>\n",
       "      <td>2</td>\n",
       "    </tr>\n",
       "    <tr>\n",
       "      <th>1</th>\n",
       "      <td>2022-12-30</td>\n",
       "      <td>44925</td>\n",
       "      <td>559</td>\n",
       "      <td>molar</td>\n",
       "      <td>1</td>\n",
       "      <td>0.0000</td>\n",
       "      <td>JJ</td>\n",
       "      <td>0.777778</td>\n",
       "      <td>0.329989</td>\n",
       "      <td>0.315016</td>\n",
       "      <td>40.0</td>\n",
       "      <td>1</td>\n",
       "      <td>0.491583</td>\n",
       "      <td>0</td>\n",
       "      <td>4</td>\n",
       "      <td>21</td>\n",
       "      <td>38</td>\n",
       "      <td>26</td>\n",
       "      <td>9</td>\n",
       "      <td>1</td>\n",
       "    </tr>\n",
       "    <tr>\n",
       "      <th>2</th>\n",
       "      <td>2022-12-29</td>\n",
       "      <td>44924</td>\n",
       "      <td>558</td>\n",
       "      <td>havoc</td>\n",
       "      <td>0</td>\n",
       "      <td>-0.5994</td>\n",
       "      <td>NN</td>\n",
       "      <td>0.001000</td>\n",
       "      <td>0.254738</td>\n",
       "      <td>0.237445</td>\n",
       "      <td>40.0</td>\n",
       "      <td>1</td>\n",
       "      <td>0.097901</td>\n",
       "      <td>0</td>\n",
       "      <td>2</td>\n",
       "      <td>16</td>\n",
       "      <td>38</td>\n",
       "      <td>30</td>\n",
       "      <td>12</td>\n",
       "      <td>2</td>\n",
       "    </tr>\n",
       "    <tr>\n",
       "      <th>3</th>\n",
       "      <td>2022-12-28</td>\n",
       "      <td>44923</td>\n",
       "      <td>557</td>\n",
       "      <td>impel</td>\n",
       "      <td>1</td>\n",
       "      <td>0.0000</td>\n",
       "      <td>NN</td>\n",
       "      <td>0.500000</td>\n",
       "      <td>0.287625</td>\n",
       "      <td>0.314575</td>\n",
       "      <td>40.0</td>\n",
       "      <td>1</td>\n",
       "      <td>0.187709</td>\n",
       "      <td>0</td>\n",
       "      <td>3</td>\n",
       "      <td>21</td>\n",
       "      <td>40</td>\n",
       "      <td>25</td>\n",
       "      <td>9</td>\n",
       "      <td>1</td>\n",
       "    </tr>\n",
       "    <tr>\n",
       "      <th>4</th>\n",
       "      <td>2022-12-27</td>\n",
       "      <td>44922</td>\n",
       "      <td>556</td>\n",
       "      <td>condo</td>\n",
       "      <td>1</td>\n",
       "      <td>0.0000</td>\n",
       "      <td>NN</td>\n",
       "      <td>0.001000</td>\n",
       "      <td>0.267001</td>\n",
       "      <td>0.290084</td>\n",
       "      <td>40.0</td>\n",
       "      <td>1</td>\n",
       "      <td>0.308737</td>\n",
       "      <td>0</td>\n",
       "      <td>2</td>\n",
       "      <td>17</td>\n",
       "      <td>35</td>\n",
       "      <td>29</td>\n",
       "      <td>14</td>\n",
       "      <td>3</td>\n",
       "    </tr>\n",
       "  </tbody>\n",
       "</table>\n",
       "</div>"
      ],
      "text/plain": [
       "        Date  Date.1  Contest number   word  senti  senti_score cixing  \\\n",
       "0 2022-12-31   44926             560  manly      1       0.0000     RB   \n",
       "1 2022-12-30   44925             559  molar      1       0.0000     JJ   \n",
       "2 2022-12-29   44924             558  havoc      0      -0.5994     NN   \n",
       "3 2022-12-28   44923             557  impel      1       0.0000     NN   \n",
       "4 2022-12-27   44922             556  condo      1       0.0000     NN   \n",
       "\n",
       "   diversity    freq_1    freq_2  vowel_percentage(%)  if_weekdays  \\\n",
       "0   0.620000  0.264214  0.265298                 20.0            0   \n",
       "1   0.777778  0.329989  0.315016                 40.0            1   \n",
       "2   0.001000  0.254738  0.237445                 40.0            1   \n",
       "3   0.500000  0.287625  0.314575                 40.0            1   \n",
       "4   0.001000  0.267001  0.290084                 40.0            1   \n",
       "\n",
       "   correlations  1 try  2 tries  3 tries  4 tries  5 tries  6 tries  \\\n",
       "0      0.343806      0        2       17       37       29       12   \n",
       "1      0.491583      0        4       21       38       26        9   \n",
       "2      0.097901      0        2       16       38       30       12   \n",
       "3      0.187709      0        3       21       40       25        9   \n",
       "4      0.308737      0        2       17       35       29       14   \n",
       "\n",
       "   7 or more tries (X)  \n",
       "0                    2  \n",
       "1                    1  \n",
       "2                    2  \n",
       "3                    1  \n",
       "4                    3  "
      ]
     },
     "execution_count": 57,
     "metadata": {},
     "output_type": "execute_result"
    }
   ],
   "source": [
    "# 读取数据\n",
    "data = pd.read_excel('word_data_new.xlsx')\n",
    "data.head()"
   ]
  },
  {
   "cell_type": "code",
   "execution_count": 58,
   "metadata": {},
   "outputs": [
    {
     "name": "stdout",
     "output_type": "stream",
     "text": [
      "['RB' 'JJ' 'NN' 'IN' 'VBD' 'VB' 'VBN' 'NNS' 'VBP' 'EX' 'NNP' 'VBZ' 'CC'\n",
      " 'VBG' 'FW' 'RBR' 'JJR' 'MD' 'JJS' 'PRP$' 'DT']\n"
     ]
    }
   ],
   "source": [
    "# 列出cixing的所有取值\n",
    "cixing = data['cixing'].unique()\n",
    "print(cixing)"
   ]
  },
  {
   "cell_type": "code",
   "execution_count": 59,
   "metadata": {},
   "outputs": [
    {
     "name": "stdout",
     "output_type": "stream",
     "text": [
      "[ 0  1  2  3  4  5  6  7  8  9 10 11 12 13 14 15 16 17 18 19 20]\n"
     ]
    }
   ],
   "source": [
    "# 将cixing的取值转换为数字\n",
    "# 先制作一个map ['RB' 'JJ' 'NN' 'IN' 'VBD' 'VB' 'VBN' 'NNS' 'VBP' 'EX' 'NNP' 'VBZ' 'CC' 'VBG' 'FW' 'RBR' 'JJR' 'MD' 'JJS' 'PRP$' 'DT']\n",
    "cixing_map = {'RB': 0, 'JJ': 1, 'NN': 2, 'IN': 3, 'VBD': 4, 'VB': 5, 'VBN': 6, 'NNS': 7, 'VBP': 8, 'EX': 9, 'NNP': 10, 'VBZ': 11, 'CC': 12, 'VBG': 13, 'FW': 14, 'RBR': 15, 'JJR': 16, 'MD': 17, 'JJS': 18, 'PRP$': 19, 'DT': 20}\n",
    "data['cixing'] = data['cixing'].map(cixing_map)\n",
    "print(data['cixing'].unique())\n"
   ]
  },
  {
   "cell_type": "code",
   "execution_count": 60,
   "metadata": {},
   "outputs": [
    {
     "data": {
      "text/html": [
       "<div>\n",
       "<style scoped>\n",
       "    .dataframe tbody tr th:only-of-type {\n",
       "        vertical-align: middle;\n",
       "    }\n",
       "\n",
       "    .dataframe tbody tr th {\n",
       "        vertical-align: top;\n",
       "    }\n",
       "\n",
       "    .dataframe thead th {\n",
       "        text-align: right;\n",
       "    }\n",
       "</style>\n",
       "<table border=\"1\" class=\"dataframe\">\n",
       "  <thead>\n",
       "    <tr style=\"text-align: right;\">\n",
       "      <th></th>\n",
       "      <th>Date</th>\n",
       "      <th>Date.1</th>\n",
       "      <th>Contest number</th>\n",
       "      <th>word</th>\n",
       "      <th>senti</th>\n",
       "      <th>senti_score</th>\n",
       "      <th>cixing</th>\n",
       "      <th>diversity</th>\n",
       "      <th>freq_1</th>\n",
       "      <th>freq_2</th>\n",
       "      <th>vowel_percentage(%)</th>\n",
       "      <th>if_weekdays</th>\n",
       "      <th>correlations</th>\n",
       "      <th>1 try</th>\n",
       "      <th>2 tries</th>\n",
       "      <th>3 tries</th>\n",
       "      <th>4 tries</th>\n",
       "      <th>5 tries</th>\n",
       "      <th>6 tries</th>\n",
       "      <th>7 or more tries (X)</th>\n",
       "    </tr>\n",
       "  </thead>\n",
       "  <tbody>\n",
       "    <tr>\n",
       "      <th>0</th>\n",
       "      <td>2022-12-31</td>\n",
       "      <td>44926</td>\n",
       "      <td>560</td>\n",
       "      <td>manly</td>\n",
       "      <td>1</td>\n",
       "      <td>0.0000</td>\n",
       "      <td>0</td>\n",
       "      <td>0.620000</td>\n",
       "      <td>0.264214</td>\n",
       "      <td>0.265298</td>\n",
       "      <td>20.0</td>\n",
       "      <td>0</td>\n",
       "      <td>0.343806</td>\n",
       "      <td>0</td>\n",
       "      <td>2</td>\n",
       "      <td>17</td>\n",
       "      <td>37</td>\n",
       "      <td>29</td>\n",
       "      <td>12</td>\n",
       "      <td>2</td>\n",
       "    </tr>\n",
       "    <tr>\n",
       "      <th>1</th>\n",
       "      <td>2022-12-30</td>\n",
       "      <td>44925</td>\n",
       "      <td>559</td>\n",
       "      <td>molar</td>\n",
       "      <td>1</td>\n",
       "      <td>0.0000</td>\n",
       "      <td>1</td>\n",
       "      <td>0.777778</td>\n",
       "      <td>0.329989</td>\n",
       "      <td>0.315016</td>\n",
       "      <td>40.0</td>\n",
       "      <td>1</td>\n",
       "      <td>0.491583</td>\n",
       "      <td>0</td>\n",
       "      <td>4</td>\n",
       "      <td>21</td>\n",
       "      <td>38</td>\n",
       "      <td>26</td>\n",
       "      <td>9</td>\n",
       "      <td>1</td>\n",
       "    </tr>\n",
       "    <tr>\n",
       "      <th>2</th>\n",
       "      <td>2022-12-29</td>\n",
       "      <td>44924</td>\n",
       "      <td>558</td>\n",
       "      <td>havoc</td>\n",
       "      <td>0</td>\n",
       "      <td>-0.5994</td>\n",
       "      <td>2</td>\n",
       "      <td>0.001000</td>\n",
       "      <td>0.254738</td>\n",
       "      <td>0.237445</td>\n",
       "      <td>40.0</td>\n",
       "      <td>1</td>\n",
       "      <td>0.097901</td>\n",
       "      <td>0</td>\n",
       "      <td>2</td>\n",
       "      <td>16</td>\n",
       "      <td>38</td>\n",
       "      <td>30</td>\n",
       "      <td>12</td>\n",
       "      <td>2</td>\n",
       "    </tr>\n",
       "    <tr>\n",
       "      <th>3</th>\n",
       "      <td>2022-12-28</td>\n",
       "      <td>44923</td>\n",
       "      <td>557</td>\n",
       "      <td>impel</td>\n",
       "      <td>1</td>\n",
       "      <td>0.0000</td>\n",
       "      <td>2</td>\n",
       "      <td>0.500000</td>\n",
       "      <td>0.287625</td>\n",
       "      <td>0.314575</td>\n",
       "      <td>40.0</td>\n",
       "      <td>1</td>\n",
       "      <td>0.187709</td>\n",
       "      <td>0</td>\n",
       "      <td>3</td>\n",
       "      <td>21</td>\n",
       "      <td>40</td>\n",
       "      <td>25</td>\n",
       "      <td>9</td>\n",
       "      <td>1</td>\n",
       "    </tr>\n",
       "    <tr>\n",
       "      <th>4</th>\n",
       "      <td>2022-12-27</td>\n",
       "      <td>44922</td>\n",
       "      <td>556</td>\n",
       "      <td>condo</td>\n",
       "      <td>1</td>\n",
       "      <td>0.0000</td>\n",
       "      <td>2</td>\n",
       "      <td>0.001000</td>\n",
       "      <td>0.267001</td>\n",
       "      <td>0.290084</td>\n",
       "      <td>40.0</td>\n",
       "      <td>1</td>\n",
       "      <td>0.308737</td>\n",
       "      <td>0</td>\n",
       "      <td>2</td>\n",
       "      <td>17</td>\n",
       "      <td>35</td>\n",
       "      <td>29</td>\n",
       "      <td>14</td>\n",
       "      <td>3</td>\n",
       "    </tr>\n",
       "  </tbody>\n",
       "</table>\n",
       "</div>"
      ],
      "text/plain": [
       "        Date  Date.1  Contest number   word  senti  senti_score  cixing  \\\n",
       "0 2022-12-31   44926             560  manly      1       0.0000       0   \n",
       "1 2022-12-30   44925             559  molar      1       0.0000       1   \n",
       "2 2022-12-29   44924             558  havoc      0      -0.5994       2   \n",
       "3 2022-12-28   44923             557  impel      1       0.0000       2   \n",
       "4 2022-12-27   44922             556  condo      1       0.0000       2   \n",
       "\n",
       "   diversity    freq_1    freq_2  vowel_percentage(%)  if_weekdays  \\\n",
       "0   0.620000  0.264214  0.265298                 20.0            0   \n",
       "1   0.777778  0.329989  0.315016                 40.0            1   \n",
       "2   0.001000  0.254738  0.237445                 40.0            1   \n",
       "3   0.500000  0.287625  0.314575                 40.0            1   \n",
       "4   0.001000  0.267001  0.290084                 40.0            1   \n",
       "\n",
       "   correlations  1 try  2 tries  3 tries  4 tries  5 tries  6 tries  \\\n",
       "0      0.343806      0        2       17       37       29       12   \n",
       "1      0.491583      0        4       21       38       26        9   \n",
       "2      0.097901      0        2       16       38       30       12   \n",
       "3      0.187709      0        3       21       40       25        9   \n",
       "4      0.308737      0        2       17       35       29       14   \n",
       "\n",
       "   7 or more tries (X)  \n",
       "0                    2  \n",
       "1                    1  \n",
       "2                    2  \n",
       "3                    1  \n",
       "4                    3  "
      ]
     },
     "execution_count": 60,
     "metadata": {},
     "output_type": "execute_result"
    }
   ],
   "source": [
    "data.head()"
   ]
  },
  {
   "cell_type": "code",
   "execution_count": 61,
   "metadata": {},
   "outputs": [],
   "source": [
    "# 删除不需要的列 senti_score, freq_1\n",
    "data = data.drop(['senti_score', 'freq_1','Date.1'], axis=1)"
   ]
  },
  {
   "cell_type": "code",
   "execution_count": 62,
   "metadata": {},
   "outputs": [
    {
     "data": {
      "text/html": [
       "<div>\n",
       "<style scoped>\n",
       "    .dataframe tbody tr th:only-of-type {\n",
       "        vertical-align: middle;\n",
       "    }\n",
       "\n",
       "    .dataframe tbody tr th {\n",
       "        vertical-align: top;\n",
       "    }\n",
       "\n",
       "    .dataframe thead th {\n",
       "        text-align: right;\n",
       "    }\n",
       "</style>\n",
       "<table border=\"1\" class=\"dataframe\">\n",
       "  <thead>\n",
       "    <tr style=\"text-align: right;\">\n",
       "      <th></th>\n",
       "      <th>Date</th>\n",
       "      <th>Contest number</th>\n",
       "      <th>word</th>\n",
       "      <th>senti</th>\n",
       "      <th>cixing</th>\n",
       "      <th>diversity</th>\n",
       "      <th>freq_2</th>\n",
       "      <th>vowel_percentage(%)</th>\n",
       "      <th>if_weekdays</th>\n",
       "      <th>correlations</th>\n",
       "      <th>1 try</th>\n",
       "      <th>2 tries</th>\n",
       "      <th>3 tries</th>\n",
       "      <th>4 tries</th>\n",
       "      <th>5 tries</th>\n",
       "      <th>6 tries</th>\n",
       "      <th>7 or more tries (X)</th>\n",
       "    </tr>\n",
       "  </thead>\n",
       "  <tbody>\n",
       "    <tr>\n",
       "      <th>0</th>\n",
       "      <td>2022-12-31</td>\n",
       "      <td>560</td>\n",
       "      <td>manly</td>\n",
       "      <td>1</td>\n",
       "      <td>0</td>\n",
       "      <td>0.620000</td>\n",
       "      <td>0.265298</td>\n",
       "      <td>20.0</td>\n",
       "      <td>0</td>\n",
       "      <td>0.343806</td>\n",
       "      <td>0</td>\n",
       "      <td>2</td>\n",
       "      <td>17</td>\n",
       "      <td>37</td>\n",
       "      <td>29</td>\n",
       "      <td>12</td>\n",
       "      <td>2</td>\n",
       "    </tr>\n",
       "    <tr>\n",
       "      <th>1</th>\n",
       "      <td>2022-12-30</td>\n",
       "      <td>559</td>\n",
       "      <td>molar</td>\n",
       "      <td>1</td>\n",
       "      <td>1</td>\n",
       "      <td>0.777778</td>\n",
       "      <td>0.315016</td>\n",
       "      <td>40.0</td>\n",
       "      <td>1</td>\n",
       "      <td>0.491583</td>\n",
       "      <td>0</td>\n",
       "      <td>4</td>\n",
       "      <td>21</td>\n",
       "      <td>38</td>\n",
       "      <td>26</td>\n",
       "      <td>9</td>\n",
       "      <td>1</td>\n",
       "    </tr>\n",
       "    <tr>\n",
       "      <th>2</th>\n",
       "      <td>2022-12-29</td>\n",
       "      <td>558</td>\n",
       "      <td>havoc</td>\n",
       "      <td>0</td>\n",
       "      <td>2</td>\n",
       "      <td>0.001000</td>\n",
       "      <td>0.237445</td>\n",
       "      <td>40.0</td>\n",
       "      <td>1</td>\n",
       "      <td>0.097901</td>\n",
       "      <td>0</td>\n",
       "      <td>2</td>\n",
       "      <td>16</td>\n",
       "      <td>38</td>\n",
       "      <td>30</td>\n",
       "      <td>12</td>\n",
       "      <td>2</td>\n",
       "    </tr>\n",
       "    <tr>\n",
       "      <th>3</th>\n",
       "      <td>2022-12-28</td>\n",
       "      <td>557</td>\n",
       "      <td>impel</td>\n",
       "      <td>1</td>\n",
       "      <td>2</td>\n",
       "      <td>0.500000</td>\n",
       "      <td>0.314575</td>\n",
       "      <td>40.0</td>\n",
       "      <td>1</td>\n",
       "      <td>0.187709</td>\n",
       "      <td>0</td>\n",
       "      <td>3</td>\n",
       "      <td>21</td>\n",
       "      <td>40</td>\n",
       "      <td>25</td>\n",
       "      <td>9</td>\n",
       "      <td>1</td>\n",
       "    </tr>\n",
       "    <tr>\n",
       "      <th>4</th>\n",
       "      <td>2022-12-27</td>\n",
       "      <td>556</td>\n",
       "      <td>condo</td>\n",
       "      <td>1</td>\n",
       "      <td>2</td>\n",
       "      <td>0.001000</td>\n",
       "      <td>0.290084</td>\n",
       "      <td>40.0</td>\n",
       "      <td>1</td>\n",
       "      <td>0.308737</td>\n",
       "      <td>0</td>\n",
       "      <td>2</td>\n",
       "      <td>17</td>\n",
       "      <td>35</td>\n",
       "      <td>29</td>\n",
       "      <td>14</td>\n",
       "      <td>3</td>\n",
       "    </tr>\n",
       "  </tbody>\n",
       "</table>\n",
       "</div>"
      ],
      "text/plain": [
       "        Date  Contest number   word  senti  cixing  diversity    freq_2  \\\n",
       "0 2022-12-31             560  manly      1       0   0.620000  0.265298   \n",
       "1 2022-12-30             559  molar      1       1   0.777778  0.315016   \n",
       "2 2022-12-29             558  havoc      0       2   0.001000  0.237445   \n",
       "3 2022-12-28             557  impel      1       2   0.500000  0.314575   \n",
       "4 2022-12-27             556  condo      1       2   0.001000  0.290084   \n",
       "\n",
       "   vowel_percentage(%)  if_weekdays  correlations  1 try  2 tries  3 tries  \\\n",
       "0                 20.0            0      0.343806      0        2       17   \n",
       "1                 40.0            1      0.491583      0        4       21   \n",
       "2                 40.0            1      0.097901      0        2       16   \n",
       "3                 40.0            1      0.187709      0        3       21   \n",
       "4                 40.0            1      0.308737      0        2       17   \n",
       "\n",
       "   4 tries  5 tries  6 tries  7 or more tries (X)  \n",
       "0       37       29       12                    2  \n",
       "1       38       26        9                    1  \n",
       "2       38       30       12                    2  \n",
       "3       40       25        9                    1  \n",
       "4       35       29       14                    3  "
      ]
     },
     "execution_count": 62,
     "metadata": {},
     "output_type": "execute_result"
    }
   ],
   "source": [
    "data.head()"
   ]
  },
  {
   "cell_type": "code",
   "execution_count": 63,
   "metadata": {},
   "outputs": [],
   "source": [
    "# 构造输入输出数据\n",
    "data_features = data.iloc[:,[0,3,4,5,6,7,8,9]]\n",
    "data_distribution = data.iloc[:,10:]"
   ]
  },
  {
   "cell_type": "code",
   "execution_count": 64,
   "metadata": {},
   "outputs": [
    {
     "data": {
      "text/html": [
       "<div>\n",
       "<style scoped>\n",
       "    .dataframe tbody tr th:only-of-type {\n",
       "        vertical-align: middle;\n",
       "    }\n",
       "\n",
       "    .dataframe tbody tr th {\n",
       "        vertical-align: top;\n",
       "    }\n",
       "\n",
       "    .dataframe thead th {\n",
       "        text-align: right;\n",
       "    }\n",
       "</style>\n",
       "<table border=\"1\" class=\"dataframe\">\n",
       "  <thead>\n",
       "    <tr style=\"text-align: right;\">\n",
       "      <th></th>\n",
       "      <th>Date</th>\n",
       "      <th>senti</th>\n",
       "      <th>cixing</th>\n",
       "      <th>diversity</th>\n",
       "      <th>freq_2</th>\n",
       "      <th>vowel_percentage(%)</th>\n",
       "      <th>if_weekdays</th>\n",
       "      <th>correlations</th>\n",
       "    </tr>\n",
       "  </thead>\n",
       "  <tbody>\n",
       "    <tr>\n",
       "      <th>0</th>\n",
       "      <td>2022-12-31</td>\n",
       "      <td>1</td>\n",
       "      <td>0</td>\n",
       "      <td>0.620000</td>\n",
       "      <td>0.265298</td>\n",
       "      <td>20.0</td>\n",
       "      <td>0</td>\n",
       "      <td>0.343806</td>\n",
       "    </tr>\n",
       "    <tr>\n",
       "      <th>1</th>\n",
       "      <td>2022-12-30</td>\n",
       "      <td>1</td>\n",
       "      <td>1</td>\n",
       "      <td>0.777778</td>\n",
       "      <td>0.315016</td>\n",
       "      <td>40.0</td>\n",
       "      <td>1</td>\n",
       "      <td>0.491583</td>\n",
       "    </tr>\n",
       "    <tr>\n",
       "      <th>2</th>\n",
       "      <td>2022-12-29</td>\n",
       "      <td>0</td>\n",
       "      <td>2</td>\n",
       "      <td>0.001000</td>\n",
       "      <td>0.237445</td>\n",
       "      <td>40.0</td>\n",
       "      <td>1</td>\n",
       "      <td>0.097901</td>\n",
       "    </tr>\n",
       "    <tr>\n",
       "      <th>3</th>\n",
       "      <td>2022-12-28</td>\n",
       "      <td>1</td>\n",
       "      <td>2</td>\n",
       "      <td>0.500000</td>\n",
       "      <td>0.314575</td>\n",
       "      <td>40.0</td>\n",
       "      <td>1</td>\n",
       "      <td>0.187709</td>\n",
       "    </tr>\n",
       "    <tr>\n",
       "      <th>4</th>\n",
       "      <td>2022-12-27</td>\n",
       "      <td>1</td>\n",
       "      <td>2</td>\n",
       "      <td>0.001000</td>\n",
       "      <td>0.290084</td>\n",
       "      <td>40.0</td>\n",
       "      <td>1</td>\n",
       "      <td>0.308737</td>\n",
       "    </tr>\n",
       "  </tbody>\n",
       "</table>\n",
       "</div>"
      ],
      "text/plain": [
       "        Date  senti  cixing  diversity    freq_2  vowel_percentage(%)  \\\n",
       "0 2022-12-31      1       0   0.620000  0.265298                 20.0   \n",
       "1 2022-12-30      1       1   0.777778  0.315016                 40.0   \n",
       "2 2022-12-29      0       2   0.001000  0.237445                 40.0   \n",
       "3 2022-12-28      1       2   0.500000  0.314575                 40.0   \n",
       "4 2022-12-27      1       2   0.001000  0.290084                 40.0   \n",
       "\n",
       "   if_weekdays  correlations  \n",
       "0            0      0.343806  \n",
       "1            1      0.491583  \n",
       "2            1      0.097901  \n",
       "3            1      0.187709  \n",
       "4            1      0.308737  "
      ]
     },
     "execution_count": 64,
     "metadata": {},
     "output_type": "execute_result"
    }
   ],
   "source": [
    "data_features.head()"
   ]
  },
  {
   "cell_type": "code",
   "execution_count": 65,
   "metadata": {},
   "outputs": [
    {
     "data": {
      "text/html": [
       "<div>\n",
       "<style scoped>\n",
       "    .dataframe tbody tr th:only-of-type {\n",
       "        vertical-align: middle;\n",
       "    }\n",
       "\n",
       "    .dataframe tbody tr th {\n",
       "        vertical-align: top;\n",
       "    }\n",
       "\n",
       "    .dataframe thead th {\n",
       "        text-align: right;\n",
       "    }\n",
       "</style>\n",
       "<table border=\"1\" class=\"dataframe\">\n",
       "  <thead>\n",
       "    <tr style=\"text-align: right;\">\n",
       "      <th></th>\n",
       "      <th>1 try</th>\n",
       "      <th>2 tries</th>\n",
       "      <th>3 tries</th>\n",
       "      <th>4 tries</th>\n",
       "      <th>5 tries</th>\n",
       "      <th>6 tries</th>\n",
       "      <th>7 or more tries (X)</th>\n",
       "    </tr>\n",
       "  </thead>\n",
       "  <tbody>\n",
       "    <tr>\n",
       "      <th>0</th>\n",
       "      <td>0</td>\n",
       "      <td>2</td>\n",
       "      <td>17</td>\n",
       "      <td>37</td>\n",
       "      <td>29</td>\n",
       "      <td>12</td>\n",
       "      <td>2</td>\n",
       "    </tr>\n",
       "    <tr>\n",
       "      <th>1</th>\n",
       "      <td>0</td>\n",
       "      <td>4</td>\n",
       "      <td>21</td>\n",
       "      <td>38</td>\n",
       "      <td>26</td>\n",
       "      <td>9</td>\n",
       "      <td>1</td>\n",
       "    </tr>\n",
       "    <tr>\n",
       "      <th>2</th>\n",
       "      <td>0</td>\n",
       "      <td>2</td>\n",
       "      <td>16</td>\n",
       "      <td>38</td>\n",
       "      <td>30</td>\n",
       "      <td>12</td>\n",
       "      <td>2</td>\n",
       "    </tr>\n",
       "    <tr>\n",
       "      <th>3</th>\n",
       "      <td>0</td>\n",
       "      <td>3</td>\n",
       "      <td>21</td>\n",
       "      <td>40</td>\n",
       "      <td>25</td>\n",
       "      <td>9</td>\n",
       "      <td>1</td>\n",
       "    </tr>\n",
       "    <tr>\n",
       "      <th>4</th>\n",
       "      <td>0</td>\n",
       "      <td>2</td>\n",
       "      <td>17</td>\n",
       "      <td>35</td>\n",
       "      <td>29</td>\n",
       "      <td>14</td>\n",
       "      <td>3</td>\n",
       "    </tr>\n",
       "  </tbody>\n",
       "</table>\n",
       "</div>"
      ],
      "text/plain": [
       "   1 try  2 tries  3 tries  4 tries  5 tries  6 tries  7 or more tries (X)\n",
       "0      0        2       17       37       29       12                    2\n",
       "1      0        4       21       38       26        9                    1\n",
       "2      0        2       16       38       30       12                    2\n",
       "3      0        3       21       40       25        9                    1\n",
       "4      0        2       17       35       29       14                    3"
      ]
     },
     "execution_count": 65,
     "metadata": {},
     "output_type": "execute_result"
    }
   ],
   "source": [
    "data_distribution.head()"
   ]
  },
  {
   "cell_type": "markdown",
   "metadata": {},
   "source": [
    "### 删除一些feature"
   ]
  },
  {
   "cell_type": "code",
   "execution_count": 66,
   "metadata": {},
   "outputs": [
    {
     "data": {
      "text/html": [
       "<div>\n",
       "<style scoped>\n",
       "    .dataframe tbody tr th:only-of-type {\n",
       "        vertical-align: middle;\n",
       "    }\n",
       "\n",
       "    .dataframe tbody tr th {\n",
       "        vertical-align: top;\n",
       "    }\n",
       "\n",
       "    .dataframe thead th {\n",
       "        text-align: right;\n",
       "    }\n",
       "</style>\n",
       "<table border=\"1\" class=\"dataframe\">\n",
       "  <thead>\n",
       "    <tr style=\"text-align: right;\">\n",
       "      <th></th>\n",
       "      <th>Date</th>\n",
       "      <th>senti</th>\n",
       "      <th>cixing</th>\n",
       "      <th>diversity</th>\n",
       "      <th>freq_2</th>\n",
       "      <th>vowel_percentage(%)</th>\n",
       "      <th>if_weekdays</th>\n",
       "      <th>correlations</th>\n",
       "    </tr>\n",
       "  </thead>\n",
       "  <tbody>\n",
       "    <tr>\n",
       "      <th>0</th>\n",
       "      <td>2022-12-31</td>\n",
       "      <td>1</td>\n",
       "      <td>0</td>\n",
       "      <td>0.620000</td>\n",
       "      <td>0.265298</td>\n",
       "      <td>20.0</td>\n",
       "      <td>0</td>\n",
       "      <td>0.343806</td>\n",
       "    </tr>\n",
       "    <tr>\n",
       "      <th>1</th>\n",
       "      <td>2022-12-30</td>\n",
       "      <td>1</td>\n",
       "      <td>1</td>\n",
       "      <td>0.777778</td>\n",
       "      <td>0.315016</td>\n",
       "      <td>40.0</td>\n",
       "      <td>1</td>\n",
       "      <td>0.491583</td>\n",
       "    </tr>\n",
       "    <tr>\n",
       "      <th>2</th>\n",
       "      <td>2022-12-29</td>\n",
       "      <td>0</td>\n",
       "      <td>2</td>\n",
       "      <td>0.001000</td>\n",
       "      <td>0.237445</td>\n",
       "      <td>40.0</td>\n",
       "      <td>1</td>\n",
       "      <td>0.097901</td>\n",
       "    </tr>\n",
       "    <tr>\n",
       "      <th>3</th>\n",
       "      <td>2022-12-28</td>\n",
       "      <td>1</td>\n",
       "      <td>2</td>\n",
       "      <td>0.500000</td>\n",
       "      <td>0.314575</td>\n",
       "      <td>40.0</td>\n",
       "      <td>1</td>\n",
       "      <td>0.187709</td>\n",
       "    </tr>\n",
       "    <tr>\n",
       "      <th>4</th>\n",
       "      <td>2022-12-27</td>\n",
       "      <td>1</td>\n",
       "      <td>2</td>\n",
       "      <td>0.001000</td>\n",
       "      <td>0.290084</td>\n",
       "      <td>40.0</td>\n",
       "      <td>1</td>\n",
       "      <td>0.308737</td>\n",
       "    </tr>\n",
       "  </tbody>\n",
       "</table>\n",
       "</div>"
      ],
      "text/plain": [
       "        Date  senti  cixing  diversity    freq_2  vowel_percentage(%)  \\\n",
       "0 2022-12-31      1       0   0.620000  0.265298                 20.0   \n",
       "1 2022-12-30      1       1   0.777778  0.315016                 40.0   \n",
       "2 2022-12-29      0       2   0.001000  0.237445                 40.0   \n",
       "3 2022-12-28      1       2   0.500000  0.314575                 40.0   \n",
       "4 2022-12-27      1       2   0.001000  0.290084                 40.0   \n",
       "\n",
       "   if_weekdays  correlations  \n",
       "0            0      0.343806  \n",
       "1            1      0.491583  \n",
       "2            1      0.097901  \n",
       "3            1      0.187709  \n",
       "4            1      0.308737  "
      ]
     },
     "execution_count": 66,
     "metadata": {},
     "output_type": "execute_result"
    }
   ],
   "source": [
    "# 删除不需要的列\n",
    "# data_features = data_features.drop(['cixing','senti'], axis=1)\n",
    "data_features.head()"
   ]
  },
  {
   "cell_type": "markdown",
   "metadata": {},
   "source": [
    "### 转换数据"
   ]
  },
  {
   "cell_type": "code",
   "execution_count": 67,
   "metadata": {},
   "outputs": [
    {
     "name": "stderr",
     "output_type": "stream",
     "text": [
      "C:\\Users\\dongl\\AppData\\Local\\Temp/ipykernel_6024/1307404672.py:2: SettingWithCopyWarning: \n",
      "A value is trying to be set on a copy of a slice from a DataFrame.\n",
      "Try using .loc[row_indexer,col_indexer] = value instead\n",
      "\n",
      "See the caveats in the documentation: https://pandas.pydata.org/pandas-docs/stable/user_guide/indexing.html#returning-a-view-versus-a-copy\n",
      "  data_features['Month'] = data_features['Date'].apply(lambda x: x.month)\n",
      "C:\\Users\\dongl\\AppData\\Local\\Temp/ipykernel_6024/1307404672.py:3: SettingWithCopyWarning: \n",
      "A value is trying to be set on a copy of a slice from a DataFrame.\n",
      "Try using .loc[row_indexer,col_indexer] = value instead\n",
      "\n",
      "See the caveats in the documentation: https://pandas.pydata.org/pandas-docs/stable/user_guide/indexing.html#returning-a-view-versus-a-copy\n",
      "  data_features['Day'] = data_features['Date'].apply(lambda x: x.day)\n"
     ]
    },
    {
     "data": {
      "text/html": [
       "<div>\n",
       "<style scoped>\n",
       "    .dataframe tbody tr th:only-of-type {\n",
       "        vertical-align: middle;\n",
       "    }\n",
       "\n",
       "    .dataframe tbody tr th {\n",
       "        vertical-align: top;\n",
       "    }\n",
       "\n",
       "    .dataframe thead th {\n",
       "        text-align: right;\n",
       "    }\n",
       "</style>\n",
       "<table border=\"1\" class=\"dataframe\">\n",
       "  <thead>\n",
       "    <tr style=\"text-align: right;\">\n",
       "      <th></th>\n",
       "      <th>senti</th>\n",
       "      <th>cixing</th>\n",
       "      <th>diversity</th>\n",
       "      <th>freq_2</th>\n",
       "      <th>vowel_percentage(%)</th>\n",
       "      <th>if_weekdays</th>\n",
       "      <th>correlations</th>\n",
       "      <th>Month</th>\n",
       "      <th>Day</th>\n",
       "    </tr>\n",
       "  </thead>\n",
       "  <tbody>\n",
       "    <tr>\n",
       "      <th>0</th>\n",
       "      <td>1</td>\n",
       "      <td>0</td>\n",
       "      <td>0.620000</td>\n",
       "      <td>0.265298</td>\n",
       "      <td>20.0</td>\n",
       "      <td>0</td>\n",
       "      <td>0.343806</td>\n",
       "      <td>12</td>\n",
       "      <td>31</td>\n",
       "    </tr>\n",
       "    <tr>\n",
       "      <th>1</th>\n",
       "      <td>1</td>\n",
       "      <td>1</td>\n",
       "      <td>0.777778</td>\n",
       "      <td>0.315016</td>\n",
       "      <td>40.0</td>\n",
       "      <td>1</td>\n",
       "      <td>0.491583</td>\n",
       "      <td>12</td>\n",
       "      <td>30</td>\n",
       "    </tr>\n",
       "    <tr>\n",
       "      <th>2</th>\n",
       "      <td>0</td>\n",
       "      <td>2</td>\n",
       "      <td>0.001000</td>\n",
       "      <td>0.237445</td>\n",
       "      <td>40.0</td>\n",
       "      <td>1</td>\n",
       "      <td>0.097901</td>\n",
       "      <td>12</td>\n",
       "      <td>29</td>\n",
       "    </tr>\n",
       "    <tr>\n",
       "      <th>3</th>\n",
       "      <td>1</td>\n",
       "      <td>2</td>\n",
       "      <td>0.500000</td>\n",
       "      <td>0.314575</td>\n",
       "      <td>40.0</td>\n",
       "      <td>1</td>\n",
       "      <td>0.187709</td>\n",
       "      <td>12</td>\n",
       "      <td>28</td>\n",
       "    </tr>\n",
       "    <tr>\n",
       "      <th>4</th>\n",
       "      <td>1</td>\n",
       "      <td>2</td>\n",
       "      <td>0.001000</td>\n",
       "      <td>0.290084</td>\n",
       "      <td>40.0</td>\n",
       "      <td>1</td>\n",
       "      <td>0.308737</td>\n",
       "      <td>12</td>\n",
       "      <td>27</td>\n",
       "    </tr>\n",
       "  </tbody>\n",
       "</table>\n",
       "</div>"
      ],
      "text/plain": [
       "   senti  cixing  diversity    freq_2  vowel_percentage(%)  if_weekdays  \\\n",
       "0      1       0   0.620000  0.265298                 20.0            0   \n",
       "1      1       1   0.777778  0.315016                 40.0            1   \n",
       "2      0       2   0.001000  0.237445                 40.0            1   \n",
       "3      1       2   0.500000  0.314575                 40.0            1   \n",
       "4      1       2   0.001000  0.290084                 40.0            1   \n",
       "\n",
       "   correlations  Month  Day  \n",
       "0      0.343806     12   31  \n",
       "1      0.491583     12   30  \n",
       "2      0.097901     12   29  \n",
       "3      0.187709     12   28  \n",
       "4      0.308737     12   27  "
      ]
     },
     "execution_count": 67,
     "metadata": {},
     "output_type": "execute_result"
    }
   ],
   "source": [
    "# 将data_features第一列数据分成两列 即将Date列分成月和日两列\n",
    "data_features['Month'] = data_features['Date'].apply(lambda x: x.month)\n",
    "data_features['Day'] = data_features['Date'].apply(lambda x: x.day)\n",
    "data_features = data_features.drop(['Date'], axis=1)\n",
    "data_features.head()"
   ]
  },
  {
   "cell_type": "code",
   "execution_count": 68,
   "metadata": {},
   "outputs": [
    {
     "name": "stdout",
     "output_type": "stream",
     "text": [
      "data_features_np.shape =  (359, 9)\n",
      "data_features_np[:5,:] = \n",
      " [[1.00000000e+00 0.00000000e+00 6.20000000e-01 2.65297965e-01\n",
      "  2.00000000e+01 0.00000000e+00 3.43805514e-01 1.20000000e+01\n",
      "  3.10000000e+01]\n",
      " [1.00000000e+00 1.00000000e+00 7.77777778e-01 3.15016189e-01\n",
      "  4.00000000e+01 1.00000000e+00 4.91582513e-01 1.20000000e+01\n",
      "  3.00000000e+01]\n",
      " [0.00000000e+00 2.00000000e+00 1.00000000e-03 2.37445032e-01\n",
      "  4.00000000e+01 1.00000000e+00 9.79006807e-02 1.20000000e+01\n",
      "  2.90000000e+01]\n",
      " [1.00000000e+00 2.00000000e+00 5.00000000e-01 3.14574926e-01\n",
      "  4.00000000e+01 1.00000000e+00 1.87708873e-01 1.20000000e+01\n",
      "  2.80000000e+01]\n",
      " [1.00000000e+00 2.00000000e+00 1.00000000e-03 2.90084013e-01\n",
      "  4.00000000e+01 1.00000000e+00 3.08737246e-01 1.20000000e+01\n",
      "  2.70000000e+01]]\n",
      "data_distribution_np.shape =  (359, 7)\n",
      "data_distribution_np[:5,:] = \n",
      " [[ 0  2 17 37 29 12  2]\n",
      " [ 0  4 21 38 26  9  1]\n",
      " [ 0  2 16 38 30 12  2]\n",
      " [ 0  3 21 40 25  9  1]\n",
      " [ 0  2 17 35 29 14  3]]\n"
     ]
    }
   ],
   "source": [
    "# 转换数据格式\n",
    "data_features_np = data_features.values\n",
    "data_distribution_np = data_distribution.values\n",
    "print('data_features_np.shape = ', data_features_np.shape)\n",
    "print('data_features_np[:5,:] = \\n', data_features_np[:5,:])\n",
    "print('data_distribution_np.shape = ', data_distribution_np.shape)\n",
    "print('data_distribution_np[:5,:] = \\n', data_distribution_np[:5,:])"
   ]
  },
  {
   "cell_type": "code",
   "execution_count": 69,
   "metadata": {},
   "outputs": [
    {
     "name": "stdout",
     "output_type": "stream",
     "text": [
      "data_features_np_norm[:5,:] = \n",
      " [[ 0.06666118 -0.86473559  0.30348369 -0.51696379 -1.27981959 -1.57652685\n",
      "  -0.04498888  1.58231754  1.72832776]\n",
      " [ 0.06666118 -0.55827944  0.8165452   0.36174245  0.34561166  0.63430572\n",
      "   0.41264337  1.58231754  1.61368074]\n",
      " [-2.59237924 -0.25182329 -1.70937944 -1.0092289   0.34561166  0.63430572\n",
      "  -0.80650105  1.58231754  1.49903372]\n",
      " [ 0.06666118 -0.25182329 -0.0867321   0.35394368  0.34561166  0.63430572\n",
      "  -0.52838521  1.58231754  1.3843867 ]\n",
      " [ 0.06666118 -0.25182329 -1.70937944 -0.07890199  0.34561166  0.63430572\n",
      "  -0.15358745  1.58231754  1.26973968]]\n",
      "data_distribution_np[:5,:] = \n",
      " [[0.   0.02 0.17 0.37 0.29 0.12 0.02]\n",
      " [0.   0.04 0.21 0.38 0.26 0.09 0.01]\n",
      " [0.   0.02 0.16 0.38 0.3  0.12 0.02]\n",
      " [0.   0.03 0.21 0.4  0.25 0.09 0.01]\n",
      " [0.   0.02 0.17 0.35 0.29 0.14 0.03]]\n"
     ]
    }
   ],
   "source": [
    "# 做数据处理\n",
    "# 对data_features_np进行normalization\n",
    "features_mean = np.mean(data_features_np, axis=0)\n",
    "features_std = np.std(data_features_np, axis=0)\n",
    "data_features_np_norm = (data_features_np - features_mean) / features_std\n",
    "# 将data_distribution_np中的数据转换为概率分布\n",
    "data_distribution_np = data_distribution_np / 100\n",
    "print('data_features_np_norm[:5,:] = \\n', data_features_np_norm[:5,:])\n",
    "print('data_distribution_np[:5,:] = \\n', data_distribution_np[:5,:])"
   ]
  },
  {
   "cell_type": "markdown",
   "metadata": {},
   "source": [
    "### 划分数据集"
   ]
  },
  {
   "cell_type": "code",
   "execution_count": 70,
   "metadata": {},
   "outputs": [
    {
     "name": "stdout",
     "output_type": "stream",
     "text": [
      "device =  cpu\n"
     ]
    }
   ],
   "source": [
    "# 将数据转换为tensor，并用device指定运行的设备\n",
    "device = torch.device('cuda' if torch.cuda.is_available() else 'cpu')\n",
    "print('device = ', device)\n",
    "data_features_tensor = torch.tensor(data_features_np_norm, dtype=torch.float32, device=device)\n",
    "data_distribution_tensor = torch.tensor(data_distribution_np, dtype=torch.float32, device=device)"
   ]
  },
  {
   "cell_type": "code",
   "execution_count": 71,
   "metadata": {},
   "outputs": [
    {
     "name": "stdout",
     "output_type": "stream",
     "text": [
      "data_features_tensor.shape =  torch.Size([359, 9])\n",
      "data_features_tensor[:5,:] = \n",
      " tensor([[ 0.0667, -0.8647,  0.3035, -0.5170, -1.2798, -1.5765, -0.0450,  1.5823,\n",
      "          1.7283],\n",
      "        [ 0.0667, -0.5583,  0.8165,  0.3617,  0.3456,  0.6343,  0.4126,  1.5823,\n",
      "          1.6137],\n",
      "        [-2.5924, -0.2518, -1.7094, -1.0092,  0.3456,  0.6343, -0.8065,  1.5823,\n",
      "          1.4990],\n",
      "        [ 0.0667, -0.2518, -0.0867,  0.3539,  0.3456,  0.6343, -0.5284,  1.5823,\n",
      "          1.3844],\n",
      "        [ 0.0667, -0.2518, -1.7094, -0.0789,  0.3456,  0.6343, -0.1536,  1.5823,\n",
      "          1.2697]])\n",
      "data_distribution_tensor.shape =  torch.Size([359, 7])\n",
      "data_distribution_tensor[:5,:] = \n",
      " tensor([[0.0000, 0.0200, 0.1700, 0.3700, 0.2900, 0.1200, 0.0200],\n",
      "        [0.0000, 0.0400, 0.2100, 0.3800, 0.2600, 0.0900, 0.0100],\n",
      "        [0.0000, 0.0200, 0.1600, 0.3800, 0.3000, 0.1200, 0.0200],\n",
      "        [0.0000, 0.0300, 0.2100, 0.4000, 0.2500, 0.0900, 0.0100],\n",
      "        [0.0000, 0.0200, 0.1700, 0.3500, 0.2900, 0.1400, 0.0300]])\n"
     ]
    }
   ],
   "source": [
    "print('data_features_tensor.shape = ', data_features_tensor.shape)\n",
    "print('data_features_tensor[:5,:] = \\n', data_features_tensor[:5,:])\n",
    "print('data_distribution_tensor.shape = ', data_distribution_tensor.shape)\n",
    "print('data_distribution_tensor[:5,:] = \\n', data_distribution_tensor[:5,:])"
   ]
  },
  {
   "cell_type": "code",
   "execution_count": 72,
   "metadata": {},
   "outputs": [
    {
     "name": "stdout",
     "output_type": "stream",
     "text": [
      "train_size =  251\n"
     ]
    }
   ],
   "source": [
    "# 划分训练集和测试集\n",
    "train_size = int(0.7 * data_features_tensor.shape[0])\n",
    "print('train_size = ', train_size)"
   ]
  },
  {
   "cell_type": "code",
   "execution_count": 73,
   "metadata": {},
   "outputs": [],
   "source": [
    "# 先将数据打乱\n",
    "indices = torch.randperm(data_features_tensor.shape[0])\n",
    "data_features_tensor = data_features_tensor[indices]\n",
    "data_distribution_tensor = data_distribution_tensor[indices]"
   ]
  },
  {
   "cell_type": "code",
   "execution_count": 74,
   "metadata": {},
   "outputs": [],
   "source": [
    "test_indices = indices[train_size:]\n",
    "test_indices = test_indices.cpu().numpy()"
   ]
  },
  {
   "cell_type": "code",
   "execution_count": 75,
   "metadata": {},
   "outputs": [
    {
     "name": "stdout",
     "output_type": "stream",
     "text": [
      "train_features.shape =  torch.Size([251, 9])\n",
      "train_distribution.shape =  torch.Size([251, 7])\n",
      "test_features.shape =  torch.Size([108, 9])\n",
      "test_distribution.shape =  torch.Size([108, 7])\n"
     ]
    }
   ],
   "source": [
    "# 划分训练集和测试集\n",
    "train_features = data_features_tensor[:train_size,:]\n",
    "train_distribution = data_distribution_tensor[:train_size,:]\n",
    "test_features = data_features_tensor[train_size:,:]\n",
    "test_distribution = data_distribution_tensor[train_size:,:]\n",
    "\n",
    "print('train_features.shape = ', train_features.shape)\n",
    "print('train_distribution.shape = ', train_distribution.shape)\n",
    "print('test_features.shape = ', test_features.shape)\n",
    "print('test_distribution.shape = ', test_distribution.shape)\n"
   ]
  },
  {
   "cell_type": "code",
   "execution_count": 76,
   "metadata": {},
   "outputs": [],
   "source": [
    "# 制作dataloader\n",
    "batch_size = 64\n",
    "train_dataset = torch.utils.data.TensorDataset(train_features, train_distribution)\n",
    "test_dataset = torch.utils.data.TensorDataset(test_features, test_distribution)\n",
    "train_loader = torch.utils.data.DataLoader(train_dataset, batch_size=batch_size, shuffle=True)\n",
    "test_loader = torch.utils.data.DataLoader(test_dataset, batch_size=batch_size, shuffle=False)"
   ]
  },
  {
   "cell_type": "markdown",
   "metadata": {},
   "source": [
    "### 网络参数"
   ]
  },
  {
   "cell_type": "code",
   "execution_count": 77,
   "metadata": {},
   "outputs": [],
   "source": [
    "inp_dim = 9\n",
    "hidden_dim = 50\n",
    "out_dim = 7"
   ]
  },
  {
   "cell_type": "code",
   "execution_count": 78,
   "metadata": {},
   "outputs": [],
   "source": [
    "net = SimpleNet(inp_dim, hidden_dim, out_dim).to(device)"
   ]
  },
  {
   "cell_type": "code",
   "execution_count": 79,
   "metadata": {},
   "outputs": [
    {
     "data": {
      "text/plain": [
       "==========================================================================================\n",
       "Layer (type:depth-idx)                   Output Shape              Param #\n",
       "==========================================================================================\n",
       "SimpleNet                                [64, 7]                   --\n",
       "├─Linear: 1-1                            [64, 50]                  500\n",
       "├─Linear: 1-2                            [64, 50]                  2,550\n",
       "├─Linear: 1-3                            [64, 7]                   357\n",
       "├─Softmax: 1-4                           [64, 7]                   --\n",
       "==========================================================================================\n",
       "Total params: 3,407\n",
       "Trainable params: 3,407\n",
       "Non-trainable params: 0\n",
       "Total mult-adds (M): 0.22\n",
       "==========================================================================================\n",
       "Input size (MB): 0.00\n",
       "Forward/backward pass size (MB): 0.05\n",
       "Params size (MB): 0.01\n",
       "Estimated Total Size (MB): 0.07\n",
       "=========================================================================================="
      ]
     },
     "execution_count": 79,
     "metadata": {},
     "output_type": "execute_result"
    }
   ],
   "source": [
    "summary(net, (batch_size,inp_dim))"
   ]
  },
  {
   "cell_type": "code",
   "execution_count": 80,
   "metadata": {},
   "outputs": [],
   "source": [
    "criterion = nn.MSELoss()\n",
    "optimizer = torch.optim.Adam(net.parameters(), lr=0.001)"
   ]
  },
  {
   "cell_type": "markdown",
   "metadata": {},
   "source": [
    "### 开始训练"
   ]
  },
  {
   "cell_type": "code",
   "execution_count": 81,
   "metadata": {},
   "outputs": [
    {
     "name": "stdout",
     "output_type": "stream",
     "text": [
      "Epoch [  20/ 500], Train Loss: 0.000044, Test Loss: 0.000059\n",
      "Epoch [  40/ 500], Train Loss: 0.000042, Test Loss: 0.000056\n",
      "Epoch [  60/ 500], Train Loss: 0.000040, Test Loss: 0.000053\n",
      "Epoch [  80/ 500], Train Loss: 0.000039, Test Loss: 0.000051\n",
      "Epoch [ 100/ 500], Train Loss: 0.000037, Test Loss: 0.000049\n",
      "Epoch [ 120/ 500], Train Loss: 0.000037, Test Loss: 0.000048\n",
      "Epoch [ 140/ 500], Train Loss: 0.000036, Test Loss: 0.000047\n",
      "Epoch [ 160/ 500], Train Loss: 0.000037, Test Loss: 0.000046\n",
      "Epoch [ 180/ 500], Train Loss: 0.000036, Test Loss: 0.000046\n",
      "Epoch [ 200/ 500], Train Loss: 0.000036, Test Loss: 0.000046\n",
      "Epoch [ 220/ 500], Train Loss: 0.000036, Test Loss: 0.000046\n",
      "Epoch [ 240/ 500], Train Loss: 0.000036, Test Loss: 0.000045\n",
      "Epoch [ 260/ 500], Train Loss: 0.000035, Test Loss: 0.000046\n",
      "Epoch [ 280/ 500], Train Loss: 0.000035, Test Loss: 0.000045\n",
      "Epoch [ 300/ 500], Train Loss: 0.000035, Test Loss: 0.000045\n",
      "Epoch [ 320/ 500], Train Loss: 0.000035, Test Loss: 0.000045\n",
      "Epoch [ 340/ 500], Train Loss: 0.000035, Test Loss: 0.000045\n",
      "Epoch [ 360/ 500], Train Loss: 0.000035, Test Loss: 0.000045\n",
      "Epoch [ 380/ 500], Train Loss: 0.000034, Test Loss: 0.000045\n",
      "Epoch [ 400/ 500], Train Loss: 0.000035, Test Loss: 0.000045\n",
      "Epoch [ 420/ 500], Train Loss: 0.000034, Test Loss: 0.000045\n",
      "Epoch [ 440/ 500], Train Loss: 0.000034, Test Loss: 0.000045\n",
      "Epoch [ 460/ 500], Train Loss: 0.000034, Test Loss: 0.000045\n",
      "Epoch [ 480/ 500], Train Loss: 0.000033, Test Loss: 0.000045\n",
      "Epoch [ 500/ 500], Train Loss: 0.000033, Test Loss: 0.000045\n"
     ]
    }
   ],
   "source": [
    "# 训练\n",
    "# optimizer = torch.optim.SGD(net.parameters(), lr=1e-7)\n",
    "# optimizer = torch.optim.Adam(net.parameters(), lr=1e-4)\n",
    "num_epochs = 500\n",
    "train_loss_list = []\n",
    "test_loss_list = []\n",
    "for epoch in range(num_epochs):\n",
    "    train_loss = 0\n",
    "    test_loss = 0\n",
    "    net.train()\n",
    "    for i, (features, distribution) in enumerate(train_loader):\n",
    "        optimizer.zero_grad()\n",
    "        output = net(features)\n",
    "        loss = criterion(output, distribution)\n",
    "        loss.backward()\n",
    "        optimizer.step()\n",
    "        train_loss += loss.item()\n",
    "    train_loss = train_loss / train_size\n",
    "    train_loss_list.append(train_loss)\n",
    "    net.eval()\n",
    "    with torch.no_grad():\n",
    "        for i, (features, distribution) in enumerate(test_loader):\n",
    "            output = net(features)\n",
    "            loss = criterion(output, distribution)\n",
    "            test_loss += loss.item()\n",
    "    test_loss = test_loss / (359 - train_size)\n",
    "    test_loss_list.append(test_loss)\n",
    "    if (epoch + 1) % 20 == 0:\n",
    "        print('Epoch [{:4d}/{:4d}], Train Loss: {:.6f}, Test Loss: {:.6f}'.format(epoch + 1, num_epochs, train_loss_list[-1], test_loss_list[-1]))"
   ]
  },
  {
   "cell_type": "markdown",
   "metadata": {},
   "source": [
    "### 训练过程loss-epoch曲线"
   ]
  },
  {
   "cell_type": "code",
   "execution_count": 82,
   "metadata": {},
   "outputs": [
    {
     "data": {
      "image/png": "[encoded data removed]",
      "text/plain": [
       "<Figure size 720x432 with 1 Axes>"
      ]
     },
     "metadata": {
      "needs_background": "light"
     },
     "output_type": "display_data"
    }
   ],
   "source": [
    "# 画图\n",
    "plt.figure(figsize=(10, 6))\n",
    "plt.plot(train_loss_list, label='train_loss', color='r')\n",
    "plt.plot(test_loss_list, label='test_loss', color='b')\n",
    "plt.xlabel('epoch')\n",
    "plt.ylabel('loss')\n",
    "plt.legend()\n",
    "plt.show()"
   ]
  },
  {
   "cell_type": "code",
   "execution_count": 83,
   "metadata": {},
   "outputs": [
    {
     "data": {
      "text/plain": [
       "4.4470891158130985e-05"
      ]
     },
     "execution_count": 83,
     "metadata": {},
     "output_type": "execute_result"
    }
   ],
   "source": [
    "min(test_loss_list)"
   ]
  },
  {
   "cell_type": "markdown",
   "metadata": {},
   "source": [
    "### 保存模型"
   ]
  },
  {
   "cell_type": "code",
   "execution_count": 84,
   "metadata": {},
   "outputs": [],
   "source": [
    "# 保存模型\n",
    "# torch.save(net.state_dict(), 'model_useFeatures.pth')"
   ]
  },
  {
   "cell_type": "markdown",
   "metadata": {},
   "source": [
    "### 加载模型与评估"
   ]
  },
  {
   "cell_type": "code",
   "execution_count": 85,
   "metadata": {},
   "outputs": [],
   "source": [
    "# # 加载模型\n",
    "# device = torch.device('cuda' if torch.cuda.is_available() else 'cpu')\n",
    "# net = SimpleNet(inp_dim, hidden_dim, out_dim).to(device)\n",
    "# net.load_state_dict(torch.load('model_useFeatures.pth'))"
   ]
  },
  {
   "cell_type": "code",
   "execution_count": 86,
   "metadata": {},
   "outputs": [],
   "source": [
    "# 从test_features中随机抽取一个样本"
   ]
  },
  {
   "cell_type": "code",
   "execution_count": 87,
   "metadata": {},
   "outputs": [],
   "source": [
    "def mseloss(y_pred, y):\n",
    "    return np.mean((y_pred - y)**2)"
   ]
  },
  {
   "cell_type": "code",
   "execution_count": 88,
   "metadata": {},
   "outputs": [
    {
     "name": "stdout",
     "output_type": "stream",
     "text": [
      "output_np = \n",
      " [[0.00444048 0.04392627 0.20513156 0.3454996  0.25986338 0.11537538\n",
      "  0.02576329]]\n",
      "test_distribution_np[idx,:] = \n",
      " [0.   0.03 0.19 0.35 0.29 0.13 0.02]\n",
      "criterion:  tensor(0.0002)\n",
      "mseloss:  0.0002311696\n"
     ]
    },
    {
     "data": {
      "image/png": "[encoded data removed]",
      "text/plain": [
       "<Figure size 720x432 with 1 Axes>"
      ]
     },
     "metadata": {
      "needs_background": "light"
     },
     "output_type": "display_data"
    }
   ],
   "source": [
    "idx = np.random.randint(0, test_features.shape[0])\n",
    "# 找出该样本对应的单词\n",
    "right_idx = test_indices[idx]\n",
    "word = data['word'][right_idx]\n",
    "# 推理\n",
    "net.eval()\n",
    "with torch.no_grad():\n",
    "    output = net(test_features[idx,:].unsqueeze(0))\n",
    "    output_np = output.cpu().numpy()\n",
    "    print('output_np = \\n', output_np)\n",
    "    print('test_distribution_np[idx,:] = \\n', test_distribution[idx,:].cpu().numpy())\n",
    "    print('criterion: ', criterion(output, test_distribution[idx,:].unsqueeze(0)))\n",
    "    print('mseloss: ', mseloss(output_np, test_distribution[idx,:].cpu().numpy()))\n",
    "    # 画图\n",
    "    plt.figure(figsize=(10, 6))\n",
    "    plt.bar(np.arange(7), output_np[0], width=0.5, label='predict_distribution', color='r')\n",
    "    plt.bar(np.arange(7)+0.5,  test_distribution[idx,:].cpu().numpy() , width=0.5, label='true_distribution', color='b')\n",
    "    plt.xlabel('class')\n",
    "    plt.ylabel('probability')\n",
    "    plt.title('the distribution of the word \"{}\"'.format(word))\n",
    "    plt.savefig('distribution_of_{}.png'.format(word))\n",
    "    plt.legend()\n",
    "    plt.show()"
   ]
  },
  {
   "attachments": {},
   "cell_type": "markdown",
   "metadata": {},
   "source": [
    "### 测试集总体的mse"
   ]
  },
  {
   "cell_type": "code",
   "execution_count": 89,
   "metadata": {},
   "outputs": [
    {
     "name": "stdout",
     "output_type": "stream",
     "text": [
      "mse_sum =  0.24923802075136336\n"
     ]
    }
   ],
   "source": [
    "# 求测试集总体的mse\n",
    "with torch.no_grad():\n",
    "    mse_sum = 0\n",
    "    for idx in range(0, test_features.shape[0]):\n",
    "        output = net(test_features[idx,:].unsqueeze(0))\n",
    "        output_np = output.cpu().numpy()\n",
    "        mse_sum += mseloss(output_np, test_distribution[idx,:].cpu().numpy())\n",
    "    print('mse_sum = ', mse_sum)"
   ]
  },
  {
   "cell_type": "code",
   "execution_count": 94,
   "metadata": {},
   "outputs": [
    {
     "data": {
      "text/plain": [
       "108"
      ]
     },
     "execution_count": 94,
     "metadata": {},
     "output_type": "execute_result"
    }
   ],
   "source": [
    "test_features.shape[0]"
   ]
  },
  {
   "cell_type": "markdown",
   "metadata": {},
   "source": [
    "#### 单词eerie的分布\n",
    "\n",
    "<!-- 表格 -->\n",
    "\n",
    "| word | date | if_weekday | senti | cixing | diversity | freq        | vowel percentage(%) | correlations       |\n",
    "|:-----|:-----|:-----------|:------|:-------|:----------|:------------|:--------------------|:-------------------|\n",
    "| eerie| 0    | 0/1        | 1     | NN(2)  | 0.444444  | 0.482179277 | 80                  | 1.4018470349381116 |"
   ]
  },
  {
   "cell_type": "code",
   "execution_count": 90,
   "metadata": {},
   "outputs": [
    {
     "data": {
      "text/html": [
       "<div>\n",
       "<style scoped>\n",
       "    .dataframe tbody tr th:only-of-type {\n",
       "        vertical-align: middle;\n",
       "    }\n",
       "\n",
       "    .dataframe tbody tr th {\n",
       "        vertical-align: top;\n",
       "    }\n",
       "\n",
       "    .dataframe thead th {\n",
       "        text-align: right;\n",
       "    }\n",
       "</style>\n",
       "<table border=\"1\" class=\"dataframe\">\n",
       "  <thead>\n",
       "    <tr style=\"text-align: right;\">\n",
       "      <th></th>\n",
       "      <th>senti</th>\n",
       "      <th>cixing</th>\n",
       "      <th>diversity</th>\n",
       "      <th>freq_2</th>\n",
       "      <th>vowel_percentage(%)</th>\n",
       "      <th>if_weekdays</th>\n",
       "      <th>correlations</th>\n",
       "      <th>Month</th>\n",
       "      <th>Day</th>\n",
       "    </tr>\n",
       "  </thead>\n",
       "  <tbody>\n",
       "    <tr>\n",
       "      <th>0</th>\n",
       "      <td>1</td>\n",
       "      <td>0</td>\n",
       "      <td>0.620000</td>\n",
       "      <td>0.265298</td>\n",
       "      <td>20.0</td>\n",
       "      <td>0</td>\n",
       "      <td>0.343806</td>\n",
       "      <td>12</td>\n",
       "      <td>31</td>\n",
       "    </tr>\n",
       "    <tr>\n",
       "      <th>1</th>\n",
       "      <td>1</td>\n",
       "      <td>1</td>\n",
       "      <td>0.777778</td>\n",
       "      <td>0.315016</td>\n",
       "      <td>40.0</td>\n",
       "      <td>1</td>\n",
       "      <td>0.491583</td>\n",
       "      <td>12</td>\n",
       "      <td>30</td>\n",
       "    </tr>\n",
       "    <tr>\n",
       "      <th>2</th>\n",
       "      <td>0</td>\n",
       "      <td>2</td>\n",
       "      <td>0.001000</td>\n",
       "      <td>0.237445</td>\n",
       "      <td>40.0</td>\n",
       "      <td>1</td>\n",
       "      <td>0.097901</td>\n",
       "      <td>12</td>\n",
       "      <td>29</td>\n",
       "    </tr>\n",
       "    <tr>\n",
       "      <th>3</th>\n",
       "      <td>1</td>\n",
       "      <td>2</td>\n",
       "      <td>0.500000</td>\n",
       "      <td>0.314575</td>\n",
       "      <td>40.0</td>\n",
       "      <td>1</td>\n",
       "      <td>0.187709</td>\n",
       "      <td>12</td>\n",
       "      <td>28</td>\n",
       "    </tr>\n",
       "    <tr>\n",
       "      <th>4</th>\n",
       "      <td>1</td>\n",
       "      <td>2</td>\n",
       "      <td>0.001000</td>\n",
       "      <td>0.290084</td>\n",
       "      <td>40.0</td>\n",
       "      <td>1</td>\n",
       "      <td>0.308737</td>\n",
       "      <td>12</td>\n",
       "      <td>27</td>\n",
       "    </tr>\n",
       "  </tbody>\n",
       "</table>\n",
       "</div>"
      ],
      "text/plain": [
       "   senti  cixing  diversity    freq_2  vowel_percentage(%)  if_weekdays  \\\n",
       "0      1       0   0.620000  0.265298                 20.0            0   \n",
       "1      1       1   0.777778  0.315016                 40.0            1   \n",
       "2      0       2   0.001000  0.237445                 40.0            1   \n",
       "3      1       2   0.500000  0.314575                 40.0            1   \n",
       "4      1       2   0.001000  0.290084                 40.0            1   \n",
       "\n",
       "   correlations  Month  Day  \n",
       "0      0.343806     12   31  \n",
       "1      0.491583     12   30  \n",
       "2      0.097901     12   29  \n",
       "3      0.187709     12   28  \n",
       "4      0.308737     12   27  "
      ]
     },
     "execution_count": 90,
     "metadata": {},
     "output_type": "execute_result"
    }
   ],
   "source": [
    "data_features.head()"
   ]
  },
  {
   "cell_type": "code",
   "execution_count": 91,
   "metadata": {},
   "outputs": [],
   "source": [
    "# data_eerie_np = np.array([1,0.4444444,0.482179277,80,0,1.4018470349381116]) # 删掉了cixing\n",
    "# data_eerie_np = np.array([0.4444444,0.482179277,80,0,1.4018470349381116]) # 删掉了cixing 和 senti\n",
    "data_eerie_np = np.array([1, 2, 0.4444444,0.482179277,80,0,1.4018470349381116,3,1])"
   ]
  },
  {
   "cell_type": "code",
   "execution_count": 92,
   "metadata": {},
   "outputs": [],
   "source": [
    "# 将数据转换为tensor，并用device指定运行的设备\n",
    "data_eerie_np = (data_eerie_np - features_mean) / features_std\n",
    "data_eerie_tensor = torch.tensor(data_eerie_np, dtype=torch.float32, device=device)"
   ]
  },
  {
   "cell_type": "code",
   "execution_count": 93,
   "metadata": {},
   "outputs": [
    {
     "name": "stdout",
     "output_type": "stream",
     "text": [
      "output_np = \n",
      " [[0.00540953 0.07753994 0.22494373 0.30244526 0.25199705 0.10762829\n",
      "  0.03003615]]\n"
     ]
    },
    {
     "data": {
      "image/png": "[encoded data removed]",
      "text/plain": [
       "<Figure size 720x432 with 1 Axes>"
      ]
     },
     "metadata": {
      "needs_background": "light"
     },
     "output_type": "display_data"
    }
   ],
   "source": [
    "\n",
    "# 推理\n",
    "net.eval()\n",
    "with torch.no_grad():\n",
    "    output = net(data_eerie_tensor.unsqueeze(0))\n",
    "    output_np = output.cpu().numpy()\n",
    "    print('output_np = \\n', output_np)\n",
    "    # 画图\n",
    "    plt.figure(figsize=(10, 6))\n",
    "    plt.bar(np.arange(7), output_np[0], width=0.5, label='predict_distribution', color='r')\n",
    "    plt.xlabel('class')\n",
    "    plt.ylabel('probability')\n",
    "    plt.title('the distribution of the word \"{}\"'.format('eerie'))\n",
    "    plt.savefig('distribution_of_{}.png'.format('eerie'))\n",
    "    plt.legend()\n",
    "    plt.show()"
   ]
  },
  {
   "cell_type": "code",
   "execution_count": 96,
   "metadata": {},
   "outputs": [
    {
     "data": {
      "text/plain": [
       "0.99999994"
      ]
     },
     "execution_count": 96,
     "metadata": {},
     "output_type": "execute_result"
    }
   ],
   "source": [
    "output_np.sum()"
   ]
  }
 ],
 "metadata": {
  "kernelspec": {
   "display_name": "Python 3 (ipykernel)",
   "language": "python",
   "name": "python3"
  },
  "language_info": {
   "codemirror_mode": {
    "name": "ipython",
    "version": 3
   },
   "file_extension": ".py",
   "mimetype": "text/x-python",
   "name": "python",
   "nbconvert_exporter": "python",
   "pygments_lexer": "ipython3",
   "version": "3.9.7"
  },
  "vscode": {
   "interpreter": {
    "hash": "5179d32cf6ec497baf3f8a3ef987cc77c5d2dc691fdde20a56316522f61a7323"
   }
  }
 },
 "nbformat": 4,
 "nbformat_minor": 2
}
