{
 "cells": [
  {
   "attachments": {},
   "cell_type": "markdown",
   "metadata": {},
   "source": [
    "# 对我们提取特征之后的数据重新利用神经网络进行学习\n",
    "\n",
    "### 介绍\n",
    "\n",
    "我们在`word_data`提取了一系列的特征，比如"
   ]
  },
  {
   "cell_type": "code",
   "execution_count": 31,
   "metadata": {},
   "outputs": [],
   "source": [
    "# 读取word_data.xlsx中的数据，将其转换为特征向量，然后使用简单的神经网络进行分类\n",
    "import pandas as pd\n",
    "import numpy as np\n",
    "import matplotlib.pyplot as plt\n",
    "import torch\n",
    "import torch.nn as nn\n",
    "import torch.nn.functional as F\n",
    "from torchinfo import summary\n",
    "from simpleNet import SimpleNet"
   ]
  },
  {
   "attachments": {},
   "cell_type": "markdown",
   "metadata": {},
   "source": [
    "### 加载数据"
   ]
  },
  {
   "cell_type": "code",
   "execution_count": 32,
   "metadata": {},
   "outputs": [
    {
     "data": {
      "text/html": [
       "<div>\n",
       "<style scoped>\n",
       "    .dataframe tbody tr th:only-of-type {\n",
       "        vertical-align: middle;\n",
       "    }\n",
       "\n",
       "    .dataframe tbody tr th {\n",
       "        vertical-align: top;\n",
       "    }\n",
       "\n",
       "    .dataframe thead th {\n",
       "        text-align: right;\n",
       "    }\n",
       "</style>\n",
       "<table border=\"1\" class=\"dataframe\">\n",
       "  <thead>\n",
       "    <tr style=\"text-align: right;\">\n",
       "      <th></th>\n",
       "      <th>Date</th>\n",
       "      <th>Contest number</th>\n",
       "      <th>word</th>\n",
       "      <th>senti</th>\n",
       "      <th>senti_score</th>\n",
       "      <th>cixing</th>\n",
       "      <th>diversity</th>\n",
       "      <th>freq_1</th>\n",
       "      <th>freq_2</th>\n",
       "      <th>vowel_percentage(%)</th>\n",
       "      <th>if_weekdays</th>\n",
       "      <th>correlations</th>\n",
       "      <th>1 try</th>\n",
       "      <th>2 tries</th>\n",
       "      <th>3 tries</th>\n",
       "      <th>4 tries</th>\n",
       "      <th>5 tries</th>\n",
       "      <th>6 tries</th>\n",
       "      <th>7 or more tries (X)</th>\n",
       "    </tr>\n",
       "  </thead>\n",
       "  <tbody>\n",
       "    <tr>\n",
       "      <th>0</th>\n",
       "      <td>44926</td>\n",
       "      <td>560</td>\n",
       "      <td>manly</td>\n",
       "      <td>1</td>\n",
       "      <td>0.0000</td>\n",
       "      <td>RB</td>\n",
       "      <td>0.620000</td>\n",
       "      <td>0.264214</td>\n",
       "      <td>0.265298</td>\n",
       "      <td>20.0</td>\n",
       "      <td>0</td>\n",
       "      <td>0.343806</td>\n",
       "      <td>0</td>\n",
       "      <td>2</td>\n",
       "      <td>17</td>\n",
       "      <td>37</td>\n",
       "      <td>29</td>\n",
       "      <td>12</td>\n",
       "      <td>2</td>\n",
       "    </tr>\n",
       "    <tr>\n",
       "      <th>1</th>\n",
       "      <td>44925</td>\n",
       "      <td>559</td>\n",
       "      <td>molar</td>\n",
       "      <td>1</td>\n",
       "      <td>0.0000</td>\n",
       "      <td>JJ</td>\n",
       "      <td>0.777778</td>\n",
       "      <td>0.329989</td>\n",
       "      <td>0.315016</td>\n",
       "      <td>40.0</td>\n",
       "      <td>1</td>\n",
       "      <td>0.491583</td>\n",
       "      <td>0</td>\n",
       "      <td>4</td>\n",
       "      <td>21</td>\n",
       "      <td>38</td>\n",
       "      <td>26</td>\n",
       "      <td>9</td>\n",
       "      <td>1</td>\n",
       "    </tr>\n",
       "    <tr>\n",
       "      <th>2</th>\n",
       "      <td>44924</td>\n",
       "      <td>558</td>\n",
       "      <td>havoc</td>\n",
       "      <td>0</td>\n",
       "      <td>-0.5994</td>\n",
       "      <td>NN</td>\n",
       "      <td>0.001000</td>\n",
       "      <td>0.254738</td>\n",
       "      <td>0.237445</td>\n",
       "      <td>40.0</td>\n",
       "      <td>1</td>\n",
       "      <td>0.097901</td>\n",
       "      <td>0</td>\n",
       "      <td>2</td>\n",
       "      <td>16</td>\n",
       "      <td>38</td>\n",
       "      <td>30</td>\n",
       "      <td>12</td>\n",
       "      <td>2</td>\n",
       "    </tr>\n",
       "    <tr>\n",
       "      <th>3</th>\n",
       "      <td>44923</td>\n",
       "      <td>557</td>\n",
       "      <td>impel</td>\n",
       "      <td>1</td>\n",
       "      <td>0.0000</td>\n",
       "      <td>NN</td>\n",
       "      <td>0.500000</td>\n",
       "      <td>0.287625</td>\n",
       "      <td>0.314575</td>\n",
       "      <td>40.0</td>\n",
       "      <td>1</td>\n",
       "      <td>0.187709</td>\n",
       "      <td>0</td>\n",
       "      <td>3</td>\n",
       "      <td>21</td>\n",
       "      <td>40</td>\n",
       "      <td>25</td>\n",
       "      <td>9</td>\n",
       "      <td>1</td>\n",
       "    </tr>\n",
       "    <tr>\n",
       "      <th>4</th>\n",
       "      <td>44922</td>\n",
       "      <td>556</td>\n",
       "      <td>condo</td>\n",
       "      <td>1</td>\n",
       "      <td>0.0000</td>\n",
       "      <td>NN</td>\n",
       "      <td>0.001000</td>\n",
       "      <td>0.267001</td>\n",
       "      <td>0.290084</td>\n",
       "      <td>40.0</td>\n",
       "      <td>1</td>\n",
       "      <td>0.308737</td>\n",
       "      <td>0</td>\n",
       "      <td>2</td>\n",
       "      <td>17</td>\n",
       "      <td>35</td>\n",
       "      <td>29</td>\n",
       "      <td>14</td>\n",
       "      <td>3</td>\n",
       "    </tr>\n",
       "  </tbody>\n",
       "</table>\n",
       "</div>"
      ],
      "text/plain": [
       "    Date  Contest number   word  senti  senti_score cixing  diversity  \\\n",
       "0  44926             560  manly      1       0.0000     RB   0.620000   \n",
       "1  44925             559  molar      1       0.0000     JJ   0.777778   \n",
       "2  44924             558  havoc      0      -0.5994     NN   0.001000   \n",
       "3  44923             557  impel      1       0.0000     NN   0.500000   \n",
       "4  44922             556  condo      1       0.0000     NN   0.001000   \n",
       "\n",
       "     freq_1    freq_2  vowel_percentage(%)  if_weekdays  correlations  1 try  \\\n",
       "0  0.264214  0.265298                 20.0            0      0.343806      0   \n",
       "1  0.329989  0.315016                 40.0            1      0.491583      0   \n",
       "2  0.254738  0.237445                 40.0            1      0.097901      0   \n",
       "3  0.287625  0.314575                 40.0            1      0.187709      0   \n",
       "4  0.267001  0.290084                 40.0            1      0.308737      0   \n",
       "\n",
       "   2 tries  3 tries  4 tries  5 tries  6 tries  7 or more tries (X)  \n",
       "0        2       17       37       29       12                    2  \n",
       "1        4       21       38       26        9                    1  \n",
       "2        2       16       38       30       12                    2  \n",
       "3        3       21       40       25        9                    1  \n",
       "4        2       17       35       29       14                    3  "
      ]
     },
     "execution_count": 32,
     "metadata": {},
     "output_type": "execute_result"
    }
   ],
   "source": [
    "# 读取数据\n",
    "data = pd.read_excel('word_data.xlsx')\n",
    "data.head()"
   ]
  },
  {
   "cell_type": "code",
   "execution_count": 33,
   "metadata": {},
   "outputs": [
    {
     "name": "stdout",
     "output_type": "stream",
     "text": [
      "['RB' 'JJ' 'NN' 'IN' 'VBD' 'VB' 'VBN' 'NNS' 'VBP' 'EX' 'NNP' 'VBZ' 'CC'\n",
      " 'VBG' 'FW' 'RBR' 'JJR' 'MD' 'JJS' 'PRP$' 'DT']\n"
     ]
    }
   ],
   "source": [
    "# 列出cixing的所有取值\n",
    "cixing = data['cixing'].unique()\n",
    "print(cixing)"
   ]
  },
  {
   "cell_type": "code",
   "execution_count": 34,
   "metadata": {},
   "outputs": [
    {
     "name": "stdout",
     "output_type": "stream",
     "text": [
      "[ 0  1  2  3  4  5  6  7  8  9 10 11 12 13 14 15 16 17 18 19 20]\n"
     ]
    }
   ],
   "source": [
    "# 将cixing的取值转换为数字\n",
    "# 先制作一个map ['RB' 'JJ' 'NN' 'IN' 'VBD' 'VB' 'VBN' 'NNS' 'VBP' 'EX' 'NNP' 'VBZ' 'CC' 'VBG' 'FW' 'RBR' 'JJR' 'MD' 'JJS' 'PRP$' 'DT']\n",
    "cixing_map = {'RB': 0, 'JJ': 1, 'NN': 2, 'IN': 3, 'VBD': 4, 'VB': 5, 'VBN': 6, 'NNS': 7, 'VBP': 8, 'EX': 9, 'NNP': 10, 'VBZ': 11, 'CC': 12, 'VBG': 13, 'FW': 14, 'RBR': 15, 'JJR': 16, 'MD': 17, 'JJS': 18, 'PRP$': 19, 'DT': 20}\n",
    "data['cixing'] = data['cixing'].map(cixing_map)\n",
    "print(data['cixing'].unique())\n"
   ]
  },
  {
   "cell_type": "code",
   "execution_count": 35,
   "metadata": {},
   "outputs": [
    {
     "data": {
      "text/html": [
       "<div>\n",
       "<style scoped>\n",
       "    .dataframe tbody tr th:only-of-type {\n",
       "        vertical-align: middle;\n",
       "    }\n",
       "\n",
       "    .dataframe tbody tr th {\n",
       "        vertical-align: top;\n",
       "    }\n",
       "\n",
       "    .dataframe thead th {\n",
       "        text-align: right;\n",
       "    }\n",
       "</style>\n",
       "<table border=\"1\" class=\"dataframe\">\n",
       "  <thead>\n",
       "    <tr style=\"text-align: right;\">\n",
       "      <th></th>\n",
       "      <th>Date</th>\n",
       "      <th>Contest number</th>\n",
       "      <th>word</th>\n",
       "      <th>senti</th>\n",
       "      <th>senti_score</th>\n",
       "      <th>cixing</th>\n",
       "      <th>diversity</th>\n",
       "      <th>freq_1</th>\n",
       "      <th>freq_2</th>\n",
       "      <th>vowel_percentage(%)</th>\n",
       "      <th>if_weekdays</th>\n",
       "      <th>correlations</th>\n",
       "      <th>1 try</th>\n",
       "      <th>2 tries</th>\n",
       "      <th>3 tries</th>\n",
       "      <th>4 tries</th>\n",
       "      <th>5 tries</th>\n",
       "      <th>6 tries</th>\n",
       "      <th>7 or more tries (X)</th>\n",
       "    </tr>\n",
       "  </thead>\n",
       "  <tbody>\n",
       "    <tr>\n",
       "      <th>0</th>\n",
       "      <td>44926</td>\n",
       "      <td>560</td>\n",
       "      <td>manly</td>\n",
       "      <td>1</td>\n",
       "      <td>0.0000</td>\n",
       "      <td>0</td>\n",
       "      <td>0.620000</td>\n",
       "      <td>0.264214</td>\n",
       "      <td>0.265298</td>\n",
       "      <td>20.0</td>\n",
       "      <td>0</td>\n",
       "      <td>0.343806</td>\n",
       "      <td>0</td>\n",
       "      <td>2</td>\n",
       "      <td>17</td>\n",
       "      <td>37</td>\n",
       "      <td>29</td>\n",
       "      <td>12</td>\n",
       "      <td>2</td>\n",
       "    </tr>\n",
       "    <tr>\n",
       "      <th>1</th>\n",
       "      <td>44925</td>\n",
       "      <td>559</td>\n",
       "      <td>molar</td>\n",
       "      <td>1</td>\n",
       "      <td>0.0000</td>\n",
       "      <td>1</td>\n",
       "      <td>0.777778</td>\n",
       "      <td>0.329989</td>\n",
       "      <td>0.315016</td>\n",
       "      <td>40.0</td>\n",
       "      <td>1</td>\n",
       "      <td>0.491583</td>\n",
       "      <td>0</td>\n",
       "      <td>4</td>\n",
       "      <td>21</td>\n",
       "      <td>38</td>\n",
       "      <td>26</td>\n",
       "      <td>9</td>\n",
       "      <td>1</td>\n",
       "    </tr>\n",
       "    <tr>\n",
       "      <th>2</th>\n",
       "      <td>44924</td>\n",
       "      <td>558</td>\n",
       "      <td>havoc</td>\n",
       "      <td>0</td>\n",
       "      <td>-0.5994</td>\n",
       "      <td>2</td>\n",
       "      <td>0.001000</td>\n",
       "      <td>0.254738</td>\n",
       "      <td>0.237445</td>\n",
       "      <td>40.0</td>\n",
       "      <td>1</td>\n",
       "      <td>0.097901</td>\n",
       "      <td>0</td>\n",
       "      <td>2</td>\n",
       "      <td>16</td>\n",
       "      <td>38</td>\n",
       "      <td>30</td>\n",
       "      <td>12</td>\n",
       "      <td>2</td>\n",
       "    </tr>\n",
       "    <tr>\n",
       "      <th>3</th>\n",
       "      <td>44923</td>\n",
       "      <td>557</td>\n",
       "      <td>impel</td>\n",
       "      <td>1</td>\n",
       "      <td>0.0000</td>\n",
       "      <td>2</td>\n",
       "      <td>0.500000</td>\n",
       "      <td>0.287625</td>\n",
       "      <td>0.314575</td>\n",
       "      <td>40.0</td>\n",
       "      <td>1</td>\n",
       "      <td>0.187709</td>\n",
       "      <td>0</td>\n",
       "      <td>3</td>\n",
       "      <td>21</td>\n",
       "      <td>40</td>\n",
       "      <td>25</td>\n",
       "      <td>9</td>\n",
       "      <td>1</td>\n",
       "    </tr>\n",
       "    <tr>\n",
       "      <th>4</th>\n",
       "      <td>44922</td>\n",
       "      <td>556</td>\n",
       "      <td>condo</td>\n",
       "      <td>1</td>\n",
       "      <td>0.0000</td>\n",
       "      <td>2</td>\n",
       "      <td>0.001000</td>\n",
       "      <td>0.267001</td>\n",
       "      <td>0.290084</td>\n",
       "      <td>40.0</td>\n",
       "      <td>1</td>\n",
       "      <td>0.308737</td>\n",
       "      <td>0</td>\n",
       "      <td>2</td>\n",
       "      <td>17</td>\n",
       "      <td>35</td>\n",
       "      <td>29</td>\n",
       "      <td>14</td>\n",
       "      <td>3</td>\n",
       "    </tr>\n",
       "  </tbody>\n",
       "</table>\n",
       "</div>"
      ],
      "text/plain": [
       "    Date  Contest number   word  senti  senti_score  cixing  diversity  \\\n",
       "0  44926             560  manly      1       0.0000       0   0.620000   \n",
       "1  44925             559  molar      1       0.0000       1   0.777778   \n",
       "2  44924             558  havoc      0      -0.5994       2   0.001000   \n",
       "3  44923             557  impel      1       0.0000       2   0.500000   \n",
       "4  44922             556  condo      1       0.0000       2   0.001000   \n",
       "\n",
       "     freq_1    freq_2  vowel_percentage(%)  if_weekdays  correlations  1 try  \\\n",
       "0  0.264214  0.265298                 20.0            0      0.343806      0   \n",
       "1  0.329989  0.315016                 40.0            1      0.491583      0   \n",
       "2  0.254738  0.237445                 40.0            1      0.097901      0   \n",
       "3  0.287625  0.314575                 40.0            1      0.187709      0   \n",
       "4  0.267001  0.290084                 40.0            1      0.308737      0   \n",
       "\n",
       "   2 tries  3 tries  4 tries  5 tries  6 tries  7 or more tries (X)  \n",
       "0        2       17       37       29       12                    2  \n",
       "1        4       21       38       26        9                    1  \n",
       "2        2       16       38       30       12                    2  \n",
       "3        3       21       40       25        9                    1  \n",
       "4        2       17       35       29       14                    3  "
      ]
     },
     "execution_count": 35,
     "metadata": {},
     "output_type": "execute_result"
    }
   ],
   "source": [
    "data.head()"
   ]
  },
  {
   "cell_type": "code",
   "execution_count": 36,
   "metadata": {},
   "outputs": [],
   "source": [
    "# 删除不需要的列 senti_score, freq_1\n",
    "data = data.drop(['senti_score', 'freq_1'], axis=1)"
   ]
  },
  {
   "cell_type": "code",
   "execution_count": 37,
   "metadata": {},
   "outputs": [
    {
     "data": {
      "text/html": [
       "<div>\n",
       "<style scoped>\n",
       "    .dataframe tbody tr th:only-of-type {\n",
       "        vertical-align: middle;\n",
       "    }\n",
       "\n",
       "    .dataframe tbody tr th {\n",
       "        vertical-align: top;\n",
       "    }\n",
       "\n",
       "    .dataframe thead th {\n",
       "        text-align: right;\n",
       "    }\n",
       "</style>\n",
       "<table border=\"1\" class=\"dataframe\">\n",
       "  <thead>\n",
       "    <tr style=\"text-align: right;\">\n",
       "      <th></th>\n",
       "      <th>Date</th>\n",
       "      <th>Contest number</th>\n",
       "      <th>word</th>\n",
       "      <th>senti</th>\n",
       "      <th>cixing</th>\n",
       "      <th>diversity</th>\n",
       "      <th>freq_2</th>\n",
       "      <th>vowel_percentage(%)</th>\n",
       "      <th>if_weekdays</th>\n",
       "      <th>correlations</th>\n",
       "      <th>1 try</th>\n",
       "      <th>2 tries</th>\n",
       "      <th>3 tries</th>\n",
       "      <th>4 tries</th>\n",
       "      <th>5 tries</th>\n",
       "      <th>6 tries</th>\n",
       "      <th>7 or more tries (X)</th>\n",
       "    </tr>\n",
       "  </thead>\n",
       "  <tbody>\n",
       "    <tr>\n",
       "      <th>0</th>\n",
       "      <td>44926</td>\n",
       "      <td>560</td>\n",
       "      <td>manly</td>\n",
       "      <td>1</td>\n",
       "      <td>0</td>\n",
       "      <td>0.620000</td>\n",
       "      <td>0.265298</td>\n",
       "      <td>20.0</td>\n",
       "      <td>0</td>\n",
       "      <td>0.343806</td>\n",
       "      <td>0</td>\n",
       "      <td>2</td>\n",
       "      <td>17</td>\n",
       "      <td>37</td>\n",
       "      <td>29</td>\n",
       "      <td>12</td>\n",
       "      <td>2</td>\n",
       "    </tr>\n",
       "    <tr>\n",
       "      <th>1</th>\n",
       "      <td>44925</td>\n",
       "      <td>559</td>\n",
       "      <td>molar</td>\n",
       "      <td>1</td>\n",
       "      <td>1</td>\n",
       "      <td>0.777778</td>\n",
       "      <td>0.315016</td>\n",
       "      <td>40.0</td>\n",
       "      <td>1</td>\n",
       "      <td>0.491583</td>\n",
       "      <td>0</td>\n",
       "      <td>4</td>\n",
       "      <td>21</td>\n",
       "      <td>38</td>\n",
       "      <td>26</td>\n",
       "      <td>9</td>\n",
       "      <td>1</td>\n",
       "    </tr>\n",
       "    <tr>\n",
       "      <th>2</th>\n",
       "      <td>44924</td>\n",
       "      <td>558</td>\n",
       "      <td>havoc</td>\n",
       "      <td>0</td>\n",
       "      <td>2</td>\n",
       "      <td>0.001000</td>\n",
       "      <td>0.237445</td>\n",
       "      <td>40.0</td>\n",
       "      <td>1</td>\n",
       "      <td>0.097901</td>\n",
       "      <td>0</td>\n",
       "      <td>2</td>\n",
       "      <td>16</td>\n",
       "      <td>38</td>\n",
       "      <td>30</td>\n",
       "      <td>12</td>\n",
       "      <td>2</td>\n",
       "    </tr>\n",
       "    <tr>\n",
       "      <th>3</th>\n",
       "      <td>44923</td>\n",
       "      <td>557</td>\n",
       "      <td>impel</td>\n",
       "      <td>1</td>\n",
       "      <td>2</td>\n",
       "      <td>0.500000</td>\n",
       "      <td>0.314575</td>\n",
       "      <td>40.0</td>\n",
       "      <td>1</td>\n",
       "      <td>0.187709</td>\n",
       "      <td>0</td>\n",
       "      <td>3</td>\n",
       "      <td>21</td>\n",
       "      <td>40</td>\n",
       "      <td>25</td>\n",
       "      <td>9</td>\n",
       "      <td>1</td>\n",
       "    </tr>\n",
       "    <tr>\n",
       "      <th>4</th>\n",
       "      <td>44922</td>\n",
       "      <td>556</td>\n",
       "      <td>condo</td>\n",
       "      <td>1</td>\n",
       "      <td>2</td>\n",
       "      <td>0.001000</td>\n",
       "      <td>0.290084</td>\n",
       "      <td>40.0</td>\n",
       "      <td>1</td>\n",
       "      <td>0.308737</td>\n",
       "      <td>0</td>\n",
       "      <td>2</td>\n",
       "      <td>17</td>\n",
       "      <td>35</td>\n",
       "      <td>29</td>\n",
       "      <td>14</td>\n",
       "      <td>3</td>\n",
       "    </tr>\n",
       "  </tbody>\n",
       "</table>\n",
       "</div>"
      ],
      "text/plain": [
       "    Date  Contest number   word  senti  cixing  diversity    freq_2  \\\n",
       "0  44926             560  manly      1       0   0.620000  0.265298   \n",
       "1  44925             559  molar      1       1   0.777778  0.315016   \n",
       "2  44924             558  havoc      0       2   0.001000  0.237445   \n",
       "3  44923             557  impel      1       2   0.500000  0.314575   \n",
       "4  44922             556  condo      1       2   0.001000  0.290084   \n",
       "\n",
       "   vowel_percentage(%)  if_weekdays  correlations  1 try  2 tries  3 tries  \\\n",
       "0                 20.0            0      0.343806      0        2       17   \n",
       "1                 40.0            1      0.491583      0        4       21   \n",
       "2                 40.0            1      0.097901      0        2       16   \n",
       "3                 40.0            1      0.187709      0        3       21   \n",
       "4                 40.0            1      0.308737      0        2       17   \n",
       "\n",
       "   4 tries  5 tries  6 tries  7 or more tries (X)  \n",
       "0       37       29       12                    2  \n",
       "1       38       26        9                    1  \n",
       "2       38       30       12                    2  \n",
       "3       40       25        9                    1  \n",
       "4       35       29       14                    3  "
      ]
     },
     "execution_count": 37,
     "metadata": {},
     "output_type": "execute_result"
    }
   ],
   "source": [
    "data.head()"
   ]
  },
  {
   "cell_type": "code",
   "execution_count": 38,
   "metadata": {},
   "outputs": [],
   "source": [
    "# 构造输入输出数据\n",
    "data_features = data.iloc[:,3:10]\n",
    "data_distribution = data.iloc[:,10:]"
   ]
  },
  {
   "cell_type": "code",
   "execution_count": 39,
   "metadata": {},
   "outputs": [
    {
     "data": {
      "text/html": [
       "<div>\n",
       "<style scoped>\n",
       "    .dataframe tbody tr th:only-of-type {\n",
       "        vertical-align: middle;\n",
       "    }\n",
       "\n",
       "    .dataframe tbody tr th {\n",
       "        vertical-align: top;\n",
       "    }\n",
       "\n",
       "    .dataframe thead th {\n",
       "        text-align: right;\n",
       "    }\n",
       "</style>\n",
       "<table border=\"1\" class=\"dataframe\">\n",
       "  <thead>\n",
       "    <tr style=\"text-align: right;\">\n",
       "      <th></th>\n",
       "      <th>senti</th>\n",
       "      <th>cixing</th>\n",
       "      <th>diversity</th>\n",
       "      <th>freq_2</th>\n",
       "      <th>vowel_percentage(%)</th>\n",
       "      <th>if_weekdays</th>\n",
       "      <th>correlations</th>\n",
       "    </tr>\n",
       "  </thead>\n",
       "  <tbody>\n",
       "    <tr>\n",
       "      <th>0</th>\n",
       "      <td>1</td>\n",
       "      <td>0</td>\n",
       "      <td>0.620000</td>\n",
       "      <td>0.265298</td>\n",
       "      <td>20.0</td>\n",
       "      <td>0</td>\n",
       "      <td>0.343806</td>\n",
       "    </tr>\n",
       "    <tr>\n",
       "      <th>1</th>\n",
       "      <td>1</td>\n",
       "      <td>1</td>\n",
       "      <td>0.777778</td>\n",
       "      <td>0.315016</td>\n",
       "      <td>40.0</td>\n",
       "      <td>1</td>\n",
       "      <td>0.491583</td>\n",
       "    </tr>\n",
       "    <tr>\n",
       "      <th>2</th>\n",
       "      <td>0</td>\n",
       "      <td>2</td>\n",
       "      <td>0.001000</td>\n",
       "      <td>0.237445</td>\n",
       "      <td>40.0</td>\n",
       "      <td>1</td>\n",
       "      <td>0.097901</td>\n",
       "    </tr>\n",
       "    <tr>\n",
       "      <th>3</th>\n",
       "      <td>1</td>\n",
       "      <td>2</td>\n",
       "      <td>0.500000</td>\n",
       "      <td>0.314575</td>\n",
       "      <td>40.0</td>\n",
       "      <td>1</td>\n",
       "      <td>0.187709</td>\n",
       "    </tr>\n",
       "    <tr>\n",
       "      <th>4</th>\n",
       "      <td>1</td>\n",
       "      <td>2</td>\n",
       "      <td>0.001000</td>\n",
       "      <td>0.290084</td>\n",
       "      <td>40.0</td>\n",
       "      <td>1</td>\n",
       "      <td>0.308737</td>\n",
       "    </tr>\n",
       "  </tbody>\n",
       "</table>\n",
       "</div>"
      ],
      "text/plain": [
       "   senti  cixing  diversity    freq_2  vowel_percentage(%)  if_weekdays  \\\n",
       "0      1       0   0.620000  0.265298                 20.0            0   \n",
       "1      1       1   0.777778  0.315016                 40.0            1   \n",
       "2      0       2   0.001000  0.237445                 40.0            1   \n",
       "3      1       2   0.500000  0.314575                 40.0            1   \n",
       "4      1       2   0.001000  0.290084                 40.0            1   \n",
       "\n",
       "   correlations  \n",
       "0      0.343806  \n",
       "1      0.491583  \n",
       "2      0.097901  \n",
       "3      0.187709  \n",
       "4      0.308737  "
      ]
     },
     "execution_count": 39,
     "metadata": {},
     "output_type": "execute_result"
    }
   ],
   "source": [
    "data_features.head()"
   ]
  },
  {
   "cell_type": "code",
   "execution_count": 40,
   "metadata": {},
   "outputs": [
    {
     "data": {
      "text/html": [
       "<div>\n",
       "<style scoped>\n",
       "    .dataframe tbody tr th:only-of-type {\n",
       "        vertical-align: middle;\n",
       "    }\n",
       "\n",
       "    .dataframe tbody tr th {\n",
       "        vertical-align: top;\n",
       "    }\n",
       "\n",
       "    .dataframe thead th {\n",
       "        text-align: right;\n",
       "    }\n",
       "</style>\n",
       "<table border=\"1\" class=\"dataframe\">\n",
       "  <thead>\n",
       "    <tr style=\"text-align: right;\">\n",
       "      <th></th>\n",
       "      <th>1 try</th>\n",
       "      <th>2 tries</th>\n",
       "      <th>3 tries</th>\n",
       "      <th>4 tries</th>\n",
       "      <th>5 tries</th>\n",
       "      <th>6 tries</th>\n",
       "      <th>7 or more tries (X)</th>\n",
       "    </tr>\n",
       "  </thead>\n",
       "  <tbody>\n",
       "    <tr>\n",
       "      <th>0</th>\n",
       "      <td>0</td>\n",
       "      <td>2</td>\n",
       "      <td>17</td>\n",
       "      <td>37</td>\n",
       "      <td>29</td>\n",
       "      <td>12</td>\n",
       "      <td>2</td>\n",
       "    </tr>\n",
       "    <tr>\n",
       "      <th>1</th>\n",
       "      <td>0</td>\n",
       "      <td>4</td>\n",
       "      <td>21</td>\n",
       "      <td>38</td>\n",
       "      <td>26</td>\n",
       "      <td>9</td>\n",
       "      <td>1</td>\n",
       "    </tr>\n",
       "    <tr>\n",
       "      <th>2</th>\n",
       "      <td>0</td>\n",
       "      <td>2</td>\n",
       "      <td>16</td>\n",
       "      <td>38</td>\n",
       "      <td>30</td>\n",
       "      <td>12</td>\n",
       "      <td>2</td>\n",
       "    </tr>\n",
       "    <tr>\n",
       "      <th>3</th>\n",
       "      <td>0</td>\n",
       "      <td>3</td>\n",
       "      <td>21</td>\n",
       "      <td>40</td>\n",
       "      <td>25</td>\n",
       "      <td>9</td>\n",
       "      <td>1</td>\n",
       "    </tr>\n",
       "    <tr>\n",
       "      <th>4</th>\n",
       "      <td>0</td>\n",
       "      <td>2</td>\n",
       "      <td>17</td>\n",
       "      <td>35</td>\n",
       "      <td>29</td>\n",
       "      <td>14</td>\n",
       "      <td>3</td>\n",
       "    </tr>\n",
       "  </tbody>\n",
       "</table>\n",
       "</div>"
      ],
      "text/plain": [
       "   1 try  2 tries  3 tries  4 tries  5 tries  6 tries  7 or more tries (X)\n",
       "0      0        2       17       37       29       12                    2\n",
       "1      0        4       21       38       26        9                    1\n",
       "2      0        2       16       38       30       12                    2\n",
       "3      0        3       21       40       25        9                    1\n",
       "4      0        2       17       35       29       14                    3"
      ]
     },
     "execution_count": 40,
     "metadata": {},
     "output_type": "execute_result"
    }
   ],
   "source": [
    "data_distribution.head()"
   ]
  },
  {
   "attachments": {},
   "cell_type": "markdown",
   "metadata": {},
   "source": [
    "### 删除一些feature"
   ]
  },
  {
   "cell_type": "code",
   "execution_count": 41,
   "metadata": {},
   "outputs": [
    {
     "data": {
      "text/html": [
       "<div>\n",
       "<style scoped>\n",
       "    .dataframe tbody tr th:only-of-type {\n",
       "        vertical-align: middle;\n",
       "    }\n",
       "\n",
       "    .dataframe tbody tr th {\n",
       "        vertical-align: top;\n",
       "    }\n",
       "\n",
       "    .dataframe thead th {\n",
       "        text-align: right;\n",
       "    }\n",
       "</style>\n",
       "<table border=\"1\" class=\"dataframe\">\n",
       "  <thead>\n",
       "    <tr style=\"text-align: right;\">\n",
       "      <th></th>\n",
       "      <th>senti</th>\n",
       "      <th>cixing</th>\n",
       "      <th>diversity</th>\n",
       "      <th>freq_2</th>\n",
       "      <th>vowel_percentage(%)</th>\n",
       "      <th>if_weekdays</th>\n",
       "      <th>correlations</th>\n",
       "    </tr>\n",
       "  </thead>\n",
       "  <tbody>\n",
       "    <tr>\n",
       "      <th>0</th>\n",
       "      <td>1</td>\n",
       "      <td>0</td>\n",
       "      <td>0.620000</td>\n",
       "      <td>0.265298</td>\n",
       "      <td>20.0</td>\n",
       "      <td>0</td>\n",
       "      <td>0.343806</td>\n",
       "    </tr>\n",
       "    <tr>\n",
       "      <th>1</th>\n",
       "      <td>1</td>\n",
       "      <td>1</td>\n",
       "      <td>0.777778</td>\n",
       "      <td>0.315016</td>\n",
       "      <td>40.0</td>\n",
       "      <td>1</td>\n",
       "      <td>0.491583</td>\n",
       "    </tr>\n",
       "    <tr>\n",
       "      <th>2</th>\n",
       "      <td>0</td>\n",
       "      <td>2</td>\n",
       "      <td>0.001000</td>\n",
       "      <td>0.237445</td>\n",
       "      <td>40.0</td>\n",
       "      <td>1</td>\n",
       "      <td>0.097901</td>\n",
       "    </tr>\n",
       "    <tr>\n",
       "      <th>3</th>\n",
       "      <td>1</td>\n",
       "      <td>2</td>\n",
       "      <td>0.500000</td>\n",
       "      <td>0.314575</td>\n",
       "      <td>40.0</td>\n",
       "      <td>1</td>\n",
       "      <td>0.187709</td>\n",
       "    </tr>\n",
       "    <tr>\n",
       "      <th>4</th>\n",
       "      <td>1</td>\n",
       "      <td>2</td>\n",
       "      <td>0.001000</td>\n",
       "      <td>0.290084</td>\n",
       "      <td>40.0</td>\n",
       "      <td>1</td>\n",
       "      <td>0.308737</td>\n",
       "    </tr>\n",
       "  </tbody>\n",
       "</table>\n",
       "</div>"
      ],
      "text/plain": [
       "   senti  cixing  diversity    freq_2  vowel_percentage(%)  if_weekdays  \\\n",
       "0      1       0   0.620000  0.265298                 20.0            0   \n",
       "1      1       1   0.777778  0.315016                 40.0            1   \n",
       "2      0       2   0.001000  0.237445                 40.0            1   \n",
       "3      1       2   0.500000  0.314575                 40.0            1   \n",
       "4      1       2   0.001000  0.290084                 40.0            1   \n",
       "\n",
       "   correlations  \n",
       "0      0.343806  \n",
       "1      0.491583  \n",
       "2      0.097901  \n",
       "3      0.187709  \n",
       "4      0.308737  "
      ]
     },
     "execution_count": 41,
     "metadata": {},
     "output_type": "execute_result"
    }
   ],
   "source": [
    "# 删除不需要的列\n",
    "# data_features = data_features.drop(['cixing','senti'], axis=1)\n",
    "data_features.head()"
   ]
  },
  {
   "attachments": {},
   "cell_type": "markdown",
   "metadata": {},
   "source": [
    "### 转换数据"
   ]
  },
  {
   "cell_type": "code",
   "execution_count": 42,
   "metadata": {},
   "outputs": [
    {
     "name": "stdout",
     "output_type": "stream",
     "text": [
      "data_features_np.shape =  (359, 7)\n",
      "data_features_np[:5,:] = \n",
      " [[1.00000000e+00 0.00000000e+00 6.20000000e-01 2.65297965e-01\n",
      "  2.00000000e+01 0.00000000e+00 3.43805514e-01]\n",
      " [1.00000000e+00 1.00000000e+00 7.77777778e-01 3.15016189e-01\n",
      "  4.00000000e+01 1.00000000e+00 4.91582513e-01]\n",
      " [0.00000000e+00 2.00000000e+00 1.00000000e-03 2.37445032e-01\n",
      "  4.00000000e+01 1.00000000e+00 9.79006807e-02]\n",
      " [1.00000000e+00 2.00000000e+00 5.00000000e-01 3.14574926e-01\n",
      "  4.00000000e+01 1.00000000e+00 1.87708873e-01]\n",
      " [1.00000000e+00 2.00000000e+00 1.00000000e-03 2.90084013e-01\n",
      "  4.00000000e+01 1.00000000e+00 3.08737246e-01]]\n",
      "data_distribution_np.shape =  (359, 7)\n",
      "data_distribution_np[:5,:] = \n",
      " [[ 0  2 17 37 29 12  2]\n",
      " [ 0  4 21 38 26  9  1]\n",
      " [ 0  2 16 38 30 12  2]\n",
      " [ 0  3 21 40 25  9  1]\n",
      " [ 0  2 17 35 29 14  3]]\n"
     ]
    }
   ],
   "source": [
    "# 转换数据格式\n",
    "data_features_np = data_features.values\n",
    "data_distribution_np = data_distribution.values\n",
    "print('data_features_np.shape = ', data_features_np.shape)\n",
    "print('data_features_np[:5,:] = \\n', data_features_np[:5,:])\n",
    "print('data_distribution_np.shape = ', data_distribution_np.shape)\n",
    "print('data_distribution_np[:5,:] = \\n', data_distribution_np[:5,:])"
   ]
  },
  {
   "cell_type": "code",
   "execution_count": 43,
   "metadata": {},
   "outputs": [
    {
     "name": "stdout",
     "output_type": "stream",
     "text": [
      "data_features_np_norm[:5,:] = \n",
      " [[ 0.06666118 -0.86473559  0.30348369 -0.51696379 -1.27981959 -1.57652685\n",
      "  -0.04498888]\n",
      " [ 0.06666118 -0.55827944  0.8165452   0.36174245  0.34561166  0.63430572\n",
      "   0.41264337]\n",
      " [-2.59237924 -0.25182329 -1.70937944 -1.0092289   0.34561166  0.63430572\n",
      "  -0.80650105]\n",
      " [ 0.06666118 -0.25182329 -0.0867321   0.35394368  0.34561166  0.63430572\n",
      "  -0.52838521]\n",
      " [ 0.06666118 -0.25182329 -1.70937944 -0.07890199  0.34561166  0.63430572\n",
      "  -0.15358745]]\n",
      "data_distribution_np[:5,:] = \n",
      " [[0.   0.02 0.17 0.37 0.29 0.12 0.02]\n",
      " [0.   0.04 0.21 0.38 0.26 0.09 0.01]\n",
      " [0.   0.02 0.16 0.38 0.3  0.12 0.02]\n",
      " [0.   0.03 0.21 0.4  0.25 0.09 0.01]\n",
      " [0.   0.02 0.17 0.35 0.29 0.14 0.03]]\n"
     ]
    }
   ],
   "source": [
    "# 做数据处理\n",
    "# 对data_features_np进行normalization\n",
    "features_mean = np.mean(data_features_np, axis=0)\n",
    "features_std = np.std(data_features_np, axis=0)\n",
    "data_features_np_norm = (data_features_np - features_mean) / features_std\n",
    "# 将data_distribution_np中的数据转换为概率分布\n",
    "data_distribution_np = data_distribution_np / 100\n",
    "print('data_features_np_norm[:5,:] = \\n', data_features_np_norm[:5,:])\n",
    "print('data_distribution_np[:5,:] = \\n', data_distribution_np[:5,:])"
   ]
  },
  {
   "attachments": {},
   "cell_type": "markdown",
   "metadata": {},
   "source": [
    "### 划分数据集"
   ]
  },
  {
   "cell_type": "code",
   "execution_count": 44,
   "metadata": {},
   "outputs": [
    {
     "name": "stdout",
     "output_type": "stream",
     "text": [
      "device =  cpu\n"
     ]
    }
   ],
   "source": [
    "# 将数据转换为tensor，并用device指定运行的设备\n",
    "device = torch.device('cuda' if torch.cuda.is_available() else 'cpu')\n",
    "print('device = ', device)\n",
    "data_features_tensor = torch.tensor(data_features_np_norm, dtype=torch.float32, device=device)\n",
    "data_distribution_tensor = torch.tensor(data_distribution_np, dtype=torch.float32, device=device)"
   ]
  },
  {
   "cell_type": "code",
   "execution_count": 45,
   "metadata": {},
   "outputs": [
    {
     "name": "stdout",
     "output_type": "stream",
     "text": [
      "data_features_tensor.shape =  torch.Size([359, 7])\n",
      "data_features_tensor[:5,:] = \n",
      " tensor([[ 0.0667, -0.8647,  0.3035, -0.5170, -1.2798, -1.5765, -0.0450],\n",
      "        [ 0.0667, -0.5583,  0.8165,  0.3617,  0.3456,  0.6343,  0.4126],\n",
      "        [-2.5924, -0.2518, -1.7094, -1.0092,  0.3456,  0.6343, -0.8065],\n",
      "        [ 0.0667, -0.2518, -0.0867,  0.3539,  0.3456,  0.6343, -0.5284],\n",
      "        [ 0.0667, -0.2518, -1.7094, -0.0789,  0.3456,  0.6343, -0.1536]])\n",
      "data_distribution_tensor.shape =  torch.Size([359, 7])\n",
      "data_distribution_tensor[:5,:] = \n",
      " tensor([[0.0000, 0.0200, 0.1700, 0.3700, 0.2900, 0.1200, 0.0200],\n",
      "        [0.0000, 0.0400, 0.2100, 0.3800, 0.2600, 0.0900, 0.0100],\n",
      "        [0.0000, 0.0200, 0.1600, 0.3800, 0.3000, 0.1200, 0.0200],\n",
      "        [0.0000, 0.0300, 0.2100, 0.4000, 0.2500, 0.0900, 0.0100],\n",
      "        [0.0000, 0.0200, 0.1700, 0.3500, 0.2900, 0.1400, 0.0300]])\n"
     ]
    }
   ],
   "source": [
    "print('data_features_tensor.shape = ', data_features_tensor.shape)\n",
    "print('data_features_tensor[:5,:] = \\n', data_features_tensor[:5,:])\n",
    "print('data_distribution_tensor.shape = ', data_distribution_tensor.shape)\n",
    "print('data_distribution_tensor[:5,:] = \\n', data_distribution_tensor[:5,:])"
   ]
  },
  {
   "cell_type": "code",
   "execution_count": 46,
   "metadata": {},
   "outputs": [
    {
     "name": "stdout",
     "output_type": "stream",
     "text": [
      "train_size =  251\n"
     ]
    }
   ],
   "source": [
    "# 划分训练集和测试集\n",
    "train_size = int(0.7 * data_features_tensor.shape[0])\n",
    "print('train_size = ', train_size)"
   ]
  },
  {
   "cell_type": "code",
   "execution_count": 47,
   "metadata": {},
   "outputs": [],
   "source": [
    "# 先将数据打乱\n",
    "indices = torch.randperm(data_features_tensor.shape[0])\n",
    "data_features_tensor = data_features_tensor[indices]\n",
    "data_distribution_tensor = data_distribution_tensor[indices]"
   ]
  },
  {
   "cell_type": "code",
   "execution_count": 48,
   "metadata": {},
   "outputs": [],
   "source": [
    "test_indices = indices[train_size:]\n",
    "test_indices = test_indices.cpu().numpy()"
   ]
  },
  {
   "cell_type": "code",
   "execution_count": 49,
   "metadata": {},
   "outputs": [
    {
     "name": "stdout",
     "output_type": "stream",
     "text": [
      "train_features.shape =  torch.Size([251, 7])\n",
      "train_distribution.shape =  torch.Size([251, 7])\n",
      "test_features.shape =  torch.Size([108, 7])\n",
      "test_distribution.shape =  torch.Size([108, 7])\n"
     ]
    }
   ],
   "source": [
    "# 划分训练集和测试集\n",
    "train_features = data_features_tensor[:train_size,:]\n",
    "train_distribution = data_distribution_tensor[:train_size,:]\n",
    "test_features = data_features_tensor[train_size:,:]\n",
    "test_distribution = data_distribution_tensor[train_size:,:]\n",
    "\n",
    "print('train_features.shape = ', train_features.shape)\n",
    "print('train_distribution.shape = ', train_distribution.shape)\n",
    "print('test_features.shape = ', test_features.shape)\n",
    "print('test_distribution.shape = ', test_distribution.shape)\n"
   ]
  },
  {
   "cell_type": "code",
   "execution_count": 50,
   "metadata": {},
   "outputs": [],
   "source": [
    "# 制作dataloader\n",
    "batch_size = 64\n",
    "train_dataset = torch.utils.data.TensorDataset(train_features, train_distribution)\n",
    "test_dataset = torch.utils.data.TensorDataset(test_features, test_distribution)\n",
    "train_loader = torch.utils.data.DataLoader(train_dataset, batch_size=batch_size, shuffle=True)\n",
    "test_loader = torch.utils.data.DataLoader(test_dataset, batch_size=batch_size, shuffle=False)"
   ]
  },
  {
   "attachments": {},
   "cell_type": "markdown",
   "metadata": {},
   "source": [
    "### 网络参数"
   ]
  },
  {
   "cell_type": "code",
   "execution_count": 51,
   "metadata": {},
   "outputs": [],
   "source": [
    "inp_dim = 7\n",
    "hidden_dim = 50\n",
    "out_dim = 7"
   ]
  },
  {
   "cell_type": "code",
   "execution_count": 52,
   "metadata": {},
   "outputs": [],
   "source": [
    "net = SimpleNet(inp_dim, hidden_dim, out_dim).to(device)"
   ]
  },
  {
   "cell_type": "code",
   "execution_count": 53,
   "metadata": {},
   "outputs": [
    {
     "data": {
      "text/plain": [
       "==========================================================================================\n",
       "Layer (type:depth-idx)                   Output Shape              Param #\n",
       "==========================================================================================\n",
       "SimpleNet                                [64, 7]                   --\n",
       "├─Linear: 1-1                            [64, 50]                  400\n",
       "├─Linear: 1-2                            [64, 50]                  2,550\n",
       "├─Linear: 1-3                            [64, 7]                   357\n",
       "├─Softmax: 1-4                           [64, 7]                   --\n",
       "==========================================================================================\n",
       "Total params: 3,307\n",
       "Trainable params: 3,307\n",
       "Non-trainable params: 0\n",
       "Total mult-adds (M): 0.21\n",
       "==========================================================================================\n",
       "Input size (MB): 0.00\n",
       "Forward/backward pass size (MB): 0.05\n",
       "Params size (MB): 0.01\n",
       "Estimated Total Size (MB): 0.07\n",
       "=========================================================================================="
      ]
     },
     "execution_count": 53,
     "metadata": {},
     "output_type": "execute_result"
    }
   ],
   "source": [
    "summary(net, (batch_size,inp_dim))"
   ]
  },
  {
   "cell_type": "code",
   "execution_count": 54,
   "metadata": {},
   "outputs": [],
   "source": [
    "criterion = nn.MSELoss()\n",
    "optimizer = torch.optim.Adam(net.parameters(), lr=0.001)"
   ]
  },
  {
   "attachments": {},
   "cell_type": "markdown",
   "metadata": {},
   "source": [
    "### 开始训练"
   ]
  },
  {
   "cell_type": "code",
   "execution_count": 55,
   "metadata": {},
   "outputs": [
    {
     "name": "stdout",
     "output_type": "stream",
     "text": [
      "epoch = 0, train_loss = 0.0215, test_loss = 0.0277\n",
      "epoch = 20, train_loss = 0.0038, test_loss = 0.0058\n",
      "epoch = 40, train_loss = 0.0036, test_loss = 0.0055\n",
      "epoch = 60, train_loss = 0.0034, test_loss = 0.0052\n",
      "epoch = 80, train_loss = 0.0033, test_loss = 0.0050\n",
      "epoch = 100, train_loss = 0.0032, test_loss = 0.0049\n",
      "epoch = 120, train_loss = 0.0032, test_loss = 0.0049\n",
      "epoch = 140, train_loss = 0.0031, test_loss = 0.0048\n",
      "epoch = 160, train_loss = 0.0031, test_loss = 0.0047\n",
      "epoch = 180, train_loss = 0.0031, test_loss = 0.0048\n",
      "epoch = 200, train_loss = 0.0031, test_loss = 0.0047\n",
      "epoch = 220, train_loss = 0.0031, test_loss = 0.0047\n",
      "epoch = 240, train_loss = 0.0031, test_loss = 0.0047\n",
      "epoch = 260, train_loss = 0.0031, test_loss = 0.0047\n",
      "epoch = 280, train_loss = 0.0031, test_loss = 0.0046\n",
      "epoch = 300, train_loss = 0.0031, test_loss = 0.0047\n",
      "epoch = 320, train_loss = 0.0031, test_loss = 0.0046\n",
      "epoch = 340, train_loss = 0.0030, test_loss = 0.0046\n",
      "epoch = 360, train_loss = 0.0030, test_loss = 0.0047\n",
      "epoch = 380, train_loss = 0.0030, test_loss = 0.0046\n",
      "epoch = 400, train_loss = 0.0030, test_loss = 0.0046\n",
      "epoch = 420, train_loss = 0.0030, test_loss = 0.0046\n",
      "epoch = 440, train_loss = 0.0030, test_loss = 0.0046\n",
      "epoch = 460, train_loss = 0.0030, test_loss = 0.0046\n",
      "epoch = 480, train_loss = 0.0030, test_loss = 0.0046\n"
     ]
    }
   ],
   "source": [
    "# 训练\n",
    "# optimizer = torch.optim.SGD(net.parameters(), lr=1e-7)\n",
    "# optimizer = torch.optim.Adam(net.parameters(), lr=1e-4)\n",
    "num_epochs = 500\n",
    "train_loss_list = []\n",
    "test_loss_list = []\n",
    "for epoch in range(num_epochs):\n",
    "    train_loss = 0\n",
    "    test_loss = 0\n",
    "    net.train()\n",
    "    for i, (features, distribution) in enumerate(train_loader):\n",
    "        optimizer.zero_grad()\n",
    "        output = net(features)\n",
    "        loss = criterion(output, distribution)\n",
    "        loss.backward()\n",
    "        optimizer.step()\n",
    "        train_loss += loss.item()\n",
    "    train_loss = train_loss / i\n",
    "    train_loss_list.append(train_loss)\n",
    "    net.eval()\n",
    "    with torch.no_grad():\n",
    "        for i, (features, distribution) in enumerate(test_loader):\n",
    "            output = net(features)\n",
    "            loss = criterion(output, distribution)\n",
    "            test_loss += loss.item()\n",
    "    test_loss = test_loss / i\n",
    "    test_loss_list.append(test_loss)\n",
    "    if epoch % 20 == 0:\n",
    "        print('epoch = %d, train_loss = %.4f, test_loss = %.4f' % (epoch, train_loss, test_loss))"
   ]
  },
  {
   "attachments": {},
   "cell_type": "markdown",
   "metadata": {},
   "source": [
    "### 训练过程loss-epoch曲线"
   ]
  },
  {
   "cell_type": "code",
   "execution_count": 56,
   "metadata": {},
   "outputs": [
    {
     "data": {
      "image/png": "[encoded data removed]",
      "text/plain": [
       "<Figure size 720x432 with 1 Axes>"
      ]
     },
     "metadata": {
      "needs_background": "light"
     },
     "output_type": "display_data"
    }
   ],
   "source": [
    "# 画图\n",
    "plt.figure(figsize=(10, 6))\n",
    "plt.plot(train_loss_list, label='train_loss', color='r')\n",
    "plt.plot(test_loss_list, label='test_loss', color='b')\n",
    "plt.xlabel('epoch')\n",
    "plt.ylabel('loss')\n",
    "plt.legend()\n",
    "plt.show()"
   ]
  },
  {
   "attachments": {},
   "cell_type": "markdown",
   "metadata": {},
   "source": [
    "### 保存模型"
   ]
  },
  {
   "cell_type": "code",
   "execution_count": 91,
   "metadata": {},
   "outputs": [],
   "source": [
    "# 保存模型\n",
    "torch.save(net.state_dict(), 'model_useFeatures.pth')"
   ]
  },
  {
   "attachments": {},
   "cell_type": "markdown",
   "metadata": {},
   "source": [
    "### 加载模型与评估"
   ]
  },
  {
   "cell_type": "code",
   "execution_count": 58,
   "metadata": {},
   "outputs": [],
   "source": [
    "# # 加载模型\n",
    "# device = torch.device('cuda' if torch.cuda.is_available() else 'cpu')\n",
    "# net = SimpleNet(inp_dim, hidden_dim, out_dim).to(device)\n",
    "# net.load_state_dict(torch.load('model_useFeatures.pth'))"
   ]
  },
  {
   "cell_type": "code",
   "execution_count": 59,
   "metadata": {},
   "outputs": [],
   "source": [
    "# 从test_features中随机抽取一个样本"
   ]
  },
  {
   "cell_type": "code",
   "execution_count": 90,
   "metadata": {},
   "outputs": [
    {
     "name": "stdout",
     "output_type": "stream",
     "text": [
      "output_np = \n",
      " [[0.00466872 0.0884556  0.279432   0.32695994 0.1972798  0.08200319\n",
      "  0.02120073]]\n",
      "test_distribution_np[idx,:] = \n",
      " [0.   0.05 0.24 0.25 0.18 0.17 0.11]\n"
     ]
    },
    {
     "data": {
      "image/png": "[encoded data removed]",
      "text/plain": [
       "<Figure size 720x432 with 1 Axes>"
      ]
     },
     "metadata": {
      "needs_background": "light"
     },
     "output_type": "display_data"
    }
   ],
   "source": [
    "idx = np.random.randint(0, test_features.shape[0])\n",
    "random_feature = test_features[idx,:]\n",
    "# 找出该样本对应的单词\n",
    "right_idx = test_indices[idx]\n",
    "word = data['word'][right_idx]\n",
    "# 推理\n",
    "net.eval()\n",
    "with torch.no_grad():\n",
    "    output = net(test_features[idx,:].unsqueeze(0))\n",
    "    output_np = output.cpu().numpy()\n",
    "    print('output_np = \\n', output_np)\n",
    "    print('test_distribution_np[idx,:] = \\n', test_distribution[idx,:].cpu().numpy())\n",
    "    # 画图\n",
    "    plt.figure(figsize=(10, 6))\n",
    "    plt.bar(np.arange(7), output_np[0], width=0.5, label='predict_distribution', color='r')\n",
    "    plt.bar(np.arange(7)+0.5,  test_distribution[idx,:].cpu().numpy() , width=0.5, label='true_distribution', color='b')\n",
    "    plt.xlabel('class')\n",
    "    plt.ylabel('probability')\n",
    "    plt.title('the distribution of the word \"{}\"'.format(word))\n",
    "    plt.legend()\n",
    "    plt.show()"
   ]
  },
  {
   "attachments": {},
   "cell_type": "markdown",
   "metadata": {},
   "source": [
    "#### 单词eerie的分布\n",
    "\n",
    "<!-- 表格 -->\n",
    "\n",
    "| word | date | if_weekday | senti | cixing | diversity | freq        | vowel percentage(%) | correlations       |\n",
    "|:-----|:-----|:-----------|:------|:-------|:----------|:------------|:--------------------|:-------------------|\n",
    "| eerie| 0    | 0/1        | 1     | NN(2)  | 0.444444  | 0.482179277 | 80                  | 1.4018470349381116 |"
   ]
  },
  {
   "cell_type": "code",
   "execution_count": 61,
   "metadata": {},
   "outputs": [
    {
     "data": {
      "text/html": [
       "<div>\n",
       "<style scoped>\n",
       "    .dataframe tbody tr th:only-of-type {\n",
       "        vertical-align: middle;\n",
       "    }\n",
       "\n",
       "    .dataframe tbody tr th {\n",
       "        vertical-align: top;\n",
       "    }\n",
       "\n",
       "    .dataframe thead th {\n",
       "        text-align: right;\n",
       "    }\n",
       "</style>\n",
       "<table border=\"1\" class=\"dataframe\">\n",
       "  <thead>\n",
       "    <tr style=\"text-align: right;\">\n",
       "      <th></th>\n",
       "      <th>senti</th>\n",
       "      <th>cixing</th>\n",
       "      <th>diversity</th>\n",
       "      <th>freq_2</th>\n",
       "      <th>vowel_percentage(%)</th>\n",
       "      <th>if_weekdays</th>\n",
       "      <th>correlations</th>\n",
       "    </tr>\n",
       "  </thead>\n",
       "  <tbody>\n",
       "    <tr>\n",
       "      <th>0</th>\n",
       "      <td>1</td>\n",
       "      <td>0</td>\n",
       "      <td>0.620000</td>\n",
       "      <td>0.265298</td>\n",
       "      <td>20.0</td>\n",
       "      <td>0</td>\n",
       "      <td>0.343806</td>\n",
       "    </tr>\n",
       "    <tr>\n",
       "      <th>1</th>\n",
       "      <td>1</td>\n",
       "      <td>1</td>\n",
       "      <td>0.777778</td>\n",
       "      <td>0.315016</td>\n",
       "      <td>40.0</td>\n",
       "      <td>1</td>\n",
       "      <td>0.491583</td>\n",
       "    </tr>\n",
       "    <tr>\n",
       "      <th>2</th>\n",
       "      <td>0</td>\n",
       "      <td>2</td>\n",
       "      <td>0.001000</td>\n",
       "      <td>0.237445</td>\n",
       "      <td>40.0</td>\n",
       "      <td>1</td>\n",
       "      <td>0.097901</td>\n",
       "    </tr>\n",
       "    <tr>\n",
       "      <th>3</th>\n",
       "      <td>1</td>\n",
       "      <td>2</td>\n",
       "      <td>0.500000</td>\n",
       "      <td>0.314575</td>\n",
       "      <td>40.0</td>\n",
       "      <td>1</td>\n",
       "      <td>0.187709</td>\n",
       "    </tr>\n",
       "    <tr>\n",
       "      <th>4</th>\n",
       "      <td>1</td>\n",
       "      <td>2</td>\n",
       "      <td>0.001000</td>\n",
       "      <td>0.290084</td>\n",
       "      <td>40.0</td>\n",
       "      <td>1</td>\n",
       "      <td>0.308737</td>\n",
       "    </tr>\n",
       "  </tbody>\n",
       "</table>\n",
       "</div>"
      ],
      "text/plain": [
       "   senti  cixing  diversity    freq_2  vowel_percentage(%)  if_weekdays  \\\n",
       "0      1       0   0.620000  0.265298                 20.0            0   \n",
       "1      1       1   0.777778  0.315016                 40.0            1   \n",
       "2      0       2   0.001000  0.237445                 40.0            1   \n",
       "3      1       2   0.500000  0.314575                 40.0            1   \n",
       "4      1       2   0.001000  0.290084                 40.0            1   \n",
       "\n",
       "   correlations  \n",
       "0      0.343806  \n",
       "1      0.491583  \n",
       "2      0.097901  \n",
       "3      0.187709  \n",
       "4      0.308737  "
      ]
     },
     "execution_count": 61,
     "metadata": {},
     "output_type": "execute_result"
    }
   ],
   "source": [
    "data_features.head()"
   ]
  },
  {
   "cell_type": "code",
   "execution_count": 62,
   "metadata": {},
   "outputs": [],
   "source": [
    "# data_eerie_np = np.array([1,0.4444444,0.482179277,80,0,1.4018470349381116]) # 删掉了cixing\n",
    "# data_eerie_np = np.array([0.4444444,0.482179277,80,0,1.4018470349381116]) # 删掉了cixing 和 senti\n",
    "data_eerie_np = np.array([1, 2, 0.4444444,0.482179277,80,0,1.4018470349381116])"
   ]
  },
  {
   "cell_type": "code",
   "execution_count": 63,
   "metadata": {},
   "outputs": [],
   "source": [
    "# 将数据转换为tensor，并用device指定运行的设备\n",
    "data_eerie_np = (data_eerie_np - features_mean) / features_std\n",
    "data_eerie_tensor = torch.tensor(data_eerie_np, dtype=torch.float32, device=device)"
   ]
  },
  {
   "cell_type": "code",
   "execution_count": 64,
   "metadata": {},
   "outputs": [
    {
     "name": "stdout",
     "output_type": "stream",
     "text": [
      "output_np = \n",
      " [[0.00615622 0.08166843 0.22075802 0.30729702 0.24712217 0.11045039\n",
      "  0.02654774]]\n"
     ]
    },
    {
     "data": {
      "image/png": "[encoded data removed]",
      "text/plain": [
       "<Figure size 720x432 with 1 Axes>"
      ]
     },
     "metadata": {
      "needs_background": "light"
     },
     "output_type": "display_data"
    }
   ],
   "source": [
    "\n",
    "# 推理\n",
    "net.eval()\n",
    "with torch.no_grad():\n",
    "    output = net(data_eerie_tensor.unsqueeze(0))\n",
    "    output_np = output.cpu().numpy()\n",
    "    print('output_np = \\n', output_np)\n",
    "    # 画图\n",
    "    plt.figure(figsize=(10, 6))\n",
    "    plt.bar(np.arange(7), output_np[0], width=0.5, label='predict_distribution', color='r')\n",
    "    plt.xlabel('class')\n",
    "    plt.ylabel('probability')\n",
    "    plt.title('the distribution of the word \"{}\"'.format('eerie'))\n",
    "    plt.legend()\n",
    "    plt.show()"
   ]
  }
 ],
 "metadata": {
  "kernelspec": {
   "display_name": "base",
   "language": "python",
   "name": "python3"
  },
  "language_info": {
   "codemirror_mode": {
    "name": "ipython",
    "version": 3
   },
   "file_extension": ".py",
   "mimetype": "text/x-python",
   "name": "python",
   "nbconvert_exporter": "python",
   "pygments_lexer": "ipython3",
   "version": "3.9.7"
  },
  "orig_nbformat": 4,
  "vscode": {
   "interpreter": {
    "hash": "5179d32cf6ec497baf3f8a3ef987cc77c5d2dc691fdde20a56316522f61a7323"
   }
  }
 },
 "nbformat": 4,
 "nbformat_minor": 2
}
