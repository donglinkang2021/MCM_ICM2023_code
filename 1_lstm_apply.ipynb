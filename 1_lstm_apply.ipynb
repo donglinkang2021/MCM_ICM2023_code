{
 "cells": [
  {
   "cell_type": "markdown",
   "metadata": {},
   "source": [
    "# lstm的demo"
   ]
  },
  {
   "cell_type": "code",
   "execution_count": 53,
   "metadata": {},
   "outputs": [],
   "source": [
    "import numpy as np\n",
    "import torch\n",
    "from torch import nn\n",
    "import matplotlib.pyplot as plt"
   ]
  },
  {
   "cell_type": "markdown",
   "metadata": {},
   "source": [
    "## define the network"
   ]
  },
  {
   "cell_type": "markdown",
   "metadata": {},
   "source": [
    "### 原理\n",
    "\n",
    "<center><img src=\"lstm.jpg\" width=\"600\"></center>\n",
    "\n",
    "\n",
    "$$\n",
    "\\begin{array}{ll} \\\\\n",
    "    i_t = \\sigma(W_{ii} x_t + b_{ii} + W_{hi} h_{t-1} + b_{hi}) \\\\\n",
    "    f_t = \\sigma(W_{if} x_t + b_{if} + W_{hf} h_{t-1} + b_{hf}) \\\\\n",
    "    g_t = \\tanh(W_{ig} x_t + b_{ig} + W_{hg} h_{t-1} + b_{hg}) \\\\\n",
    "    o_t = \\sigma(W_{io} x_t + b_{io} + W_{ho} h_{t-1} + b_{ho}) \\\\\n",
    "    c_t = f_t \\odot c_{t-1} + i_t \\odot g_t \\\\\n",
    "    h_t = o_t \\odot \\tanh(c_t) \\\\\n",
    "\\end{array}\n",
    "$$\n",
    "\n",
    "> 注：上面的下标是指从什么到什么，比如$W_{ii}$表示从输入到输入的权重，$W_{ig}$表示从输入到门的权重，$W_{hg}$表示从隐藏层到门的权重，$W_{ho}$表示从隐藏层到输出的权重，$W_{hf}$表示从隐藏层到遗忘门的权重，$W_{hi}$表示从隐藏层到输入门的权重。$b_{ii}$表示从输入到输入的偏置，$b_{ig}$表示从输入到门的偏置，$b_{hg}$表示从隐藏层到门的偏置，$b_{ho}$表示从隐藏层到输出的偏置，$b_{hf}$表示从隐藏层到遗忘门的偏置，$b_{hi}$表示从隐藏层到输入门的偏置。$i_t$表示输入门，$f_t$表示遗忘门，$g_t$表示门，$o_t$表示输出门，$c_t$表示记忆单元，$h_t$表示隐藏层。"
   ]
  },
  {
   "cell_type": "code",
   "execution_count": 54,
   "metadata": {},
   "outputs": [],
   "source": [
    "class RegLSTM(nn.Module):\n",
    "    def __init__(self, inp_dim, out_dim, mid_dim, mid_layers):\n",
    "        super(RegLSTM, self).__init__()\n",
    "        self.rnn = nn.LSTM(inp_dim, mid_dim, mid_layers)  \n",
    "        # rnn layer 在自然语言处理中，第一个参数通常是embedding的维度，第二个参数是隐藏层的维度，第三个参数是层数\n",
    "        self.reg = nn.Sequential(\n",
    "            nn.Linear(mid_dim, mid_dim),\n",
    "            nn.Tanh(),\n",
    "            nn.Linear(mid_dim, out_dim),\n",
    "        )  # regression\n",
    "\n",
    "    def forward(self, x):\n",
    "        y = self.rnn(x)[0]  # y, (h, c) = self.rnn(x)\n",
    "\n",
    "        seq_len, batch_size, hid_dim = y.shape\n",
    "        y = y.view(-1, hid_dim) # y = y.view(seq_len * batch_size, hid_dim)\n",
    "        y = self.reg(y)\n",
    "        y = y.view(seq_len, batch_size, -1) # y = y.view(seq_len, batch_size, out_dim)\n",
    "        return y\n",
    "\n",
    "    \"\"\"\n",
    "    PyCharm Crtl+click nn.LSTM() jump to code of PyTorch:\n",
    "    Examples::\n",
    "        >>> rnn = nn.LSTM(10, 20, 2)\n",
    "        >>> input = torch.randn(5, 3, 10)\n",
    "        >>> h0 = torch.randn(2, 3, 20)\n",
    "        >>> c0 = torch.randn(2, 3, 20)\n",
    "        >>> output, (hn, cn) = rnn(input, (h0, c0))\n",
    "    \"\"\"\n",
    "\n",
    "    def output_y_hc_for_test(self, x, hc):\n",
    "        # 后面计算loss的时候，需要用到y和hc，所以这里需要单独写一个函数\n",
    "        y, hc = self.rnn(x, hc)  # y, (h, c) = self.rnn(x)\n",
    "\n",
    "        seq_len, batch_size, hid_dim = y.size()\n",
    "        y = y.view(-1, hid_dim)\n",
    "        y = self.reg(y)\n",
    "        y = y.view(seq_len, batch_size, -1)\n",
    "        return y, hc\n"
   ]
  },
  {
   "cell_type": "markdown",
   "metadata": {},
   "source": [
    "### 参数设定"
   ]
  },
  {
   "cell_type": "code",
   "execution_count": 55,
   "metadata": {},
   "outputs": [],
   "source": [
    "inp_dim = 1 # 输入维度 我们是（reported result）一个维度\n",
    "out_dim = 1 # 输出维度 我们是预测客流量，所以是1\n",
    "mid_dim = 10 # 隐藏层维度\n",
    "mid_layers = 1 # 隐藏层层数\n",
    "# batch_size = 12 * 4 # 我们划分成48个batch <-- 后面改\n",
    "batch_size = 32\n",
    "mod_dir = '.'"
   ]
  },
  {
   "cell_type": "markdown",
   "metadata": {},
   "source": [
    "### load data"
   ]
  },
  {
   "cell_type": "markdown",
   "metadata": {},
   "source": [
    "##### for data 1"
   ]
  },
  {
   "cell_type": "code",
   "execution_count": 56,
   "metadata": {},
   "outputs": [],
   "source": [
    "# import pandas as pd\n",
    "# # 读取数据\n",
    "# df = pd.read_csv('df_Number_of_reported_results.csv')\n",
    "# seq_number = df.values\n",
    "# # 需要先反转\n",
    "# seq_number = seq_number[::-1]"
   ]
  },
  {
   "cell_type": "markdown",
   "metadata": {},
   "source": [
    "##### for data 2"
   ]
  },
  {
   "cell_type": "code",
   "execution_count": 57,
   "metadata": {},
   "outputs": [],
   "source": [
    "# passengers number of international airline , 1949-01 ~ 1960-12 per month\n",
    "seq_number = np.array(\n",
    "    [112., 118., 132., 129., 121., 135., 148., 148., 136., 119., 104.,\n",
    "        118., 115., 126., 141., 135., 125., 149., 170., 170., 158., 133.,\n",
    "        114., 140., 145., 150., 178., 163., 172., 178., 199., 199., 184.,\n",
    "        162., 146., 166., 171., 180., 193., 181., 183., 218., 230., 242.,\n",
    "        209., 191., 172., 194., 196., 196., 236., 235., 229., 243., 264.,\n",
    "        272., 237., 211., 180., 201., 204., 188., 235., 227., 234., 264.,\n",
    "        302., 293., 259., 229., 203., 229., 242., 233., 267., 269., 270.,\n",
    "        315., 364., 347., 312., 274., 237., 278., 284., 277., 317., 313.,\n",
    "        318., 374., 413., 405., 355., 306., 271., 306., 315., 301., 356.,\n",
    "        348., 355., 422., 465., 467., 404., 347., 305., 336., 340., 318.,\n",
    "        362., 348., 363., 435., 491., 505., 404., 359., 310., 337., 360.,\n",
    "        342., 406., 396., 420., 472., 548., 559., 463., 407., 362., 405.,\n",
    "        417., 391., 419., 461., 472., 535., 622., 606., 508., 461., 390.,\n",
    "        432.], dtype=np.float32)\n",
    "# 给seq_number增加一个维度，变成2维的\n",
    "seq_number = seq_number[:, np.newaxis]"
   ]
  },
  {
   "cell_type": "markdown",
   "metadata": {},
   "source": [
    "##### show data"
   ]
  },
  {
   "cell_type": "code",
   "execution_count": 58,
   "metadata": {},
   "outputs": [
    {
     "data": {
      "text/plain": [
       "[<matplotlib.lines.Line2D at 0x1c64d3a9310>]"
      ]
     },
     "execution_count": 58,
     "metadata": {},
     "output_type": "execute_result"
    },
    {
     "data": {
      "image/png": "[encoded data removed]",
      "text/plain": [
       "<Figure size 864x432 with 1 Axes>"
      ]
     },
     "metadata": {
      "needs_background": "light"
     },
     "output_type": "display_data"
    }
   ],
   "source": [
    "plt.figure(figsize=(12, 6))\n",
    "plt.plot(seq_number)"
   ]
  },
  {
   "cell_type": "code",
   "execution_count": 59,
   "metadata": {},
   "outputs": [
    {
     "data": {
      "text/plain": [
       "(359, 1)"
      ]
     },
     "execution_count": 59,
     "metadata": {},
     "output_type": "execute_result"
    }
   ],
   "source": [
    "seq_number.shape # 1月17号到12月31号的数据，共359天"
   ]
  },
  {
   "cell_type": "code",
   "execution_count": 60,
   "metadata": {},
   "outputs": [],
   "source": [
    "seq = seq_number # 所以最终的形式是（当天reported result） "
   ]
  },
  {
   "cell_type": "code",
   "execution_count": 61,
   "metadata": {},
   "outputs": [
    {
     "data": {
      "text/plain": [
       "array([[ 80630.],\n",
       "       [101503.],\n",
       "       [ 91477.],\n",
       "       [107134.],\n",
       "       [153880.]], dtype=float32)"
      ]
     },
     "execution_count": 61,
     "metadata": {},
     "output_type": "execute_result"
    }
   ],
   "source": [
    "# 转化成浮点数\n",
    "seq = seq.astype(np.float32)\n",
    "seq[:5]"
   ]
  },
  {
   "cell_type": "code",
   "execution_count": 62,
   "metadata": {},
   "outputs": [],
   "source": [
    "# normalization\n",
    "seq_mean = seq.mean(axis=0)\n",
    "seq_std = seq.std(axis=0)\n",
    "seq_norm = (seq - seq_mean) / seq_std"
   ]
  },
  {
   "cell_type": "code",
   "execution_count": 63,
   "metadata": {},
   "outputs": [
    {
     "data": {
      "text/plain": [
       "array([[-0.11607783],\n",
       "       [ 0.11818092],\n",
       "       [ 0.00565861],\n",
       "       [ 0.18137792],\n",
       "       [ 0.7060107 ]], dtype=float32)"
      ]
     },
     "execution_count": 63,
     "metadata": {},
     "output_type": "execute_result"
    }
   ],
   "source": [
    "seq_norm[:5]"
   ]
  },
  {
   "cell_type": "code",
   "execution_count": 64,
   "metadata": {},
   "outputs": [
    {
     "name": "stdout",
     "output_type": "stream",
     "text": [
      "data_x[:5]: [[-0.11607783]\n",
      " [ 0.11818092]\n",
      " [ 0.00565861]\n",
      " [ 0.18137792]\n",
      " [ 0.7060107 ]]\n",
      "data_y[:5]: [0.11818092 0.00565861 0.18137792 0.7060107  0.5231423 ]\n",
      "data_x.shape: (358, 1)\n",
      "data_y.shape: (358,)\n"
     ]
    }
   ],
   "source": [
    "data = seq_norm \n",
    "data_x = data[:-1, :] # 从0到倒数第二个\n",
    "data_y = data[+1:, 0] # 从1到最后一个\n",
    "assert data_x.shape[1] == inp_dim\n",
    "print(\"data_x[:5]:\", data_x[:5])\n",
    "print(\"data_y[:5]:\", data_y[:5])\n",
    "print(\"data_x.shape:\", data_x.shape)\n",
    "print(\"data_y.shape:\", data_y.shape)"
   ]
  },
  {
   "cell_type": "code",
   "execution_count": 65,
   "metadata": {},
   "outputs": [],
   "source": [
    "## 2022.2.17到2022.10.29 都是训练集，2022.10.30到2022.12.31都是测试集 也就是一共 497 - 202 + 1 = 296天 \n",
    "# 296/len(data_x) # <-- for data1"
   ]
  },
  {
   "cell_type": "code",
   "execution_count": 66,
   "metadata": {},
   "outputs": [
    {
     "name": "stdout",
     "output_type": "stream",
     "text": [
      "train_x.shape:  (250, 1)\n",
      "train_y.shape:  (250, 1)\n"
     ]
    }
   ],
   "source": [
    "# split train and test\n",
    "# train_size = 296 # for data1\n",
    "train_size = int(len(data_x) * 0.70) # 75%的数据作为训练集 for data2\n",
    "\n",
    "train_x = data_x[:train_size]\n",
    "train_y = data_y[:train_size]\n",
    "\n",
    "train_x = train_x.reshape((train_size, inp_dim)) # 296, 1\n",
    "train_y = train_y.reshape((train_size, out_dim)) # 296, 1\n",
    "print(\"train_x.shape: \", train_x.shape)\n",
    "print(\"train_y.shape: \", train_y.shape)"
   ]
  },
  {
   "cell_type": "markdown",
   "metadata": {},
   "source": [
    "### build model"
   ]
  },
  {
   "cell_type": "code",
   "execution_count": 67,
   "metadata": {},
   "outputs": [],
   "source": [
    "device = torch.device(\"cuda\" if torch.cuda.is_available() else \"cpu\")\n",
    "net = RegLSTM(inp_dim, out_dim, mid_dim, mid_layers).to(device)\n",
    "criterion = nn.MSELoss()\n",
    "optimizer = torch.optim.Adam(net.parameters(), lr=1e-2)"
   ]
  },
  {
   "cell_type": "code",
   "execution_count": 68,
   "metadata": {},
   "outputs": [
    {
     "data": {
      "text/plain": [
       "==========================================================================================\n",
       "Layer (type:depth-idx)                   Output Shape              Param #\n",
       "==========================================================================================\n",
       "RegLSTM                                  [31, 32, 1]               --\n",
       "├─LSTM: 1-1                              [31, 32, 10]              520\n",
       "├─Sequential: 1-2                        [992, 1]                  --\n",
       "│    └─Linear: 2-1                       [992, 10]                 110\n",
       "│    └─Tanh: 2-2                         [992, 10]                 --\n",
       "│    └─Linear: 2-3                       [992, 1]                  11\n",
       "==========================================================================================\n",
       "Total params: 641\n",
       "Trainable params: 641\n",
       "Non-trainable params: 0\n",
       "Total mult-adds (M): 0.64\n",
       "==========================================================================================\n",
       "Input size (MB): 0.00\n",
       "Forward/backward pass size (MB): 0.17\n",
       "Params size (MB): 0.00\n",
       "Estimated Total Size (MB): 0.17\n",
       "=========================================================================================="
      ]
     },
     "execution_count": 68,
     "metadata": {},
     "output_type": "execute_result"
    }
   ],
   "source": [
    "from torchinfo import summary\n",
    "summary(net, input_size=(batch_size - 1, batch_size, 1))"
   ]
  },
  {
   "cell_type": "markdown",
   "metadata": {},
   "source": [
    "### train"
   ]
  },
  {
   "cell_type": "markdown",
   "metadata": {},
   "source": [
    "#### 制作batch\n",
    "\n",
    "我们首先制作train的batch，然后训练模型。\n",
    "\n",
    "制作batch的方法是选取不同开头但截止一样的序列，然后将这些序列组合成一个batch。\n",
    "\n",
    "<center><img src=\"lstm_batch.drawio.png\" width=\"600\"></center>"
   ]
  },
  {
   "cell_type": "markdown",
   "metadata": {},
   "source": [
    "##### 制作一个batch"
   ]
  },
  {
   "cell_type": "code",
   "execution_count": 69,
   "metadata": {},
   "outputs": [],
   "source": [
    "var_x = torch.tensor(train_x, dtype=torch.float32, device=device)\n",
    "var_y = torch.tensor(train_y, dtype=torch.float32, device=device)\n",
    "\n",
    "batch_var_x = list()\n",
    "batch_var_y = list()\n",
    "\n",
    "for roi_len in range(batch_size):\n",
    "    begin_idx = train_size - roi_len # train_size = 296\n",
    "    batch_var_x.append(var_x[begin_idx:])\n",
    "    batch_var_y.append(var_y[begin_idx:])"
   ]
  },
  {
   "cell_type": "code",
   "execution_count": 70,
   "metadata": {},
   "outputs": [],
   "source": [
    "# print(\"var_x.shape: \", var_x.shape)\n",
    "# print(\"var_y.shape: \", var_y.shape)\n",
    "# print(\"batch_var_x[0].shape: \", batch_var_x[0].shape)\n",
    "# print(\"batch_var_y[0].shape: \", batch_var_y[0].shape)\n",
    "# print(\"batch_var_x[1].shape: \", batch_var_x[-1].shape)\n",
    "# print(\"batch_var_y[1].shape: \", batch_var_y[-1].shape)\n",
    "# print(\"batch_var_x.len: \", len(batch_var_x))\n",
    "# print(\"batch_var_y.len: \", len(batch_var_y))"
   ]
  },
  {
   "cell_type": "markdown",
   "metadata": {},
   "source": [
    "##### 制作多个mini_batch使得一个epoch可以看完所有数据"
   ]
  },
  {
   "cell_type": "code",
   "execution_count": 71,
   "metadata": {},
   "outputs": [
    {
     "data": {
      "text/plain": [
       "32"
      ]
     },
     "execution_count": 71,
     "metadata": {},
     "output_type": "execute_result"
    }
   ],
   "source": [
    "batch_size"
   ]
  },
  {
   "cell_type": "code",
   "execution_count": 72,
   "metadata": {},
   "outputs": [
    {
     "data": {
      "text/plain": [
       "250"
      ]
     },
     "execution_count": 72,
     "metadata": {},
     "output_type": "execute_result"
    }
   ],
   "source": [
    "train_size"
   ]
  },
  {
   "cell_type": "code",
   "execution_count": 73,
   "metadata": {},
   "outputs": [],
   "source": [
    "# # 那么我们大概需要再制作 4个batch就好了，重复是必须的\n",
    "# var_x = torch.tensor(train_x, dtype=torch.float32, device=device)\n",
    "# var_y = torch.tensor(train_y, dtype=torch.float32, device=device)\n",
    "\n",
    "# batch_var_x = list()\n",
    "# batch_var_y = list()\n",
    "\n",
    "# mini_batch_size = 5\n",
    "\n",
    "# for num_of_batch in range(mini_batch_size):\n",
    "#     end_idx = np.random.randint(batch_size, train_size)\n",
    "#     for roi_len in range(batch_size):\n",
    "#         begin_idx = end_idx - roi_len \n",
    "#         batch_var_x.append(var_x[begin_idx:end_idx])\n",
    "#         batch_var_y.append(var_y[begin_idx:end_idx])"
   ]
  },
  {
   "cell_type": "code",
   "execution_count": 74,
   "metadata": {},
   "outputs": [],
   "source": [
    "# batch_size, mini_batch_size, train_size"
   ]
  },
  {
   "cell_type": "code",
   "execution_count": 75,
   "metadata": {},
   "outputs": [],
   "source": [
    "# print(\"var_x.shape: \", var_x.shape)\n",
    "# print(\"var_y.shape: \", var_y.shape)\n",
    "# print(\"batch_var_x[0].shape: \", batch_var_x[0].shape)\n",
    "# print(\"batch_var_y[0].shape: \", batch_var_y[0].shape)\n",
    "# print(\"batch_var_x[-1].shape: \", batch_var_x[-1].shape)\n",
    "# print(\"batch_var_y[-1].shape: \", batch_var_y[-1].shape)\n",
    "# print(\"batch_var_x.len: \", len(batch_var_x))\n",
    "# print(\"batch_var_y.len: \", len(batch_var_y))"
   ]
  },
  {
   "attachments": {},
   "cell_type": "markdown",
   "metadata": {},
   "source": [
    "#### padding\n",
    "\n",
    "<center><img src=\"res_img/lstm.drawio.png\" width=\"400\"></center>\n",
    "\n",
    "我们看到不同的batch的shape是不一样的，但是我们需要的是一样的，所以我们需要对batch进行padding，即在后面补0，使得所有的batch的shape都一样"
   ]
  },
  {
   "cell_type": "code",
   "execution_count": 76,
   "metadata": {},
   "outputs": [
    {
     "name": "stdout",
     "output_type": "stream",
     "text": [
      "batch_var_x.shape:  torch.Size([31, 32, 1])\n",
      "batch_var_y.shape:  torch.Size([31, 32, 1])\n"
     ]
    }
   ],
   "source": [
    "from torch.nn.utils.rnn import pad_sequence\n",
    "batch_var_x = pad_sequence(batch_var_x)\n",
    "batch_var_y = pad_sequence(batch_var_y)\n",
    "print(\"batch_var_x.shape: \", batch_var_x.shape)\n",
    "print(\"batch_var_y.shape: \", batch_var_y.shape)"
   ]
  },
  {
   "attachments": {},
   "cell_type": "markdown",
   "metadata": {},
   "source": [
    "> seq_len = 99, example_num = 500, input_size = 1"
   ]
  },
  {
   "cell_type": "code",
   "execution_count": 77,
   "metadata": {},
   "outputs": [
    {
     "data": {
      "text/plain": [
       "tensor([[0.],\n",
       "        [0.],\n",
       "        [0.],\n",
       "        [0.],\n",
       "        [0.]])"
      ]
     },
     "execution_count": 77,
     "metadata": {},
     "output_type": "execute_result"
    }
   ],
   "source": [
    "batch_var_x[:5, 0, :] # 对应上图的蓝色圆角矩形上方第一行数据前五个"
   ]
  },
  {
   "cell_type": "code",
   "execution_count": 78,
   "metadata": {},
   "outputs": [
    {
     "data": {
      "text/plain": [
       "tensor([[-0.6899],\n",
       "        [ 0.0000],\n",
       "        [ 0.0000],\n",
       "        [ 0.0000],\n",
       "        [ 0.0000]])"
      ]
     },
     "execution_count": 78,
     "metadata": {},
     "output_type": "execute_result"
    }
   ],
   "source": [
    "batch_var_x[:5, 1, :]  # 对应上图的蓝色圆角矩形所在行数据前五个"
   ]
  },
  {
   "cell_type": "markdown",
   "metadata": {},
   "source": [
    "#### 遗忘曲线控制loss\n",
    "\n",
    "这里为损失函数添加了类似遗忘曲线的东西，使得模型在训练的时候不会忘记之前的信息，而是会逐渐遗忘。\n",
    "\n",
    "$$\n",
    "weight1_{t} = tanh(e * \\frac{t}{len(train_y)}) \\quad \\text{where} \\quad t \\in [0, len(train_y))\n",
    "$$\n",
    "\n",
    "试图改一下遗忘曲线，使得模型在训练的时候对近期记忆保持更多的记忆\n",
    "\n",
    "$$\n",
    "weight2_{t} = tanh\\left (\\alpha * \\left (\\frac{t}{len(train_y)}-1 \\right ) \\right )+1 \\quad \\text{where} \\quad t \\in [0, len(train_y))\n",
    "$$"
   ]
  },
  {
   "cell_type": "code",
   "execution_count": 79,
   "metadata": {},
   "outputs": [],
   "source": [
    "with torch.no_grad():\n",
    "    weights = np.tanh(np.arange(len(train_y)) * (np.e / len(train_y)))\n",
    "    weights = torch.tensor(weights, dtype=torch.float32, device=device)\n",
    "\n",
    "with torch.no_grad():\n",
    "    alpha = 10\n",
    "    weights2 = np.tanh( alpha *(np.arange(len(train_y)) / len(train_y) - 1)) + 1 \n",
    "    weights2 = torch.tensor(weights2, dtype=torch.float32, device=device)"
   ]
  },
  {
   "cell_type": "code",
   "execution_count": 80,
   "metadata": {},
   "outputs": [
    {
     "name": "stdout",
     "output_type": "stream",
     "text": [
      "weights.shape:  torch.Size([250])\n"
     ]
    }
   ],
   "source": [
    "print(\"weights.shape: \", weights.shape)"
   ]
  },
  {
   "cell_type": "code",
   "execution_count": 81,
   "metadata": {},
   "outputs": [
    {
     "data": {
      "text/plain": [
       "[<matplotlib.lines.Line2D at 0x1c648b92280>]"
      ]
     },
     "execution_count": 81,
     "metadata": {},
     "output_type": "execute_result"
    },
    {
     "data": {
      "image/png": "[encoded data removed]",
      "text/plain": [
       "<Figure size 1440x720 with 1 Axes>"
      ]
     },
     "metadata": {
      "needs_background": "light"
     },
     "output_type": "display_data"
    }
   ],
   "source": [
    "# 画出weights\n",
    "plt.figure(figsize=(20, 10))\n",
    "plt.plot(weights.cpu().numpy())\n",
    "plt.plot(weights2.cpu().numpy())\n",
    "# 画出客流量\n",
    "plt.plot(train_y)"
   ]
  },
  {
   "cell_type": "markdown",
   "metadata": {},
   "source": [
    "#### 开始训练"
   ]
  },
  {
   "cell_type": "code",
   "execution_count": 82,
   "metadata": {},
   "outputs": [
    {
     "name": "stdout",
     "output_type": "stream",
     "text": [
      "Training Start\n",
      "Epoch:    0, Loss: 0.11437\n",
      "Epoch:    1, Loss: 0.10250\n",
      "Epoch:    2, Loss: 0.09983\n",
      "Epoch:    3, Loss: 0.09781\n",
      "Epoch:    4, Loss: 0.09246\n",
      "Epoch:    5, Loss: 0.08534\n",
      "Epoch:    6, Loss: 0.07835\n",
      "Epoch:    7, Loss: 0.07219\n",
      "Epoch:    8, Loss: 0.06601\n",
      "Epoch:    9, Loss: 0.05805\n",
      "Epoch:   10, Loss: 0.04772\n",
      "Epoch:   11, Loss: 0.03662\n",
      "Epoch:   12, Loss: 0.02744\n",
      "Epoch:   13, Loss: 0.02068\n",
      "Epoch:   14, Loss: 0.01458\n",
      "Epoch:   15, Loss: 0.01183\n",
      "Epoch:   16, Loss: 0.01708\n",
      "Epoch:   17, Loss: 0.02002\n",
      "Epoch:   18, Loss: 0.01837\n",
      "Epoch:   19, Loss: 0.01562\n",
      "Epoch:   20, Loss: 0.01113\n",
      "Epoch:   21, Loss: 0.00710\n",
      "Epoch:   22, Loss: 0.00551\n",
      "Epoch:   23, Loss: 0.00554\n",
      "Epoch:   24, Loss: 0.00607\n",
      "Epoch:   25, Loss: 0.00691\n",
      "Epoch:   26, Loss: 0.00761\n",
      "Epoch:   27, Loss: 0.00759\n",
      "Epoch:   28, Loss: 0.00694\n",
      "Epoch:   29, Loss: 0.00611\n",
      "Epoch:   30, Loss: 0.00518\n",
      "Epoch:   31, Loss: 0.00411\n",
      "Epoch:   32, Loss: 0.00326\n",
      "Epoch:   33, Loss: 0.00294\n",
      "Epoch:   34, Loss: 0.00296\n",
      "Epoch:   35, Loss: 0.00309\n",
      "Epoch:   36, Loss: 0.00340\n",
      "Epoch:   37, Loss: 0.00361\n",
      "Epoch:   38, Loss: 0.00343\n",
      "Epoch:   39, Loss: 0.00308\n",
      "Epoch:   40, Loss: 0.00268\n",
      "Epoch:   41, Loss: 0.00222\n",
      "Epoch:   42, Loss: 0.00188\n",
      "Epoch:   43, Loss: 0.00176\n",
      "Epoch:   44, Loss: 0.00174\n",
      "Epoch:   45, Loss: 0.00176\n",
      "Epoch:   46, Loss: 0.00183\n",
      "Epoch:   47, Loss: 0.00185\n",
      "Epoch:   48, Loss: 0.00176\n",
      "Epoch:   49, Loss: 0.00163\n",
      "Epoch:   50, Loss: 0.00148\n",
      "Epoch:   51, Loss: 0.00129\n",
      "Epoch:   52, Loss: 0.00115\n",
      "Epoch:   53, Loss: 0.00108\n",
      "Epoch:   54, Loss: 0.00104\n",
      "Epoch:   55, Loss: 0.00104\n",
      "Epoch:   56, Loss: 0.00106\n",
      "Epoch:   57, Loss: 0.00105\n",
      "Epoch:   58, Loss: 0.00101\n",
      "Epoch:   59, Loss: 0.00095\n",
      "Epoch:   60, Loss: 0.00087\n",
      "Epoch:   61, Loss: 0.00079\n",
      "Epoch:   62, Loss: 0.00074\n",
      "Epoch:   63, Loss: 0.00071\n",
      "Epoch:   64, Loss: 0.00070\n",
      "Epoch:   65, Loss: 0.00070\n",
      "Epoch:   66, Loss: 0.00069\n",
      "Epoch:   67, Loss: 0.00068\n",
      "Epoch:   68, Loss: 0.00065\n",
      "Epoch:   69, Loss: 0.00062\n",
      "Epoch:   70, Loss: 0.00058\n",
      "Epoch:   71, Loss: 0.00056\n",
      "Epoch:   72, Loss: 0.00054\n",
      "Epoch:   73, Loss: 0.00053\n",
      "Epoch:   74, Loss: 0.00053\n",
      "Epoch:   75, Loss: 0.00052\n",
      "Epoch:   76, Loss: 0.00052\n",
      "Epoch:   77, Loss: 0.00050\n",
      "Epoch:   78, Loss: 0.00048\n",
      "Epoch:   79, Loss: 0.00047\n",
      "Epoch:   80, Loss: 0.00046\n",
      "Epoch:   81, Loss: 0.00045\n",
      "Epoch:   82, Loss: 0.00045\n",
      "Epoch:   83, Loss: 0.00044\n",
      "Epoch:   84, Loss: 0.00044\n",
      "Epoch:   85, Loss: 0.00044\n",
      "Epoch:   86, Loss: 0.00043\n",
      "Epoch:   87, Loss: 0.00042\n",
      "Epoch:   88, Loss: 0.00041\n",
      "Epoch:   89, Loss: 0.00041\n",
      "Epoch:   90, Loss: 0.00041\n",
      "Epoch:   91, Loss: 0.00040\n",
      "Epoch:   92, Loss: 0.00040\n",
      "Epoch:   93, Loss: 0.00040\n",
      "Epoch:   94, Loss: 0.00040\n",
      "Epoch:   95, Loss: 0.00039\n",
      "Epoch:   96, Loss: 0.00039\n",
      "Epoch:   97, Loss: 0.00038\n",
      "Epoch:   98, Loss: 0.00038\n",
      "Epoch:   99, Loss: 0.00038\n",
      "Epoch:  100, Loss: 0.00038\n",
      "Epoch:  101, Loss: 0.00038\n",
      "Epoch:  102, Loss: 0.00038\n",
      "Epoch:  103, Loss: 0.00037\n",
      "Epoch:  104, Loss: 0.00037\n",
      "Epoch:  105, Loss: 0.00037\n",
      "Epoch:  106, Loss: 0.00037\n",
      "Epoch:  107, Loss: 0.00037\n",
      "Epoch:  108, Loss: 0.00037\n",
      "Epoch:  109, Loss: 0.00036\n",
      "Epoch:  110, Loss: 0.00036\n",
      "Epoch:  111, Loss: 0.00036\n",
      "Epoch:  112, Loss: 0.00036\n",
      "Epoch:  113, Loss: 0.00036\n",
      "Epoch:  114, Loss: 0.00036\n",
      "Epoch:  115, Loss: 0.00036\n",
      "Epoch:  116, Loss: 0.00036\n",
      "Epoch:  117, Loss: 0.00036\n",
      "Epoch:  118, Loss: 0.00036\n",
      "Epoch:  119, Loss: 0.00036\n",
      "Epoch:  120, Loss: 0.00036\n",
      "Epoch:  121, Loss: 0.00035\n",
      "Epoch:  122, Loss: 0.00035\n",
      "Epoch:  123, Loss: 0.00035\n",
      "Epoch:  124, Loss: 0.00035\n",
      "Epoch:  125, Loss: 0.00035\n",
      "Epoch:  126, Loss: 0.00035\n",
      "Epoch:  127, Loss: 0.00035\n",
      "Epoch:  128, Loss: 0.00035\n",
      "Epoch:  129, Loss: 0.00035\n",
      "Epoch:  130, Loss: 0.00035\n",
      "Epoch:  131, Loss: 0.00035\n",
      "Epoch:  132, Loss: 0.00035\n",
      "Epoch:  133, Loss: 0.00035\n",
      "Epoch:  134, Loss: 0.00035\n",
      "Epoch:  135, Loss: 0.00035\n",
      "Epoch:  136, Loss: 0.00035\n",
      "Epoch:  137, Loss: 0.00035\n",
      "Epoch:  138, Loss: 0.00035\n",
      "Epoch:  139, Loss: 0.00035\n",
      "Epoch:  140, Loss: 0.00035\n",
      "Epoch:  141, Loss: 0.00035\n",
      "Epoch:  142, Loss: 0.00035\n",
      "Epoch:  143, Loss: 0.00035\n",
      "Epoch:  144, Loss: 0.00035\n",
      "Epoch:  145, Loss: 0.00035\n",
      "Epoch:  146, Loss: 0.00035\n",
      "Epoch:  147, Loss: 0.00035\n",
      "Epoch:  148, Loss: 0.00035\n",
      "Epoch:  149, Loss: 0.00035\n",
      "Epoch:  150, Loss: 0.00035\n",
      "Epoch:  151, Loss: 0.00035\n",
      "Epoch:  152, Loss: 0.00035\n",
      "Epoch:  153, Loss: 0.00035\n",
      "Epoch:  154, Loss: 0.00035\n",
      "Epoch:  155, Loss: 0.00035\n",
      "Epoch:  156, Loss: 0.00034\n",
      "Epoch:  157, Loss: 0.00034\n",
      "Epoch:  158, Loss: 0.00034\n",
      "Epoch:  159, Loss: 0.00034\n",
      "Epoch:  160, Loss: 0.00034\n",
      "Epoch:  161, Loss: 0.00034\n",
      "Epoch:  162, Loss: 0.00034\n",
      "Epoch:  163, Loss: 0.00034\n",
      "Epoch:  164, Loss: 0.00034\n",
      "Epoch:  165, Loss: 0.00034\n",
      "Epoch:  166, Loss: 0.00034\n",
      "Epoch:  167, Loss: 0.00034\n",
      "Epoch:  168, Loss: 0.00034\n",
      "Epoch:  169, Loss: 0.00034\n",
      "Epoch:  170, Loss: 0.00034\n",
      "Epoch:  171, Loss: 0.00034\n",
      "Epoch:  172, Loss: 0.00034\n",
      "Epoch:  173, Loss: 0.00034\n",
      "Epoch:  174, Loss: 0.00034\n",
      "Epoch:  175, Loss: 0.00034\n",
      "Epoch:  176, Loss: 0.00034\n",
      "Epoch:  177, Loss: 0.00034\n",
      "Epoch:  178, Loss: 0.00034\n",
      "Epoch:  179, Loss: 0.00034\n",
      "Epoch:  180, Loss: 0.00034\n",
      "Epoch:  181, Loss: 0.00034\n",
      "Epoch:  182, Loss: 0.00034\n",
      "Epoch:  183, Loss: 0.00034\n",
      "Epoch:  184, Loss: 0.00034\n",
      "Epoch:  185, Loss: 0.00034\n",
      "Epoch:  186, Loss: 0.00034\n",
      "Epoch:  187, Loss: 0.00034\n",
      "Epoch:  188, Loss: 0.00034\n",
      "Epoch:  189, Loss: 0.00034\n",
      "Epoch:  190, Loss: 0.00034\n",
      "Epoch:  191, Loss: 0.00034\n",
      "Epoch:  192, Loss: 0.00034\n",
      "Epoch:  193, Loss: 0.00034\n",
      "Epoch:  194, Loss: 0.00034\n",
      "Epoch:  195, Loss: 0.00034\n",
      "Epoch:  196, Loss: 0.00034\n",
      "Epoch:  197, Loss: 0.00034\n",
      "Epoch:  198, Loss: 0.00034\n",
      "Epoch:  199, Loss: 0.00034\n"
     ]
    }
   ],
   "source": [
    "net.train()\n",
    "print(\"Training Start\")\n",
    "num_epochs = 200\n",
    "train_loss_list = []\n",
    "for epoch in range(num_epochs):\n",
    "    out = net(batch_var_x)\n",
    "\n",
    "    # loss = (out - batch_var_y) ** 2 * weights # <-- 使用weights \n",
    "    # loss = (out - batch_var_y) ** 2 * weights2 # <-- 使用weights2 \n",
    "    # loss = (out - batch_var_y) ** 2 # <-- 不使用weights \n",
    "\n",
    "    loss = criterion(out, batch_var_y)\n",
    "    \n",
    "    optimizer.zero_grad()\n",
    "    loss.backward()\n",
    "    optimizer.step()\n",
    "\n",
    "    # if (epoch+1) % 100 == 0:\n",
    "    print('Epoch: {:4}, Loss: {:.5f}'.format(epoch, loss.item()))\n",
    "    train_loss_list.append(loss.item())"
   ]
  },
  {
   "cell_type": "code",
   "execution_count": 83,
   "metadata": {},
   "outputs": [
    {
     "data": {
      "image/png": "[encoded data removed]",
      "text/plain": [
       "<Figure size 720x432 with 1 Axes>"
      ]
     },
     "metadata": {
      "needs_background": "light"
     },
     "output_type": "display_data"
    }
   ],
   "source": [
    "# 画图\n",
    "plt.figure(figsize=(10, 6))\n",
    "plt.plot(train_loss_list, label='train_loss', color='r')\n",
    "plt.xlabel('epoch')\n",
    "plt.ylabel('loss')\n",
    "plt.legend()\n",
    "plt.show()"
   ]
  },
  {
   "cell_type": "markdown",
   "metadata": {},
   "source": [
    "保存参数"
   ]
  },
  {
   "cell_type": "code",
   "execution_count": 84,
   "metadata": {},
   "outputs": [],
   "source": [
    "# torch.save(net.state_dict(), '{}/net.pth'.format(mod_dir))\n",
    "# print(\"Save in:\", '{}/net.pth'.format(mod_dir))"
   ]
  },
  {
   "cell_type": "code",
   "execution_count": 105,
   "metadata": {},
   "outputs": [
    {
     "ename": "RuntimeError",
     "evalue": "Error(s) in loading state_dict for RegLSTM:\n\tsize mismatch for rnn.weight_ih_l0: copying a param with shape torch.Size([32, 3]) from checkpoint, the shape in current model is torch.Size([40, 1]).\n\tsize mismatch for rnn.weight_hh_l0: copying a param with shape torch.Size([32, 8]) from checkpoint, the shape in current model is torch.Size([40, 10]).\n\tsize mismatch for rnn.bias_ih_l0: copying a param with shape torch.Size([32]) from checkpoint, the shape in current model is torch.Size([40]).\n\tsize mismatch for rnn.bias_hh_l0: copying a param with shape torch.Size([32]) from checkpoint, the shape in current model is torch.Size([40]).\n\tsize mismatch for reg.0.weight: copying a param with shape torch.Size([8, 8]) from checkpoint, the shape in current model is torch.Size([10, 10]).\n\tsize mismatch for reg.0.bias: copying a param with shape torch.Size([8]) from checkpoint, the shape in current model is torch.Size([10]).\n\tsize mismatch for reg.2.weight: copying a param with shape torch.Size([1, 8]) from checkpoint, the shape in current model is torch.Size([1, 10]).",
     "output_type": "error",
     "traceback": [
      "\u001b[1;31m---------------------------------------------------------------------------\u001b[0m",
      "\u001b[1;31mRuntimeError\u001b[0m                              Traceback (most recent call last)",
      "\u001b[1;32m~\\AppData\\Local\\Temp/ipykernel_26192/1840178372.py\u001b[0m in \u001b[0;36m<module>\u001b[1;34m\u001b[0m\n\u001b[0;32m      2\u001b[0m \u001b[0mnet\u001b[0m \u001b[1;33m=\u001b[0m \u001b[0mRegLSTM\u001b[0m\u001b[1;33m(\u001b[0m\u001b[0minp_dim\u001b[0m\u001b[1;33m,\u001b[0m \u001b[0mout_dim\u001b[0m\u001b[1;33m,\u001b[0m \u001b[0mmid_dim\u001b[0m\u001b[1;33m,\u001b[0m \u001b[0mmid_layers\u001b[0m\u001b[1;33m)\u001b[0m\u001b[1;33m.\u001b[0m\u001b[0mto\u001b[0m\u001b[1;33m(\u001b[0m\u001b[0mdevice\u001b[0m\u001b[1;33m)\u001b[0m\u001b[1;33m\u001b[0m\u001b[1;33m\u001b[0m\u001b[0m\n\u001b[0;32m      3\u001b[0m \u001b[0mparams\u001b[0m \u001b[1;33m=\u001b[0m \u001b[0mtorch\u001b[0m\u001b[1;33m.\u001b[0m\u001b[0mload\u001b[0m\u001b[1;33m(\u001b[0m\u001b[1;34m'{}/net.pth'\u001b[0m\u001b[1;33m.\u001b[0m\u001b[0mformat\u001b[0m\u001b[1;33m(\u001b[0m\u001b[0mmod_dir\u001b[0m\u001b[1;33m)\u001b[0m\u001b[1;33m)\u001b[0m\u001b[1;33m\u001b[0m\u001b[1;33m\u001b[0m\u001b[0m\n\u001b[1;32m----> 4\u001b[1;33m \u001b[0mnet\u001b[0m\u001b[1;33m.\u001b[0m\u001b[0mload_state_dict\u001b[0m\u001b[1;33m(\u001b[0m\u001b[0mparams\u001b[0m\u001b[1;33m)\u001b[0m\u001b[1;33m\u001b[0m\u001b[1;33m\u001b[0m\u001b[0m\n\u001b[0m",
      "\u001b[1;32md:\\anaconda\\lib\\site-packages\\torch\\nn\\modules\\module.py\u001b[0m in \u001b[0;36mload_state_dict\u001b[1;34m(self, state_dict, strict)\u001b[0m\n\u001b[0;32m   1221\u001b[0m \u001b[1;33m\u001b[0m\u001b[0m\n\u001b[0;32m   1222\u001b[0m         \u001b[1;32mif\u001b[0m \u001b[0mlen\u001b[0m\u001b[1;33m(\u001b[0m\u001b[0merror_msgs\u001b[0m\u001b[1;33m)\u001b[0m \u001b[1;33m>\u001b[0m \u001b[1;36m0\u001b[0m\u001b[1;33m:\u001b[0m\u001b[1;33m\u001b[0m\u001b[1;33m\u001b[0m\u001b[0m\n\u001b[1;32m-> 1223\u001b[1;33m             raise RuntimeError('Error(s) in loading state_dict for {}:\\n\\t{}'.format(\n\u001b[0m\u001b[0;32m   1224\u001b[0m                                self.__class__.__name__, \"\\n\\t\".join(error_msgs)))\n\u001b[0;32m   1225\u001b[0m         \u001b[1;32mreturn\u001b[0m \u001b[0m_IncompatibleKeys\u001b[0m\u001b[1;33m(\u001b[0m\u001b[0mmissing_keys\u001b[0m\u001b[1;33m,\u001b[0m \u001b[0munexpected_keys\u001b[0m\u001b[1;33m)\u001b[0m\u001b[1;33m\u001b[0m\u001b[1;33m\u001b[0m\u001b[0m\n",
      "\u001b[1;31mRuntimeError\u001b[0m: Error(s) in loading state_dict for RegLSTM:\n\tsize mismatch for rnn.weight_ih_l0: copying a param with shape torch.Size([32, 3]) from checkpoint, the shape in current model is torch.Size([40, 1]).\n\tsize mismatch for rnn.weight_hh_l0: copying a param with shape torch.Size([32, 8]) from checkpoint, the shape in current model is torch.Size([40, 10]).\n\tsize mismatch for rnn.bias_ih_l0: copying a param with shape torch.Size([32]) from checkpoint, the shape in current model is torch.Size([40]).\n\tsize mismatch for rnn.bias_hh_l0: copying a param with shape torch.Size([32]) from checkpoint, the shape in current model is torch.Size([40]).\n\tsize mismatch for reg.0.weight: copying a param with shape torch.Size([8, 8]) from checkpoint, the shape in current model is torch.Size([10, 10]).\n\tsize mismatch for reg.0.bias: copying a param with shape torch.Size([8]) from checkpoint, the shape in current model is torch.Size([10]).\n\tsize mismatch for reg.2.weight: copying a param with shape torch.Size([1, 8]) from checkpoint, the shape in current model is torch.Size([1, 10])."
     ]
    }
   ],
   "source": [
    "# 加载模型\n",
    "net = RegLSTM(inp_dim, out_dim, mid_dim, mid_layers).to(device)\n",
    "params = torch.load('{}/net.pth'.format(mod_dir))\n",
    "net.load_state_dict(params)"
   ]
  },
  {
   "cell_type": "markdown",
   "metadata": {},
   "source": [
    "### eval"
   ]
  },
  {
   "cell_type": "markdown",
   "metadata": {},
   "source": [
    "制作test set"
   ]
  },
  {
   "cell_type": "code",
   "execution_count": 86,
   "metadata": {},
   "outputs": [
    {
     "name": "stdout",
     "output_type": "stream",
     "text": [
      "test_x.shape:  torch.Size([359, 1, 1])\n"
     ]
    }
   ],
   "source": [
    "test_x = seq_norm.copy() \n",
    "test_x[train_size:, 0] = 0 # 设置为0，表示预测 \n",
    "test_x = test_x[:, np.newaxis, :] \n",
    "test_x = torch.tensor(test_x, dtype=torch.float32, device=device)\n",
    "print(\"test_x.shape: \", test_x.shape)"
   ]
  },
  {
   "cell_type": "code",
   "execution_count": 87,
   "metadata": {},
   "outputs": [
    {
     "data": {
      "text/plain": [
       "RegLSTM(\n",
       "  (rnn): LSTM(1, 10)\n",
       "  (reg): Sequential(\n",
       "    (0): Linear(in_features=10, out_features=10, bias=True)\n",
       "    (1): Tanh()\n",
       "    (2): Linear(in_features=10, out_features=1, bias=True)\n",
       "  )\n",
       ")"
      ]
     },
     "execution_count": 87,
     "metadata": {},
     "output_type": "execute_result"
    }
   ],
   "source": [
    "# net.load_state_dict(torch.load('{}/net.pth'.format(mod_dir), map_location=lambda storage, loc: storage))\n",
    "net.eval()"
   ]
  },
  {
   "cell_type": "code",
   "execution_count": 88,
   "metadata": {},
   "outputs": [
    {
     "name": "stdout",
     "output_type": "stream",
     "text": [
      " test mse loss:  0.027146576\n"
     ]
    }
   ],
   "source": [
    "with torch.no_grad():\n",
    "    '''simple way is elegant'''\n",
    "    # for i in range(train_size, len(data)):\n",
    "    #     test_y = net(test_x[:i])\n",
    "    #     test_x[i, 0, 0] = test_y[-1]\n",
    "\n",
    "    eval_size = 1\n",
    "    zero_ten = torch.zeros((mid_layers, eval_size, mid_dim), dtype=torch.float32, device=device)\n",
    "    test_y, hc = net.output_y_hc_for_test(test_x[:train_size], (zero_ten, zero_ten))\n",
    "    test_x[train_size + 1, 0, 0] = test_y[-1]\n",
    "    for i in range(train_size + 1, len(data) - 2):\n",
    "        test_y, hc = net.output_y_hc_for_test(test_x[i:i + 1], hc)\n",
    "        test_x[i + 1, 0, 0] = test_y[-1]\n",
    "\n",
    "\n",
    "    pred_y = test_x[1:, 0, 0]\n",
    "    pred_y = pred_y.cpu().data.numpy()\n",
    "\n",
    "    diff_y = pred_y[train_size:] - data_y[train_size:]\n",
    "    l2_loss = np.mean(diff_y ** 2)\n",
    "    print(\" test mse loss: \", l2_loss)"
   ]
  },
  {
   "cell_type": "markdown",
   "metadata": {},
   "source": [
    "##### for data 1"
   ]
  },
  {
   "cell_type": "code",
   "execution_count": 89,
   "metadata": {},
   "outputs": [],
   "source": [
    "# origin_data = df.values\n",
    "# # 反转\n",
    "# origin_data = origin_data[::-1]"
   ]
  },
  {
   "cell_type": "markdown",
   "metadata": {},
   "source": [
    "##### for data 2"
   ]
  },
  {
   "cell_type": "code",
   "execution_count": 90,
   "metadata": {},
   "outputs": [],
   "source": [
    "origin_data = seq.copy()"
   ]
  },
  {
   "cell_type": "code",
   "execution_count": 91,
   "metadata": {},
   "outputs": [
    {
     "name": "stdout",
     "output_type": "stream",
     "text": [
      "pred_y.shape:  (358,)\n",
      "data_y.shape:  (358,)\n",
      "the last pred_y:  0.0\n",
      "the last data_y:  -0.79226667\n"
     ]
    }
   ],
   "source": [
    "print(\"pred_y.shape: \", pred_y.shape)\n",
    "print(\"data_y.shape: \", data_y.shape)\n",
    "print(\"the last pred_y: \", pred_y[-1])\n",
    "print(\"the last data_y: \", data_y[-1])\n"
   ]
  },
  {
   "cell_type": "markdown",
   "metadata": {},
   "source": [
    "##### 数据还原"
   ]
  },
  {
   "cell_type": "code",
   "execution_count": 92,
   "metadata": {},
   "outputs": [
    {
     "name": "stdout",
     "output_type": "stream",
     "text": [
      "mean:  90972.805\n",
      "std:  89102.33\n"
     ]
    }
   ],
   "source": [
    "mean = origin_data.mean()\n",
    "std = origin_data.std()\n",
    "print(\"mean: \", mean)\n",
    "print(\"std: \", std)\n",
    "\n",
    "# 将预测值还原\n",
    "pred_y = pred_y * std + mean\n",
    "# 设置成int类型\n",
    "pred_y = pred_y.astype(int)"
   ]
  },
  {
   "cell_type": "markdown",
   "metadata": {},
   "source": [
    "##### 求MSE (Mean Squared Error)"
   ]
  },
  {
   "cell_type": "code",
   "execution_count": 93,
   "metadata": {},
   "outputs": [],
   "source": [
    "# 先对pred_y添加一个维度\n",
    "pred_y = pred_y[:, np.newaxis]"
   ]
  },
  {
   "cell_type": "code",
   "execution_count": 94,
   "metadata": {},
   "outputs": [
    {
     "data": {
      "text/plain": [
       "((359, 1), (358, 1))"
      ]
     },
     "execution_count": 94,
     "metadata": {},
     "output_type": "execute_result"
    }
   ],
   "source": [
    "origin_data.shape , pred_y.shape"
   ]
  },
  {
   "cell_type": "code",
   "execution_count": 95,
   "metadata": {},
   "outputs": [],
   "source": [
    "# 在pred_y之前添加origin_data的第一个元\n",
    "pred_y = np.insert(pred_y, 0, origin_data[0], axis=0)"
   ]
  },
  {
   "cell_type": "code",
   "execution_count": 96,
   "metadata": {},
   "outputs": [
    {
     "data": {
      "text/plain": [
       "array([80630.], dtype=float32)"
      ]
     },
     "execution_count": 96,
     "metadata": {},
     "output_type": "execute_result"
    }
   ],
   "source": [
    "origin_data[0]"
   ]
  },
  {
   "cell_type": "code",
   "execution_count": 97,
   "metadata": {},
   "outputs": [
    {
     "data": {
      "text/plain": [
       "((359, 1), (359, 1))"
      ]
     },
     "execution_count": 97,
     "metadata": {},
     "output_type": "execute_result"
    }
   ],
   "source": [
    "origin_data.shape , pred_y.shape"
   ]
  },
  {
   "cell_type": "code",
   "execution_count": 98,
   "metadata": {},
   "outputs": [
    {
     "name": "stdout",
     "output_type": "stream",
     "text": [
      " test mse loss:  245307753.33944955\n"
     ]
    }
   ],
   "source": [
    "# 和真实值对比求误差\n",
    "diff_y = pred_y[train_size:] - origin_data[train_size:]\n",
    "l2_loss = np.mean(diff_y ** 2)\n",
    "print(\" test mse loss: \", l2_loss)"
   ]
  },
  {
   "cell_type": "code",
   "execution_count": 99,
   "metadata": {},
   "outputs": [
    {
     "name": "stdout",
     "output_type": "stream",
     "text": [
      "R square:  0.999999999993653\n"
     ]
    }
   ],
   "source": [
    "# 计算R square\n",
    "from sklearn.metrics import r2_score\n",
    "r2 = r2_score(origin_data[:train_size], pred_y[:train_size])\n",
    "print(\"R square: \", r2)"
   ]
  },
  {
   "cell_type": "markdown",
   "metadata": {},
   "source": [
    "##### 预测曲线图"
   ]
  },
  {
   "cell_type": "code",
   "execution_count": 100,
   "metadata": {},
   "outputs": [
    {
     "data": {
      "text/plain": [
       "<matplotlib.legend.Legend at 0x1c64d5d9fd0>"
      ]
     },
     "execution_count": 100,
     "metadata": {},
     "output_type": "execute_result"
    },
    {
     "data": {
      "image/png": "[encoded data removed]",
      "text/plain": [
       "<Figure size 1440x720 with 1 Axes>"
      ]
     },
     "metadata": {
      "needs_background": "light"
     },
     "output_type": "display_data"
    }
   ],
   "source": [
    "plt.figure(figsize=(20,10))\n",
    "plt.plot(pred_y, 'r', label='pred')\n",
    "plt.plot(origin_data, 'b', label='real', alpha=0.3)\n",
    "plt.plot([train_size, train_size], [0, 350000], color='k', label='train | pred', linestyle='--')\n",
    "# plt.plot([train_size, train_size], [0, 200], color='k', label='train | pred', linestyle='--')\n",
    "plt.legend(loc='best')\n",
    "# plt.savefig('pred_with_regularization_batch_lstm1.png')"
   ]
  },
  {
   "cell_type": "markdown",
   "metadata": {},
   "source": [
    "#### 长期预测"
   ]
  },
  {
   "cell_type": "code",
   "execution_count": 101,
   "metadata": {},
   "outputs": [],
   "source": [
    "pred_result = seq_norm.copy()\n",
    "pred_result = np.concatenate((pred_result, np.zeros((60, 1))), axis=0)\n",
    "pred_result[train_size:, 0] = 0 # 设置为0，表示预测 \n",
    "pred_result = pred_result[:, np.newaxis, :] \n",
    "pred_result = torch.tensor(pred_result, dtype=torch.float32, device=device)\n",
    "\n",
    "with torch.no_grad():\n",
    "    '''simple way is elegant'''\n",
    "    for i in range(train_size, len(data)+60):\n",
    "        test_y = net(pred_result[:i])\n",
    "        pred_result[i, 0, 0] = test_y[-1]\n",
    "\n",
    "    pred_y = pred_result[1:, 0, 0]\n",
    "    pred_y = pred_y.cpu().data.numpy()"
   ]
  },
  {
   "cell_type": "code",
   "execution_count": 102,
   "metadata": {},
   "outputs": [],
   "source": [
    "# 还原\n",
    "pred_y = pred_y * std + mean\n",
    "pred_y = pred_y.astype(int)\n",
    "pred_y = pred_y[:, np.newaxis]\n",
    "pred_y = np.insert(pred_y, 0, origin_data[0], axis=0)"
   ]
  },
  {
   "cell_type": "code",
   "execution_count": 103,
   "metadata": {},
   "outputs": [
    {
     "data": {
      "text/plain": [
       "<matplotlib.legend.Legend at 0x1c64d49efd0>"
      ]
     },
     "execution_count": 103,
     "metadata": {},
     "output_type": "execute_result"
    },
    {
     "data": {
      "image/png": "[encoded data removed]",
      "text/plain": [
       "<Figure size 1440x720 with 1 Axes>"
      ]
     },
     "metadata": {
      "needs_background": "light"
     },
     "output_type": "display_data"
    }
   ],
   "source": [
    "plt.figure(figsize=(20,10))\n",
    "plt.plot(pred_y, 'r', label='pred')\n",
    "plt.plot(origin_data, 'b', label='real', alpha=0.3)\n",
    "# plt.plot([train_size, train_size], [0, 200], color='k', label='train | pred', linestyle='--')\n",
    "plt.plot([train_size, train_size], [0, 350000], color='k', label='train | pred', linestyle='--')\n",
    "plt.legend(loc='best')\n",
    "# plt.savefig('pred_with_weight2_alpha_' + str(alpha) + '.png')\n",
    "# plt.savefig('pred_with_no_weight_batchsize_' + str(batch_size) + '.png')"
   ]
  },
  {
   "cell_type": "code",
   "execution_count": 104,
   "metadata": {},
   "outputs": [
    {
     "name": "stdout",
     "output_type": "stream",
     "text": [
      "pred_y.shape:  (419, 1)\n",
      "final pred_y:  [5155]\n"
     ]
    }
   ],
   "source": [
    "print(\"pred_y.shape: \", pred_y.shape)\n",
    "print(\"final pred_y: \", pred_y[-1])"
   ]
  },
  {
   "cell_type": "code",
   "execution_count": 106,
   "metadata": {},
   "outputs": [],
   "source": [
    "# 保存pred_y到excel df['Date']做为索引\n",
    "import pandas as pd\n",
    "df = pd.DataFrame(pred_y)\n",
    "df.to_excel('pred_y.xlsx', index=False)"
   ]
  },
  {
   "cell_type": "markdown",
   "metadata": {},
   "source": [
    "### 总计改进"
   ]
  },
  {
   "cell_type": "markdown",
   "metadata": {},
   "source": [
    "由上面可以发现不加weights训练效果是最好的，我们多次进行不加weights的训练查看效果。\n",
    "\n",
    "我们下一步可以做的工作有，\n",
    "- 制作mini_batch，训练更多的数据而不是只有我们训练的一个batch而已\n",
    "- 重新确定好训练集和测试集的比例分割数据"
   ]
  }
 ],
 "metadata": {
  "kernelspec": {
   "display_name": "Python 3 (ipykernel)",
   "language": "python",
   "name": "python3"
  },
  "language_info": {
   "codemirror_mode": {
    "name": "ipython",
    "version": 3
   },
   "file_extension": ".py",
   "mimetype": "text/x-python",
   "name": "python",
   "nbconvert_exporter": "python",
   "pygments_lexer": "ipython3",
   "version": "3.9.7"
  },
  "vscode": {
   "interpreter": {
    "hash": "5179d32cf6ec497baf3f8a3ef987cc77c5d2dc691fdde20a56316522f61a7323"
   }
  }
 },
 "nbformat": 4,
 "nbformat_minor": 2
}
