{
 "cells": [
  {
   "cell_type": "markdown",
   "metadata": {},
   "source": [
    "# 设计简单神经网络预测分布\n",
    "\n",
    "### 介绍\n",
    "\n",
    "给定数据集有五个字符的单词，希望通过神经网络学习到这些单词的对应的答对人数的分布。"
   ]
  },
  {
   "cell_type": "markdown",
   "metadata": {},
   "source": [
    "### 导入相关库"
   ]
  },
  {
   "cell_type": "code",
   "execution_count": 1,
   "metadata": {},
   "outputs": [],
   "source": [
    "import torch\n",
    "import torch.nn as nn\n",
    "import torch.nn.functional as F\n",
    "import torch.optim as optim\n",
    "from torchinfo import summary\n",
    "import numpy as np\n",
    "import matplotlib.pyplot as plt\n",
    "import pandas as pd"
   ]
  },
  {
   "cell_type": "markdown",
   "metadata": {},
   "source": [
    "### 定义网络"
   ]
  },
  {
   "cell_type": "code",
   "execution_count": 2,
   "metadata": {},
   "outputs": [],
   "source": [
    "# Define the network\n",
    "class SimpleNet(nn.Module):\n",
    "    def __init__(self):\n",
    "        super(SimpleNet, self).__init__()\n",
    "        self.fc1 = nn.Linear(5, 50)\n",
    "        self.fc2 = nn.Linear(50, 50)\n",
    "        self.fc3 = nn.Linear(50, 7)\n",
    "        self.softmax = nn.Softmax(dim=1)\n",
    "\n",
    "    def forward(self, x):\n",
    "        # x = torch.sigmoid(self.fc1(x))\n",
    "        x = F.relu(self.fc1(x))\n",
    "        # x = torch.sigmoid(self.fc2(x))\n",
    "        x = F.relu(self.fc2(x))\n",
    "        x = self.fc3(x)\n",
    "        x = self.softmax(x) # 将数据转换为概率分布\n",
    "        return x"
   ]
  },
  {
   "cell_type": "markdown",
   "metadata": {},
   "source": [
    "### 加载数据集"
   ]
  },
  {
   "cell_type": "code",
   "execution_count": 3,
   "metadata": {},
   "outputs": [
    {
     "data": {
      "text/html": [
       "<div>\n",
       "<style scoped>\n",
       "    .dataframe tbody tr th:only-of-type {\n",
       "        vertical-align: middle;\n",
       "    }\n",
       "\n",
       "    .dataframe tbody tr th {\n",
       "        vertical-align: top;\n",
       "    }\n",
       "\n",
       "    .dataframe thead th {\n",
       "        text-align: right;\n",
       "    }\n",
       "</style>\n",
       "<table border=\"1\" class=\"dataframe\">\n",
       "  <thead>\n",
       "    <tr style=\"text-align: right;\">\n",
       "      <th></th>\n",
       "      <th>Date</th>\n",
       "      <th>Contest number</th>\n",
       "      <th>Word</th>\n",
       "      <th>Number of  reported results</th>\n",
       "      <th>Number in hard mode</th>\n",
       "      <th>1 try</th>\n",
       "      <th>2 tries</th>\n",
       "      <th>3 tries</th>\n",
       "      <th>4 tries</th>\n",
       "      <th>5 tries</th>\n",
       "      <th>6 tries</th>\n",
       "      <th>7 or more tries (X)</th>\n",
       "      <th>normal_value</th>\n",
       "    </tr>\n",
       "  </thead>\n",
       "  <tbody>\n",
       "    <tr>\n",
       "      <th>0</th>\n",
       "      <td>2022-12-31</td>\n",
       "      <td>560</td>\n",
       "      <td>manly</td>\n",
       "      <td>20380</td>\n",
       "      <td>1899</td>\n",
       "      <td>0</td>\n",
       "      <td>2</td>\n",
       "      <td>17</td>\n",
       "      <td>37</td>\n",
       "      <td>29</td>\n",
       "      <td>12</td>\n",
       "      <td>2</td>\n",
       "      <td>0.343806</td>\n",
       "    </tr>\n",
       "    <tr>\n",
       "      <th>1</th>\n",
       "      <td>2022-12-30</td>\n",
       "      <td>559</td>\n",
       "      <td>molar</td>\n",
       "      <td>21204</td>\n",
       "      <td>1973</td>\n",
       "      <td>0</td>\n",
       "      <td>4</td>\n",
       "      <td>21</td>\n",
       "      <td>38</td>\n",
       "      <td>26</td>\n",
       "      <td>9</td>\n",
       "      <td>1</td>\n",
       "      <td>0.491583</td>\n",
       "    </tr>\n",
       "    <tr>\n",
       "      <th>2</th>\n",
       "      <td>2022-12-29</td>\n",
       "      <td>558</td>\n",
       "      <td>havoc</td>\n",
       "      <td>20001</td>\n",
       "      <td>1919</td>\n",
       "      <td>0</td>\n",
       "      <td>2</td>\n",
       "      <td>16</td>\n",
       "      <td>38</td>\n",
       "      <td>30</td>\n",
       "      <td>12</td>\n",
       "      <td>2</td>\n",
       "      <td>0.097901</td>\n",
       "    </tr>\n",
       "    <tr>\n",
       "      <th>3</th>\n",
       "      <td>2022-12-28</td>\n",
       "      <td>557</td>\n",
       "      <td>impel</td>\n",
       "      <td>20160</td>\n",
       "      <td>1937</td>\n",
       "      <td>0</td>\n",
       "      <td>3</td>\n",
       "      <td>21</td>\n",
       "      <td>40</td>\n",
       "      <td>25</td>\n",
       "      <td>9</td>\n",
       "      <td>1</td>\n",
       "      <td>0.187709</td>\n",
       "    </tr>\n",
       "    <tr>\n",
       "      <th>4</th>\n",
       "      <td>2022-12-27</td>\n",
       "      <td>556</td>\n",
       "      <td>condo</td>\n",
       "      <td>20879</td>\n",
       "      <td>2012</td>\n",
       "      <td>0</td>\n",
       "      <td>2</td>\n",
       "      <td>17</td>\n",
       "      <td>35</td>\n",
       "      <td>29</td>\n",
       "      <td>14</td>\n",
       "      <td>3</td>\n",
       "      <td>0.308737</td>\n",
       "    </tr>\n",
       "  </tbody>\n",
       "</table>\n",
       "</div>"
      ],
      "text/plain": [
       "        Date  Contest number   Word  Number of  reported results  \\\n",
       "0 2022-12-31             560  manly                        20380   \n",
       "1 2022-12-30             559  molar                        21204   \n",
       "2 2022-12-29             558  havoc                        20001   \n",
       "3 2022-12-28             557  impel                        20160   \n",
       "4 2022-12-27             556  condo                        20879   \n",
       "\n",
       "   Number in hard mode  1 try  2 tries  3 tries  4 tries  5 tries  6 tries  \\\n",
       "0                 1899      0        2       17       37       29       12   \n",
       "1                 1973      0        4       21       38       26        9   \n",
       "2                 1919      0        2       16       38       30       12   \n",
       "3                 1937      0        3       21       40       25        9   \n",
       "4                 2012      0        2       17       35       29       14   \n",
       "\n",
       "   7 or more tries (X)  normal_value  \n",
       "0                    2      0.343806  \n",
       "1                    1      0.491583  \n",
       "2                    2      0.097901  \n",
       "3                    1      0.187709  \n",
       "4                    3      0.308737  "
      ]
     },
     "execution_count": 3,
     "metadata": {},
     "output_type": "execute_result"
    }
   ],
   "source": [
    "import pandas as pd\n",
    "df = pd.read_excel(\"Problem_C_Data_Wordle_new.xlsx\")\n",
    "df.head()"
   ]
  },
  {
   "cell_type": "code",
   "execution_count": 4,
   "metadata": {},
   "outputs": [
    {
     "data": {
      "text/plain": [
       "0    manly\n",
       "1    molar\n",
       "2    havoc\n",
       "3    impel\n",
       "4    condo\n",
       "Name: Word, dtype: object"
      ]
     },
     "execution_count": 4,
     "metadata": {},
     "output_type": "execute_result"
    }
   ],
   "source": [
    "# 构造输入输出数据\n",
    "df_Word = df.loc[:, 'Word']\n",
    "df_Word.head()"
   ]
  },
  {
   "cell_type": "code",
   "execution_count": 5,
   "metadata": {},
   "outputs": [
    {
     "data": {
      "text/html": [
       "<div>\n",
       "<style scoped>\n",
       "    .dataframe tbody tr th:only-of-type {\n",
       "        vertical-align: middle;\n",
       "    }\n",
       "\n",
       "    .dataframe tbody tr th {\n",
       "        vertical-align: top;\n",
       "    }\n",
       "\n",
       "    .dataframe thead th {\n",
       "        text-align: right;\n",
       "    }\n",
       "</style>\n",
       "<table border=\"1\" class=\"dataframe\">\n",
       "  <thead>\n",
       "    <tr style=\"text-align: right;\">\n",
       "      <th></th>\n",
       "      <th>1 try</th>\n",
       "      <th>2 tries</th>\n",
       "      <th>3 tries</th>\n",
       "      <th>4 tries</th>\n",
       "      <th>5 tries</th>\n",
       "      <th>6 tries</th>\n",
       "      <th>7 or more tries (X)</th>\n",
       "    </tr>\n",
       "  </thead>\n",
       "  <tbody>\n",
       "    <tr>\n",
       "      <th>0</th>\n",
       "      <td>0</td>\n",
       "      <td>2</td>\n",
       "      <td>17</td>\n",
       "      <td>37</td>\n",
       "      <td>29</td>\n",
       "      <td>12</td>\n",
       "      <td>2</td>\n",
       "    </tr>\n",
       "    <tr>\n",
       "      <th>1</th>\n",
       "      <td>0</td>\n",
       "      <td>4</td>\n",
       "      <td>21</td>\n",
       "      <td>38</td>\n",
       "      <td>26</td>\n",
       "      <td>9</td>\n",
       "      <td>1</td>\n",
       "    </tr>\n",
       "    <tr>\n",
       "      <th>2</th>\n",
       "      <td>0</td>\n",
       "      <td>2</td>\n",
       "      <td>16</td>\n",
       "      <td>38</td>\n",
       "      <td>30</td>\n",
       "      <td>12</td>\n",
       "      <td>2</td>\n",
       "    </tr>\n",
       "    <tr>\n",
       "      <th>3</th>\n",
       "      <td>0</td>\n",
       "      <td>3</td>\n",
       "      <td>21</td>\n",
       "      <td>40</td>\n",
       "      <td>25</td>\n",
       "      <td>9</td>\n",
       "      <td>1</td>\n",
       "    </tr>\n",
       "    <tr>\n",
       "      <th>4</th>\n",
       "      <td>0</td>\n",
       "      <td>2</td>\n",
       "      <td>17</td>\n",
       "      <td>35</td>\n",
       "      <td>29</td>\n",
       "      <td>14</td>\n",
       "      <td>3</td>\n",
       "    </tr>\n",
       "  </tbody>\n",
       "</table>\n",
       "</div>"
      ],
      "text/plain": [
       "   1 try  2 tries  3 tries  4 tries  5 tries  6 tries  7 or more tries (X)\n",
       "0      0        2       17       37       29       12                    2\n",
       "1      0        4       21       38       26        9                    1\n",
       "2      0        2       16       38       30       12                    2\n",
       "3      0        3       21       40       25        9                    1\n",
       "4      0        2       17       35       29       14                    3"
      ]
     },
     "execution_count": 5,
     "metadata": {},
     "output_type": "execute_result"
    }
   ],
   "source": [
    "df_Distribution = df.iloc[:, 5:12]\n",
    "df_Distribution.head()"
   ]
  },
  {
   "cell_type": "code",
   "execution_count": 6,
   "metadata": {},
   "outputs": [
    {
     "name": "stdout",
     "output_type": "stream",
     "text": [
      "shape of the df_Word is:  (359,)\n",
      "shape of the df_Distribution is:  (359, 7)\n"
     ]
    }
   ],
   "source": [
    "# print shape of the data\n",
    "print('shape of the df_Word is: ', df_Word.shape)\n",
    "print('shape of the df_Distribution is: ', df_Distribution.shape)"
   ]
  },
  {
   "cell_type": "markdown",
   "metadata": {},
   "source": [
    "### 转换数据格式"
   ]
  },
  {
   "cell_type": "code",
   "execution_count": 7,
   "metadata": {},
   "outputs": [],
   "source": [
    "# 将数据转换为numpy数组\n",
    "Word = df_Word.values # 1D array (359,)"
   ]
  },
  {
   "cell_type": "code",
   "execution_count": 8,
   "metadata": {},
   "outputs": [],
   "source": [
    "def word2vec(word):\n",
    "    # 将单词转换为向量\n",
    "    # 这里由于单词长度为5，所以将单词转换为长度为5的向量是很简单的\n",
    "    # 而在自然语言处理中，单词的长度是不固定的，所以需要将单词转换为固定长度的向量\n",
    "    # 还要做embedding\n",
    "    vec = np.zeros(5)\n",
    "    for i in range(len(word)):\n",
    "        vec[i] = ord(word[i]) - ord('a')\n",
    "    return vec\n",
    "\n",
    "def vec2word(vec):\n",
    "    # 将向量转换为单词\n",
    "    word = ''\n",
    "    for i in range(len(vec)):\n",
    "        word += chr(int(vec[i]) + ord('a'))\n",
    "    return word"
   ]
  },
  {
   "cell_type": "code",
   "execution_count": 9,
   "metadata": {},
   "outputs": [],
   "source": [
    "# 我们希望将Word转换为2D array ，又因为每个word的长度都一样所以不需要做padding，直接转换即可 (359,)-->(359,1)-->(359,5)\n",
    "Word = np.array([word2vec(word) for word in Word])"
   ]
  },
  {
   "cell_type": "code",
   "execution_count": 10,
   "metadata": {},
   "outputs": [
    {
     "name": "stdout",
     "output_type": "stream",
     "text": [
      "shape of the Word is:  (359, 5)\n",
      "the preview of the Word is:\n",
      " [[12.  0. 13. 11. 24.]\n",
      " [12. 14. 11.  0. 17.]\n",
      " [ 7.  0. 21. 14.  2.]\n",
      " [ 8. 12. 15.  4. 11.]\n",
      " [ 2. 14. 13.  3. 14.]]\n",
      "the true Word is:\n",
      " 0    manly\n",
      "1    molar\n",
      "2    havoc\n",
      "3    impel\n",
      "4    condo\n",
      "Name: Word, dtype: object\n"
     ]
    }
   ],
   "source": [
    "print('shape of the Word is: ', Word.shape)\n",
    "print('the preview of the Word is:\\n', Word[:5])\n",
    "print('the true Word is:\\n', df_Word[:5])"
   ]
  },
  {
   "cell_type": "code",
   "execution_count": 11,
   "metadata": {},
   "outputs": [],
   "source": [
    "# 对Word进行normalization\n",
    "# 方法一\n",
    "# mean = np.mean(Word, axis=0)\n",
    "# std = np.std(Word, axis=0)\n",
    "# Word = (Word - mean) / std\n",
    "# 方法二\n",
    "Word = Word / 26"
   ]
  },
  {
   "cell_type": "code",
   "execution_count": 12,
   "metadata": {},
   "outputs": [],
   "source": [
    "Distribution = df_Distribution.values # 2D array (359,7)"
   ]
  },
  {
   "cell_type": "code",
   "execution_count": 13,
   "metadata": {},
   "outputs": [
    {
     "name": "stdout",
     "output_type": "stream",
     "text": [
      "shape of the Distribution is:  (359, 7)\n",
      "the preview of the Distribution is:\n",
      " [[0.   0.02 0.17 0.37 0.29 0.12 0.02]\n",
      " [0.   0.04 0.21 0.38 0.26 0.09 0.01]\n",
      " [0.   0.02 0.16 0.38 0.3  0.12 0.02]\n",
      " [0.   0.03 0.21 0.4  0.25 0.09 0.01]\n",
      " [0.   0.02 0.17 0.35 0.29 0.14 0.03]]\n"
     ]
    }
   ],
   "source": [
    "# 将Distribution转换为float类型，并除于100\n",
    "Distribution = Distribution.astype(np.float32)\n",
    "Distribution = Distribution / 100\n",
    "print('shape of the Distribution is: ', Distribution.shape)\n",
    "print('the preview of the Distribution is:\\n', Distribution[:5])"
   ]
  },
  {
   "cell_type": "markdown",
   "metadata": {},
   "source": [
    "### 构造训练集和测试集"
   ]
  },
  {
   "cell_type": "code",
   "execution_count": 14,
   "metadata": {},
   "outputs": [],
   "source": [
    "# 分割数据\n",
    "train_size = int(0.7 * len(Word))\n",
    "train_X = Word[:train_size]\n",
    "train_Y = Distribution[:train_size]\n",
    "test_X = Word[train_size:]\n",
    "test_Y = Distribution[train_size:]"
   ]
  },
  {
   "cell_type": "code",
   "execution_count": 15,
   "metadata": {},
   "outputs": [],
   "source": [
    "train_X = torch.from_numpy(train_X).float()\n",
    "train_Y = torch.from_numpy(train_Y).float()\n",
    "test_X = torch.from_numpy(test_X).float()\n",
    "test_Y = torch.from_numpy(test_Y).float()"
   ]
  },
  {
   "cell_type": "code",
   "execution_count": 16,
   "metadata": {},
   "outputs": [],
   "source": [
    "# 构造数据迭代器\n",
    "batch_size = 32\n",
    "\n",
    "train_dataset = torch.utils.data.TensorDataset(train_X, train_Y)\n",
    "train_loader = torch.utils.data.DataLoader(dataset=train_dataset, batch_size=batch_size, shuffle=True)\n",
    "test_dataset = torch.utils.data.TensorDataset(test_X, test_Y)\n",
    "test_loader = torch.utils.data.DataLoader(dataset=test_dataset, batch_size=batch_size, shuffle=False)"
   ]
  },
  {
   "cell_type": "markdown",
   "metadata": {},
   "source": [
    "### 网络参数"
   ]
  },
  {
   "cell_type": "code",
   "execution_count": 17,
   "metadata": {},
   "outputs": [],
   "source": [
    "# 定义网络\n",
    "model = SimpleNet()\n",
    "# 定义损失函数\n",
    "criterion = nn.MSELoss()\n",
    "# 定义优化器\n",
    "optimizer = optim.SGD(model.parameters(), lr=0.001)"
   ]
  },
  {
   "cell_type": "code",
   "execution_count": 18,
   "metadata": {},
   "outputs": [
    {
     "data": {
      "text/plain": [
       "==========================================================================================\n",
       "Layer (type:depth-idx)                   Output Shape              Param #\n",
       "==========================================================================================\n",
       "SimpleNet                                [32, 7]                   --\n",
       "├─Linear: 1-1                            [32, 50]                  300\n",
       "├─Linear: 1-2                            [32, 50]                  2,550\n",
       "├─Linear: 1-3                            [32, 7]                   357\n",
       "├─Softmax: 1-4                           [32, 7]                   --\n",
       "==========================================================================================\n",
       "Total params: 3,207\n",
       "Trainable params: 3,207\n",
       "Non-trainable params: 0\n",
       "Total mult-adds (M): 0.10\n",
       "==========================================================================================\n",
       "Input size (MB): 0.00\n",
       "Forward/backward pass size (MB): 0.03\n",
       "Params size (MB): 0.01\n",
       "Estimated Total Size (MB): 0.04\n",
       "=========================================================================================="
      ]
     },
     "execution_count": 18,
     "metadata": {},
     "output_type": "execute_result"
    }
   ],
   "source": [
    "summary(model, input_size=(32,5))"
   ]
  },
  {
   "cell_type": "markdown",
   "metadata": {},
   "source": [
    "### 训练网络"
   ]
  },
  {
   "cell_type": "code",
   "execution_count": 37,
   "metadata": {},
   "outputs": [
    {
     "name": "stdout",
     "output_type": "stream",
     "text": [
      "Epoch [200/2000], Loss: 0.0027\n",
      "Epoch [400/2000], Loss: 0.0030\n",
      "Epoch [600/2000], Loss: 0.0034\n",
      "Epoch [800/2000], Loss: 0.0017\n",
      "Epoch [1000/2000], Loss: 0.0027\n",
      "Epoch [1200/2000], Loss: 0.0031\n",
      "Epoch [1400/2000], Loss: 0.0031\n",
      "Epoch [1600/2000], Loss: 0.0032\n",
      "Epoch [1800/2000], Loss: 0.0027\n",
      "Epoch [2000/2000], Loss: 0.0024\n"
     ]
    }
   ],
   "source": [
    "# 训练网络\n",
    "num_epochs = 2000\n",
    "optimizer = optim.SGD(model.parameters(), lr=1e-4)\n",
    "for epoch in range(num_epochs):\n",
    "    for i, (word, distribution) in enumerate(train_loader):\n",
    "        # 前向传播\n",
    "        outputs = model(word)\n",
    "        loss = criterion(outputs, distribution)\n",
    "        # 反向传播\n",
    "        optimizer.zero_grad()\n",
    "        loss.backward()\n",
    "        optimizer.step()\n",
    "    if (epoch + 1) % 200 == 0:\n",
    "        print('Epoch [{}/{}], Loss: {:.4f}'.format(epoch + 1, num_epochs, loss.item()))"
   ]
  },
  {
   "cell_type": "markdown",
   "metadata": {},
   "source": [
    "### 测试网络"
   ]
  },
  {
   "cell_type": "code",
   "execution_count": 38,
   "metadata": {},
   "outputs": [
    {
     "name": "stdout",
     "output_type": "stream",
     "text": [
      "Test Loss: 0.0030\n"
     ]
    }
   ],
   "source": [
    "# 测试网络\n",
    "model.eval()\n",
    "with torch.no_grad():\n",
    "    loss = 0\n",
    "    for word, distribution in test_loader:\n",
    "        outputs = model(word)\n",
    "        loss += criterion(outputs, distribution)\n",
    "    loss /= len(test_loader)\n",
    "    print('Test Loss: {:.4f}'.format(loss))"
   ]
  },
  {
   "cell_type": "markdown",
   "metadata": {},
   "source": [
    "### 加载模型"
   ]
  },
  {
   "cell_type": "code",
   "execution_count": 39,
   "metadata": {},
   "outputs": [
    {
     "data": {
      "text/plain": [
       "<All keys matched successfully>"
      ]
     },
     "execution_count": 39,
     "metadata": {},
     "output_type": "execute_result"
    }
   ],
   "source": [
    "#  保存模型\n",
    "torch.save(model.state_dict(), 'model.ckpt')"
   ]
  },
  {
   "cell_type": "code",
   "execution_count": 18,
   "metadata": {},
   "outputs": [
    {
     "data": {
      "text/plain": [
       "<All keys matched successfully>"
      ]
     },
     "execution_count": 18,
     "metadata": {},
     "output_type": "execute_result"
    }
   ],
   "source": [
    "# 加载模型\n",
    "model.load_state_dict(torch.load('model.ckpt'))"
   ]
  },
  {
   "cell_type": "code",
   "execution_count": 19,
   "metadata": {},
   "outputs": [
    {
     "data": {
      "text/plain": [
       "SimpleNet(\n",
       "  (fc1): Linear(in_features=5, out_features=50, bias=True)\n",
       "  (fc2): Linear(in_features=50, out_features=50, bias=True)\n",
       "  (fc3): Linear(in_features=50, out_features=7, bias=True)\n",
       "  (softmax): Softmax(dim=1)\n",
       ")"
      ]
     },
     "execution_count": 19,
     "metadata": {},
     "output_type": "execute_result"
    }
   ],
   "source": [
    "# 预测\n",
    "model.eval()"
   ]
  },
  {
   "cell_type": "code",
   "execution_count": 20,
   "metadata": {},
   "outputs": [
    {
     "data": {
      "text/plain": [
       "'aaaaa'"
      ]
     },
     "execution_count": 20,
     "metadata": {},
     "output_type": "execute_result"
    }
   ],
   "source": [
    "idx = np.random.randint(0, len(test_X))\n",
    "vec2word(test_X[idx])"
   ]
  },
  {
   "cell_type": "code",
   "execution_count": 61,
   "metadata": {},
   "outputs": [
    {
     "name": "stdout",
     "output_type": "stream",
     "text": [
      "the distribution of the word aloft is: tensor([[0.0378, 0.0548, 0.2172, 0.3169, 0.2354, 0.0977, 0.0401]])\n",
      "the true distribution of the word aloft is: tensor([0.0100, 0.0400, 0.2200, 0.3600, 0.2500, 0.1100, 0.0200])\n"
     ]
    },
    {
     "data": {
      "image/png": "[encoded data removed]",
      "text/plain": [
       "<Figure size 432x288 with 1 Axes>"
      ]
     },
     "metadata": {
      "needs_background": "light"
     },
     "output_type": "display_data"
    }
   ],
   "source": [
    "## 从测试集中随机抽取一个单词，预测其分布\n",
    "with torch.no_grad():\n",
    "    # 预测单个单词\n",
    "    index = np.random.randint(0, len(test_X))\n",
    "    # 还原单词\n",
    "    vec = test_X[index] * 26\n",
    "    word = vec2word(vec)\n",
    "    vec = test_X[index]\n",
    "    vec = vec.view(1, -1)\n",
    "    output = model(vec)\n",
    "    print('the distribution of the word {} is: {}'.format(word, output))\n",
    "    print('the true distribution of the word {} is: {}'.format(word, test_Y[index]))\n",
    "    # 画出预测的分布图\n",
    "    plt.figure()\n",
    "    plt.bar(np.arange(7), output[0].numpy(), width=0.5, color='r',  label='predict')\n",
    "    plt.bar(np.arange(7) + 0.5, test_Y[index].numpy(), width=0.5, color='b', alpha=0.5, label='true')\n",
    "    plt.title('the distribution of the word {}'.format(word))\n",
    "    plt.legend()\n",
    "    plt.show()"
   ]
  },
  {
   "cell_type": "markdown",
   "metadata": {},
   "source": [
    "### 预测单词eerie的分布"
   ]
  },
  {
   "cell_type": "code",
   "execution_count": 69,
   "metadata": {},
   "outputs": [
    {
     "name": "stdout",
     "output_type": "stream",
     "text": [
      "the distribution of the word eerie is: tensor([[5.7472e-07, 3.8120e-06, 8.9551e-02, 8.8023e-01, 2.9478e-02, 7.3104e-04,\n",
      "         8.9817e-07]])\n"
     ]
    },
    {
     "data": {
      "image/png": "[encoded data removed]",
      "text/plain": [
       "<Figure size 432x288 with 1 Axes>"
      ]
     },
     "metadata": {
      "needs_background": "light"
     },
     "output_type": "display_data"
    }
   ],
   "source": [
    "with torch.no_grad():\n",
    "    # 预测单个单词\n",
    "    word = 'eerie'\n",
    "    vec = word2vec(word)\n",
    "    vec = torch.from_numpy(vec).float()\n",
    "    vec = vec.view(1, -1)\n",
    "    output = model(vec)\n",
    "    print('the distribution of the word {} is: {}'.format(word, output))\n",
    "    # 画出预测的分布图\n",
    "    plt.figure()\n",
    "    plt.bar(np.arange(7), output[0].numpy(), width=0.5, color='r',  label='predict')\n",
    "    plt.title('the distribution of the word {}'.format(word))\n",
    "    plt.legend()\n",
    "    plt.show()\n"
   ]
  }
 ],
 "metadata": {
  "kernelspec": {
   "display_name": "Python 3 (ipykernel)",
   "language": "python",
   "name": "python3"
  },
  "language_info": {
   "codemirror_mode": {
    "name": "ipython",
    "version": 3
   },
   "file_extension": ".py",
   "mimetype": "text/x-python",
   "name": "python",
   "nbconvert_exporter": "python",
   "pygments_lexer": "ipython3",
   "version": "3.9.7"
  },
  "vscode": {
   "interpreter": {
    "hash": "5179d32cf6ec497baf3f8a3ef987cc77c5d2dc691fdde20a56316522f61a7323"
   }
  }
 },
 "nbformat": 4,
 "nbformat_minor": 2
}
