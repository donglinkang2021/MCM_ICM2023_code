{
 "cells": [
  {
   "cell_type": "markdown",
   "metadata": {},
   "source": [
    "# demo"
   ]
  },
  {
   "cell_type": "markdown",
   "metadata": {},
   "source": [
    "## 数据预处理Problem_C_Data_Wordle.xlsx\n",
    " 1. 读取数据\n",
    " 2. 数据清洗\n",
    " 3. 数据分析"
   ]
  },
  {
   "cell_type": "code",
   "execution_count": 32,
   "metadata": {},
   "outputs": [],
   "source": [
    "import pandas as pd\n",
    "import numpy as np\n",
    "import matplotlib.pyplot as plt"
   ]
  },
  {
   "cell_type": "markdown",
   "metadata": {},
   "source": [
    "#### 1. 读取数据"
   ]
  },
  {
   "cell_type": "code",
   "execution_count": 33,
   "metadata": {},
   "outputs": [],
   "source": [
    "# 1.1 读取数据\n",
    "df = pd.read_excel('Problem_C_Data_Wordle.xlsx')"
   ]
  },
  {
   "cell_type": "code",
   "execution_count": 34,
   "metadata": {},
   "outputs": [
    {
     "data": {
      "text/html": [
       "<div>\n",
       "<style scoped>\n",
       "    .dataframe tbody tr th:only-of-type {\n",
       "        vertical-align: middle;\n",
       "    }\n",
       "\n",
       "    .dataframe tbody tr th {\n",
       "        vertical-align: top;\n",
       "    }\n",
       "\n",
       "    .dataframe thead th {\n",
       "        text-align: right;\n",
       "    }\n",
       "</style>\n",
       "<table border=\"1\" class=\"dataframe\">\n",
       "  <thead>\n",
       "    <tr style=\"text-align: right;\">\n",
       "      <th></th>\n",
       "      <th>Date</th>\n",
       "      <th>Contest number</th>\n",
       "      <th>Word</th>\n",
       "      <th>Number of  reported results</th>\n",
       "      <th>Number in hard mode</th>\n",
       "      <th>1 try</th>\n",
       "      <th>2 tries</th>\n",
       "      <th>3 tries</th>\n",
       "      <th>4 tries</th>\n",
       "      <th>5 tries</th>\n",
       "      <th>6 tries</th>\n",
       "      <th>7 or more tries (X)</th>\n",
       "    </tr>\n",
       "  </thead>\n",
       "  <tbody>\n",
       "    <tr>\n",
       "      <th>0</th>\n",
       "      <td>2022-12-31 00:00:00</td>\n",
       "      <td>560</td>\n",
       "      <td>manly</td>\n",
       "      <td>20380</td>\n",
       "      <td>1899</td>\n",
       "      <td>0</td>\n",
       "      <td>2</td>\n",
       "      <td>17</td>\n",
       "      <td>37</td>\n",
       "      <td>29</td>\n",
       "      <td>12</td>\n",
       "      <td>2</td>\n",
       "    </tr>\n",
       "    <tr>\n",
       "      <th>1</th>\n",
       "      <td>2022-12-30 00:00:00</td>\n",
       "      <td>559</td>\n",
       "      <td>molar</td>\n",
       "      <td>21204</td>\n",
       "      <td>1973</td>\n",
       "      <td>0</td>\n",
       "      <td>4</td>\n",
       "      <td>21</td>\n",
       "      <td>38</td>\n",
       "      <td>26</td>\n",
       "      <td>9</td>\n",
       "      <td>1</td>\n",
       "    </tr>\n",
       "    <tr>\n",
       "      <th>2</th>\n",
       "      <td>2022-12-29 00:00:00</td>\n",
       "      <td>558</td>\n",
       "      <td>havoc</td>\n",
       "      <td>20001</td>\n",
       "      <td>1919</td>\n",
       "      <td>0</td>\n",
       "      <td>2</td>\n",
       "      <td>16</td>\n",
       "      <td>38</td>\n",
       "      <td>30</td>\n",
       "      <td>12</td>\n",
       "      <td>2</td>\n",
       "    </tr>\n",
       "    <tr>\n",
       "      <th>3</th>\n",
       "      <td>2022-12-28 00:00:00</td>\n",
       "      <td>557</td>\n",
       "      <td>impel</td>\n",
       "      <td>20160</td>\n",
       "      <td>1937</td>\n",
       "      <td>0</td>\n",
       "      <td>3</td>\n",
       "      <td>21</td>\n",
       "      <td>40</td>\n",
       "      <td>25</td>\n",
       "      <td>9</td>\n",
       "      <td>1</td>\n",
       "    </tr>\n",
       "    <tr>\n",
       "      <th>4</th>\n",
       "      <td>2022-12-27 00:00:00</td>\n",
       "      <td>556</td>\n",
       "      <td>condo</td>\n",
       "      <td>20879</td>\n",
       "      <td>2012</td>\n",
       "      <td>0</td>\n",
       "      <td>2</td>\n",
       "      <td>17</td>\n",
       "      <td>35</td>\n",
       "      <td>29</td>\n",
       "      <td>14</td>\n",
       "      <td>3</td>\n",
       "    </tr>\n",
       "  </tbody>\n",
       "</table>\n",
       "</div>"
      ],
      "text/plain": [
       "0                 Date Contest number   Word Number of  reported results  \\\n",
       "0  2022-12-31 00:00:00            560  manly                       20380   \n",
       "1  2022-12-30 00:00:00            559  molar                       21204   \n",
       "2  2022-12-29 00:00:00            558  havoc                       20001   \n",
       "3  2022-12-28 00:00:00            557  impel                       20160   \n",
       "4  2022-12-27 00:00:00            556  condo                       20879   \n",
       "\n",
       "0 Number in hard mode 1 try 2 tries 3 tries 4 tries 5 tries 6 tries  \\\n",
       "0                1899     0       2      17      37      29      12   \n",
       "1                1973     0       4      21      38      26       9   \n",
       "2                1919     0       2      16      38      30      12   \n",
       "3                1937     0       3      21      40      25       9   \n",
       "4                2012     0       2      17      35      29      14   \n",
       "\n",
       "0 7 or more tries (X)  \n",
       "0                   2  \n",
       "1                   1  \n",
       "2                   2  \n",
       "3                   1  \n",
       "4                   3  "
      ]
     },
     "execution_count": 34,
     "metadata": {},
     "output_type": "execute_result"
    }
   ],
   "source": [
    "# 将第一行作为列名\n",
    "df.columns = df.iloc[0]\n",
    "# 删除第一行\n",
    "df = df.drop(0)\n",
    "# 删除空列\n",
    "df = df.dropna(axis=1, how='all')\n",
    "# 重置索引\n",
    "df = df.reset_index(drop=True)\n",
    "# 1.2 查看数据\n",
    "df.head()"
   ]
  },
  {
   "cell_type": "markdown",
   "metadata": {},
   "source": [
    "#### 2. 数据清洗"
   ]
  },
  {
   "cell_type": "code",
   "execution_count": 35,
   "metadata": {},
   "outputs": [
    {
     "data": {
      "text/plain": [
       "0\n",
       "Date                           object\n",
       "Contest number                 object\n",
       "Word                           object\n",
       "Number of  reported results    object\n",
       "Number in hard mode            object\n",
       "1 try                          object\n",
       "2 tries                        object\n",
       "3 tries                        object\n",
       "4 tries                        object\n",
       "5 tries                        object\n",
       "6 tries                        object\n",
       "7 or more tries (X)            object\n",
       "dtype: object"
      ]
     },
     "execution_count": 35,
     "metadata": {},
     "output_type": "execute_result"
    }
   ],
   "source": [
    "# 2.1 查看数据类型\n",
    "df.dtypes"
   ]
  },
  {
   "cell_type": "code",
   "execution_count": 36,
   "metadata": {},
   "outputs": [
    {
     "data": {
      "text/plain": [
       "0\n",
       "Date                           0\n",
       "Contest number                 0\n",
       "Word                           0\n",
       "Number of  reported results    0\n",
       "Number in hard mode            0\n",
       "1 try                          0\n",
       "2 tries                        0\n",
       "3 tries                        0\n",
       "4 tries                        0\n",
       "5 tries                        0\n",
       "6 tries                        0\n",
       "7 or more tries (X)            0\n",
       "dtype: int64"
      ]
     },
     "execution_count": 36,
     "metadata": {},
     "output_type": "execute_result"
    }
   ],
   "source": [
    "# 2.2 查看数据缺失情况\n",
    "df.isnull().sum()"
   ]
  },
  {
   "cell_type": "code",
   "execution_count": 37,
   "metadata": {},
   "outputs": [
    {
     "data": {
      "text/html": [
       "<div>\n",
       "<style scoped>\n",
       "    .dataframe tbody tr th:only-of-type {\n",
       "        vertical-align: middle;\n",
       "    }\n",
       "\n",
       "    .dataframe tbody tr th {\n",
       "        vertical-align: top;\n",
       "    }\n",
       "\n",
       "    .dataframe thead th {\n",
       "        text-align: right;\n",
       "    }\n",
       "</style>\n",
       "<table border=\"1\" class=\"dataframe\">\n",
       "  <thead>\n",
       "    <tr style=\"text-align: right;\">\n",
       "      <th></th>\n",
       "      <th>Date</th>\n",
       "      <th>Contest number</th>\n",
       "      <th>Word</th>\n",
       "      <th>Number of  reported results</th>\n",
       "      <th>Number in hard mode</th>\n",
       "      <th>1 try</th>\n",
       "      <th>2 tries</th>\n",
       "      <th>3 tries</th>\n",
       "      <th>4 tries</th>\n",
       "      <th>5 tries</th>\n",
       "      <th>6 tries</th>\n",
       "      <th>7 or more tries (X)</th>\n",
       "    </tr>\n",
       "  </thead>\n",
       "  <tbody>\n",
       "    <tr>\n",
       "      <th>count</th>\n",
       "      <td>359</td>\n",
       "      <td>359</td>\n",
       "      <td>359</td>\n",
       "      <td>359</td>\n",
       "      <td>359</td>\n",
       "      <td>359</td>\n",
       "      <td>359</td>\n",
       "      <td>359</td>\n",
       "      <td>359</td>\n",
       "      <td>359</td>\n",
       "      <td>359</td>\n",
       "      <td>359</td>\n",
       "    </tr>\n",
       "    <tr>\n",
       "      <th>unique</th>\n",
       "      <td>359</td>\n",
       "      <td>359</td>\n",
       "      <td>359</td>\n",
       "      <td>357</td>\n",
       "      <td>344</td>\n",
       "      <td>6</td>\n",
       "      <td>22</td>\n",
       "      <td>36</td>\n",
       "      <td>32</td>\n",
       "      <td>31</td>\n",
       "      <td>30</td>\n",
       "      <td>21</td>\n",
       "    </tr>\n",
       "    <tr>\n",
       "      <th>top</th>\n",
       "      <td>2022-12-31 00:00:00</td>\n",
       "      <td>560</td>\n",
       "      <td>manly</td>\n",
       "      <td>218595</td>\n",
       "      <td>10343</td>\n",
       "      <td>0</td>\n",
       "      <td>2</td>\n",
       "      <td>16</td>\n",
       "      <td>35</td>\n",
       "      <td>24</td>\n",
       "      <td>9</td>\n",
       "      <td>1</td>\n",
       "    </tr>\n",
       "    <tr>\n",
       "      <th>freq</th>\n",
       "      <td>1</td>\n",
       "      <td>1</td>\n",
       "      <td>1</td>\n",
       "      <td>2</td>\n",
       "      <td>2</td>\n",
       "      <td>221</td>\n",
       "      <td>56</td>\n",
       "      <td>19</td>\n",
       "      <td>38</td>\n",
       "      <td>32</td>\n",
       "      <td>30</td>\n",
       "      <td>146</td>\n",
       "    </tr>\n",
       "  </tbody>\n",
       "</table>\n",
       "</div>"
      ],
      "text/plain": [
       "0                      Date  Contest number   Word  \\\n",
       "count                   359             359    359   \n",
       "unique                  359             359    359   \n",
       "top     2022-12-31 00:00:00             560  manly   \n",
       "freq                      1               1      1   \n",
       "\n",
       "0       Number of  reported results  Number in hard mode  1 try  2 tries  \\\n",
       "count                           359                  359    359      359   \n",
       "unique                          357                  344      6       22   \n",
       "top                          218595                10343      0        2   \n",
       "freq                              2                    2    221       56   \n",
       "\n",
       "0       3 tries  4 tries  5 tries  6 tries  7 or more tries (X)  \n",
       "count       359      359      359      359                  359  \n",
       "unique       36       32       31       30                   21  \n",
       "top          16       35       24        9                    1  \n",
       "freq         19       38       32       30                  146  "
      ]
     },
     "execution_count": 37,
     "metadata": {},
     "output_type": "execute_result"
    }
   ],
   "source": [
    "# 2.3 查看数据分布情况\n",
    "df.describe()"
   ]
  },
  {
   "cell_type": "markdown",
   "metadata": {},
   "source": [
    "#### 3. 数据分析"
   ]
  },
  {
   "cell_type": "markdown",
   "metadata": {},
   "source": [
    "我们在下面可以看到字符不够五个问题"
   ]
  },
  {
   "cell_type": "markdown",
   "metadata": {},
   "source": [
    "##### 分析Word列"
   ]
  },
  {
   "cell_type": "code",
   "execution_count": 38,
   "metadata": {},
   "outputs": [
    {
     "data": {
      "text/plain": [
       "manly    1\n",
       "gamer    1\n",
       "larva    1\n",
       "forgo    1\n",
       "story    1\n",
       "        ..\n",
       "inter    1\n",
       "whoop    1\n",
       "taunt    1\n",
       "leery    1\n",
       "slump    1\n",
       "Name: Word, Length: 359, dtype: int64"
      ]
     },
     "execution_count": 38,
     "metadata": {},
     "output_type": "execute_result"
    }
   ],
   "source": [
    "df['Word'].value_counts()"
   ]
  },
  {
   "cell_type": "code",
   "execution_count": 39,
   "metadata": {},
   "outputs": [
    {
     "data": {
      "text/plain": [
       "count    359.000000\n",
       "mean       5.000000\n",
       "std        0.105703\n",
       "min        4.000000\n",
       "25%        5.000000\n",
       "50%        5.000000\n",
       "75%        5.000000\n",
       "max        6.000000\n",
       "Name: Word, dtype: float64"
      ]
     },
     "execution_count": 39,
     "metadata": {},
     "output_type": "execute_result"
    }
   ],
   "source": [
    "# 查看Word的列的字符串长度\n",
    "df['Word'].str.len().describe()"
   ]
  },
  {
   "cell_type": "code",
   "execution_count": 40,
   "metadata": {},
   "outputs": [
    {
     "data": {
      "text/html": [
       "<div>\n",
       "<style scoped>\n",
       "    .dataframe tbody tr th:only-of-type {\n",
       "        vertical-align: middle;\n",
       "    }\n",
       "\n",
       "    .dataframe tbody tr th {\n",
       "        vertical-align: top;\n",
       "    }\n",
       "\n",
       "    .dataframe thead th {\n",
       "        text-align: right;\n",
       "    }\n",
       "</style>\n",
       "<table border=\"1\" class=\"dataframe\">\n",
       "  <thead>\n",
       "    <tr style=\"text-align: right;\">\n",
       "      <th></th>\n",
       "      <th>Date</th>\n",
       "      <th>Contest number</th>\n",
       "      <th>Word</th>\n",
       "      <th>Number of  reported results</th>\n",
       "      <th>Number in hard mode</th>\n",
       "      <th>1 try</th>\n",
       "      <th>2 tries</th>\n",
       "      <th>3 tries</th>\n",
       "      <th>4 tries</th>\n",
       "      <th>5 tries</th>\n",
       "      <th>6 tries</th>\n",
       "      <th>7 or more tries (X)</th>\n",
       "    </tr>\n",
       "  </thead>\n",
       "  <tbody>\n",
       "    <tr>\n",
       "      <th>15</th>\n",
       "      <td>2022-12-16 00:00:00</td>\n",
       "      <td>545</td>\n",
       "      <td>rprobe</td>\n",
       "      <td>22853</td>\n",
       "      <td>2160</td>\n",
       "      <td>0</td>\n",
       "      <td>6</td>\n",
       "      <td>24</td>\n",
       "      <td>32</td>\n",
       "      <td>24</td>\n",
       "      <td>11</td>\n",
       "      <td>3</td>\n",
       "    </tr>\n",
       "    <tr>\n",
       "      <th>35</th>\n",
       "      <td>2022-11-26 00:00:00</td>\n",
       "      <td>525</td>\n",
       "      <td>clen</td>\n",
       "      <td>26381</td>\n",
       "      <td>2424</td>\n",
       "      <td>1</td>\n",
       "      <td>17</td>\n",
       "      <td>36</td>\n",
       "      <td>31</td>\n",
       "      <td>12</td>\n",
       "      <td>3</td>\n",
       "      <td>0</td>\n",
       "    </tr>\n",
       "    <tr>\n",
       "      <th>246</th>\n",
       "      <td>2022-04-29 00:00:00</td>\n",
       "      <td>314</td>\n",
       "      <td>tash</td>\n",
       "      <td>106652</td>\n",
       "      <td>7001</td>\n",
       "      <td>2</td>\n",
       "      <td>19</td>\n",
       "      <td>34</td>\n",
       "      <td>27</td>\n",
       "      <td>13</td>\n",
       "      <td>4</td>\n",
       "      <td>1</td>\n",
       "    </tr>\n",
       "    <tr>\n",
       "      <th>353</th>\n",
       "      <td>2022-01-12 00:00:00</td>\n",
       "      <td>207</td>\n",
       "      <td>favor</td>\n",
       "      <td>137586</td>\n",
       "      <td>3073</td>\n",
       "      <td>1</td>\n",
       "      <td>4</td>\n",
       "      <td>15</td>\n",
       "      <td>26</td>\n",
       "      <td>29</td>\n",
       "      <td>21</td>\n",
       "      <td>4</td>\n",
       "    </tr>\n",
       "  </tbody>\n",
       "</table>\n",
       "</div>"
      ],
      "text/plain": [
       "0                   Date Contest number    Word Number of  reported results  \\\n",
       "15   2022-12-16 00:00:00            545  rprobe                       22853   \n",
       "35   2022-11-26 00:00:00            525    clen                       26381   \n",
       "246  2022-04-29 00:00:00            314    tash                      106652   \n",
       "353  2022-01-12 00:00:00            207  favor                       137586   \n",
       "\n",
       "0   Number in hard mode 1 try 2 tries 3 tries 4 tries 5 tries 6 tries  \\\n",
       "15                 2160     0       6      24      32      24      11   \n",
       "35                 2424     1      17      36      31      12       3   \n",
       "246                7001     2      19      34      27      13       4   \n",
       "353                3073     1       4      15      26      29      21   \n",
       "\n",
       "0   7 or more tries (X)  \n",
       "15                    3  \n",
       "35                    0  \n",
       "246                   1  \n",
       "353                   4  "
      ]
     },
     "execution_count": 40,
     "metadata": {},
     "output_type": "execute_result"
    }
   ],
   "source": [
    "# 找出字符串长度不等于5的行\n",
    "df[df['Word'].str.len() != 5]"
   ]
  },
  {
   "cell_type": "markdown",
   "metadata": {},
   "source": [
    "##### 分析Number of reported results列"
   ]
  },
  {
   "cell_type": "code",
   "execution_count": 41,
   "metadata": {},
   "outputs": [
    {
     "data": {
      "text/plain": [
       "count        359\n",
       "unique       357\n",
       "top       218595\n",
       "freq           2\n",
       "Name: Number of  reported results, dtype: int64"
      ]
     },
     "execution_count": 41,
     "metadata": {},
     "output_type": "execute_result"
    }
   ],
   "source": [
    "df['Number of  reported results'].describe()\n",
    "# count 359 <-- 359个单词\n",
    "# unique 357 <-- unique的意思是不重复的，这里359行中有2行重复了\n",
    "# top 218595 <-- top的意思是出现频率最高的，这里出现频率最高的是218595\n",
    "# freq 2 "
   ]
  },
  {
   "cell_type": "code",
   "execution_count": 42,
   "metadata": {},
   "outputs": [
    {
     "data": {
      "text/plain": [
       "<AxesSubplot:xlabel='Date'>"
      ]
     },
     "execution_count": 42,
     "metadata": {},
     "output_type": "execute_result"
    },
    {
     "data": {
      "image/png": "[encoded data removed]",
      "text/plain": [
       "<Figure size 432x288 with 1 Axes>"
      ]
     },
     "metadata": {
      "needs_background": "light"
     },
     "output_type": "display_data"
    }
   ],
   "source": [
    "# 以时间为横坐标，Number of  reported results为纵坐标，画出折线图\n",
    "df.plot(x='Date', y='Number of  reported results', kind='line')"
   ]
  },
  {
   "cell_type": "markdown",
   "metadata": {},
   "source": [
    "上图中我们可以发现有一个异常值，我们需要去除，用样条插值法和埃尔米特插值法取平均值，代码如下："
   ]
  },
  {
   "cell_type": "code",
   "execution_count": 48,
   "metadata": {},
   "outputs": [
    {
     "data": {
      "text/plain": [
       "<AxesSubplot:ylabel='Frequency'>"
      ]
     },
     "execution_count": 48,
     "metadata": {},
     "output_type": "execute_result"
    },
    {
     "data": {
      "image/png": "[encoded data removed]",
      "text/plain": [
       "<Figure size 432x288 with 1 Axes>"
      ]
     },
     "metadata": {
      "needs_background": "light"
     },
     "output_type": "display_data"
    }
   ],
   "source": [
    "# 单独取出Number of  reported results列\n",
    "df['Number of  reported results'].plot(kind='hist',bins=20)"
   ]
  },
  {
   "cell_type": "code",
   "execution_count": 49,
   "metadata": {},
   "outputs": [],
   "source": [
    "df_Number_of_reported_results = df['Number of  reported results']"
   ]
  },
  {
   "cell_type": "code",
   "execution_count": 51,
   "metadata": {},
   "outputs": [
    {
     "data": {
      "text/plain": [
       "[<matplotlib.lines.Line2D at 0x155d8959490>]"
      ]
     },
     "execution_count": 51,
     "metadata": {},
     "output_type": "execute_result"
    },
    {
     "data": {
      "image/png": "[encoded data removed]",
      "text/plain": [
       "<Figure size 432x288 with 1 Axes>"
      ]
     },
     "metadata": {
      "needs_background": "light"
     },
     "output_type": "display_data"
    }
   ],
   "source": [
    "# 用plt画图，横坐标为df的Date列，纵坐标为df_Number_of_reported_results列\n",
    "plt.plot(df['Date'], df_Number_of_reported_results)"
   ]
  },
  {
   "cell_type": "code",
   "execution_count": 52,
   "metadata": {},
   "outputs": [
    {
     "name": "stdout",
     "output_type": "stream",
     "text": [
      "0\n"
     ]
    }
   ],
   "source": [
    "print(df['Number of  reported results'].isnull().sum())"
   ]
  },
  {
   "cell_type": "code",
   "execution_count": 54,
   "metadata": {},
   "outputs": [
    {
     "data": {
      "text/plain": [
       "31    2569\n",
       "Name: Number of  reported results, dtype: object"
      ]
     },
     "execution_count": 54,
     "metadata": {},
     "output_type": "execute_result"
    }
   ],
   "source": [
    "df_Number_of_reported_results[df_Number_of_reported_results<10000]"
   ]
  },
  {
   "cell_type": "code",
   "execution_count": 55,
   "metadata": {},
   "outputs": [],
   "source": [
    "error_index = df_Number_of_reported_results[df_Number_of_reported_results<10000].index"
   ]
  },
  {
   "cell_type": "code",
   "execution_count": 58,
   "metadata": {},
   "outputs": [
    {
     "data": {
      "text/plain": [
       "Int64Index([31], dtype='int64')"
      ]
     },
     "execution_count": 58,
     "metadata": {},
     "output_type": "execute_result"
    }
   ],
   "source": [
    "error_index"
   ]
  },
  {
   "cell_type": "code",
   "execution_count": 67,
   "metadata": {},
   "outputs": [
    {
     "data": {
      "image/png": "[encoded data removed]",
      "text/plain": [
       "<Figure size 864x432 with 1 Axes>"
      ]
     },
     "metadata": {
      "needs_background": "light"
     },
     "output_type": "display_data"
    }
   ],
   "source": [
    "import numpy as np\n",
    "import pandas as pd\n",
    "import matplotlib.pyplot as plt\n",
    "\n",
    "data = np.array([25577, 23873, 24646, 22628, np.nan, 23739, 26051, 25206, 26381])\n",
    "\n",
    "spline = pd.Series(data).interpolate(method='spline', order=2) # 用2阶样条插值法填补缺失值\n",
    "cubic = pd.Series(data).interpolate(method='cubic') # 用3阶样条插值法填补缺失值\n",
    "linear = pd.Series(data).interpolate(method='linear') # 用线性插值法填补缺失值\n",
    "nearest = pd.Series(data).interpolate(method='nearest') # 用最近邻插值法填补缺失值\n",
    "krogh = pd.Series(data).interpolate(method='krogh') # 用Krogh插值法填补缺失值 krogh就是hermite插值法\n",
    "\n",
    "plt.figure(figsize=(12, 6))\n",
    "plt.plot(spline, 'r', label='spline')\n",
    "plt.plot(cubic, 'g', label='cubic')\n",
    "plt.plot(linear, 'b', label='linear')\n",
    "plt.plot(nearest, 'y', label='nearest')\n",
    "plt.plot(cubicspline, 'c', label='cubicspline')\n",
    "plt.plot(krogh, 'm', label='krogh')\n",
    "plt.plot(data, 'k', label='original')\n",
    "plt.legend(loc='best')\n",
    "plt.show()"
   ]
  },
  {
   "cell_type": "code",
   "execution_count": 72,
   "metadata": {},
   "outputs": [],
   "source": [
    "# 我们采用spline和krogh的均值\n",
    "df_Number_of_reported_results[error_index] = int((spline[4] + krogh[4])/2)"
   ]
  },
  {
   "cell_type": "code",
   "execution_count": 73,
   "metadata": {},
   "outputs": [
    {
     "data": {
      "text/plain": [
       "31    21929\n",
       "Name: Number of  reported results, dtype: object"
      ]
     },
     "execution_count": 73,
     "metadata": {},
     "output_type": "execute_result"
    }
   ],
   "source": [
    "df_Number_of_reported_results[error_index]"
   ]
  },
  {
   "cell_type": "code",
   "execution_count": 77,
   "metadata": {},
   "outputs": [
    {
     "data": {
      "text/plain": [
       "[<matplotlib.lines.Line2D at 0x155da380af0>]"
      ]
     },
     "execution_count": 77,
     "metadata": {},
     "output_type": "execute_result"
    },
    {
     "data": {
      "image/png": "[encoded data removed]",
      "text/plain": [
       "<Figure size 864x432 with 1 Axes>"
      ]
     },
     "metadata": {
      "needs_background": "light"
     },
     "output_type": "display_data"
    }
   ],
   "source": [
    "plt.figure(figsize=(12, 6))\n",
    "plt.plot(df['Date'], df_Number_of_reported_results)"
   ]
  },
  {
   "cell_type": "code",
   "execution_count": 75,
   "metadata": {},
   "outputs": [],
   "source": [
    "# 保存好数据修改的df_Number_of_reported_results\n",
    "df_Number_of_reported_results.to_csv('df_Number_of_reported_results.csv', index=False)"
   ]
  },
  {
   "cell_type": "markdown",
   "metadata": {},
   "source": [
    "下一节用lstm预测Number of reported results列"
   ]
  },
  {
   "cell_type": "markdown",
   "metadata": {},
   "source": []
  }
 ],
 "metadata": {
  "kernelspec": {
   "display_name": "Python 3 (ipykernel)",
   "language": "python",
   "name": "python3"
  },
  "language_info": {
   "codemirror_mode": {
    "name": "ipython",
    "version": 3
   },
   "file_extension": ".py",
   "mimetype": "text/x-python",
   "name": "python",
   "nbconvert_exporter": "python",
   "pygments_lexer": "ipython3",
   "version": "3.9.7"
  },
  "vscode": {
   "interpreter": {
    "hash": "5179d32cf6ec497baf3f8a3ef987cc77c5d2dc691fdde20a56316522f61a7323"
   }
  }
 },
 "nbformat": 4,
 "nbformat_minor": 2
}
