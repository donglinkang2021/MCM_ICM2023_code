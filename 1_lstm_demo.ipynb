{
 "cells": [
  {
   "attachments": {},
   "cell_type": "markdown",
   "metadata": {},
   "source": [
    "# lstm的demo"
   ]
  },
  {
   "cell_type": "code",
   "execution_count": 1,
   "metadata": {},
   "outputs": [],
   "source": [
    "import numpy as np\n",
    "import torch\n",
    "from torch import nn\n",
    "import matplotlib.pyplot as plt"
   ]
  },
  {
   "attachments": {},
   "cell_type": "markdown",
   "metadata": {},
   "source": [
    "## define the network"
   ]
  },
  {
   "attachments": {},
   "cell_type": "markdown",
   "metadata": {},
   "source": [
    "### 原理\n",
    "\n",
    "<center><img src=\"lstm.jpg\" width=\"600\"></center>\n",
    "\n",
    "\n",
    "$$\n",
    "\\begin{array}{ll} \\\\\n",
    "    i_t = \\sigma(W_{ii} x_t + b_{ii} + W_{hi} h_{t-1} + b_{hi}) \\\\\n",
    "    f_t = \\sigma(W_{if} x_t + b_{if} + W_{hf} h_{t-1} + b_{hf}) \\\\\n",
    "    g_t = \\tanh(W_{ig} x_t + b_{ig} + W_{hg} h_{t-1} + b_{hg}) \\\\\n",
    "    o_t = \\sigma(W_{io} x_t + b_{io} + W_{ho} h_{t-1} + b_{ho}) \\\\\n",
    "    c_t = f_t \\odot c_{t-1} + i_t \\odot g_t \\\\\n",
    "    h_t = o_t \\odot \\tanh(c_t) \\\\\n",
    "\\end{array}\n",
    "$$\n",
    "\n",
    "> 注：上面的下标是指从什么到什么，比如$W_{ii}$表示从输入到输入的权重，$W_{ig}$表示从输入到门的权重，$W_{hg}$表示从隐藏层到门的权重，$W_{ho}$表示从隐藏层到输出的权重，$W_{hf}$表示从隐藏层到遗忘门的权重，$W_{hi}$表示从隐藏层到输入门的权重。$b_{ii}$表示从输入到输入的偏置，$b_{ig}$表示从输入到门的偏置，$b_{hg}$表示从隐藏层到门的偏置，$b_{ho}$表示从隐藏层到输出的偏置，$b_{hf}$表示从隐藏层到遗忘门的偏置，$b_{hi}$表示从隐藏层到输入门的偏置。$i_t$表示输入门，$f_t$表示遗忘门，$g_t$表示门，$o_t$表示输出门，$c_t$表示记忆单元，$h_t$表示隐藏层。"
   ]
  },
  {
   "cell_type": "code",
   "execution_count": 2,
   "metadata": {},
   "outputs": [],
   "source": [
    "class RegLSTM(nn.Module):\n",
    "    def __init__(self, inp_dim, out_dim, mid_dim, mid_layers):\n",
    "        super(RegLSTM, self).__init__()\n",
    "        self.rnn = nn.LSTM(inp_dim, mid_dim, mid_layers)  \n",
    "        # rnn layer 在自然语言处理中，第一个参数通常是embedding的维度，第二个参数是隐藏层的维度，第三个参数是层数\n",
    "        self.reg = nn.Sequential(\n",
    "            nn.Linear(mid_dim, mid_dim),\n",
    "            nn.Tanh(),\n",
    "            nn.Linear(mid_dim, out_dim),\n",
    "        )  # regression\n",
    "\n",
    "    def forward(self, x):\n",
    "        y = self.rnn(x)[0]  # y, (h, c) = self.rnn(x)\n",
    "\n",
    "        seq_len, batch_size, hid_dim = y.shape\n",
    "        y = y.view(-1, hid_dim) # y = y.view(seq_len * batch_size, hid_dim)\n",
    "        y = self.reg(y)\n",
    "        y = y.view(seq_len, batch_size, -1) # y = y.view(seq_len, batch_size, out_dim)\n",
    "        return y\n",
    "\n",
    "    \"\"\"\n",
    "    PyCharm Crtl+click nn.LSTM() jump to code of PyTorch:\n",
    "    Examples::\n",
    "        >>> rnn = nn.LSTM(10, 20, 2)\n",
    "        >>> input = torch.randn(5, 3, 10)\n",
    "        >>> h0 = torch.randn(2, 3, 20)\n",
    "        >>> c0 = torch.randn(2, 3, 20)\n",
    "        >>> output, (hn, cn) = rnn(input, (h0, c0))\n",
    "    \"\"\"\n",
    "\n",
    "    def output_y_hc_for_test(self, x, hc):\n",
    "        # 后面计算loss的时候，需要用到y和hc，所以这里需要单独写一个函数\n",
    "        y, hc = self.rnn(x, hc)  # y, (h, c) = self.rnn(x)\n",
    "\n",
    "        seq_len, batch_size, hid_dim = y.size()\n",
    "        y = y.view(-1, hid_dim)\n",
    "        y = self.reg(y)\n",
    "        y = y.view(seq_len, batch_size, -1)\n",
    "        return y, hc\n"
   ]
  },
  {
   "cell_type": "code",
   "execution_count": 3,
   "metadata": {},
   "outputs": [],
   "source": [
    "inp_dim = 3 # 输入维度 我们是（客流量，年，月）三个维度\n",
    "out_dim = 1 # 输出维度 我们是预测客流量，所以是1\n",
    "mid_dim = 8 # 隐藏层维度\n",
    "mid_layers = 1 # 隐藏层层数\n",
    "batch_size = 12 * 4 # 我们划分成48个batch\n",
    "mod_dir = '.'"
   ]
  },
  {
   "attachments": {},
   "cell_type": "markdown",
   "metadata": {},
   "source": [
    "## load data"
   ]
  },
  {
   "cell_type": "code",
   "execution_count": 4,
   "metadata": {},
   "outputs": [],
   "source": [
    "# passengers number of international airline , 1949-01 ~ 1960-12 per month\n",
    "seq_number = np.array(\n",
    "    [112., 118., 132., 129., 121., 135., 148., 148., 136., 119., 104.,\n",
    "        118., 115., 126., 141., 135., 125., 149., 170., 170., 158., 133.,\n",
    "        114., 140., 145., 150., 178., 163., 172., 178., 199., 199., 184.,\n",
    "        162., 146., 166., 171., 180., 193., 181., 183., 218., 230., 242.,\n",
    "        209., 191., 172., 194., 196., 196., 236., 235., 229., 243., 264.,\n",
    "        272., 237., 211., 180., 201., 204., 188., 235., 227., 234., 264.,\n",
    "        302., 293., 259., 229., 203., 229., 242., 233., 267., 269., 270.,\n",
    "        315., 364., 347., 312., 274., 237., 278., 284., 277., 317., 313.,\n",
    "        318., 374., 413., 405., 355., 306., 271., 306., 315., 301., 356.,\n",
    "        348., 355., 422., 465., 467., 404., 347., 305., 336., 340., 318.,\n",
    "        362., 348., 363., 435., 491., 505., 404., 359., 310., 337., 360.,\n",
    "        342., 406., 396., 420., 472., 548., 559., 463., 407., 362., 405.,\n",
    "        417., 391., 419., 461., 472., 535., 622., 606., 508., 461., 390.,\n",
    "        432.], dtype=np.float32)"
   ]
  },
  {
   "cell_type": "code",
   "execution_count": 5,
   "metadata": {},
   "outputs": [
    {
     "data": {
      "text/plain": [
       "[<matplotlib.lines.Line2D at 0x1d5cc661790>]"
      ]
     },
     "execution_count": 5,
     "metadata": {},
     "output_type": "execute_result"
    },
    {
     "data": {
      "image/png": "[encoded data removed]",
      "text/plain": [
       "<Figure size 432x288 with 1 Axes>"
      ]
     },
     "metadata": {
      "needs_background": "light"
     },
     "output_type": "display_data"
    }
   ],
   "source": [
    "plt.plot(seq_number)"
   ]
  },
  {
   "cell_type": "code",
   "execution_count": 6,
   "metadata": {},
   "outputs": [
    {
     "data": {
      "text/plain": [
       "(144,)"
      ]
     },
     "execution_count": 6,
     "metadata": {},
     "output_type": "execute_result"
    }
   ],
   "source": [
    "seq_number.shape"
   ]
  },
  {
   "cell_type": "code",
   "execution_count": 7,
   "metadata": {},
   "outputs": [],
   "source": [
    "seq_number = seq_number[:, np.newaxis]"
   ]
  },
  {
   "cell_type": "code",
   "execution_count": 8,
   "metadata": {},
   "outputs": [
    {
     "data": {
      "text/plain": [
       "(144, 1)"
      ]
     },
     "execution_count": 8,
     "metadata": {},
     "output_type": "execute_result"
    }
   ],
   "source": [
    "seq_number.shape"
   ]
  },
  {
   "cell_type": "code",
   "execution_count": 9,
   "metadata": {},
   "outputs": [],
   "source": [
    "# 1949~1960, 12 years, 12*12==144 month\n",
    "seq_year = np.arange(12)\n",
    "seq_month = np.arange(12)\n",
    "seq_year_month = np.transpose(\n",
    "    [np.repeat(seq_year, len(seq_month)),\n",
    "        np.tile(seq_month, len(seq_year))],\n",
    ")  # Cartesian Product 就是笛卡尔积"
   ]
  },
  {
   "cell_type": "code",
   "execution_count": 10,
   "metadata": {},
   "outputs": [
    {
     "data": {
      "text/plain": [
       "(144, 2)"
      ]
     },
     "execution_count": 10,
     "metadata": {},
     "output_type": "execute_result"
    }
   ],
   "source": [
    "seq_year_month.shape"
   ]
  },
  {
   "cell_type": "code",
   "execution_count": 11,
   "metadata": {},
   "outputs": [
    {
     "data": {
      "text/plain": [
       "array([[0, 0],\n",
       "       [0, 1],\n",
       "       [0, 2],\n",
       "       [0, 3],\n",
       "       [0, 4]])"
      ]
     },
     "execution_count": 11,
     "metadata": {},
     "output_type": "execute_result"
    }
   ],
   "source": [
    "seq_year_month[:5]"
   ]
  },
  {
   "cell_type": "code",
   "execution_count": 12,
   "metadata": {},
   "outputs": [],
   "source": [
    "seq = np.concatenate((seq_number, seq_year_month), axis=1) # 所以最终的形式是（客流量，年，月） 年和月是0-11的数字"
   ]
  },
  {
   "cell_type": "code",
   "execution_count": 13,
   "metadata": {},
   "outputs": [
    {
     "data": {
      "text/plain": [
       "array([[112.,   0.,   0.],\n",
       "       [118.,   0.,   1.],\n",
       "       [132.,   0.,   2.],\n",
       "       [129.,   0.,   3.],\n",
       "       [121.,   0.,   4.]])"
      ]
     },
     "execution_count": 13,
     "metadata": {},
     "output_type": "execute_result"
    }
   ],
   "source": [
    "seq[:5]"
   ]
  },
  {
   "cell_type": "code",
   "execution_count": 14,
   "metadata": {},
   "outputs": [],
   "source": [
    "# normalization\n",
    "seq = (seq - seq.mean(axis=0)) / seq.std(axis=0)"
   ]
  },
  {
   "cell_type": "code",
   "execution_count": 15,
   "metadata": {},
   "outputs": [
    {
     "data": {
      "text/plain": [
       "array([[-1.40777884, -1.59325501, -1.59325501],\n",
       "       [-1.35759023, -1.59325501, -1.30357228],\n",
       "       [-1.24048348, -1.59325501, -1.01388955],\n",
       "       [-1.26557778, -1.59325501, -0.72420682],\n",
       "       [-1.33249593, -1.59325501, -0.43452409]])"
      ]
     },
     "execution_count": 15,
     "metadata": {},
     "output_type": "execute_result"
    }
   ],
   "source": [
    "seq[:5]"
   ]
  },
  {
   "cell_type": "code",
   "execution_count": 16,
   "metadata": {},
   "outputs": [],
   "source": [
    "data = seq\n",
    "data_x = data[:-1, :]\n",
    "data_y = data[+1:, 0]\n",
    "assert data_x.shape[1] == inp_dim"
   ]
  },
  {
   "cell_type": "code",
   "execution_count": 17,
   "metadata": {},
   "outputs": [
    {
     "data": {
      "text/plain": [
       "array([[-1.40777884, -1.59325501, -1.59325501],\n",
       "       [-1.35759023, -1.59325501, -1.30357228],\n",
       "       [-1.24048348, -1.59325501, -1.01388955],\n",
       "       [-1.26557778, -1.59325501, -0.72420682],\n",
       "       [-1.33249593, -1.59325501, -0.43452409]])"
      ]
     },
     "execution_count": 17,
     "metadata": {},
     "output_type": "execute_result"
    }
   ],
   "source": [
    "data_x[:5]"
   ]
  },
  {
   "cell_type": "code",
   "execution_count": 18,
   "metadata": {},
   "outputs": [
    {
     "data": {
      "text/plain": [
       "array([-1.35759023, -1.24048348, -1.26557778, -1.33249593, -1.21538918])"
      ]
     },
     "execution_count": 18,
     "metadata": {},
     "output_type": "execute_result"
    }
   ],
   "source": [
    "data_y[:5]"
   ]
  },
  {
   "cell_type": "code",
   "execution_count": 19,
   "metadata": {},
   "outputs": [
    {
     "data": {
      "text/plain": [
       "(143, 3)"
      ]
     },
     "execution_count": 19,
     "metadata": {},
     "output_type": "execute_result"
    }
   ],
   "source": [
    "data_x.shape"
   ]
  },
  {
   "cell_type": "code",
   "execution_count": 20,
   "metadata": {},
   "outputs": [
    {
     "data": {
      "text/plain": [
       "(143,)"
      ]
     },
     "execution_count": 20,
     "metadata": {},
     "output_type": "execute_result"
    }
   ],
   "source": [
    "data_y.shape"
   ]
  },
  {
   "cell_type": "code",
   "execution_count": 21,
   "metadata": {},
   "outputs": [
    {
     "name": "stdout",
     "output_type": "stream",
     "text": [
      "train_x.shape:  (107, 3)\n",
      "train_y.shape:  (107, 1)\n"
     ]
    }
   ],
   "source": [
    "# split train and test\n",
    "train_size = int(len(data_x) * 0.75) # 107\n",
    "\n",
    "train_x = data_x[:train_size]\n",
    "train_y = data_y[:train_size]\n",
    "train_x = train_x.reshape((train_size, inp_dim)) # 107, 3\n",
    "train_y = train_y.reshape((train_size, out_dim)) # 107, 1\n",
    "print(\"train_x.shape: \", train_x.shape)\n",
    "print(\"train_y.shape: \", train_y.shape)"
   ]
  },
  {
   "attachments": {},
   "cell_type": "markdown",
   "metadata": {},
   "source": [
    "### build model"
   ]
  },
  {
   "cell_type": "code",
   "execution_count": 22,
   "metadata": {},
   "outputs": [],
   "source": [
    "device = torch.device(\"cuda\" if torch.cuda.is_available() else \"cpu\")\n",
    "net = RegLSTM(inp_dim, out_dim, mid_dim, mid_layers).to(device)\n",
    "criterion = nn.MSELoss()\n",
    "optimizer = torch.optim.Adam(net.parameters(), lr=1e-2)"
   ]
  },
  {
   "cell_type": "code",
   "execution_count": 69,
   "metadata": {},
   "outputs": [
    {
     "data": {
      "text/plain": [
       "==========================================================================================\n",
       "Layer (type:depth-idx)                   Output Shape              Param #\n",
       "==========================================================================================\n",
       "RegLSTM                                  [47, 48, 1]               --\n",
       "├─LSTM: 1-1                              [47, 48, 8]               416\n",
       "├─Sequential: 1-2                        [2256, 1]                 --\n",
       "│    └─Linear: 2-1                       [2256, 8]                 72\n",
       "│    └─Tanh: 2-2                         [2256, 8]                 --\n",
       "│    └─Linear: 2-3                       [2256, 1]                 9\n",
       "==========================================================================================\n",
       "Total params: 497\n",
       "Trainable params: 497\n",
       "Non-trainable params: 0\n",
       "Total mult-adds (M): 1.12\n",
       "==========================================================================================\n",
       "Input size (MB): 0.03\n",
       "Forward/backward pass size (MB): 0.31\n",
       "Params size (MB): 0.00\n",
       "Estimated Total Size (MB): 0.34\n",
       "=========================================================================================="
      ]
     },
     "execution_count": 69,
     "metadata": {},
     "output_type": "execute_result"
    }
   ],
   "source": [
    "from torchinfo import summary\n",
    "summary(net, input_size=(47, 48, 3))"
   ]
  },
  {
   "attachments": {},
   "cell_type": "markdown",
   "metadata": {},
   "source": [
    "### train"
   ]
  },
  {
   "attachments": {},
   "cell_type": "markdown",
   "metadata": {},
   "source": [
    "我们首先制作train的batch，然后训练模型。\n",
    "\n",
    "制作batch的方法是选取不同开头但截止一样的序列，然后将这些序列组合成一个batch。\n",
    "\n",
    "<center><img src=\"lstm_batch.drawio.png\" width=\"600\"></center>"
   ]
  },
  {
   "cell_type": "code",
   "execution_count": 24,
   "metadata": {},
   "outputs": [],
   "source": [
    "var_x = torch.tensor(train_x, dtype=torch.float32, device=device)\n",
    "var_y = torch.tensor(train_y, dtype=torch.float32, device=device)\n",
    "\n",
    "batch_var_x = list()\n",
    "batch_var_y = list()\n",
    "\n",
    "for roi_len in range(batch_size):\n",
    "    begin_idx = train_size - roi_len # train_size = 107\n",
    "    batch_var_x.append(var_x[begin_idx:])\n",
    "    batch_var_y.append(var_y[begin_idx:])"
   ]
  },
  {
   "cell_type": "code",
   "execution_count": 25,
   "metadata": {},
   "outputs": [
    {
     "name": "stdout",
     "output_type": "stream",
     "text": [
      "var_x.shape:  torch.Size([107, 3])\n",
      "var_y.shape:  torch.Size([107, 1])\n"
     ]
    }
   ],
   "source": [
    "print(\"var_x.shape: \", var_x.shape)\n",
    "print(\"var_y.shape: \", var_y.shape)"
   ]
  },
  {
   "cell_type": "code",
   "execution_count": 30,
   "metadata": {},
   "outputs": [
    {
     "name": "stdout",
     "output_type": "stream",
     "text": [
      "batch_var_x[0].shape:  torch.Size([0, 3])\n",
      "batch_var_y[0].shape:  torch.Size([0, 1])\n",
      "batch_var_x[1].shape:  torch.Size([47, 3])\n",
      "batch_var_y[1].shape:  torch.Size([47, 1])\n"
     ]
    }
   ],
   "source": [
    "print(\"batch_var_x[0].shape: \", batch_var_x[0].shape)\n",
    "print(\"batch_var_y[0].shape: \", batch_var_y[0].shape)\n",
    "print(\"batch_var_x[1].shape: \", batch_var_x[47].shape)\n",
    "print(\"batch_var_y[1].shape: \", batch_var_y[47].shape)"
   ]
  },
  {
   "cell_type": "code",
   "execution_count": 29,
   "metadata": {},
   "outputs": [
    {
     "name": "stdout",
     "output_type": "stream",
     "text": [
      "batch_var_x.len:  48\n",
      "batch_var_y.len:  48\n"
     ]
    }
   ],
   "source": [
    "print(\"batch_var_x.len: \", len(batch_var_x))\n",
    "print(\"batch_var_y.len: \", len(batch_var_y))"
   ]
  },
  {
   "attachments": {},
   "cell_type": "markdown",
   "metadata": {},
   "source": [
    "#### padding\n",
    "\n",
    "<center><img src=\"lstm.drawio.png\" width=\"400\"></center>\n",
    "\n",
    "我们看到不同的batch的shape是不一样的，但是我们需要的是一样的，所以我们需要对batch进行padding，即在后面补0，使得所有的batch的shape都一样"
   ]
  },
  {
   "cell_type": "code",
   "execution_count": 31,
   "metadata": {},
   "outputs": [],
   "source": [
    "from torch.nn.utils.rnn import pad_sequence\n",
    "batch_var_x = pad_sequence(batch_var_x)\n",
    "batch_var_y = pad_sequence(batch_var_y)\n",
    "\n",
    "with torch.no_grad():\n",
    "    weights = np.tanh(np.arange(len(train_y)) * (np.e / len(train_y)))\n",
    "    weights = torch.tensor(weights, dtype=torch.float32, device=device)"
   ]
  },
  {
   "attachments": {},
   "cell_type": "markdown",
   "metadata": {},
   "source": [
    "这里为损失函数添加了类似遗忘曲线的东西，使得模型在训练的时候不会忘记之前的信息，而是会逐渐遗忘。\n",
    "\n",
    "$$\n",
    "weight_t = e * \\frac{t}{len(train_y)} \\quad \\text{where} \\quad t \\in [0, len(train_y))\n",
    "$$"
   ]
  },
  {
   "cell_type": "code",
   "execution_count": 32,
   "metadata": {},
   "outputs": [
    {
     "name": "stdout",
     "output_type": "stream",
     "text": [
      "batch_var_x.shape:  torch.Size([47, 48, 3])\n",
      "batch_var_y.shape:  torch.Size([47, 48, 1])\n",
      "weights.shape:  torch.Size([107])\n"
     ]
    }
   ],
   "source": [
    "print(\"batch_var_x.shape: \", batch_var_x.shape)\n",
    "print(\"batch_var_y.shape: \", batch_var_y.shape)\n",
    "print(\"weights.shape: \", weights.shape)"
   ]
  },
  {
   "cell_type": "code",
   "execution_count": 60,
   "metadata": {},
   "outputs": [
    {
     "data": {
      "text/plain": [
       "[<matplotlib.lines.Line2D at 0x1d5cfa45e80>]"
      ]
     },
     "execution_count": 60,
     "metadata": {},
     "output_type": "execute_result"
    },
    {
     "data": {
      "image/png": "[encoded data removed]",
      "text/plain": [
       "<Figure size 432x288 with 1 Axes>"
      ]
     },
     "metadata": {
      "needs_background": "light"
     },
     "output_type": "display_data"
    }
   ],
   "source": [
    "# 画出weights\n",
    "plt.plot(weights.cpu().numpy())\n",
    "# 画出客流量\n",
    "plt.plot(train_y)"
   ]
  },
  {
   "cell_type": "code",
   "execution_count": 43,
   "metadata": {},
   "outputs": [
    {
     "data": {
      "text/plain": [
       "tensor([[0., 0., 0.],\n",
       "        [0., 0., 0.],\n",
       "        [0., 0., 0.],\n",
       "        [0., 0., 0.],\n",
       "        [0., 0., 0.]])"
      ]
     },
     "execution_count": 43,
     "metadata": {},
     "output_type": "execute_result"
    }
   ],
   "source": [
    "batch_var_x[:5, 0, :] # 对应上图的蓝色圆角矩形上方第一行数据前五个"
   ]
  },
  {
   "cell_type": "code",
   "execution_count": 45,
   "metadata": {},
   "outputs": [
    {
     "data": {
      "text/plain": [
       "tensor([[0.2066, 0.7242, 1.3036],\n",
       "        [0.0000, 0.0000, 0.0000],\n",
       "        [0.0000, 0.0000, 0.0000],\n",
       "        [0.0000, 0.0000, 0.0000],\n",
       "        [0.0000, 0.0000, 0.0000]])"
      ]
     },
     "execution_count": 45,
     "metadata": {},
     "output_type": "execute_result"
    }
   ],
   "source": [
    "batch_var_x[:5, 1, :]  # 对应上图的蓝色圆角矩形所在行数据前五个"
   ]
  },
  {
   "attachments": {},
   "cell_type": "markdown",
   "metadata": {},
   "source": [
    "> 注：一个mini_batch最多也只有47个数据，从结尾开始取的，后面我们看能否改进一下"
   ]
  },
  {
   "cell_type": "code",
   "execution_count": 63,
   "metadata": {},
   "outputs": [
    {
     "name": "stdout",
     "output_type": "stream",
     "text": [
      "Training Start\n",
      "Epoch:    0, Loss: 0.00016\n",
      "Epoch:   64, Loss: 0.00016\n",
      "Epoch:  128, Loss: 0.00015\n",
      "Epoch:  192, Loss: 0.00027\n",
      "Epoch:  256, Loss: 0.00015\n",
      "Epoch:  320, Loss: 0.00014\n"
     ]
    }
   ],
   "source": [
    "print(\"Training Start\")\n",
    "for epoch in range(384):\n",
    "    out = net(batch_var_x)\n",
    "\n",
    "    # loss = 1/2 * (out - batch_var_y) ** 2 * weights\n",
    "    loss = (out - batch_var_y) ** 2 * weights\n",
    "    loss = loss.mean()\n",
    "    \n",
    "    optimizer.zero_grad()\n",
    "    loss.backward()\n",
    "    optimizer.step()\n",
    "\n",
    "    if epoch % 64 == 0:\n",
    "        print('Epoch: {:4}, Loss: {:.5f}'.format(epoch, loss.item()))"
   ]
  },
  {
   "cell_type": "code",
   "execution_count": 64,
   "metadata": {},
   "outputs": [
    {
     "name": "stdout",
     "output_type": "stream",
     "text": [
      "Save in: ./net.pth\n"
     ]
    }
   ],
   "source": [
    "torch.save(net.state_dict(), '{}/net.pth'.format(mod_dir))\n",
    "print(\"Save in:\", '{}/net.pth'.format(mod_dir))"
   ]
  },
  {
   "cell_type": "code",
   "execution_count": 65,
   "metadata": {},
   "outputs": [
    {
     "data": {
      "text/plain": [
       "tensor(0.0001, grad_fn=<MeanBackward0>)"
      ]
     },
     "execution_count": 65,
     "metadata": {},
     "output_type": "execute_result"
    }
   ],
   "source": [
    "loss"
   ]
  },
  {
   "attachments": {},
   "cell_type": "markdown",
   "metadata": {},
   "source": [
    "### eval"
   ]
  },
  {
   "cell_type": "code",
   "execution_count": 70,
   "metadata": {},
   "outputs": [
    {
     "name": "stdout",
     "output_type": "stream",
     "text": [
      "L1: 0.193    L2: 0.047\n"
     ]
    }
   ],
   "source": [
    "net.load_state_dict(torch.load('{}/net.pth'.format(mod_dir), map_location=lambda storage, loc: storage))\n",
    "net = net.eval()\n",
    "\n",
    "test_x = data_x.copy() # shape (143, 3)\n",
    "test_x[train_size:, 0] = 0 # 设置为0，表示预测 shape (143, 3)\n",
    "test_x = test_x[:, np.newaxis, :] # shape (143, 1, 3)\n",
    "test_x = torch.tensor(test_x, dtype=torch.float32, device=device)\n",
    "\n",
    "'''simple way but no elegant'''\n",
    "# for i in range(train_size, len(data) - 2):\n",
    "#     test_y = net(test_x[:i])\n",
    "#     test_x[i, 0, 0] = test_y[-1]\n",
    "\n",
    "'''elegant way but slightly complicated'''\n",
    "eval_size = 1\n",
    "zero_ten = torch.zeros((mid_layers, eval_size, mid_dim), dtype=torch.float32, device=device)\n",
    "\n",
    "test_y, hc = net.output_y_hc_for_test(test_x[:train_size], (zero_ten, zero_ten))\n",
    "test_x[train_size + 1, 0, 0] = test_y[-1]\n",
    "for i in range(train_size + 1, len(data) - 2):\n",
    "    test_y, hc = net.output_y_hc_for_test(test_x[i:i + 1], hc)\n",
    "    test_x[i + 1, 0, 0] = test_y[-1]\n",
    "\n",
    "pred_y = test_x[1:, 0, 0]\n",
    "pred_y = pred_y.cpu().data.numpy()\n",
    "\n",
    "diff_y = pred_y[train_size:] - data_y[train_size:-1]\n",
    "l1_loss = np.mean(np.abs(diff_y))\n",
    "l2_loss = np.mean(diff_y ** 2)\n",
    "print(\"L1: {:.3f}    L2: {:.3f}\".format(l1_loss, l2_loss))"
   ]
  },
  {
   "cell_type": "code",
   "execution_count": 71,
   "metadata": {},
   "outputs": [
    {
     "data": {
      "text/plain": [
       "<matplotlib.legend.Legend at 0x1d5cfb24430>"
      ]
     },
     "execution_count": 71,
     "metadata": {},
     "output_type": "execute_result"
    },
    {
     "data": {
      "image/png": "[encoded data removed]",
      "text/plain": [
       "<Figure size 864x432 with 1 Axes>"
      ]
     },
     "metadata": {
      "needs_background": "light"
     },
     "output_type": "display_data"
    }
   ],
   "source": [
    "plt.figure(figsize=(12, 6))\n",
    "plt.plot(pred_y, 'r', label='pred')\n",
    "plt.plot(data_y, 'b', label='real', alpha=0.3)\n",
    "plt.plot([train_size, train_size], [-1, 2], color='k', label='train | pred')\n",
    "plt.legend(loc='best')"
   ]
  },
  {
   "cell_type": "code",
   "execution_count": null,
   "metadata": {},
   "outputs": [],
   "source": [
    "## 2022.2.17到2022.10.29 都是训练集，2022.10.30到2022.12.31都是测试集"
   ]
  }
 ],
 "metadata": {
  "kernelspec": {
   "display_name": "base",
   "language": "python",
   "name": "python3"
  },
  "language_info": {
   "codemirror_mode": {
    "name": "ipython",
    "version": 3
   },
   "file_extension": ".py",
   "mimetype": "text/x-python",
   "name": "python",
   "nbconvert_exporter": "python",
   "pygments_lexer": "ipython3",
   "version": "3.9.7"
  },
  "orig_nbformat": 4,
  "vscode": {
   "interpreter": {
    "hash": "5179d32cf6ec497baf3f8a3ef987cc77c5d2dc691fdde20a56316522f61a7323"
   }
  }
 },
 "nbformat": 4,
 "nbformat_minor": 2
}
